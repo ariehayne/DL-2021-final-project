{
  "nbformat": 4,
  "nbformat_minor": 0,
  "metadata": {
    "colab": {
      "name": "chess winner.ipynb",
      "provenance": [],
      "collapsed_sections": []
    },
    "kernelspec": {
      "display_name": "Python 3",
      "name": "python3"
    },
    "accelerator": "GPU"
  },
  "cells": [
    {
      "cell_type": "code",
      "metadata": {
        "id": "ZFPsPVxLcWzR"
      },
      "source": [
        "import numpy as np \n",
        "import pandas as pd \n",
        "import seaborn as sns \n",
        "import matplotlib.pyplot as plt\n",
        "#plt.style.use('ggplot')\n",
        "from sklearn.metrics import roc_curve, auc\n",
        "from sklearn.metrics import classification_report, confusion_matrix\n",
        "import nltk\n",
        "from nltk.corpus import stopwords\n",
        "from nltk.stem import PorterStemmer \n",
        "from sklearn.model_selection import train_test_split\n",
        "from mlxtend.plotting import plot_confusion_matrix\n",
        "import matplotlib.cm as cm\n",
        "from matplotlib import rcParams\n",
        "from collections import Counter\n",
        "from nltk.tokenize import RegexpTokenizer\n",
        "import re\n",
        "import string\n",
        "from tensorflow.keras.layers import LSTM, Activation, Dense, Dropout, Input, Embedding, GRU, SimpleRNN\n",
        "from tensorflow.keras.models import Model\n",
        "from tensorflow.keras.optimizers import RMSprop\n",
        "from tensorflow.keras.optimizers import Adam\n",
        "from tensorflow.keras.preprocessing.text import Tokenizer\n",
        "from tensorflow.keras.preprocessing import sequence\n",
        "%matplotlib inline\n",
        "\n",
        "import warnings\n",
        "warnings.filterwarnings(\"ignore\")\n",
        "#https://www.kaggle.com/imranzaman5202/twitter-sentiment-analysis-using-nn"
      ],
      "execution_count": 1,
      "outputs": []
    },
    {
      "cell_type": "code",
      "metadata": {
        "id": "UMzmBSWiyLLP",
        "colab": {
          "base_uri": "https://localhost:8080/"
        },
        "outputId": "8c7bced1-8c0d-4941-d5cc-70aa14da6b16"
      },
      "source": [
        "from google.colab import drive\n",
        "drive.mount('/content/drive')"
      ],
      "execution_count": 2,
      "outputs": [
        {
          "output_type": "stream",
          "name": "stdout",
          "text": [
            "Mounted at /content/drive\n"
          ]
        }
      ]
    },
    {
      "cell_type": "code",
      "metadata": {
        "id": "JVS2f84MyUWM"
      },
      "source": [
        "# Loading data\n",
        "import pandas as pd\n",
        "\n",
        "path=\"drive/My Drive/IDC/Deep_Learning/Final_Project/Data/\"\n",
        "df = pd.read_csv(path + 'lichess-08-2014.csv')\n"
      ],
      "execution_count": 3,
      "outputs": []
    },
    {
      "cell_type": "code",
      "metadata": {
        "colab": {
          "base_uri": "https://localhost:8080/",
          "height": 200
        },
        "id": "i47ZXoqCscAz",
        "outputId": "1eaffcf5-eab4-4d37-affd-f6e08491d1a8"
      },
      "source": [
        "df.head()"
      ],
      "execution_count": 4,
      "outputs": [
        {
          "output_type": "execute_result",
          "data": {
            "text/html": [
              "<div>\n",
              "<style scoped>\n",
              "    .dataframe tbody tr th:only-of-type {\n",
              "        vertical-align: middle;\n",
              "    }\n",
              "\n",
              "    .dataframe tbody tr th {\n",
              "        vertical-align: top;\n",
              "    }\n",
              "\n",
              "    .dataframe thead th {\n",
              "        text-align: right;\n",
              "    }\n",
              "</style>\n",
              "<table border=\"1\" class=\"dataframe\">\n",
              "  <thead>\n",
              "    <tr style=\"text-align: right;\">\n",
              "      <th></th>\n",
              "      <th>Unnamed: 0</th>\n",
              "      <th>PGN</th>\n",
              "      <th>Mode</th>\n",
              "      <th>Result</th>\n",
              "      <th>Average Rating</th>\n",
              "      <th>Rating Difference</th>\n",
              "      <th>Termination Type</th>\n",
              "    </tr>\n",
              "  </thead>\n",
              "  <tbody>\n",
              "    <tr>\n",
              "      <th>0</th>\n",
              "      <td>0</td>\n",
              "      <td>1. e4 g6 2. d4 Bg7 3. c3 d6 4. Qf3 Nf6 5. h3 O...</td>\n",
              "      <td>Classical</td>\n",
              "      <td>Black Wins</td>\n",
              "      <td>1538</td>\n",
              "      <td>-262</td>\n",
              "      <td>Time forfeit</td>\n",
              "    </tr>\n",
              "    <tr>\n",
              "      <th>1</th>\n",
              "      <td>1</td>\n",
              "      <td>1. d4 Nf6 2. c4 g6 3. a3 Bg7 4. Nf3 O-O 5. Nc3...</td>\n",
              "      <td>Blitz</td>\n",
              "      <td>Black Wins</td>\n",
              "      <td>1492</td>\n",
              "      <td>-220</td>\n",
              "      <td>Time forfeit</td>\n",
              "    </tr>\n",
              "    <tr>\n",
              "      <th>2</th>\n",
              "      <td>2</td>\n",
              "      <td>1. e4 c5 2. Qf3 e5 3. Bc4 Nf6 4. Nh3 h6 5. g4 ...</td>\n",
              "      <td>Blitz</td>\n",
              "      <td>White Wins</td>\n",
              "      <td>1413</td>\n",
              "      <td>213</td>\n",
              "      <td>Normal</td>\n",
              "    </tr>\n",
              "    <tr>\n",
              "      <th>3</th>\n",
              "      <td>3</td>\n",
              "      <td>1. e4 e5 2. Nf3 d6 3. Nc3 f5 4. exf5 Bxf5 5. d...</td>\n",
              "      <td>Blitz</td>\n",
              "      <td>Black Wins</td>\n",
              "      <td>1444</td>\n",
              "      <td>-358</td>\n",
              "      <td>Normal</td>\n",
              "    </tr>\n",
              "    <tr>\n",
              "      <th>4</th>\n",
              "      <td>4</td>\n",
              "      <td>1. e4 e6 2. d4 d5 3. Nc3 Nf6 4. e5 Ne4 5. Nce2...</td>\n",
              "      <td>Bullet</td>\n",
              "      <td>White Wins</td>\n",
              "      <td>1931</td>\n",
              "      <td>117</td>\n",
              "      <td>Normal</td>\n",
              "    </tr>\n",
              "  </tbody>\n",
              "</table>\n",
              "</div>"
            ],
            "text/plain": [
              "   Unnamed: 0  ... Termination Type\n",
              "0           0  ...     Time forfeit\n",
              "1           1  ...     Time forfeit\n",
              "2           2  ...           Normal\n",
              "3           3  ...           Normal\n",
              "4           4  ...           Normal\n",
              "\n",
              "[5 rows x 7 columns]"
            ]
          },
          "metadata": {},
          "execution_count": 4
        }
      ]
    },
    {
      "cell_type": "code",
      "metadata": {
        "id": "7_JkCxSX6Bws"
      },
      "source": [
        "# pre processing adding score per player.\n",
        "\n",
        "df['white_score'] = (2 * df['Average Rating'] + df['Rating Difference']) / 2\n",
        "df['black_score'] = 2 * df['Average Rating'] - df['white_score']"
      ],
      "execution_count": 5,
      "outputs": []
    },
    {
      "cell_type": "code",
      "metadata": {
        "colab": {
          "base_uri": "https://localhost:8080/",
          "height": 200
        },
        "id": "XvKclLFm67I1",
        "outputId": "1fba5420-9160-43f6-f2ba-0f60ddd08b57"
      },
      "source": [
        "df.head()"
      ],
      "execution_count": 6,
      "outputs": [
        {
          "output_type": "execute_result",
          "data": {
            "text/html": [
              "<div>\n",
              "<style scoped>\n",
              "    .dataframe tbody tr th:only-of-type {\n",
              "        vertical-align: middle;\n",
              "    }\n",
              "\n",
              "    .dataframe tbody tr th {\n",
              "        vertical-align: top;\n",
              "    }\n",
              "\n",
              "    .dataframe thead th {\n",
              "        text-align: right;\n",
              "    }\n",
              "</style>\n",
              "<table border=\"1\" class=\"dataframe\">\n",
              "  <thead>\n",
              "    <tr style=\"text-align: right;\">\n",
              "      <th></th>\n",
              "      <th>Unnamed: 0</th>\n",
              "      <th>PGN</th>\n",
              "      <th>Mode</th>\n",
              "      <th>Result</th>\n",
              "      <th>Average Rating</th>\n",
              "      <th>Rating Difference</th>\n",
              "      <th>Termination Type</th>\n",
              "      <th>white_score</th>\n",
              "      <th>black_score</th>\n",
              "    </tr>\n",
              "  </thead>\n",
              "  <tbody>\n",
              "    <tr>\n",
              "      <th>0</th>\n",
              "      <td>0</td>\n",
              "      <td>1. e4 g6 2. d4 Bg7 3. c3 d6 4. Qf3 Nf6 5. h3 O...</td>\n",
              "      <td>Classical</td>\n",
              "      <td>Black Wins</td>\n",
              "      <td>1538</td>\n",
              "      <td>-262</td>\n",
              "      <td>Time forfeit</td>\n",
              "      <td>1407.0</td>\n",
              "      <td>1669.0</td>\n",
              "    </tr>\n",
              "    <tr>\n",
              "      <th>1</th>\n",
              "      <td>1</td>\n",
              "      <td>1. d4 Nf6 2. c4 g6 3. a3 Bg7 4. Nf3 O-O 5. Nc3...</td>\n",
              "      <td>Blitz</td>\n",
              "      <td>Black Wins</td>\n",
              "      <td>1492</td>\n",
              "      <td>-220</td>\n",
              "      <td>Time forfeit</td>\n",
              "      <td>1382.0</td>\n",
              "      <td>1602.0</td>\n",
              "    </tr>\n",
              "    <tr>\n",
              "      <th>2</th>\n",
              "      <td>2</td>\n",
              "      <td>1. e4 c5 2. Qf3 e5 3. Bc4 Nf6 4. Nh3 h6 5. g4 ...</td>\n",
              "      <td>Blitz</td>\n",
              "      <td>White Wins</td>\n",
              "      <td>1413</td>\n",
              "      <td>213</td>\n",
              "      <td>Normal</td>\n",
              "      <td>1519.5</td>\n",
              "      <td>1306.5</td>\n",
              "    </tr>\n",
              "    <tr>\n",
              "      <th>3</th>\n",
              "      <td>3</td>\n",
              "      <td>1. e4 e5 2. Nf3 d6 3. Nc3 f5 4. exf5 Bxf5 5. d...</td>\n",
              "      <td>Blitz</td>\n",
              "      <td>Black Wins</td>\n",
              "      <td>1444</td>\n",
              "      <td>-358</td>\n",
              "      <td>Normal</td>\n",
              "      <td>1265.0</td>\n",
              "      <td>1623.0</td>\n",
              "    </tr>\n",
              "    <tr>\n",
              "      <th>4</th>\n",
              "      <td>4</td>\n",
              "      <td>1. e4 e6 2. d4 d5 3. Nc3 Nf6 4. e5 Ne4 5. Nce2...</td>\n",
              "      <td>Bullet</td>\n",
              "      <td>White Wins</td>\n",
              "      <td>1931</td>\n",
              "      <td>117</td>\n",
              "      <td>Normal</td>\n",
              "      <td>1989.5</td>\n",
              "      <td>1872.5</td>\n",
              "    </tr>\n",
              "  </tbody>\n",
              "</table>\n",
              "</div>"
            ],
            "text/plain": [
              "   Unnamed: 0  ... black_score\n",
              "0           0  ...      1669.0\n",
              "1           1  ...      1602.0\n",
              "2           2  ...      1306.5\n",
              "3           3  ...      1623.0\n",
              "4           4  ...      1872.5\n",
              "\n",
              "[5 rows x 9 columns]"
            ]
          },
          "metadata": {},
          "execution_count": 6
        }
      ]
    },
    {
      "cell_type": "code",
      "metadata": {
        "colab": {
          "base_uri": "https://localhost:8080/",
          "height": 297
        },
        "id": "6yukdpTP4lxe",
        "outputId": "622b7a1b-1ed9-41b2-d8ba-a9d9112595d7"
      },
      "source": [
        "hist = df['Rating Difference'].hist(bins=50)\n",
        "plt.title('Rating Difference')\n",
        "plt.xlim(-1000,1000)\n"
      ],
      "execution_count": 7,
      "outputs": [
        {
          "output_type": "execute_result",
          "data": {
            "text/plain": [
              "(-1000.0, 1000.0)"
            ]
          },
          "metadata": {},
          "execution_count": 7
        },
        {
          "output_type": "display_data",
          "data": {
            "image/png": "[encoded data removed]",
            "text/plain": [
              "<Figure size 432x288 with 1 Axes>"
            ]
          },
          "metadata": {
            "needs_background": "light"
          }
        }
      ]
    },
    {
      "cell_type": "code",
      "metadata": {
        "colab": {
          "base_uri": "https://localhost:8080/",
          "height": 265
        },
        "id": "-nyWeaX093vl",
        "outputId": "9a1a449f-41f8-4986-dd8f-ae12213b8f3e"
      },
      "source": [
        "hist = df['white_score'].hist(bins=50)"
      ],
      "execution_count": 8,
      "outputs": [
        {
          "output_type": "display_data",
          "data": {
            "image/png": "[encoded data removed]",
            "text/plain": [
              "<Figure size 432x288 with 1 Axes>"
            ]
          },
          "metadata": {
            "needs_background": "light"
          }
        }
      ]
    },
    {
      "cell_type": "code",
      "metadata": {
        "colab": {
          "base_uri": "https://localhost:8080/",
          "height": 265
        },
        "id": "CGc-LXs_-M5M",
        "outputId": "045716a0-c484-44b5-bd0d-45b73abcc19d"
      },
      "source": [
        "hist = df['black_score'].hist(bins=50)"
      ],
      "execution_count": 9,
      "outputs": [
        {
          "output_type": "display_data",
          "data": {
            "image/png": "[encoded data removed]",
            "text/plain": [
              "<Figure size 432x288 with 1 Axes>"
            ]
          },
          "metadata": {
            "needs_background": "light"
          }
        }
      ]
    },
    {
      "cell_type": "code",
      "metadata": {
        "colab": {
          "base_uri": "https://localhost:8080/",
          "height": 297
        },
        "id": "T5sRBkId9_Eo",
        "outputId": "f04cb485-1230-400e-ffa8-53444b1d9add"
      },
      "source": [
        "hist = df['Result'].hist(bins=5)\n",
        "plt.title('Game Result')"
      ],
      "execution_count": 10,
      "outputs": [
        {
          "output_type": "execute_result",
          "data": {
            "text/plain": [
              "Text(0.5, 1.0, 'Game Result')"
            ]
          },
          "metadata": {},
          "execution_count": 10
        },
        {
          "output_type": "display_data",
          "data": {
            "image/png": "[encoded data removed]",
            "text/plain": [
              "<Figure size 432x288 with 1 Axes>"
            ]
          },
          "metadata": {
            "needs_background": "light"
          }
        }
      ]
    },
    {
      "cell_type": "code",
      "metadata": {
        "colab": {
          "base_uri": "https://localhost:8080/"
        },
        "id": "JOonGra8-39Z",
        "outputId": "e6b826e8-d3e6-4dfd-be5b-81c5e89d4a8a"
      },
      "source": [
        "df['black_score'].mean()"
      ],
      "execution_count": 11,
      "outputs": [
        {
          "output_type": "execute_result",
          "data": {
            "text/plain": [
              "1625.6109952207582"
            ]
          },
          "metadata": {},
          "execution_count": 11
        }
      ]
    },
    {
      "cell_type": "markdown",
      "metadata": {
        "id": "1TkAx0Wt-TGb"
      },
      "source": [
        "as we can see the white players wins more then the black. It makes sense and gets along with the fact that in chess the white player has an advantage also as we can see the white's player are ranked in average heiger."
      ]
    },
    {
      "cell_type": "code",
      "metadata": {
        "id": "XjGuJIeGI-I-"
      },
      "source": [
        "# calculate the number of moves\n",
        "df['length']=df['PGN'].str.count('\\.')"
      ],
      "execution_count": 12,
      "outputs": []
    },
    {
      "cell_type": "code",
      "metadata": {
        "colab": {
          "base_uri": "https://localhost:8080/",
          "height": 200
        },
        "id": "7LqABM5m8tIW",
        "outputId": "14c1e0b4-1554-4747-b891-ba0cfb84584d"
      },
      "source": [
        "df.head()"
      ],
      "execution_count": 13,
      "outputs": [
        {
          "output_type": "execute_result",
          "data": {
            "text/html": [
              "<div>\n",
              "<style scoped>\n",
              "    .dataframe tbody tr th:only-of-type {\n",
              "        vertical-align: middle;\n",
              "    }\n",
              "\n",
              "    .dataframe tbody tr th {\n",
              "        vertical-align: top;\n",
              "    }\n",
              "\n",
              "    .dataframe thead th {\n",
              "        text-align: right;\n",
              "    }\n",
              "</style>\n",
              "<table border=\"1\" class=\"dataframe\">\n",
              "  <thead>\n",
              "    <tr style=\"text-align: right;\">\n",
              "      <th></th>\n",
              "      <th>Unnamed: 0</th>\n",
              "      <th>PGN</th>\n",
              "      <th>Mode</th>\n",
              "      <th>Result</th>\n",
              "      <th>Average Rating</th>\n",
              "      <th>Rating Difference</th>\n",
              "      <th>Termination Type</th>\n",
              "      <th>white_score</th>\n",
              "      <th>black_score</th>\n",
              "      <th>length</th>\n",
              "    </tr>\n",
              "  </thead>\n",
              "  <tbody>\n",
              "    <tr>\n",
              "      <th>0</th>\n",
              "      <td>0</td>\n",
              "      <td>1. e4 g6 2. d4 Bg7 3. c3 d6 4. Qf3 Nf6 5. h3 O...</td>\n",
              "      <td>Classical</td>\n",
              "      <td>Black Wins</td>\n",
              "      <td>1538</td>\n",
              "      <td>-262</td>\n",
              "      <td>Time forfeit</td>\n",
              "      <td>1407.0</td>\n",
              "      <td>1669.0</td>\n",
              "      <td>41</td>\n",
              "    </tr>\n",
              "    <tr>\n",
              "      <th>1</th>\n",
              "      <td>1</td>\n",
              "      <td>1. d4 Nf6 2. c4 g6 3. a3 Bg7 4. Nf3 O-O 5. Nc3...</td>\n",
              "      <td>Blitz</td>\n",
              "      <td>Black Wins</td>\n",
              "      <td>1492</td>\n",
              "      <td>-220</td>\n",
              "      <td>Time forfeit</td>\n",
              "      <td>1382.0</td>\n",
              "      <td>1602.0</td>\n",
              "      <td>36</td>\n",
              "    </tr>\n",
              "    <tr>\n",
              "      <th>2</th>\n",
              "      <td>2</td>\n",
              "      <td>1. e4 c5 2. Qf3 e5 3. Bc4 Nf6 4. Nh3 h6 5. g4 ...</td>\n",
              "      <td>Blitz</td>\n",
              "      <td>White Wins</td>\n",
              "      <td>1413</td>\n",
              "      <td>213</td>\n",
              "      <td>Normal</td>\n",
              "      <td>1519.5</td>\n",
              "      <td>1306.5</td>\n",
              "      <td>13</td>\n",
              "    </tr>\n",
              "    <tr>\n",
              "      <th>3</th>\n",
              "      <td>3</td>\n",
              "      <td>1. e4 e5 2. Nf3 d6 3. Nc3 f5 4. exf5 Bxf5 5. d...</td>\n",
              "      <td>Blitz</td>\n",
              "      <td>Black Wins</td>\n",
              "      <td>1444</td>\n",
              "      <td>-358</td>\n",
              "      <td>Normal</td>\n",
              "      <td>1265.0</td>\n",
              "      <td>1623.0</td>\n",
              "      <td>18</td>\n",
              "    </tr>\n",
              "    <tr>\n",
              "      <th>4</th>\n",
              "      <td>4</td>\n",
              "      <td>1. e4 e6 2. d4 d5 3. Nc3 Nf6 4. e5 Ne4 5. Nce2...</td>\n",
              "      <td>Bullet</td>\n",
              "      <td>White Wins</td>\n",
              "      <td>1931</td>\n",
              "      <td>117</td>\n",
              "      <td>Normal</td>\n",
              "      <td>1989.5</td>\n",
              "      <td>1872.5</td>\n",
              "      <td>19</td>\n",
              "    </tr>\n",
              "  </tbody>\n",
              "</table>\n",
              "</div>"
            ],
            "text/plain": [
              "   Unnamed: 0  ... length\n",
              "0           0  ...     41\n",
              "1           1  ...     36\n",
              "2           2  ...     13\n",
              "3           3  ...     18\n",
              "4           4  ...     19\n",
              "\n",
              "[5 rows x 10 columns]"
            ]
          },
          "metadata": {},
          "execution_count": 13
        }
      ]
    },
    {
      "cell_type": "code",
      "metadata": {
        "colab": {
          "base_uri": "https://localhost:8080/",
          "height": 297
        },
        "id": "9ShWddS3KXc8",
        "outputId": "4a910984-525a-43f4-ed03-71bbc71db107"
      },
      "source": [
        "GL=df['length']*2\n",
        "hist = GL.hist(bins=100)\n",
        "\n",
        "plt.title('Games length')\n",
        "plt.xlim(0,250)"
      ],
      "execution_count": 14,
      "outputs": [
        {
          "output_type": "execute_result",
          "data": {
            "text/plain": [
              "(0.0, 250.0)"
            ]
          },
          "metadata": {},
          "execution_count": 14
        },
        {
          "output_type": "display_data",
          "data": {
            "image/png": "[encoded data removed]",
            "text/plain": [
              "<Figure size 432x288 with 1 Axes>"
            ]
          },
          "metadata": {
            "needs_background": "light"
          }
        }
      ]
    },
    {
      "cell_type": "code",
      "metadata": {
        "colab": {
          "base_uri": "https://localhost:8080/"
        },
        "id": "3t4JqRgnIV1-",
        "outputId": "3ad37db3-e8ce-4963-b505-dbec7ed0fdb1"
      },
      "source": [
        "len(df['length'])"
      ],
      "execution_count": 15,
      "outputs": [
        {
          "output_type": "execute_result",
          "data": {
            "text/plain": [
              "843230"
            ]
          },
          "metadata": {},
          "execution_count": 15
        }
      ]
    },
    {
      "cell_type": "code",
      "metadata": {
        "id": "NJ9HjVkDK5QU"
      },
      "source": [
        "minGameSize=24\n",
        "longGames = df[(df['length'] > minGameSize) ]"
      ],
      "execution_count": 16,
      "outputs": []
    },
    {
      "cell_type": "markdown",
      "metadata": {
        "id": "ckYMuK3O_IWL"
      },
      "source": [
        "\n",
        "\n",
        "consider removing the draw games\n",
        "\n"
      ]
    },
    {
      "cell_type": "code",
      "metadata": {
        "colab": {
          "base_uri": "https://localhost:8080/"
        },
        "id": "5n85aew3_DQl",
        "outputId": "908657e8-03f8-4881-84ba-9cb66f94087f"
      },
      "source": [
        "len(longGames)"
      ],
      "execution_count": 17,
      "outputs": [
        {
          "output_type": "execute_result",
          "data": {
            "text/plain": [
              "603770"
            ]
          },
          "metadata": {},
          "execution_count": 17
        }
      ]
    },
    {
      "cell_type": "code",
      "metadata": {
        "id": "K2LPjRGKLSGD"
      },
      "source": [
        "longGames['Result'][longGames['Result']=='White Wins']=1"
      ],
      "execution_count": 18,
      "outputs": []
    },
    {
      "cell_type": "code",
      "metadata": {
        "id": "QTEC1TVGLpdS"
      },
      "source": [
        "longGames[\"Result\"][longGames[\"Result\"] == \"Black Wins\" ] = 0"
      ],
      "execution_count": 19,
      "outputs": []
    },
    {
      "cell_type": "code",
      "metadata": {
        "id": "VvG71VgqLs9z"
      },
      "source": [
        "longGamesNoDraw = longGames[(longGames['Result'] != \"Draw\") ]"
      ],
      "execution_count": 20,
      "outputs": []
    },
    {
      "cell_type": "code",
      "metadata": {
        "colab": {
          "base_uri": "https://localhost:8080/"
        },
        "id": "CwC4R7x-MJur",
        "outputId": "bfffcbb9-67be-4d9d-d3d6-6b2edd1e7192"
      },
      "source": [
        "len(longGamesNoDraw)"
      ],
      "execution_count": 21,
      "outputs": [
        {
          "output_type": "execute_result",
          "data": {
            "text/plain": [
              "574866"
            ]
          },
          "metadata": {},
          "execution_count": 21
        }
      ]
    },
    {
      "cell_type": "code",
      "metadata": {
        "colab": {
          "base_uri": "https://localhost:8080/"
        },
        "id": "WhqPc9AOQ4YK",
        "outputId": "de10b79f-5e27-462a-b330-99c5a265b0c5"
      },
      "source": [
        "#max size of game\n",
        "longGames['length'].max()\n"
      ],
      "execution_count": 22,
      "outputs": [
        {
          "output_type": "execute_result",
          "data": {
            "text/plain": [
              "191"
            ]
          },
          "metadata": {},
          "execution_count": 22
        }
      ]
    },
    {
      "cell_type": "code",
      "metadata": {
        "id": "dhG0oNI4Sjb5"
      },
      "source": [
        "longGamesNoDraw['PGN'] = longGamesNoDraw['PGN'].str.split(' 26.').str[0]"
      ],
      "execution_count": 23,
      "outputs": []
    },
    {
      "cell_type": "code",
      "metadata": {
        "colab": {
          "base_uri": "https://localhost:8080/",
          "height": 35
        },
        "id": "5nz8neg6Z_Hp",
        "outputId": "753af2e3-f1cc-4c12-84f1-c7a5352eb78e"
      },
      "source": [
        "longGamesNoDraw['PGN'][705]"
      ],
      "execution_count": 24,
      "outputs": [
        {
          "output_type": "execute_result",
          "data": {
            "application/vnd.google.colaboratory.intrinsic+json": {
              "type": "string"
            },
            "text/plain": [
              "'1. e4 b6 2. d4 Bb7 3. Bd3 e6 4. f4 Nf6 5. Qe2 Be7 6. Nf3 O-O 7. O-O h6 8. c3 Nh7 9. h3 d6 10. a4 a5 11. Na3 f6 12. f5 e5 13. d5 Ba6 14. Nb5 Bxb5 15. Bxb5 Ng5 16. Nxg5 fxg5 17. Qh5 Nd7 18. Bc6 Rb8 19. Qg6 Nc5 20. Re1 Nd3 21. Re3 Nf4 22. Bd7 Nxg6 23. Be6+ Kh7 24. fxg6+ Kxg6 25. Bf5+ Rxf5'"
            ]
          },
          "metadata": {},
          "execution_count": 24
        }
      ]
    },
    {
      "cell_type": "code",
      "metadata": {
        "colab": {
          "base_uri": "https://localhost:8080/"
        },
        "id": "X2K38BSDaOtp",
        "outputId": "f8236a70-8c4d-4d75-e801-bff1d5a39493"
      },
      "source": [
        "longGamesNoDraw['PGN']"
      ],
      "execution_count": 25,
      "outputs": [
        {
          "output_type": "execute_result",
          "data": {
            "text/plain": [
              "0         1. e4 g6 2. d4 Bg7 3. c3 d6 4. Qf3 Nf6 5. h3 O...\n",
              "1         1. d4 Nf6 2. c4 g6 3. a3 Bg7 4. Nf3 O-O 5. Nc3...\n",
              "6         1. d4 c6 2. Nf3 d5 3. g3 Nf6 4. Bg2 e6 5. O-O ...\n",
              "7         1. e4 e6 2. d4 d5 3. Nc3 c5 4. exd5 exd5 5. dx...\n",
              "8         1. f4 d5 2. Nf3 c5 3. e3 Bg4 4. Bb5+ Nd7 5. Bx...\n",
              "                                ...                        \n",
              "843225    1. d4 a6 2. Nf3 b5 3. Bf4 Bb7 4. Nc3 d6 5. e4 ...\n",
              "843226    1. d3 d5 2. Nf3 f6 3. e3 e5 4. Nxe5 g6 5. Nf3 ...\n",
              "843227    1. e4 e5 2. Nf3 Nc6 3. Bc4 Nf6 4. Ng5 d5 5. ex...\n",
              "843228    1. e4 c5 2. f4 e6 3. Nf3 Ne7 4. c3 d5 5. Bb5+ ...\n",
              "843229    1. e4 d6 2. Nf3 e6 3. Bc4 Qe7 4. d4 Nd7 5. Nc3...\n",
              "Name: PGN, Length: 574866, dtype: object"
            ]
          },
          "metadata": {},
          "execution_count": 25
        }
      ]
    },
    {
      "cell_type": "code",
      "metadata": {
        "id": "al32ReMSPzsb"
      },
      "source": [
        "PGNs = longGamesNoDraw[\"PGN\"]\n",
        "for i in range(25):\n",
        "  PGNs = [a.replace(str(i) +\". \", \"\") for a in PGNs]"
      ],
      "execution_count": 26,
      "outputs": []
    },
    {
      "cell_type": "code",
      "metadata": {
        "colab": {
          "base_uri": "https://localhost:8080/"
        },
        "id": "6k4NNb-rR3or",
        "outputId": "fef3db15-b1dd-4410-c301-4ccf6c87ba59"
      },
      "source": [
        "PGNs"
      ],
      "execution_count": 27,
      "outputs": [
        {
          "output_type": "execute_result",
          "data": {
            "text/plain": [
              "['e4 g6 d4 Bg7 c3 d6 Qf3 Nf6 h3 O-O Bg5 Nbd7 Bc4 a6 h4 b5 Bd5 Nxd5 1exd5 Bb7 1h5 Nf6 1h6 Bh8 1Bxf6 Bxf6 1Nd2 Qd7 1Qh3 Qxh3 1Rxh3 Bxd5 1g4 Be6 1Rg3 Bh4 1Rg2 f5 2Ngf3 Bf6 2g5 Bh8 2Nh4 c5 2Rh2 cxd4 2cxd4 Bxd4 2Nxg6 hxg6',\n",
              " 'd4 Nf6 c4 g6 a3 Bg7 Nf3 O-O Nc3 a5 Bf4 d6 e3 Nbd7 Be2 Nh5 Bg3 Nxg3 1fxg3 Nf6 1O-O Ng4 1Qd2 e5 1dxe5 Nxe5 1Nxe5 Bxe5 1Rf2 Be6 1b3 Qg5 1Raf1 f5 1Bf3 c6 1Ne2 Rfe8 2Nf4 Bf7 2b4 axb4 2Qxb4 Qe7 2Qb3 Ra6 2g4 Rea8 2gxf5 Rxa3',\n",
              " 'd4 c6 Nf3 d5 g3 Nf6 Bg2 e6 O-O Be7 Bd2 c5 dxc5 Bxc5 c3 a6 b4 b5 1a4 Bd6 1axb5 Bb7 1Ra5 Bc7 1Ra2 axb5 1Rxa8 Bxa8 1Qc2 Bb7 1Bg5 O-O 1Bxf6 Qxf6 1Nd4 Qd8 1Nxb5 Bd6 2Nd4 Be7 2f4 Bf6 2Nd2 Qc7 2Qd3 Rc8 2N2f3 Qxc3 2Qxc3 Rxc3',\n",
              " 'e4 e6 d4 d5 Nc3 c5 exd5 exd5 dxc5 Bxc5 Qxd5 Qxd5 Nxd5 Bd6 Bf4 Bxf4 Nxf4 Nf6 1Nf3 O-O 1O-O-O Nc6 1Bb5 Nb4 1a3 Nc6 1Bxc6 bxc6 1h3 Rb8 1g4 c5 1g5 Ne4 1Rhf1 c4 1Ne2 Bxh3 2Rg1 Nxf2 2Rd4 Rfe8 2Nc3 Bf5 2Rxc4 Ne4 2Nd4 Nxc3 2bxc3 Bg6',\n",
              " 'f4 d5 Nf3 c5 e3 Bg4 Bb5+ Nd7 Bxd7+ Qxd7 Ne5 Bxd1 Nxd7 Bxc2 Nxf8 Kxf8 Na3 Bd3 1b3 Nf6 1Bb2 e6 1Bxf6 gxf6 1Rc1 b6 1Kf2 Ke7 1Nc2 f5 1Ne1 Bb5 1Nf3 f6 1d4 Rac8 1Rhd1 c4 2b4 a6 2Rc3 Ba4 2Rb1 b5 2a3 a5 2bxa5 Ra8 2h3 Rxa5',\n",
              " 'e4 e5 f4 exf4 Nf3 Nc6 d4 Bb4+ c3 Be7 Bxf4 d6 d5 Ne5 Qd4 Nxf3+ gxf3 Bh4+ 1Bg3 Bf6 1Qd3 Bd7 1Nd2 Qe7 1O-O-O O-O-O 1Kb1 Kb8 1Nc4 Bb5 1Qe2 Nh6 1Qg2 Rhe8 1Bd3 Be5 1Bxe5 dxe5 2Qxg7 Ng8 2Qxh7 Nf6 2Qf5 Bxc4 2Bxc4 Qd6 2h4 Ng8 2Qxf7 Rf8',\n",
              " 'e4 e6 Qe2 Nf6 d3 d5 e5 Nfd7 f4 Be7 Nf3 c5 g3 Nc6 Bg2 O-O O-O Nd4 1Nxd4 cxd4 1a3 Qb6 1b4 Nb8 1Kh1 Nc6 1Nd2 a5 1bxa5 Nxa5 1g4 Bd7 1f5 exf5 1gxf5 Rac8 1Bxd5 Rxc2 2Qg4 Bc6 2Bxc6 Qxc6+ 2Kg1 f6 2Qxd4 Bc5 2Nf3 Bxd4+ 2Nxd4 Qb6',\n",
              " 'd4 Nf6 e3 g6 c3 Bg7 Nd2 d6 Ngf3 O-O Bd3 Nbd7 h3 Qe8 Qe2 e5 e4 d5 1O-O exd4 1e5 dxc3 1bxc3 Nh5 1Nb3 Nxe5 1Nxe5 Qxe5 1Qf3 c6 1Bb2 Qd6 1Rad1 Qc7 1Ba1 Be6 1Nc5 Rae8 2Rb1 b6 2Na6 Qc8 2a4 c5 2Bb5 Bd7 2Qxd5 Nf6 2Qd3 Bf5',\n",
              " 'e4 e6 Nc3 c6 d4 d5 f3 h6 Bd3 a6 Nge2 Nf6 Ng3 b5 O-O Nbd7 exd5 cxd5 1Re1 Be7 1Bf4 Qb6 1Nce2 Bb7 1c3 Rc8 1Kh1 Qc6 1Qd2 Nb6 1Rac1 Nc4 1Bxc4 bxc4 1b3 a5 1bxc4 Qxc4 2Qb2 Bc6 2Qb1 a4 2Qb6 a3 2Rb1 O-O 2Rb3 Ba4 2Rb4 Bxb4',\n",
              " 'e4 e5 Nf3 Nc6 Bb5 Nd4 Nxe5 Nxb5 Nxf7 Kxf7 Qh5+ g6 Qxb5 Qe7 Nc3 Nf6 e5 Bg7 1O-O Ng4 1Qc4+ Kf8 1Qxg4 d6 1Qf3+ Ke8 1Nd5 Qd7 1Nf6+ Bxf6 1Qxf6 Rf8 1Qg5 b6 1exd6 Qxd6 1Re1+ Kd7 2d3 Kc6 2c4 Qd4 2Qb5+ Kb7 2Be3 Qxd3 2Rad1 Qf5 2c5 a6',\n",
              " 'e4 d5 e5 Bf5 d4 e6 Bd3 Bg6 Bxg6 hxg6 Nf3 c5 Be3 c4 Nc3 a6 Bg5 Qc7 1h3 Bb4 1O-O Bxc3 1bxc3 Qa5 1Qd2 b5 1a3 Nc6 1Nh4 Qa4 1Ra2 Na5 1Rfa1 Nc6 1Qe2 Qa5 1Bd2 O-O-O 2Nf3 Qc7 2Ng5 Nh6 2a4 bxa4 2Rxa4 Nb8 2Rb4 Kd7 2Nxf7 Nxf7',\n",
              " 'd4 d5 c4 Nf6 Nc3 Bf5 cxd5 e6 a3 Nxd5 Nxd5 Qxd5 Nf3 Nc6 e3 Rd8 Be2 Bd6 1O-O O-O 1Re1 Ne7 1b4 b6 1Bb2 Rfe8 1Rc1 Ng6 1Bc4 Qe4 1Kf1 Nh4 1Nxh4 Qxh4 1h3 e5 1Qf3 g6 2e4 Be6 2Bxe6 Rxe6 2d5 Rf6 2Qe3 Rf4 2g3 Qxh3+ 2Ke2 Qh5+',\n",
              " 'e4 e5 Nf3 Nf6 Nc3 Nc6 Bc4 Nxe4 Nxe4 d5 Bb5 dxe4 Nxe5 Qd5 Nxc6 bxc6 Ba4 Bd6 1O-O O-O 1d3 exd3 1Qxd3 Be6 1Qxd5 cxd5 1Bc6 Rab8 1b3 Be5 1Rb1 Bf5 1Be3 Bxc2 1Rbc1 Be4 1Bxa7 Ra8 2Bc5 Rxa2 2Bxf8 Kxf8 2f3 Bd3 2Rfe1 Bd4+ 2Kh1 Rb2 2Re8#',\n",
              " 'd4 e6 Nf3 d5 Bg5 Be7 Bxe7 Nxe7 e3 O-O c4 dxc4 Bxc4 c5 Nc3 cxd4 Nxd4 e5 1Nf3 Qa5 1O-O Nbc6 1a3 Bg4 1h3 Bxf3 1Qxf3 Qc7 1Bd3 Ng6 1Be4 Rae8 1Bxc6 bxc6 1Rac1 Nh4 1Qe4 Qe7 2Qxc6 Qg5 2Ne2 Re6 2Qd5 Rd8 2Qe4 f5 2Qb7 Re7 2Qb3+ Kh8',\n",
              " 'd4 f5 c4 Nf6 e3 g6 Nf3 Bg7 Nbd2 O-O a3 d6 b4 Qe8 Bb2 Nc6 Be2 e5 1dxe5 Nxe5 1Nxe5 dxe5 1c5 c6 1Nc4 Be6 1Nd6 Qe7 1Bxe5 Nd5 1Bxg7 Kxg7 1O-O Rad8 1Qc2 Rxd6 1cxd6 Qxd6 2Rfd1 f4 2e4 Qe5 2exd5 Bxd5 2Rab1 Be4 2Qb2 Qxb2 2Rxb2',\n",
              " 'c4 e6 Nc3 c5 Nf3 Nc6 d4 cxd4 Nxd4 Nge7 e3 a6 Be2 Qc7 O-O b6 b3 Bb7 1Bb2 Ng6 1Bf3 e5 1Nxc6 Bxc6 1Bxc6 Qxc6 1Nd5 Bc5 1Qh5 f6 1Rad1 O-O 1a3 Rfe8 1b4 Bf8 1Rfe1 d6 2f4 exf4 2exf4 Qxc4 2Nxb6 Qb3 2Nxa8 Rxa8 2Qd5+ Qxd5 2Rxd5 Nxf4',\n",
              " 'e4 d5 exd5 Qxd5 Nc3 Qd8 Bc4 c6 Nge2 Nf6 d4 Bg4 f3 Bh5 Bf4 Nbd7 Qd2 e6 1Ng3 Bg6 1O-O Nb6 1Bd3 Nfd5 1Nce4 Be7 1c3 Nf6 1Nxf6+ Bxf6 1Rfe1 Nd5 1Be5 Qd7 1Bxf6 gxf6 1Re2 Qc7 2Rae1 Nf4 2Re3 Nxd3 2Rxd3 Bxd3 2Qxd3 O-O-O 2Ne4 f5 2Nc5 b6',\n",
              " 'e4 c5 Bc4 d6 Nc3 g6 Nf3 Bg7 h3 Nf6 d3 O-O O-O Nc6 Re1 Bd7 a3 Qc8 1Nh2 Nh5 1Qf3 Be5 1g3 Nd4 1Qd1 Bxh3 1Nb5 a6 1Nxd4 Bxd4 1Nf3 Bg4 1Be3 Bxb2 1Rb1 Be5 1Kg2 Kg7 2Qd2 Bxf3+ 2Kxf3 f5 2Bh6+ Kh8 2Bxf8 Qxf8 2Kg2 fxe4 2Rxe4 Qf5',\n",
              " 'e4 e5 Bc4 Nc6 c3 Nf6 d3 Bc5 Nf3 a6 b4 Ba7 Bg5 O-O O-O h6 Bxf6 Qxf6 1a4 d6 1Kh1 Ne7 1Qe2 Bg4 1Rg1 Ng6 1Nbd2 c6 1h3 Nf4 1Qe1 Bxf3 1Nxf3 b5 1axb5 axb5 1Bb3 Nxd3 2Qe2 Nf4 2Qd2 Nxh3 2Rgf1 Nf4 2Nh2 Qg6 2g3 Nh3 2Kg2 Ng5',\n",
              " 'e4 e5 Nf3 Nc6 Bb5 Nf6 O-O Bc5 d3 b6 Bg5 Qe7 Nbd2 O-O Nb3 Bd6 d4 Bb7 1d5 Nd8 1Re1 c6 1Bc4 h6 1Bh4 Rc8 1Qd3 a5 1Rad1 a4 1Na1 cxd5 1Bxd5 Bxd5 1exd5 Nb7 1Qe2 Rfe8 2c4 Bb8 2b3 Nc5 2Qe3 d6 2Nc2 Ncd7 2Nb4 g5 2Nc6 Qf8',\n",
              " 'e4 c5 Nf3 d6 Bb5+ Bd7 Bxd7+ Qxd7 d4 cxd4 Qxd4 Nc6 Qd1 g6 Nc3 Bg7 Bd2 Nf6 1Qe2 O-O 1O-O Rfc8 1Rab1 a6 1Rfd1 Nb4 1e5 dxe5 1Nxe5 Qf5 1Nf3 e6 1Na4 Rxc2 1Nh4 Rxd2 1Qxd2 Qg4 2g3 Nbd5 2Nc5 g5 2Ng2 Ne4 2Qc2 Nxc5 2Qxc5 Bxb2 2Ne3 Nxe3',\n",
              " 'e4 d5 exd5 Qxd5 Nf3 Qd8 Be2 e6 O-O h6 d4 Nf6 c3 Bd6 Nbd2 b6 Qc2 Bb7 1h3 Nbd7 1Nc4 Be7 1Bf4 Nd5 1Bg3 O-O 1Rad1 N7f6 1Nce5 Bd6 1a3 Ne7 1b4 Nf5 1Bh2 a5 1g4 Ne7 2Qb3 axb4 2axb4 Nd7 2c4 Bxe5 2dxe5 Qc8 2c5 bxc5 2bxc5 Bd5',\n",
              " 'e4 c5 Nc3 Nc6 Nf3 e6 Bb5 a6 Be2 d5 exd5 exd5 d4 c4 O-O Nf6 Bf4 Be7 1Re1 O-O 1h3 Bf5 1a3 b5 1Nh4 Be6 1Nf3 Nh5 1Bh2 g6 1Ne5 Nxe5 1Bxe5 Bf6 1Bxh5 gxh5 1Qxh5 Kh8 2Bxf6+ Qxf6 2Qe5 Qxe5 2Rxe5 Rg8 2Kh2 Rg6 2Rae1 Rag8 2g3 Rg5',\n",
              " 'd4 Nf6 Bg5 g6 Bxf6 exf6 h4 Bg7 h5 O-O hxg6 fxg6 e3 Qe7 c4 Qf7 Nc3 d6 1Nge2 Bf5 1g3 Nd7 1Bg2 Be6 1Bd5 Bxd5 1Nxd5 Rac8 1Nef4 c6 1Nc3 Nb6 1Qc2 Nxc4 1O-O d5 1Nce2 g5 2Nd3 h5 2Kg2 Kh7 2Rh1 Qg6 2Nc3 f5 2Qe2 f4 2Rxh5+ Kg8',\n",
              " 'd4 d5 c4 g6 Nc3 dxc4 Qa4+ Nd7 Qxc4 Nb6 Qd3 Bf5 e4 Bg4 Bf4 Bg7 Be2 Bxe2 1Ngxe2 e5 1Be3 exd4 1Bxd4 Nf6 1Rd1 O-O 1Bxb6 Qxd3 1Rxd3 axb6 1a4 Rfe8 1f3 c6 1O-O Red8 1Rxd8+ Rxd8 2b4 Rd2 2Rb1 Ne8 2Rd1 Rc2 2Rd8 Kf8 2Rd7 Bxc3 2Nxc3 Rxc3',\n",
              " 'e4 e5 Nf3 Nc6 Nc3 Be7 Bb5 d6 O-O Nf6 Re1 O-O d4 exd4 Nxd4 Bd7 Qf3 Nxd4 1Qd3 Nxb5 1Nxb5 Bxb5 1Qxb5 b6 1Bg5 c5 1Rad1 Nd7 1Bxe7 Qxe7 1Qc6 Ne5 1Qxd6 Qxd6 1Rxd6 Nc4 1Rd3 Nxb2 2Rb3 Nc4 2Rd1 Rfd8 2Re1 Rd2 2Rd3 Rxc2 2Red1 h6 2a4 Nb2',\n",
              " 'e4 g6 Nc3 Bg7 Nf3 e6 d4 Ne7 Bf4 O-O Qd2 d5 e5 c5 h4 cxd4 Nxd4 Nbc6 1Nf3 h5 1Bh6 Nf5 1Bxg7 Kxg7 1Bd3 Qc7 1Bxf5 exf5 1O-O-O Nxe5 1Qd4 f6 1Nxd5 Qd6 1Qf4 Nc4 1Nc3 Qxf4+ 2Kb1 Be6 2Rd4 Qc7 2Rhd1 Rad8 2Rxd8 Rxd8 2Rxd8 Qxd8 2Nb5 Qd1#',\n",
              " 'e4 e5 Nf3 Nc6 c3 Nf6 d3 d6 h3 Be7 Be2 h6 O-O Be6 Re1 Qd7 Bf1 g5 1Nh2 g4 1h4 O-O-O 1d4 Nh5 1d5 g3 1fxg3 Nxg3 1dxe6 fxe6 1Nf3 d5 1exd5 exd5 1Nxe5 Nxe5 1Rxe5 Bxh4 2Bf4 Rhf8 2Bxg3 Bxg3 2Nd2 Bxe5 2Nf3 Bg3 2Qd4 b6 2b4 h5',\n",
              " 'd4 a6 e4 e6 e5 c5 c3 cxd4 Qxd4 Nc6 Qe3 Qc7 f4 Nge7 Nf3 Nf5 Qd2 Bc5 1b4 Ba7 1g4 Nh6 1g5 Ng4 1Qe2 Bf2+ 1Kd1 Ba7 1Nbd2 Nf2+ 1Ke1 Nxh1 1Bh3 Bf2+ 1Kf1 Ne7 1Bg2 Ng3+ 2hxg3 Bxg3 2c4 Nf5 2Ne4 O-O 2Bh3 Bxf4 2Bxf5 Bxc1 2Rxc1 exf5',\n",
              " 'e4 b6 d4 Bb7 Nc3 g6 Be3 Bg7 Qd2 e6 O-O-O Nf6 f3 O-O g4 a5 Nge2 Bc6 1h4 b5 1Ng3 b4 1Nce2 Na6 1h5 a4 1Bh6 b3 1cxb3 axb3 1a3 Qe7 1Bxg7 Kxg7 1hxg6 fxg6 1e5 Ng8 2Bg2 Bxf3 2Bxf3 Rxf3 2Ne4 Raf8 2N2g3 c5 2Qh2 h6 2g5 h5',\n",
              " 'b3 Nf6 Bb2 g6 e3 Bg7 c4 Nh5 Nc3 d6 Nf3 Nf6 Be2 c5 O-O Nc6 d4 O-O 1d5 Nb8 1e4 Bg4 1h3 Bxf3 1Bxf3 Nbd7 1Qd3 Rb8 1Ne2 a6 1Ng3 b5 1Be2 bxc4 1Qxc4 Re8 1f4 Nb6 2Qxa6 Qc7 2Bb5 Rec8 2Bc6 h5 2e5 dxe5 2fxe5 Nfxd5 2Bxd5 Nxd5',\n",
              " 'e4 d6 d4 Nf6 Nc3 g6 f4 Bg7 Nf3 O-O e5 dxe5 fxe5 Nd5 Nxd5 Qxd5 c3 Nc6 1Bd3 Be6 1O-O b5 1Be3 a5 1b3 f6 1c4 bxc4 1Bxc4 Qd7 1d5 Nxe5 1Nxe5 fxe5 1dxe6 Rxf1+ 1Qxf1 Qc6 2Qf7+ Kh8 2Qxe7 Re8 2Qd7 Qxd7 2exd7 Rd8 2Bb5 e4 2Bg5 Rb8',\n",
              " 'b3 c5 g3 Nc6 Bg2 d5 f3 e5 e3 f5 d3 Nf6 Nd2 Bd6 Bb2 O-O Ne2 f4 1gxf4 exf4 1e4 Nh5 1exd5 Qh4+ 1Kf1 Ne7 1c4 Nf5 1Ne4 Ne3+ 1Kg1 Rf5 1Qe1 Qe7 1Bh3 Rf6 1Nxf6+ gxf6 2Kf2 Bxh3 2Rg1+ Kf7 2Bc3 f5 2Nxf4 Bxf4 2d4 Re8 2dxc5 Qh4+',\n",
              " 'e4 e5 f4 d6 Nf3 f6 Bc4 Bg4 c3 Bxf3 Qxf3 c6 d4 b5 Bb3 exd4 cxd4 a5 1a3 a4 1Ba2 Na6 1f5 d5 1Qh5+ Kd7 1e5 Kc7 1O-O b4 1axb4 Nxb4 1Na3 Na6 1Be3 Bxa3 1bxa3 Rb8 2Bf4 Kb7 2exf6 Ka7 2Bxb8+ Nxb8 2Rab1 Nxf6 2Qf7+ Nbd7 2Rf2 Rf8',\n",
              " 'd4 e5 dxe5 Nc6 f4 Bc5 Nf3 f6 Nc3 Nh6 Qd3 b6 Be3 g6 O-O-O Nf5 Bxc5 bxc5 1Kb1 Nb4 1Qc4 d6 1e4 Ne3 1Qe2 Nxd1 1Qxd1 Rb8 1Bc4 Ke7 1exd6+ cxd6 1a3 Na6 1Re1 Qb6 1b3 Nb4 2axb4 Qxb4 2Qd3 Rb6 2e5 Ba6 2exd6+ Kd7 2Bxa6 Rxa6 2Kc1 Re8',\n",
              " 'd4 f5 c4 Nf6 Nc3 e6 Qc2 Be7 e4 fxe4 Nxe4 O-O Bd3 d5 Nxf6+ Bxf6 Bxh7+ Kh8 1Nf3 g5 1Qg6 Qe7 1Bxg5 Bxg5 1Nxg5 Qg7 1Qxg7+ Kxg7 1cxd5 exd5 1Bd3 Bg4 1O-O Nc6 1h3 Bd7 1Rfe1 Rae8 2Bb5 a6 2Bxc6 bxc6 2b3 Kg6 2h4 Rf6 2g3 Ref8 2f4 Bf5',\n",
              " 'e4 c6 d4 d5 e5 Bf5 Nc3 e6 Bd3 Bxd3 Qxd3 Ne7 Bg5 Qb6 Nf3 h6 Bd2 Nf5 1h3 Nd7 1a3 c5 1Qb5 cxd4 1Qxb6 axb6 1Nb5 Be7 1Nc7+ Kd8 1Nxa8 Kc8 1Bb4 Kb8 1Bxe7 Nxe7 1Nxd4 Kxa8 2Nb5 Nxe5 2Nd6 Rf8 2O-O-O Kb8 2Nb5 N7c6 2Nd4 Kc7 2f4 Nd7',\n",
              " 'd4 d5 e3 e6 Bd3 Nf6 Nd2 b6 f4 Bb7 Ngf3 Ne4 O-O Bd6 c3 O-O Qc2 f5 1Ng5 Nxg5 1fxg5 Qxg5 1Nf3 Qf6 1Bd2 Nd7 1Rae1 g6 1b4 Qe7 1c4 Bxb4 1Bxb4 Qxb4 1Ng5 Qe7 1h4 c5 2cxd5 Bxd5 2e4 fxe4 2Bxe4 Rxf1+ 2Rxf1 cxd4 2Bxd5 exd5 2Qd3 Ne5',\n",
              " 'd4 d5 e3 e6 Bd3 f5 Nf3 Nf6 Nbd2 Bd6 O-O c6 b3 Nbd7 c4 b6 Bb2 Bb7 1a3 Qc7 1Qc2 h6 1Rac1 g5 1Rfe1 Ne4 1c5 bxc5 1dxc5 Ndxc5 1Bxh8 g4 1Bxe4 fxe4 1Be5 Nd3 1Bxd6 Qxd6 2Nd4 Nxe1 2Rxe1 O-O-O 2Nb5 Qe7 2Nxa7+ Kc7 2Nb5+ Kb8 2Nd4 Rc8',\n",
              " 'e4 e5 f4 exf4 Nf3 d6 Bc4 g5 O-O g4 Nd4 Bg7 Nf5 Bxf5 exf5 Qf6 d3 Qd4+ 1Kh1 Be5 1Qxg4 Nf6 1Qh4 Nbd7 1c3 Qc5 1Na3 O-O-O 1d4 Bxd4 1cxd4 Qxd4 1Qxf4 Qe5 1Bxf7 Rhf8 1Be6 Kb8 2Qxe5 Nxe5 2Bg5 Rde8 2Bxf6 Rxf6 2Nc4 Ng4 2h3 Nh6 2Ne3 Nxf5',\n",
              " 'd4 d5 e4 e6 e5 c5 dxc5 Bxc5 c4 Qb6 Be3 Bxe3 fxe3 Qxe3+ Qe2 Qc1+ Qd1 Qe3+ 1Qe2 Qd4 1cxd5 Qxd5 1Nc3 Qa5 1O-O-O Nc6 1Qd3 Qc7 1Nf3 Nge7 1g3 Bd7 1Bh3 Rd8 1Rhf1 Nb4 1Qb1 Bb5 2a3 Bd3 2Rxd3 Nxd3+ 2Kc2 O-O 2Qa1 b5 2Rd1 Qc4 2Rd2 a5',\n",
              " 'd4 Nf6 c4 e6 Nc3 d5 Bg5 Be7 e3 O-O Nf3 a6 g3 dxc4 Bxc4 b5 Bf1 Bb7 1Bg2 Nbd7 1O-O c5 1dxc5 Nxc5 1b4 Nd3 1a3 Nb2 1Qc2 Nc4 1e4 Rc8 1e5 Nd5 1Nxd5 exd5 1Bxe7 Qxe7 2Qb3 Nxe5 2Nxe5 Qxe5 2Rfe1 Qg5 2Rad1 h5 2h4 Qf5 2Bxd5 Bxd5',\n",
              " 'e4 g6 Bc4 Bg7 Qf3 f5 exf5 gxf5 Qxf5 Nh6 Qg5 Bxb2 Bxb2 e5 Qxh6 d6 Qg7 Rf8 1Qxh7 Nd7 1Nh3 b6 1Bd5 Nf6 1Qg6+ Kd7 1Bf7 Qe7 1Qf5+ Kd8 1Qf3 Qxf7 1Qxa8 Ng4 1f3 Kd7 1fxg4 Ke7 2Qxa7 Bxg4 2Qxc7+ Bd7 2Qxb6 Bxh3 2gxh3 Ke6 2Qb3+ Ke7 2Qxf7+ Rxf7',\n",
              " 'e4 b6 d3 g6 Nf3 Bg7 Be2 Nf6 O-O d6 c3 Bb7 d4 c5 e5 Nfd7 exd6 exd6 1dxc5 dxc5 1Re1 O-O 1Bd3 Re8 1Rxe8+ Qxe8 1Be3 Qd8 1Nbd2 Bxf3 1Nxf3 Nc6 1Be4 Qc7 1Qd2 Nf6 1Rd1 Nxe4 2Qd3 Nf6 2Bf4 Qb7 2Bg3 Nh5 2Ne5 Nxg3 2Nxc6 Qxc6 2Qxg3 Rd8',\n",
              " 'e4 c5 Bc4 a6 Nf3 Nc6 O-O d6 Bd5 e6 Bxc6+ bxc6 e5 d5 d4 c4 b3 cxb3 1cxb3 Ne7 1Bg5 Qc7 1Bxe7 Bxe7 1a3 a5 1a4 O-O 1Nc3 Ba6 1Re1 Rab8 1Rb1 Bb4 1Re3 c5 1Ne2 cxd4 2Nexd4 Rbc8 2h3 h6 2Nb5 Bxb5 2axb5 Qb6 2Re2 Qxb5 2Rc2 Rc3',\n",
              " 'e4 e5 d3 d6 Nf3 h6 Be3 Bg4 Qd2 Nc6 h3 Bxf3 gxf3 Nf6 h4 Be7 Bh3 O-O 1Qc3 Nh5 1f4 Bxh4 1Nd2 exf4 1O-O-O fxe3 1Nf3 Bxf2 1Rhf1 e2 1Rxf2 exd1=Q+ 1Kxd1 Qe7 1Rg2 Qf6 1e5 Qxf3+ 2Kd2 Qxh3 2Re2 Ng3 2Re3 Nf1+ 2Kd1 Qxe3 2exd6 cxd6 2Qe1 Qf3+',\n",
              " 'e4 e5 Nf3 Nc6 Bc4 d6 Nc3 Be7 d3 f5 Be3 f4 Bd2 Nf6 Qe2 Na5 Bb3 Nxb3 1cxb3 Bg4 1O-O-O O-O 1Kb1 a5 1h3 b5 1hxg4 b4 1Na4 Rc8 1d4 c5 1dxe5 dxe5 1Nxe5 c4 1Nxc4 Qe8 2Ncb6 Rc6 2g5 Nd5 2Nxd5 Bd6 2Rh4 Rf5 2Rdh1 Rxd5 2Rxh7 Qg6',\n",
              " 'e4 c5 Qf3 e5 Bc4 Qf6 Nc3 a6 Nd5 Qxf3 Nxf3 b5 Nc7+ Kd8 Nxa8 bxc4 Nxe5 Ke7 1Nb6 Bb7 1d3 cxd3 1cxd3 f6 1Nec4 Nc6 1O-O g5 1Ne3 Nh6 1Nbd5+ Kf7 1b3 Bd6 1Bb2 Ne5 1Nc4 Ke6 2Nxd6 Bxd5 2Bxe5 Kxe5 2Nf5 Be6 2Rac1 d6 2Ne7 Re8 2Nc6+ Kf4',\n",
              " 'e4 e5 d4 exd4 Nf3 Nc6 Bc4 Nf6 e5 d5 exd6 Bxd6 O-O O-O c3 dxc3 Nxc3 Ne5 1Bb3 Bg4 1Bg5 Nxf3+ 1gxf3 Bh3 1Re1 h6 1Bh4 g5 1Bg3 Nh5 1Qd5 Bxg3 1hxg3 Qxd5 1Nxd5 c6 1Ne7+ Kg7 2g4 Nf4 2Nf5+ Kf6 2Kh2 h5 2Kg3 hxg4 2fxg4 Rh8 2Nd6 Bg2',\n",
              " 'd4 d5 c4 dxc4 Qa4+ Bd7 Qxc4 Nf6 Nf3 e6 a3 a6 Bg5 Be7 e3 Bb5 Qc2 Bxf1 1Rxf1 O-O 1Nbd2 c5 1Ke2 cxd4 1Nxd4 Nbd7 1Rfe1 Rc8 1Qb1 Qa5 1b4 Qxg5 1Kf1 Bd6 1N2f3 Qh5 1Qd3 Ng4 2h3 Nh2+ 2Kg1 Nxf3+ 2Nxf3 Qd5 2Qxd5 exd5 2Red1 Nf6 2Nd4 Be5',\n",
              " 'd4 Nf6 e3 g6 c4 Bg7 Nc3 O-O e4 d6 f4 Bg4 Nf3 Nc6 h3 Bxf3 gxf3 Nh5 1Be3 e6 1Qd2 Ng3 1Rg1 Nxf1 1Rxf1 Qh4+ 1Kd1 Qxh3 1Qf2 e5 1fxe5 dxe5 1d5 Nd4 1Ne2 c5 1Kd2 f5 2Bxd4 fxe4 2Rh1 Qc8 2Bc3 Rxf3 2Qh4 h5 2Qxe4 Qf8 2Qxg6 Rxc3',\n",
              " 'd4 d5 c4 e6 Nc3 Nf6 Nf3 Be7 e3 O-O Qc2 b6 Bd2 Bb7 Be2 Nbd7 O-O dxc4 1e4 c5 1e5 Nd5 1Bxc4 cxd4 1Nxd5 Bxd5 1Bxd5 exd5 1Nxd4 Nxe5 1Rfe1 Bf6 1Bc3 Rc8 1Qf5 Qd7 1Rxe5 Qa4 2Rxd5 Rc4 2b3 Qa3 2bxc4 Qxc3 2Rd1 Qxc4 2Nf3 Qxa2 2Ng5 Bxg5',\n",
              " 'd4 d5 Nc3 Nf6 Nf3 g6 Ne5 Bg7 e3 Bf5 Qd2 a6 Bd3 Bxd3 Qxd3 O-O Bd2 Qd6 1a3 Nc6 1f4 Na5 1Na4 Nc4 1Nxc4 dxc4 1Qxc4 Ne4 1Rf1 b5 1Qb4 bxa4 1Qxd6 cxd6 1Bb4 Rfc8 1O-O-O a5 2Be1 f6 2d5 Re8 2Rd4 Nc5 2b4 Nb7 2b5 e6 2Rxa4 exd5',\n",
              " 'e4 e5 Nf3 d6 Bc4 Be7 O-O Nf6 c3 Nc6 Re1 Na5 Bf1 a6 d4 exd4 cxd4 O-O 1d5 b5 1b4 Nb7 1Bb2 Bd7 1Nc3 h6 1a3 Nh7 1Rc1 Ng5 1Be2 Bg4 1Nd4 Bxe2 1Qxe2 Qd7 1Nc6 Bf6 2a4 Nd8 2Nxd8 Rfxd8 2axb5 axb5 2Qxb5 Qg4 2f3 Nxf3+ 2Kh1 Nxe1',\n",
              " 'e4 e5 f4 d5 h4 dxe4 Bc4 exf4 Nc3 Qd4 Bxf7+ Kxf7 Qh5+ g6 Qe2 Nf6 d3 Bg4 1Qf1 Bd6 1Nge2 f3 1Nxd4 Bg3+ 1Qf2 Bxf2+ 1Kxf2 fxg2 1Rg1 exd3 1cxd3 Rf8 1Bf4 Kg7 1Kxg2 c6 1Rae1 Nbd7 2Bd6 Rfe8 2Ne4 Nxe4 2dxe4 Nf6 2e5 Nh5 2Kh1 Be6 2Ref1 Bd5+',\n",
              " 'c4 g6 Nc3 Bg7 Nf3 c5 d3 d6 Bd2 b6 g3 Bb7 Bg2 Nd7 O-O Rb8 Qc1 e6 1d4 cxd4 1Nb5 Nc5 1Nfxd4 Bxg2 1Kxg2 Qd7 1Bc3 Nf6 1Qe3 O-O 1Qf3 Nce4 1Nc2 Nxc3 1Nxc3 Rfe8 1Rad1 a6 2b4 Rec8 2c5 bxc5 2b5 axb5 2Rb1 b4 2Ne4 Nd5 2Rb3 Rf8',\n",
              " 'e4 e6 c3 b6 d4 Bb7 Bd3 f5 Qh5+ g6 Qe2 Nf6 Bg5 Be7 Bxf6 Bxf6 f3 O-O 1Nd2 c5 1e5 Bg7 1f4 Qh4+ 1g3 Qg4 1Ngf3 Nc6 1dxc5 bxc5 1O-O g5 1Ne1 gxf4 1Qxg4 fxg4 1gxf4 Bh6 2Ng2 Nxe5 2Be4 Nf3+ 2Nxf3 Bxe4 2Ne5 Rf5 2Nxd7 Rd8 2Nxc5 Rxc5',\n",
              " 'd4 d5 Nc3 c6 e4 e6 e5 Ne7 Bg5 Bd7 Bd3 Qa5 a3 Ng6 Bxg6 hxg6 b4 Qb6 1Na4 Qc7 1Nf3 Be7 1Bxe7 Kxe7 1Ng5 Na6 1Qf3 Raf8 1O-O Be8 1Rfe1 b5 1Nc3 Qd8 1Qg4 Kd7 1Nf3 Kc7 2Rab1 f6 2exf6 Qxf6 2a4 e5 2dxe5 Qe7 2axb5 cxb5 2Nxb5+ Bxb5',\n",
              " 'd4 d5 Nf3 c5 dxc5 e6 b4 a5 c3 axb4 cxb4 Qf6 Qd4 Nc6 Qxf6 Nxf6 Bd2 Be7 1e3 Ne4 1Bb5 Bd7 1Bxc6 Bxc6 1Nd4 Bf6 1f3 Nxd2 1Nxd2 Bb5 1f4 Bd3 1Kf2 Ra4 1a3 e5 1fxe5 Bxe5 2Ra2 O-O 2Rc1 Bxh2 2g3 Re8 2Kg2 Bxg3 2Kxg3 Rxe3+ 2Kf2 Re2+',\n",
              " 'Nf3 g6 g3 Bg7 Bg2 b6 O-O Bb7 c4 c6 Nc3 d6 d4 Qd7 e4 e6 Qc2 f6 1d5 cxd5 1exd5 e5 1Nd2 Ne7 1a4 f5 1a5 Qc7 1Nb5 Qc5 1b4 Qc8 1c5 dxc5 1Nd6+ Kd7 1Nxc8 Kxc8 2axb6 a6 2bxc5 Nxd5 2Bxd5 Bxd5 2Nc4 e4 2Nd6+ Kd7 2Rd1 Bxa1',\n",
              " 'e4 e5 Bc4 Nf6 Nf3 Bc5 d4 exd4 e5 Ne4 Nxd4 d6 Bxf7+ Kxf7 Qh5+ g6 Qf3+ Nf6 1exf6 Qe8+ 1Ne2 h5 1Bg5 Bg4 1Qd3 Bf5 1Qd5+ Be6 1Qxb7 Bc4 1Qf3 Nd7 1b3 Bxe2 1Qxe2 Qxe2+ 1Kxe2 Bd4 2c3 Bxf6 2Bxf6 Nxf6 2Nd2 Rhe8+ 2Kd1 c5 2Re1 a5 2Rxe8 Rxe8',\n",
              " 'e3 d5 c4 c6 Nc3 Nf6 Qb3 e6 Nf3 Nbd7 Ng5 h6 Nf3 Bd6 d4 b6 Qc2 Bb7 1b3 O-O 1h3 Rc8 1Nd2 Bb4 1a3 Bxc3 1Qxc3 c5 1g4 dxc4 1Rg1 cxd4 1exd4 cxb3 1Qxb3 Bd5 1Bc4 Bxc4 2Nxc4 Qc7 2Ne5 Qc3+ 2Qxc3 Rxc3 2Bb2 Rxh3 2Nxd7 Nxd7 2g5 hxg5',\n",
              " 'd4 d5 e3 Nf6 Bd3 Nc6 f4 Ne4 Nd2 f5 Ngf3 Nb4 Ne5 Nc6 O-O Nxe5 fxe5 e6 1Nf3 c5 1c3 cxd4 1cxd4 Qb6 1Qe2 Bd7 1Nh4 O-O-O 1a4 Kb8 1a5 Qb4 1a6 b6 1Ra3 Rc8 1Nf3 Be7 2Bd2 Qxb2 2Raa1 g5 2Rab1 Qa3 2Bc1 Qa4 2Bb5 Bxb5 2Qxb5 Qxb5',\n",
              " 'b3 Nf6 Bb2 g6 e3 Bg7 Nf3 Nh5 d4 c5 Be2 cxd4 exd4 d5 O-O Nf6 c4 O-O 1Nc3 Nc6 1Rc1 Re8 1Ne5 a6 1Bf3 e6 1Nxc6 bxc6 1cxd5 cxd5 1Na4 Bd7 1Nc5 Bb5 1Re1 Rc8 1Qd2 h5 2a4 Bd7 2Nxa6 Ra8 2Nc5 Bc8 2Rb1 Nd7 2Ba3 Nxc5 2Bxc5 Ba6',\n",
              " 'e4 b6 f4 Bb7 Nc3 e6 d4 Bb4 Ne2 Nf6 a3 Nxe4 axb4 Nxc3 Nxc3 Nc6 Be3 Nxb4 1Bd3 Nd5 1Nxd5 Bxd5 1O-O h5 1c4 Bb7 1b4 h4 1d5 h3 1g3 Rg8 1f5 exd5 1cxd5 Qe7 1Re1 O-O-O 2Bf4 Qxb4 2Ba6 Qc5+ 2Be3 Qxd5 2Bxb7+ Qxb7 2Qa4 g6 2fxg6 Rxg6',\n",
              " 'd4 Nf6 Nf3 d6 c4 g6 Nc3 Bg7 e4 O-O Be2 c5 Be3 cxd4 Nxd4 Nc6 O-O Bd7 1Qd2 Rc8 1f3 Ne5 1b3 Nc6 1Rfd1 Nxd4 1Bxd4 a6 1Rac1 Bc6 1Be3 Re8 1Nd5 Nd7 1g4 Nc5 1h3 a5 2Kh2 b6 2h4 Be5+ 2Kg2 Bg7 2h5 e6 2Nc3 gxh5 2gxh5 Nb7',\n",
              " 'c4 c5 Nf3 f6 Nc3 g6 g3 e6 Bg2 Bd6 O-O Qc7 d4 b6 d5 Bb7 dxe6 dxe6 1Nb5 Qc6 1Nxd6+ Ke7 1Nxb7 Qxb7 1Be3 Qc7 1Nd2 Nc6 1Bxc6 Qxc6 1Nb3 Nh6 1Bxh6 Rhd8 1Qc2 f5 1Bg5+ Kf7 2Bxd8 Rxd8 2Rad1 Ke7 2Rxd8 Kxd8 2Qd3+ Ke7 2e3 h5 2Rd1 Qc7',\n",
              " 'Nc3 c5 d4 Nf6 d5 d6 e4 Bd7 Bg5 g6 Bxf6 exf6 h3 Bg7 g4 Na6 a3 Nc7 1Qd2 a6 1Nf3 Nb5 1Nxb5 axb5 1Bd3 Qb6 1O-O-O b4 1Bc4 bxa3 1b3 a2 1Kb2 f5+ 1c3 fxe4 1Ng5 Qa5 2Ra1 Qa3+ 2Kc2 b5 2Qf4 O-O 2Be2 b4 2c4 Bxa1 2Rxa1 Qa7',\n",
              " 'e4 c5 d3 d6 c3 Nf6 Be2 e5 Nf3 Be7 O-O O-O d4 Nc6 d5 Nb8 Bd3 h6 1c4 g5 1Nc3 Nh5 1Ne1 Nf4 1Bxf4 exf4 1Qe2 Bf6 1Nc2 a6 1Ne1 Nd7 1h3 Ne5 1Nc2 Bd7 1Rad1 Rb8 2a4 Qa5 2Ra1 Bg7 2Rfc1 Qb6 2Rcb1 Nxd3 2Qxd3 f5 2Kh1 Rbe8',\n",
              " 'b3 c6 Bb2 d5 Nc3 Nf6 e4 g6 exd5 cxd5 d4 Bg7 Bd3 e6 Nf3 O-O O-O a6 1Re1 b5 1a4 Bb7 1axb5 axb5 1Rxa8 Bxa8 1Nxb5 Qb6 1Nc3 Nc6 1Na4 Qb7 1Nc5 Qc7 1Ba3 Nd7 1Nxe6 fxe6 2Bxf8 Bxf8 2Ne5 Ncxe5 2dxe5 Nxe5 2Qe2 Nxd3 2Qxe6+ Kg7 2cxd3 Qc6',\n",
              " 'e4 e5 Nf3 d6 Bc4 h6 d3 c6 c3 Nf6 Nbd2 Be7 Nf1 a5 Bb3 Kf8 Ng3 b5 1O-O Nbd7 1h3 Nc5 1Bc2 Be6 1Nh2 g6 1f4 exf4 1Bxf4 Kg7 1d4 Nb7 1Qf3 d5 1e5 Nd7 1Ng4 Bg5 2Bxg5 Qxg5 2Nf6 Nxf6 2exf6+ Kf8 2Rae1 h5 2Ne2 Nd6 2Nf4 Re8',\n",
              " 'e4 c5 Bc4 e6 Nf3 d5 exd5 exd5 Bb5+ Nc6 Bxc6+ bxc6 O-O Ba6 Re1+ Be7 d3 Nf6 1d4 O-O 1dxc5 Bxc5 1Be3 Bd6 1Nc3 Ne4 1Nxe4 dxe4 1Nd4 Qh4 1g3 Qf6 1Qg4 c5 1Nf5 Bc8 1Nh6+ Kh8 2Nxf7+ Rxf7 2Qg5 Qf3 2Qh4 Bd7 2Rad1 Rf6 2Bg5 Qxf2+ 2Kh1 e3',\n",
              " 'e4 e5 Nf3 Nc6 d4 exd4 Nxd4 Nf6 Nc3 Bc5 Nxc6 bxc6 Bd3 O-O h3 Re8 O-O d6 1Be3 Bb6 1Na4 Nxe4 1Nxb6 cxb6 1f3 Nc3 1bxc3 Rxe3 1Qd2 Re8 1f4 Qf6 1f5 Bb7 1Rae1 d5 1g4 Qh4 2Rf3 c5 2g5 d4 2Rxe8+ Rxe8 2Rf4 Qg3+ 2Kf1 Qxh3+ 2Kf2',\n",
              " 'e4 e6 Nf3 Be7 Nc3 d6 Bb5+ Nd7 Bxd7+ Bxd7 O-O Bc6 d3 Qd7 Be3 b6 a3 Bb7 1d4 Nf6 1e5 Ne4 1Nxe4 Bxe4 1Re1 Bxf3 1Qxf3 dxe5 1Qxa8+ Bd8 1dxe5 O-O 1Qf3 Qa4 1b3 Qb5 1Rab1 Be7 2a4 Qa6 2Qg3 f5 2Bh6 g6 2Bxf8 Bxf8 2Qd3 Qb7 2Qc4 Qc8',\n",
              " 'd4 e6 e4 c5 d5 d6 c4 e5 Nf3 h6 g3 Nf6 Nc3 Qa5 Bd2 Qb6 Qc2 Na6 1a3 Bg4 1Bg2 Bxf3 1Bxf3 g5 1O-O g4 1Bg2 h5 1Na4 Qc7 1b4 b6 1bxc5 bxc5 1Rfb1 Rb8 1Nc3 Rxb1+ 2Rxb1 Nd7 2Nb5 Qb8 2a4 Nb6 2a5 Nc8 2Bg5 Be7 2Qa4 Bxg5',\n",
              " 'd4 c5 d5 d6 Bf4 Nf6 h3 g6 Nf3 Bg7 c3 Nbd7 Nbd2 Nb6 c4 a6 Rc1 O-O 1e3 Bd7 1Be2 Rb8 1b3 Na8 1O-O b5 1Qc2 bxc4 1bxc4 Rb4 1a3 Rb8 1Rb1 Rxb1 1Rxb1 Nb6 1Qb3 Na4 2Bd1 Nh5 2Bh2 Nc3 2Rc1 Ba4 2Qb2 Nxd1 2Qa1 Bxa1 2Rxa1 Nc3',\n",
              " 'Nf3 e6 d4 d5 e3 Nc6 c4 dxc4 Na3 Bb4+ Bd2 Bxa3 Ne5 Bxb2 Rb1 Bxd4 exd4 Nxe5 1dxe5 Ne7 1Bxc4 O-O 1Bc3 c6 1Bd3 b5 1Qh5 g6 1Qh3 a5 1f4 a4 1g4 a3 1f5 Ra4 1fxe6 fxe6 2g5 Nf5 2Bxf5 exf5 2Rf1 Qd5 2Rxf5 Qe4+ 2Kf1 Qxb1+ 2Kf2 Qxf5+',\n",
              " 'e4 e5 Nf3 Nc6 d4 d6 d5 Nb4 a3 Na6 Bxa6 bxa6 O-O Rb8 h3 Nf6 Re1 Be7 1c4 Qd7 1b4 Bb7 1Nc3 c6 1Bg5 cxd5 1exd5 h6 1Bxf6 Bxf6 1Ne4 Qf5 1Nxf6+ Qxf6 1Nd2 O-O 1Ne4 Qe7 2Qd2 Rbc8 2Rac1 a5 2bxa5 Ba6 2Qb4 Rb8 2Qxd6 Qxd6 2Nxd6 Rfd8',\n",
              " 'd4 d5 c4 Nf6 Nc3 e6 e3 c6 a4 Bb4 Bd3 dxc4 Bxc4 Ne4 Ne2 Qf6 O-O Nxc3 1bxc3 Bd6 1e4 Qh6 1Bxh6 gxh6 1e5 Be7 1Ng3 Nd7 1Qh5 Nb6 1Bd3 Bd7 1a5 Nd5 1c4 Nf4 1Qf3 Bg5 2Be4 O-O-O 2d5 cxd5 2cxd5 exd5 2Bf5 Bxf5 2Nxf5 d4 2Rab1 Rd7',\n",
              " 'e4 e6 a3 Nf6 d3 Nc6 Bg5 Nd4 Bxf6 Qxf6 Nh3 Nb5 c3 d5 d4 dxe4 Bxb5+ c6 1Be2 e3 1fxe3 e5 1dxe5 Qh4+ 1Nf2 Bc5 1Qd3 O-O 1g3 Qg5 1b4 Be7 1Ne4 Qg6 1h4 Bg4 1Bxg4 Qxg4 2Rf1 Rad8 2Qe2 Qxe4 2Nd2 Qxe5 2Rd1 Qxg3+ 2Qf2 Qe5 2Nc4 Qxc3+',\n",
              " 'e4 c6 d4 d5 e5 Bf5 c4 e6 Nc3 Bb4 a3 Bxc3+ bxc3 Nd7 cxd5 cxd5 c4 dxc4 1Bxc4 Rc8 1Qb3 Qc7 1Bb5 Ne7 1Nf3 O-O 1O-O Nb6 1Bg5 Ned5 1Bd3 Bxd3 1Qxd3 Qc3 1Qxc3 Rxc3 1Bd2 Rd3 2Bb4 Rc8 2h3 Rb3 2Rfb1 Rd3 2Rd1 Rxd1+ 2Rxd1 Rc2 2Nd2 Nc4',\n",
              " 'e4 e5 Nf3 Nc6 Bb5 Bc5 O-O d6 c3 Ne7 d4 exd4 cxd4 Bg4 dxc5 dxc5 Qxd8+ Rxd8 1Ne5 Be2 1Re1 Bxb5 1Nxc6 Bxc6 1Nc3 O-O 1Bf4 Rd7 1Rad1 Rfd8 1Rxd7 Rxd7 1e5 Ng6 1Bg3 h6 1f4 Rd2 2f5 Rxg2+ 2Kf1 Ne7 2e6 fxe6 2Rxe6 Kf7 2Rxc6 Rxg3 2Rxc7 Rf3+',\n",
              " 'e4 c6 d4 d5 Nc3 h6 Nf3 Bg4 Be2 e6 O-O Nd7 Re1 Bd6 h3 Bxf3 Bxf3 dxe4 1Nxe4 Bb8 1b3 Ngf6 1Bb2 Nxe4 1Bxe4 Nf6 1Bf3 Qd6 1g3 O-O 1Qe2 Nd5 1c4 Nf6 1Rad1 a6 1d5 exd5 2Bxf6 Qxf6 2cxd5 cxd5 2Bxd5 Ba7 2Bxb7 Rae8 2Qc2 Rxe1+ 2Rxe1 Qd6',\n",
              " 'd4 d5 e3 c5 Bd3 Nf6 c3 c4 Nd2 e6 Bc2 Bd6 f4 Qc7 Ngf3 O-O O-O b6 1Ne5 Bb7 1Qf3 Nc6 1g4 Ne4 1Nxe4 dxe4 1Bxe4 f5 1Bxc6 Bxe5 1Bxb7 Rab8 1dxe5 Rxb7 1gxf5 Rxf5 1e4 Rf8 2Be3 Qf7 2Bd4 Qg6+ 2Kh1 Qh6 2f5 exf5 2exf5 b5 2Qxb7 b4',\n",
              " 'e4 d5 exd5 Qxd5 Nc3 Qd8 Bc4 c6 Nge2 Nf6 d4 Bf5 f3 Bg6 Bf4 e6 Qd2 Bd6 1h4 Bxf4 1Nxf4 Nbd7 1h5 Bf5 1g4 g5 1Nfe2 Nxg4 1fxg4 Bxg4 1O-O-O Nb6 1Bb3 Qe7 1Rdg1 Bxe2 1Qxe2 O-O-O 2Qe3 f6 2Qxe6+ Qxe6 2Bxe6+ Kc7 2Rd1 Rhf8 2d5 h6 2dxc6 bxc6',\n",
              " 'e4 Nf6 Nf3 Nxe4 Bc4 Nf6 Nc3 e6 d4 d5 Bd3 c6 Ne2 Be7 Ng3 O-O O-O h6 1Ne5 Nbd7 1Bf4 Nxe5 1Bxe5 Nd7 1Nh5 Nxe5 1dxe5 f5 1exf6 Bxf6 1Qg4 Qe8 1Bg6 Qe7 1Rfe1 Bd7 1f4 Rad8 2f5 e5 2Ng3 Be8 2Nh5 Bxg6 2fxg6 Qd7 2Qg3 Qf5 2Nxf6+ Rxf6',\n",
              " 'e4 e5 Nf3 f6 c3 d6 Bc4 Ne7 h3 b6 a3 Nbc6 O-O Bb7 d3 Qd7 Nbd2 O-O-O 1Re1 Kb8 1b4 Rc8 1Nf1 h6 1d4 exd4 1cxd4 f5 1d5 Nd8 1Nd4 fxe4 1Rxe4 Nf5 1Bb5 Qf7 1Nxf5 Qxf5 2Rf4 Qxd5 2Qxd5 Bxd5 2Bd7 Ne6 2Rf5 Rd8 2Rxd5 Rxd7 2Be3 Be7',\n",
              " 'e4 c5 c3 Nc6 d4 cxd4 cxd4 e5 d5 Nce7 Nc3 Nf6 Nf3 Ng6 Bg5 Be7 d6 Bf8 1Nb5 Qa5+ 1Bd2 Qb6 1Nc7+ Kd8 1Ng5 Bxd6 1Nxa8 Qc6 1Nxf7+ Ke8 1Nxh8 Nxh8 1Be2 b6 1O-O Qxa8 1f3 h6 2Kh1 Ng6 2Bxh6 gxh6 2Qxd6 Kf7 2Bc4+ Kg7 2Rac1 Ne8 2Qd3 Qc6',\n",
              " 'Nf3 e6 g3 b6 Bg2 Bb7 d4 g5 Bxg5 Be7 Bd2 Nf6 O-O Ng4 Ne5 Nxh2 Kxh2 Bd6 1Bf4 Bxg2 1Kxg2 f6 1Nd3 e5 1dxe5 fxe5 1Nxe5 Nc6 1Nxc6 dxc6 1Qd2 Qe7 1Qd4 O-O-O 1Nc3 Rhg8 1Bxd6 Rxd6 2Qf4 Rf6 2Qc4 Qe8 2Ne4 Rf4 2Nd6+ cxd6 2Qxf4 Qxe2 2Qf5+ Kb7',\n",
              " 'd4 d6 e3 e6 Nf3 g6 a3 Bg7 b4 b6 Bb2 Bb7 Be2 Nd7 O-O Ne7 Nbd2 O-O 1Rb1 c6 1h3 a5 1Ne4 Nf6 1Nxf6+ Bxf6 1b5 c5 1dxc5 Bxb2 1cxd6 Bxa3 1dxe7 Bxe7 1Qxd8 Rfxd8 1Rbd1 Rd6 2Ne5 Rad8 2Nc4 Rxd1 2Rxd1 Rxd1+ 2Bxd1 Bc5 2c3 Bd5 2Be2 a4',\n",
              " 'e4 e5 Bc4 Nc6 a3 Nf6 d3 h6 h3 Be7 Nf3 d6 Nc3 O-O Be3 Qe8 Qd2 Nh7 1g4 g5 1O-O-O Be6 1Nd5 Bxd5 1Bxd5 Nd8 1h4 c6 1Bb3 gxh4 1Bxh6 Ne6 1Bxf8 Qxf8 1Nxh4 Bg5 1Qxg5+ Nexg5 2Nf5 Qd8 2Nh6+ Kf8 2Rh2 Qf6 2Nf5 Ke8 2Rdh1 Kd7 2Rxh7 Nxh7',\n",
              " 'e4 c6 d4 d5 e5 c5 dxc5 Nc6 Bb5 Bf5 Nf3 e6 Be3 Rc8 Nc3 Ne7 Nd4 Bg6 1Nxc6 Nxc6 1Bxc6+ Rxc6 1b4 Qc7 1f4 Be7 1Nb5 Qb8 1c3 a6 1Nd6+ Bxd6 1exd6 Kd7 1Bd4 f6 1O-O Re8 2g4 Be4 2Qd2 a5 2a4 axb4 2cxb4 b6 2b5 Rxc5 2Bxc5 bxc5',\n",
              " 'e4 c5 Nf3 a6 c4 Nc6 Nc3 e6 d4 cxd4 Nxd4 d6 Be3 Be7 Be2 Nf6 f3 O-O 1O-O Re8 1a3 e5 1Nc2 Be6 1Nd5 g6 1Bb6 Qd7 1Nc7 Rac8 1Nxe8 Rxe8 1b3 Nh5 1Be3 Qd8 1Rc1 Bg5 2f4 exf4 2Bxh5 fxe3 2Be2 Bh4 2g3 Bh3 2gxh4 Qxh4 2Rf3 Qg4+',\n",
              " 'e4 d6 e5 dxe5 Nf3 e6 Nxe5 Bd7 Nf3 Bc6 Bc4 Bxf3 Qxf3 Nc6 d4 Qxd4 Bb3 Ne5 1Qxb7 Rd8 1O-O c6 1Ba4 Qd7 1Qxd7+ Rxd7 1f4 Bc5+ 1Kh1 Nc4 1Bxc6 Ne7 1Bxd7+ Kxd7 1Rd1+ Ke8 1b3 Ne3 2Bxe3 Bxe3 2Rf1 Nf5 2g4 Bd4 2gxf5 Bxa1 2Nd2 Bc3 2Nf3 e5',\n",
              " 'e4 e6 d4 d5 e5 b6 Nf3 Ne7 Bd3 Ba6 O-O c5 Bxa6 Nxa6 c3 cxd4 Qa4+ Qd7 1Qxa6 d3 1Qxd3 Nf5 1Na3 Bxa3 1bxa3 Rc8 1Bd2 Qa4 1Rab1 O-O 1Qb5 Qxa3 1Qb3 Qe7 1Rfc1 Rc4 1a4 Rfc8 2a5 Rb8 2axb6 Rxb6 2Qa2 Rbc6 2Rb8+ Rc8 2Rxc8+ Rxc8 2Rb1 h6',\n",
              " 'e4 e6 e5 d5 d4 c6 f4 Ne7 c3 Nf5 Nf3 c5 Bd3 cxd4 Bxf5 exf5 cxd4 g6 1O-O Bg7 1Be3 O-O 1Nbd2 Be6 1Nb3 Nc6 1a4 b6 1a5 b5 1Nc5 a6 1b4 Ne7 1Ng5 Qc8 1Ngxe6 fxe6 2h3 Nc6 2g4 Nxb4 2Qb3 Nc6 2Rac1 Qc7 2Qc2 Rfe8 2gxf5 gxf5',\n",
              " 'd4 Nc6 e3 d5 Nf3 h5 c3 Bg4 Be2 e6 h3 Bf5 Nbd2 Nf6 Ng5 Bd6 Bf3 O-O 1e4 dxe4 1Ngxe4 Bxe4 1Nxe4 Nxe4 1Bxe4 Ne7 1Qxh5 g6 1Qe2 f5 1Bd3 Nd5 1g3 Re8 1Be3 Nxe3 1fxe3 e5 2Bc4+ Kg7 2O-O-O exd4 2cxd4 Bxg3 2Rd3 Bf4 2Rf1 Qd6 2h4 Re4',\n",
              " 'e4 c6 Bc4 d5 exd5 cxd5 Bb3 Nf6 d4 Nc6 c3 Bf5 h3 e6 Nf3 Bd6 O-O O-O 1Bg5 h6 1Bxf6 Qxf6 1Re1 Ne7 1Ne5 Bxe5 1dxe5 Qg6 1Kh2 a5 1Re2 a4 1Bxa4 Ra7 1Bc2 Rfa8 1a3 Ra4 2Bxf5 Qxf5 2Nd2 Ng6 2Nf3 Nh4 2Nxh4 Rxh4 2Qb3 Rb8 2a4 g5',\n",
              " 'e4 d5 exd5 e5 d4 Nf6 dxe5 Nxd5 Nc3 Nxc3 Qxd8+ Kxd8 bxc3 Nc6 e6 Bxe6 Bd3 Bc5 1Nf3 Re8 1Be3 Bxe3 1fxe3 Ke7 1Kd2 Kf8 1Rhe1 Rad8 1Rab1 Na5 1Rb5 b6 1Rbb1 c5 1Ke2 c4 1Be4 Bg4 2h3 Bh5 2Bf5 g6 2Bg4 Bxg4 2hxg4 Nc6 2Ng5 Ne5 2Nxh7+ Kg7',\n",
              " 'd4 e6 e4 Nf6 Bg5 Be7 Bxf6 Bxf6 e5 Bg5 Nf3 Be7 Bd3 d5 c4 dxc4 Bxc4 c6 1O-O b5 1Bb3 a5 1a4 b4 1Nbd2 Ba6 1Bc4 O-O 1Bxa6 Nxa6 1Nc4 c5 1dxc5 Nxc5 1Nd6 Bxd6 1exd6 Nb3 2Qxb3 Qxd6 2Rad1 Qc5 2Rc1 Qd5 2Qxd5 exd5 2b3 Rfd8 2Nd4 Rac8',\n",
              " 'g3 g6 Bg2 Bg7 Nf3 d6 O-O f5 d4 Nf6 c3 Nc6 Nbd2 e5 dxe5 dxe5 Qc2 O-O 1e4 f4 1b3 fxg3 1hxg3 Bg4 1Bb2 Qe7 1Rae1 Rad8 1Nh2 h5 1Nxg4 Nxg4 1f3 Nf6 1Nc4 b5 1Ne3 Bh6 2Qf2 g5 2Rd1 g4 2Nd5 Nxd5 2Rxd5 Rxd5 2exd5 Nd8 2Qe2 Qd6',\n",
              " 'b3 d5 Bb2 e5 e3 f6 Nf3 Ne7 Nh4 Be6 Be2 Nd7 Nf3 Nb6 d4 Qd7 dxe5 fxe5 1Nxe5 Qd6 1Nf3 O-O-O 1Qd2 Nf5 1Nc3 Rg8 1h4 Ne7 1Nd1 g6 1Ne5 Nf5 1g4 Ng7 1g5 Bf5 1Nc3 Qxe5 2Nb5 Qxb2 2Rd1 Qxa2 2Nd4 Qb2 2Nxf5 Nxf5 2O-O Qe5 2f4 Qe4',\n",
              " 'e4 c5 d3 Nc6 Nc3 a6 Qh5 e6 Bg5 Be7 Bd2 Nf6 Qd1 b5 a3 Bb7 Bg5 Nd4 1Bxf6 Bxf6 1Nce2 Nc6 1Ng3 O-O 1Qd2 Bxb2 1Rb1 Bf6 1Nf3 h6 1Qe3 Bd4 1Qe2 d5 1e5 c4 1Nxd4 Nxd4 2Qd2 f6 2c3 Nc6 2Be2 fxe5 2Bg4 Qf6 2dxc4 dxc4 2Qd7 Qxf2+',\n",
              " 'e4 c5 d4 cxd4 c3 dxc3 Bc4 d6 Qb3 e6 Nf3 Nc6 O-O Na5 Qa4+ Bd7 Qb4 Nxc4 1Qxc4 cxb2 1Bxb2 e5 1Nc3 Nf6 1Rfd1 Be7 1Qb3 b6 1Ba3 Be6 1Qa4+ Qd7 1Qa6 Bg4 1Nxe5 Qe6 1Nxg4 Qxg4 2Bxd6 Bxd6 2Rxd6 O-O 2f3 Qf4 2Rad1 Qe3+ 2Kh1 Qxc3 2R6d3 Qe5',\n",
              " 'e4 d5 exd5 Qxd5 Nc3 Qd8 Bb5+ c6 Ba4 b5 Bb3 e6 a3 b4 axb4 Bxb4 Nge2 Bxc3 1Nxc3 h6 1d3 Nf6 1O-O Ba6 1Re1 O-O 1Qf3 Qd7 1Qg3 Nd5 1Nxd5 cxd5 1Bxh6 f6 1Bf4 Nc6 1Ba4 e5 2Be3 Bb7 2Bd2 d4 2c3 Qd6 2c4 Ne7 2b4 a6 2Bh6 Nf5',\n",
              " 'e4 e5 Bc4 Nf6 Nc3 c6 a3 d5 exd5 cxd5 Bb5+ Bd7 Bxd7+ Qxd7 d3 h6 Nf3 Bd6 1O-O Nc6 1b4 a6 1d4 e4 1Nh4 g5 1Ng6 fxg6 1b5 Na5 1bxa6 bxa6 1Bd2 Nc4 1Qc1 Nxd2 1Qxd2 g4 2Ne2 h5 2Nf4 Bxf4 2Qxf4 Qf5 2Qd6 Rd8 2Qc6+ Qd7 2Qxf6 Qf7',\n",
              " 'e4 e5 Nf3 d6 d4 exd4 Nxd4 Nf6 Nc3 Be7 Bc4 Qd7 Nf5 O-O O-O Nxe4 Nxe7+ Qxe7 1Re1 Bf5 1Nxe4 Bxe4 1Bd3 d5 1f3 Qc5+ 1Be3 d4 1Bxe4 dxe3 1Qe2 c6 1Qxe3 Nd7 1Rad1 Rad8 1g3 Qb5 2b3 Rfe8 2Qd2 Qb6+ 2Qf2 Qxf2+ 2Kxf2 g6 2Rd6 Kg7 2Red1 a6',\n",
              " 'e4 e5 Nc3 c6 Nf3 Qe7 d4 f6 dxe5 fxe5 Qd3 d6 Bg5 Nf6 O-O-O Bg4 Be2 Nbd7 1h3 Bh5 1g4 Bf7 1Bxf6 gxf6 1Qd2 h5 1g5 O-O-O 1Qe3 fxg5 1Qxa7 Nc5 1Na4 Na6 1Bxa6 Bh6 1Nxe5 dxe5 2Qa8+ Kc7 2Qa7 Rb8 2Qb6+ Kc8 2Rd3 g4+ 2Kb1 Rd8 2Rhd1',\n",
              " 'e3 e5 d4 exd4 exd4 Nf6 Qe2+ Be7 Nf3 O-O Be3 d6 Nc3 Bg4 O-O-O Qd7 h3 Bh5 1g4 Bg6 1h4 h6 1h5 Bh7 1Nh2 Nc6 1g5 hxg5 1Bxg5 Rfe8 1Qf3 Qe6 1Bd3 Nd5 1Rde1 Qd7 1Qxd5 Bxd3 2cxd3 Bxg5+ 2Qxg5 Rxe1+ 2Rxe1 Re8 2Rg1 f6 2Qg3 Qe7 2Ne4 Nxd4',\n",
              " 'b3 e6 Bb2 Nf6 g3 c5 Bg2 Be7 e3 O-O f3 b6 f4 Nc6 g4 Bb7 d3 Nd5 1Nd2 Nxe3 1Qc1 Nxg2+ 1Ke2 Bf6 1c3 Na5 1g5 Be7 1Ngf3 e5 1Qg1 Nxf4+ 1Kd1 Nxd3 1Kc2 e4 1Ne5 Bd6 2Qg3 Nxe5 2Qh4 Nf3 2Nxf3 exf3 2Rhf1 Re8 2Rad1 Re2+ 2Kb1 Be4+',\n",
              " 'f4 d5 Nf3 Bf5 e3 Nf6 c4 dxc4 Bxc4 e6 O-O Be7 b3 O-O Bb2 Nbd7 d4 Nb6 1Qe2 c6 1Nbd2 Ne4 1Nxe4 Bxe4 1Bd3 f5 1Bxe4 fxe4 1Ne5 Bd6 1Qc2 Bxe5 1fxe5 Qd5 1Rf4 Rxf4 1exf4 e3 2Re1 c5 2Qxc5 Qe4 2Qe7 e2 2Qxe6+ Kh8 2Qg4 Nd5 2Qxe2 Qxf4',\n",
              " 'd4 d5 Nf3 c6 e3 Nf6 Be2 Bg4 Nbd2 e6 c4 Nbd7 O-O dxc4 Nxc4 Be7 h3 Bxf3 1Bxf3 O-O 1Bd2 Qc7 1e4 e5 1dxe5 Nxe5 1Nxe5 Qxe5 1Qc1 Bd6 1g3 Qe6 1Bg2 Bc7 1Re1 Bb6 1Kh1 Bxf2 2Rf1 Bxg3 2Rf3 Be5 2Qc2 Nh5 2Be1 Nf4 2Bg3 Nxg2 2Kxg2 Bxg3',\n",
              " 'e4 Na6 Nf3 Nf6 d3 e6 e5 Ng4 d4 Nb4 h3 d6 hxg4 dxe5 a3 Nxc2+ Qxc2 e4 1Qxe4 e5 1Bc4 Bxg4 1Ng5 Be2 1Qxe2 Bb4+ 1Bd2 Qxd4 1Bxb4 Qxb2 1Bxf7+ Kd8 1Bc3 Qxa1 1Bxa1 c6 1Bxe5 Kc8 2Be6+ Kd8 2Nf7+ Ke7 2Nxh8 Kxe6 2Qg4+ Kxe5 2Qxg7+ Kd5 2Nf7 Kc5',\n",
              " 'e4 d5 exd5 Nf6 Nc3 Nxd5 Nf3 Nxc3 dxc3 Qxd1+ Kxd1 Bg4 Be2 Nc6 Nd4 Bxe2+ Kxe2 Nxd4+ 1cxd4 O-O-O 1Be3 a6 1c4 h6 1a4 e6 1c5 c6 1Bf4 f6 1Be3 g5 1b4 f5 1g3 Bg7 1Rhd1 f4 2gxf4 gxf4 2Bxf4 Bxd4 2Ra3 Rhf8 2Rf3 e5 2Bxh6 Rxf3 2Kxf3 Rh8',\n",
              " 'e4 e6 Nf3 Nf6 Nc3 Bb4 d4 O-O Bd3 c5 O-O Nc6 d5 exd5 Nxd5 Nxd5 exd5 Ne7 1a3 Ba5 1c4 d6 1Bg5 f6 1Bh4 Nf5 1Qc2 g6 1g4 Nd4 1Nxd4 cxd4 1Bxg6 Qd7 1Bf5 Qg7 1b4 Bd8 2Rad1 Bxf5 2Qxf5 Bb6 2Rd3 Rae8 2f4 Qg6 2Kf2 Qxf5 2gxf5 Kh8',\n",
              " 'e4 e6 d4 d5 e5 c5 c3 Nc6 Nf3 Qb6 Bd3 Bd7 O-O cxd4 cxd4 Nxd4 Nxd4 Qxd4 1Nc3 Qxe5 1Re1 Qf6 1Nxd5 Qd8 1Bf4 Rc8 1Rc1 Be7 1Bc7 Rxc7 1Nxc7+ Kf8 1Bb5 Nf6 1Bxd7 Nxd7 1Nb5 g6 2Rc7 Nf6 2Qxd8+ Bxd8 2Rc8 Ke7 2Rd1 Nd5 2Nc3 Nxc3 2bxc3 Re8',\n",
              " 'd4 d5 c4 dxc4 e3 e5 Bxc4 exd4 exd4 Nf6 Be3 Bb4+ Nc3 O-O Ne2 Nc6 O-O Re8 1Qb3 Qe7 1a3 Bd6 1Rae1 Na5 1Qa2 Nxc4 1Qxc4 a6 1b4 b5 1Qd3 Bb7 1Bg5 Rad8 1Kh1 h6 1Bh4 Qd7 2Bxf6 gxf6 2Ng3 Qh3 2d5 Qh4 2Qf5 Bc8 2Qf3 Bg4 2Qd3 Re5',\n",
              " 'e4 b6 d4 Bb7 Bd3 Nc6 Nf3 g6 c4 Bh6 a3 Bxc1 Qxc1 Na5 Qc3 Nf6 Nbd2 Nc6 1d5 Nb8 1h3 O-O 1O-O c6 1e5 Nh5 1g3 cxd5 1cxd5 Bxd5 1Be4 Bxe4 1Nxe4 Nc6 1Qe3 Rc8 1Qh6 f5 2Neg5 Rf7 2Rfd1 Qf8 2Nxf7 Qxf7 2Rxd7 f4 2Ng5 Qg7 2Qxg7+ Nxg7',\n",
              " 'd4 d5 c4 e6 c5 b6 b4 a5 Ba3 Nf6 e3 Nc6 b5 Na7 c6 Bxa3 Nxa3 O-O 1Bd3 Qe7 1Nc2 Ne4 1Bxe4 dxe4 1Qg4 Nxb5 1Qxe4 Nc3 1Qd3 Nd5 1Nf3 h6 1O-O Ba6 1Qe4 Bxf1 1Kxf1 Nb4 2Na3 Nxc6 2Qxc6 Qxa3 2Ne5 Qd6 2Qc2 f6 2Nf3 e5 2dxe5 fxe5',\n",
              " 'b3 c5 Bb2 Nc6 e3 b6 Nf3 Bb7 d4 e6 c4 cxd4 exd4 d5 Be2 dxc4 O-O cxb3 1Qxb3 Nf6 1Nbd2 Be7 1Bb5 Nd5 1Qa4 Qc7 1Rac1 O-O 1Bxc6 Bxc6 1Rxc6 Qd7 1Rfc1 Rfc8 1Qc2 Rxc6 1Qxc6 Qd8 2Ne5 Nf6 2Ndc4 a6 2Qxb6 Qe8 2Qa5 Rb8 2Ba3 Nd5 2Bxe7 Qxe7',\n",
              " 'g3 Nf6 Bg2 d5 h3 e5 f3 c6 d3 Bd6 Bg5 h6 Bxf6 Qxf6 g4 a5 c3 Na6 1e3 Nc7 1e4 d4 1cxd4 exd4 1Ne2 c5 1f4 Qh4+ 1Kd2 Rb8 1Rf1 b5 1e5 Be7 1Na3 Bd7 1Rc1 O-O 2b3 Kh8 2f5 f6 2e6 Be8 2Rf4 Rd8 2g5 Qxg5 2Nxd4 Qxg2+',\n",
              " 'e4 Nc6 d4 e6 Nc3 d6 Be3 a6 f3 Be7 Bd3 h6 Qe2 Nf6 O-O-O O-O Kb1 Nh7 1Nh3 f6 1Nf2 e5 1d5 Nb8 1Ng4 Bxg4 1fxg4 Qe8 1h4 Nd7 1g5 fxg5 1hxg5 Bxg5 1Bxg5 Nxg5 1Qg4 Qe7 2Ne2 Rf2 2Ng3 Rf4 2Qh5 Raf8 2Nf5 Qf6 2g3 Rf3 2Be2 Rf2',\n",
              " 'e4 e5 Nf3 d6 d4 exd4 Qxd4 Nc6 Bb5 Bd7 Bxc6 Bxc6 Bf4 Nf6 e5 dxe5 Qxe5+ Be7 1Bg5 Qd6 1O-O Bxf3 1Qb5+ Bc6 1Qe2 O-O 1Nc3 Rfe8 1Qc4 b5 1Nxb5 a6 1Nd4 Bd7 1Rad1 Qb6 1Nf3 Bb5 2Qh4 Bxf1 2Rxf1 Qxb2 2Bf4 Qxc2 2Nd4 Qe4 2Nf3 Bd6 2Bg5 Qxh4',\n",
              " 'g3 e6 c4 c6 e4 Nf6 e5 Ng8 Bg2 d5 cxd5 cxd5 d4 a6 Nf3 Nc6 O-O h6 1b3 Qb6 1a4 Nge7 1Ba3 Nf5 1Bxf8 Kxf8 1a5 Qb4 1Ra4 Qe7 1g4 Nh4 1Nxh4 Qxh4 1Qd3 Bd7 1Ra1 Qxg4 2Qc3 Qxd4 2Qxd4 Nxd4 2Nd2 Bb5 2Rfd1 Ne2+ 2Kh1 g6 2Bf3 Kg7',\n",
              " 'e4 c6 c4 d5 cxd5 cxd5 exd5 Qxd5 Nc3 Qd8 Qa4+ Nc6 Bb5 Bd7 Nf3 Nf6 O-O e6 1a3 a6 1Bxc6 Bxc6 1Qh4 Bxf3 1gxf3 Be7 1Qg3 Nh5 1Qg4 g6 1Ne4 O-O 1Ng3 Nxg3 1fxg3 Bf6 1Rd1 Bg7 2d4 Qd5 2Be3 Rad8 2Rd2 h5 2Qe4 Qxe4 2fxe4 e5 2d5 f5',\n",
              " 'e4 d6 d4 Nd7 d5 Ngf6 f3 e5 dxe6 fxe6 Bd3 e5 Bg5 Be7 Bxf6 Nxf6 Ne2 O-O 1Ng3 Qe8 1Nf5 Qf7 1Nxe7+ Qxe7 1O-O Qf7 1g4 Qg6 1Bc4+ Kh8 1Nd2 Qg5 1Kg2 h5 1h3 hxg4 1hxg4 Kh7 2Rh1+ Kg6 2Bd3 Bd7 2Qe2 Rh8 2Qf2 Rxh1 2Rxh1 Rf8 2Qh4 Qxd2+',\n",
              " 'e4 e5 Bc4 d6 Qf3 Nf6 Nh3 h6 c3 Bg4 Qg3 Qd7 f3 Bxh3 gxh3 g5 d4 Nh5 1Qg4 Nf6 1Qxd7+ Nbxd7 1d5 O-O-O 1Be3 Kb8 1Nd2 Nh5 1Nf1 Nf4 1Bxf4 gxf4 1O-O-O Rg8 1Rd2 Be7 1Re2 Bh4 2Bb5 a6 2Bxd7 Rxd7 2Nd2 f6 2Nc4 Rdg7 2Kd2 Rg1 2Rxg1 Rxg1',\n",
              " 'c4 c5 Nc3 Nf6 Nf3 d5 cxd5 Nxd5 d4 cxd4 Qxd4 e6 Nxd5 Qxd5 Qxd5 exd5 Bf4 Nc6 1e3 Bb4+ 1Nd2 O-O 1Bb5 Bf5 1a3 Bc5 1O-O Rad8 1Nf3 h6 1Rac1 Bd6 1Bxc6 Bxf4 1exf4 bxc6 1Rxc6 d4 2Rd1 d3 2Ne5 Rd4 2g3 Rfd8 2f3 d2 2g4 Bh7 2f5 R4d5',\n",
              " 'd4 d5 c4 Nf6 Nc3 g6 g3 Bg7 Bg2 c6 cxd5 cxd5 e4 dxe4 Nxe4 Nxe4 Bxe4 O-O 1Be3 Nc6 1Ne2 Na5 1b3 Nc6 1O-O Bd7 1Rc1 Rc8 1Qd2 Qa5 1Qb2 Nb4 1a3 Rxc1 1Rxc1 Nc6 1b4 Qb6 2Bg2 Qd8 2h3 e6 2b5 Ne7 2Bxb7 Nf5 2Bc6 Nxe3 2fxe3 Be8',\n",
              " 'e4 c5 Nf3 d6 d4 cxd4 Nxd4 Nf6 Nc3 a6 Be3 e6 a3 Be7 Be2 Qc7 O-O b5 1h3 Bb7 1f3 Nbd7 1Nb3 O-O 1Qd2 Rfd8 1Rad1 Nc5 1Nxc5 dxc5 1Qc1 c4 1Rxd8+ Rxd8 1Rd1 Rxd1+ 1Qxd1 h6 2Qd4 Nd7 2f4 Bc5 2Qd2 Qb6 2Bxc5 Nxc5 2Kh1 Nxe4 2Nxe4 Bxe4',\n",
              " 'e4 b6 f4 Bb7 d3 e6 Nf3 Bb4+ c3 Be7 Be3 h5 Be2 Nc6 Nbd2 Na5 c4 d6 1Nb3 Nc6 1Qc2 Nb4 1Qc3 Nc6 1d4 Bf6 1e5 dxe5 1fxe5 Be7 1O-O-O a5 1Rhg1 a4 1Nbd2 a3 1b3 Nb4 2c5 Nxa2+ 2Kc2 Nxc3 2Kxc3 a2 2b4 bxc5 2Ra1 cxd4+ 2Bxd4 Bxb4+',\n",
              " 'e4 d5 exd5 Qxd5 Nc3 Qd8 Nf3 c6 Bc4 Nf6 d4 Bf5 Bf4 Bg6 Qd2 Nbd7 O-O e6 1Rfe1 Nb6 1Bb3 Be7 1Re2 O-O 1Rae1 Nfd5 1Nxd5 cxd5 1c3 Rc8 1Ne5 Nc4 1Bxc4 dxc4 1Nxg6 fxg6 1Rxe6 Rxf4 2Qxf4 Bf6 2Qe4 Kf8 2Qxb7 Rb8 2Qc6 Rxb2 2Re8+ Kf7 2Qe6#',\n",
              " 'e4 c5 Nf3 e6 d4 cxd4 Nxd4 Nf6 Bd3 a6 O-O Bc5 c3 e5 Nf5 O-O Bg5 d6 1Nd2 Bxf5 1exf5 Nbd7 1Ne4 Qc7 1Nxf6+ gxf6 1Bh6 Kh8 1Bxf8 Rxf8 1Qh5 d5 1Rad1 e4 1Bc2 Ne5 1Bb3 Rg8 2Rxd5 Qb6 2Rd2 Nf3+ 2Kh1 Nxd2 2Rd1 Nxb3 2axb3 Qxb3 2Rf1 Qxb2',\n",
              " 'e4 e5 Nf3 Nc6 Bb5 Nge7 Nc3 d6 O-O Bd7 d4 exd4 Nxd4 Nxd4 Bxd7+ Qxd7 Qxd4 Nc6 1Qa4 Ne5 1Qb3 c6 1Bf4 Ng6 1Be3 Be7 1Rad1 O-O 1Ne2 Rfd8 1c4 Nh4 1f4 Qg4 1Ng3 Rd7 1f5 Rad8 2Bc1 b6 2h3 Nf3+ 2Qxf3 Qxf3 2Rxf3 d5 2cxd5 cxd5 2Rfd3 Bc5+',\n",
              " 'f4 d5 d4 Nf6 e3 e6 Nf3 c5 Bd3 Nc6 c3 c4 Bc2 b5 O-O Bd6 a3 Bd7 1Bd2 Ne4 1Bxe4 dxe4 1Ne5 f5 1Be1 Nxe5 1fxe5 Be7 1Bg3 O-O 1Nd2 Bg5 1Qe2 Bc6 1Rf2 a5 1Raf1 Qe7 2Bf4 h6 2g3 Kh7 2Nb1 Rac8 2h4 Bxf4 2exf4 Bd7 2Qe3 b4',\n",
              " 'e4 d5 exd5 Qxd5 Nc3 Qd8 Bb5+ c6 Ba4 b5 Bb3 e6 a3 b4 axb4 Bxb4 Nge2 Bxc3 1Nxc3 Nf6 1d3 h6 1O-O Nd5 1Nxd5 cxd5 1Qf3 Bb7 1c4 Na6 1cxd5 Bxd5 1Bxd5 Qxd5 1Qxd5 exd5 1Re1+ Kd7 2Bf4 f6 2Rxa6 Rhe8 2Rxe8 Rxe8 2g3 Ra8 2Kg2 g5 2Be3 Kc7',\n",
              " 'b3 d5 Bb2 e6 g3 Nf6 Bg2 Be7 d3 b6 Qd2 Bb7 Bxf6 Bxf6 c3 O-O e4 Qd6 1Ne2 Na6 1O-O Rad8 1f3 c5 1f4 dxe4 1Bxe4 Bxe4 1Rd1 Bc6 1Na3 Nc7 1Nc4 Qe7 1d4 cxd4 1Nxd4 Bxd4+ 2cxd4 Nb5 2Qe3 Bd5 2Ne5 Qb4 2Rab1 Nc3 2Rdc1 Nxb1 2Rxb1 Rc8',\n",
              " 'Nf3 g6 g3 Bg7 Bg2 b6 O-O Bb7 Nc3 d6 d3 e6 e4 Nc6 Be3 Qe7 Ne2 f6 1c3 h6 1Qd2 g5 1Rfd1 h5 1Ne1 g4 1f4 h4 1d4 hxg3 1hxg3 f5 1d5 exd5 1exd5 Na5 1Qd3 Nf6 2b4 Ne4 2bxa5 bxa5 2Rab1 Bc8 2Qb5+ Kf7 2Nd4 Nxc3 2Qd3 Nxd1',\n",
              " 'd4 e6 e3 d6 c4 Be7 h3 Nd7 Nf3 Ngf6 d5 exd5 cxd5 Ne5 Nc3 Bf5 Nxe5 dxe5 1e4 Bd7 1Bd3 Bd6 1Bg5 Qe7 1Qf3 h6 1Be3 g5 1Qe2 Bb4 1Qd2 g4 1f3 gxf3 1gxf3 Ba4 1b3 Bd7 2O-O-O Ba3+ 2Kb1 Bb4 2Qc2 c5 2Nb5 Bc8 2d6 Qd7 2Nc7+ Kf8',\n",
              " 'e4 e6 d4 d5 e5 f5 exf6 Nxf6 Nf3 Bd6 h3 O-O Be2 c6 c3 Nbd7 Be3 Ne4 1Nbd2 Qf6 1Nxe4 dxe4 1Bg5 Qg6 1Qd2 exf3 1Bxf3 Nf6 1Qe2 Nd5 1h4 h6 1Bd2 Nf4 1Bxf4 Bxf4 1h5 Qf6 2Qe4 Bd7 2b4 Rae8 2Be2 Bg5 2f3 e5 2Bc4+ Kh8 2Be2 exd4',\n",
              " 'e4 Nf6 e5 Nd5 c4 Nb6 d4 d6 f4 dxe5 fxe5 Nc6 Be3 Bf5 Nf3 e6 Be2 Bg4 1O-O Be7 1h3 Bxf3 1Bxf3 O-O 1Nc3 Qd7 1b3 Rad8 1Ne2 f6 1exf6 Bxf6 1Rb1 Nxd4 1Nxd4 Bxd4 1Bxd4 Qxd4+ 2Qxd4 Rxd4 2Bg4 Re4 2Rfe1 Rxe1+ 2Rxe1 Re8 2Bxe6+ Kf8 2Rf1+ Ke7',\n",
              " 'e4 e5 d4 exd4 Nf3 Bb4+ c3 dxc3 bxc3 Bc5 Bc4 Ne7 Ng5 d5 exd5 Bd6 O-O O-O 1Qh5 h6 1Bd3 Nxd5 1Nxf7 Rxf7 1Qg6 c6 1Bxh6 Bxh2+ 1Kh1 Qh4 1Qh7+ Kf8 1Bxg7+ Rxg7 1Qxh4 Bc7 1Nd2 Nd7 2Ne4 Ne5 2Bc4 Nxc4 2Nf6 Nxf6 2Qxf6+ Rf7 2Qh6+ Kg8 2Rfe1 Bf5',\n",
              " 'e4 c5 d3 c4 Nf3 cxd3 Bxd3 d5 O-O dxe4 Bxe4 Qxd1 Rxd1 Nd7 c3 g6 b4 Bg7 1Bd3 Ngf6 1Bb2 O-O 1Nbd2 Nb6 1Ne4 Nbd5 1Nxf6+ Nxf6 1Rac1 Bg4 1h3 Bxf3 1gxf3 Rfd8 1Be4 Rxd1+ 1Rxd1 Rb8 2Bd3 Rd8 2Be2 Rxd1+ 2Bxd1 Kf8 2Kf1 Ke8 2Ke2 Kd7 2Kd3 e6',\n",
              " 'e4 e6 d4 d5 c4 dxe4 Nc3 f5 f3 exf3 Nxf3 Nf6 Be2 Be7 O-O O-O Bf4 c5 1d5 Nh5 1Be5 Bf6 1d6 Bxe5 1Nxe5 Nf6 1Bf3 Nbd7 1Qe2 Qb6 1Nb5 Nxe5 1Qxe5 Bd7 1Nc7 Rad8 1Rad1 Kf7 2Rfe1 Bc8 2h3 Qb4 2b3 Qa5 2Nxe6 Bxe6 2Qxe6+ Kg6 2Re5 Rfe8',\n",
              " 'e4 e5 Nf3 Nc6 d3 d6 Nc3 Nf6 Nd5 Nxd5 exd5 Ne7 c4 Bd7 Be2 c6 Bg5 cxd5 1O-O dxc4 1dxc4 h6 1Bxe7 Qxe7 1b3 Qf6 1Qd5 Rb8 1Rad1 Bg4 1Qb5+ Kd8 1Qa5+ Kc8 1Qxa7 Be7 1Qe3 Qe6 2h3 Bxf3 2Qxf3 e4 2Qg3 g5 2f4 Rg8 2fxg5 Rxg5 2Qh4 Ra8',\n",
              " 'd4 Nf6 e3 g6 c3 Bg7 Nd2 O-O Ngf3 d6 Be2 Nbd7 h3 Re8 O-O e5 Re1 e4 1Nh2 c5 1Nhf1 d5 1Nb3 c4 1Bd2 cxb3 1axb3 Nf8 1c4 Bd7 1c5 Ne6 1b4 a6 1b3 Nc7 1Qc2 Nb5 2Reb1 Qc7 2Qb2 b6 2g3 h5 2Kh2 Qc6 2Be1 Qe6 2g4 hxg4',\n",
              " 'Nf3 e6 e4 c6 a3 d5 Nc3 Bc5 exd5 cxd5 d4 Bb6 Bb5+ Bd7 a4 a6 Bg5 Nf6 1Bxd7+ Nbxd7 1Ne5 O-O 1Nxd7 Qxd7 1Bxf6 gxf6 1a5 Ba7 1Qg4+ Kh8 1Qf3 Bxd4 1O-O Rac8 1Na4 Rxc2 1Qd3 Rc4 2Nb6 Qb5 2Nxc4 Bxb2 2Rab1 Qxc4 2Qxc4 dxc4 2Rxb2 Rc8 2Rc2 c3',\n",
              " 'e4 c5 d4 cxd4 Qxd4 Nf6 Qd3 Nc6 Nf3 g6 Bg5 Bg7 Nc3 O-O O-O-O d6 Kb1 Bg4 1Be2 Be6 1Rhe1 h6 1Bf4 Nh7 1h4 Qb6 1Be3 Qa5 1a3 Bxc3 1Qxc3 Qxc3 1bxc3 Kg7 1c4 Na5 1Bd4+ f6 2c5 d5 2Bc3 dxe4 2Nd4 Bc4 2Bxa5 Bxe2 2Rxe2 f5 2Ne6+ Kf7',\n",
              " 'e4 c5 f4 d6 Nf3 e6 Bc4 a6 a3 Qc7 d3 Nf6 O-O Be7 Qe1 b5 Ba2 Bb7 1h3 O-O 1Be3 Nbd7 1Nbd2 a5 1Rc1 b4 1d4 Nxe4 1Nxe4 Bxe4 1dxc5 dxc5 1a4 Bxf3 1Rxf3 c4 1Bd4 Bc5 2Bxc5 Nxc5 2Bxc4 Nxa4 2b3 Nc3 2Qe5 Qxe5 2fxe5 a4 2bxa4 Rxa4',\n",
              " 'e4 d5 exd5 Qxd5 Nc3 Qd7 Nf3 a6 d4 c5 d5 Nh6 Ne5 Qd6 Qe2 b6 Bxh6 gxh6 1Qh5 Qf6 1Bd3 Bb7 1Ne4 Qg7 1g3 Bxd5 1Qf5 e6 1Qf6 Qxf6 1Nxf6+ Ke7 1Be4 Kxf6 1Bxd5 exd5 1Ng4+ Kg5 2Ne5 Kf6 2Ng4+ Ke6 2O-O Bg7 2c3 Kf5 2h3 d4 2cxd4 cxd4',\n",
              " 'e4 d5 exd5 Qxd5 Nc3 Qe6+ Be2 a6 d3 h6 Be3 b6 Nh3 Bb7 O-O g5 Bg4 Qg6 1f4 h5 1f5 Qg7 1Be2 f6 1Nf2 g4 1Nfe4 Nd7 1Bf4 O-O-O 1g3 Nh6 1Bxh6 Rxh6 1Qd2 Ne5 1Qf4 h4 2gxh4 Rxh4 2Ng3 Qh7 2Rf2 Bh6 2Qb4 Be3 2Rf1 Rxh2 2Bxg4 Rg2#',\n",
              " 'e4 e6 d4 d5 exd5 exd5 Nf3 Be6 Be2 c5 dxc5 Bxc5 O-O Qb6 c3 Bd6 Nd4 Nc6 1Bb5 O-O-O 1Bxc6 bxc6 1Nxe6 fxe6 1Qg4 Kd7 1Qxg7+ Ne7 1Qh6 Rdg8 1Nd2 Rg6 1Qe3 Bc5 1Qe2 Rhg8 1g3 Nf5 2Nf3 Bd6 2Kh1 h5 2Be3 c5 2Rae1 h4 2Nxh4 Nxh4 2gxh4 Qc6',\n",
              " 'f4 d5 Nf3 d4 d3 c5 e3 Nc6 exd4 Nxd4 Nxd4 cxd4 b3 g6 Bb2 Bg7 Nd2 f6 1Nf3 e5 1fxe5 fxe5 1Qe2 Qc7 1g3 Ne7 1Bg2 Nf5 1O-O Ne3 1Rfe1 Nxg2 1Qxg2 Bg4 1Qf2 O-O 1Qg2 Bxf3 2Qh3 g5 2g4 Bd5 2Rf1 Rf6 2Rxf6 Bxf6 2Qh6 Bg7 2Qxg5 Rf8',\n",
              " 'e4 e6 Nf3 d5 exd5 exd5 d4 Bd6 Qe2+ Ne7 Bg5 f6 Bh4 Nc6 Nc3 Bb4 O-O-O Bxc3 1bxc3 Bg4 1h3 Bh5 1g4 Bg6 1g5 fxg5 1Bxg5 h6 1Bxe7 Nxe7 1Re1 Be4 1Qb5+ c6 1Qxb7 O-O 1Bg2 Ng6 2Qxc6 Bxf3 2Bxf3 Qg5+ 2Re3 Rxf3 2Qe6+ Kh8 2Re1 Rxe3 2Rxe3 Qg1+',\n",
              " 'd4 b6 c4 Bb7 Nc3 g6 e3 Nf6 Qb3 Bg7 c5 O-O Bc4 a6 cxb6 cxb6 Nd5 e6 1Nxb6 Bxg2 1Nxa8 Bxh1 1Bd2 Bxa8 1O-O-O Nc6 1Bxa6 Qe7 1Nf3 Ne4 1d5 exd5 1Qxd5 Nxf2 1Rg1 Nb4 1Qc4 Nxa6 2Bc3 Bxc3 2Qxc3 Bxf3 2Rf1 Bb7 2Rxf2 Rc8 2Qxc8+ Bxc8 2Rc2 Qxe3+',\n",
              " 'e4 d6 Nf3 e5 Bc4 Nf6 d4 Be6 Bxe6 fxe6 dxe5 Qe7 exf6 Qxf6 O-O e5 Bg5 Qg6 1Nc3 Nd7 1Be3 Be7 1Nd5 Kd8 1Nxe7 Kxe7 1c3 Qf6 1Bg5 Qxg5 1Nxg5 Kd8 1Nf3 Rf8 1b3 Nf6 1c4 Ng4 2Qe2 Nf6 2Ng5 Kd7 2Qd3 h6 2Nh3 Ng4 2f3 Nf6 2Rad1 Rf7',\n",
              " 'b3 d5 Bb2 c6 e3 Nd7 Nf3 e6 d4 Ngf6 Be2 Bd6 O-O Qe7 h3 e5 dxe5 Nxe5 1Nxe5 Bxe5 1Bxe5 Qxe5 1Nd2 O-O 1Nf3 Qd6 1c4 Rd8 1Qc2 dxc4 1Bxc4 Be6 1Rad1 Qe7 1Ne5 Bxc4 1Nxc4 Rxd1 2Rxd1 Rd8 2Re1 Qd7 2Ne5 Qd2 2Qb1 Kf8 2Nf3 Qd3 2Qa1 Ne4',\n",
              " 'd4 b6 Nf3 Bb7 e3 g6 Bd3 Bg7 c4 d6 Nc3 Nd7 O-O e6 e4 Qe7 d5 e5 1Re1 h5 1h3 Bh6 1Nh2 g5 1b4 g4 1hxg4 hxg4 1Bxh6 Nxh6 1Nxg4 Nxg4 1Qxg4 O-O-O 1c5 Rdg8 1Qf3 dxc5 2bxc5 Nxc5 2Bb5 Qh4 2Kf1 a6 2Bc4 b5 2Bb3 Kb8 2Ke2 Bc8',\n",
              " 'e3 b6 d4 Bb7 f3 e6 Bd3 Qe7 Be4 Nc6 Bxc6 dxc6 c4 O-O-O Nc3 f6 Qe2 g5 1Nh3 Qf7 1Nf2 Bg7 1O-O Ne7 1e4 Rhe8 1Re1 e5 1dxe5 fxe5 1Be3 h6 1Ng4 Ng6 1Rf1 Nf4 1Bxf4 exf4 2Nf2 Qg8 2g3 fxg3 2hxg3 Qh8 2Ng4 Bd4+ 2Nf2 c5 2Nd5 Bxd5',\n",
              " 'e4 c5 Bc4 e6 d3 a6 Nf3 Nc6 a3 Qc7 c3 Nf6 Bg5 Be7 O-O h5 Nbd2 Ng4 1Bxe7 Kxe7 1h3 b6 1hxg4 hxg4 1Qe2 Bb7 1g3 gxf3 1Qxf3 Ne5 1Qf4 f6 1Nf3 Nxf3+ 1Qxf3 f5 1Kg2 Raf8 2Qe3 fxe4 2dxe4 Qe5 2f3 b5 2Bd3 c4 2Bc2 Rf6 2Rh1 Rhf8',\n",
              " 'b3 d5 Bb2 e5 e3 f5 Be2 Nf6 Nf3 Bd6 Nxe5 Bxe5 Bxe5 Qe7 Bxf6 Qxf6 c3 O-O 1Qc2 c6 1Na3 Nd7 1O-O-O Ne5 1h4 Be6 1h5 Rad8 1h6 g6 1Nb1 c5 1d4 cxd4 1exd4 Nc6 1Nd2 Bc8 2Nf3 Rde8 2Bd3 a5 2Ne5 Nxe5 2dxe5 Rxe5 2Rde1 Rfe8 2Rxe5 Rxe5',\n",
              " 'e4 e6 d4 d5 e5 Ne7 Bd3 c5 c3 Nd7 Na3 Nc6 Nf3 cxd4 cxd4 f6 exf6 Nxf6 1O-O Bd6 1Nb5 Bb8 1Bg5 O-O 1Re1 a6 1Nc3 Ne7 1Ne5 Nf5 1Bxf5 exf5 1Qb3 Qd6 1Bxf6 gxf6 1Nf3 Be6 2Qxb7 Ra7 2Qb3 Rg7 2g3 f4 2Rxe6 Qxe6 2Qxd5 Qxd5 2Nxd5 fxg3',\n",
              " 'e4 c6 Bc4 e6 d3 Bc5 Nc3 Qf6 Qf3 Qd4 Nge2 Qd6 Nf4 Nf6 h4 O-O h5 h6 1g4 b5 1Bb3 Qd4 1Nfe2 Qxf2+ 1Qxf2 Bxf2+ 1Kxf2 Nxg4+ 1Kg3 Ne5 1Rg1 Kh8 1Bf4 d6 1Kf2 Nbd7 1Rg3 Nf6 2Rh1 Nfg4+ 2Ke1 a5 2d4 Nc4 2Bxc4 bxc4 2Rxg4 e5 2Rg2 exf4',\n",
              " 'e4 c6 Bc4 d5 exd5 cxd5 Bb3 Nf6 Nf3 Bg4 O-O e6 d3 Be7 h3 Bxf3 Qxf3 O-O 1Re1 Nbd7 1Bf4 Nb6 1Bg3 Bd6 1Bxd6 Qxd6 1Nc3 Rfc8 1Nb5 Qd7 1a4 a6 1Nd4 Rc7 1a5 Nc8 1Ba4 Qd6 2b3 b6 2Bc6 Rxc6 2Nxc6 Qxc6 2c4 Ne7 2Rec1 bxa5 2cxd5 Qxd5',\n",
              " 'd4 Nf6 c4 g6 e3 d6 Nf3 Bg7 Nbd2 O-O Be2 Nbd7 O-O Re8 a3 e5 dxe5 Nxe5 1Nxe5 dxe5 1b4 Qe7 1Bb2 b6 1Rc1 Bb7 1Bf3 Rad8 1Bxb7 Nd7 1Bc6 f5 1Qc2 Rf8 1Bxd7 Rxd7 1Rfd1 Rfd8 2Nf3 Qe6 2Rxd7 Rxd7 2c5 Re7 2cxb6 e4 2Nd4 Bxd4 2Bxd4 axb6',\n",
              " 'd4 c5 d5 e6 dxe6 fxe6 Bf4 Nc6 Nf3 Nf6 h3 Be7 e3 d5 c3 Bd7 Nbd2 Nh5 1Bh2 O-O 1Be2 Nf6 1O-O Qb6 1b3 Nd8 1Rc1 Bd6 1Bxd6 Qxd6 1a4 e5 1Nb1 e4 1Ne1 Be6 1c4 d4 2exd4 cxd4 2c5 Qd5 2Bc4 Qe5 2Bxe6+ Nxe6 2Nc2 d3 2Ne3 Rad8',\n",
              " 'd4 Nf6 c4 e6 Nc3 c6 e4 d5 e5 Ng8 cxd5 cxd5 f4 Bb4 Nf3 Ne7 Bd3 a6 1O-O h6 1a3 Ba5 1b4 Bb6 1a4 Bd7 1b5 a5 1Ba3 O-O 1Rc1 Re8 1Bb1 Kh8 1Bxe7 Qxe7 1Qd3 g6 2g4 Qf8 2h4 Qg7 2Kh2 Rf8 2f5 exf5 2gxf5 Bxf5 2Qe3 Bxb1',\n",
              " 'e4 e5 Nf3 d6 Bc4 h6 d4 exd4 e5 dxe5 Nxe5 Qe7 Bxf7+ Kd8 f4 Nf6 O-O Bd7 1Qxd4 Nc6 1Nxc6+ bxc6 1Bb3 Qc5 1Be3 Qxd4 1Bxd4 Nd5 1Nc3 Nxc3 1Bxc3 Bd6 1f5 Rf8 1g4 c5 1Rad1 Kc8 2Bd5 Rb8 2Be6 Bxe6 2fxe6 c4 2Bxg7 Rxf1+ 2Rxf1 Kb7 2Bc3 Re8',\n",
              " 'd4 d5 c4 e6 Nc3 a6 Nf3 dxc4 a4 Bb4 e3 Bxc3+ bxc3 Qd5 Qe2 b5 axb5 Qxb5 1Qxc4 Qxc4 1Bxc4 Bb7 1O-O Bxf3 1gxf3 Ne7 1Ba3 Nbc6 1e4 h6 1d5 exd5 1exd5 Ne5 1Bb3 Nxf3+ 1Kg2 Ne5 2Rfe1 N5g6 2Ba4+ Kd8 2c4 Rb8 2Rad1 Rb6 2c5 Rb8 2d6 cxd6',\n",
              " 'e4 e5 Nf3 Qf6 Nc3 Bb4 Nd5 Qd6 c3 Bc5 d4 Bb6 Nxb6 axb6 dxe5 Qe7 Bg5 f6 1exf6 Qxe4+ 1Be2 gxf6 1Bh4 d6 1O-O Kf7 1b3 Be6 1Nd4 Qxh4 1Nxe6 Kxe6 1Bc4+ Kd7 1Re1 Nc6 1b4 Ne5 2Bb3 Nh6 2Re2 Qg4 2Qc2 Nf3+ 2Kh1 Ne5 2Rae1 Rae8 2f3 Qf4',\n",
              " 'Nf3 Nf6 d4 d5 c3 Bg4 g3 Bxf3 exf3 e6 Bg2 c6 O-O Nbd7 f4 Be7 Re1 O-O 1Nd2 Rc8 1Nf3 c5 1Ne5 cxd4 1cxd4 Qb6 1Rb1 Bb4 1Re3 a5 1a3 Be7 1Rb3 Qa6 1Bf1 Qa7 1Be3 Rc7 2Rb5 Rfc8 2Qa4 b6 2b4 axb4 2Qxa7 Rxa7 2axb4 Ne4 2Nxd7 Rxd7',\n",
              " 'Nf3 Nc6 c3 e5 e4 Nf6 d4 exd4 e5 Ng4 Nxd4 Ngxe5 Qe2 Be7 Nxc6 Nxc6 Be3 O-O 1g3 Re8 1Bg2 Bc5 1O-O Bxe3 1fxe3 d6 1Bd5 Ne5 1Nd2 c6 1Be4 h6 1Rf4 d5 1Bc2 g5 1Rf2 Bh3 2Qh5 f5 2Qxh3 Ng4 2Rxf5 Nxe3 2Qxh6 Nxf5 2Bxf5 Qb6+ 2Kf1 Re7',\n",
              " 'e4 d5 exd5 Qxd5 c4 Qa5 Bd3 Nf6 Nf3 Bg4 h3 Bh5 g4 Bg6 Bxg6 hxg6 Nc3 Nbd7 1Qe2 e6 1O-O Rxh3 1Kg2 Rh7 1d3 Nxg4 1Bd2 c6 1Ne4 Qc7 1Rh1 Rxh1 1Rxh1 O-O-O 1Rh8 Be7 1Rxd8+ Qxd8 2Nfg5 Qh8 2Qxg4 Ne5 2Nxf7 Nxf7 2Qxe6+ Kd8 2Qxf7 Qh4 2Qg8+ Kd7',\n",
              " 'd4 d5 f4 Bf5 e3 Nf6 Nf3 e6 Bd3 Ne4 c3 Be7 O-O Nd7 Ne5 Nxe5 fxe5 h5 1Qc2 h4 1Nd2 h3 1Nxe4 hxg2 1Rf2 dxe4 1Bxe4 Bxe4 1Qxe4 Qd5 1Qxd5 exd5 1Rxg2 g6 1Bd2 O-O-O 1Re1 c5 2b4 cxb4 2cxb4 Kb8 2a4 Rc8 2b5 Rc2 2Bc1 Rc4 2Bb2 Rhc8',\n",
              " 'd4 d5 e3 c6 Bd3 Nf6 Nd2 Bg4 f3 Bh5 Ne2 Bg6 O-O Bxd3 cxd3 e6 e4 Nbd7 1e5 Ng8 1Nf4 Ne7 1g4 Nc8 1Nh5 Ncb6 1f4 Qh4 1Qf3 g6 1Nf6+ Nxf6 1exf6 Qxf6 1Nb3 h5 1g5 Qf5 2h4 O-O-O 2Nc5 Bxc5 2dxc5 Nd7 2d4 f6 2Be3 fxg5 2fxg5 Qc2',\n",
              " 'b3 Nf6 Bb2 g6 e4 Bg7 d3 O-O Nf3 d5 e5 Nfd7 d4 c5 h4 Nc6 h5 cxd4 1Nxd4 Ncxe5 1hxg6 hxg6 1c3 Nc5 1f4 Ng4 1Nd2 e5 1fxe5 Bxe5 1Qe2 Bg3+ 1Kd1 Re8 1Qb5 Nf2+ 1Kc2 Nxh1 2Qxc5 Bd6 2Qxd5 Be6 2Qf3 Bc5 2Re1 Bxd4 2cxd4 Rc8+ 2Kb1 Bf5+',\n",
              " 'e4 d5 d3 dxe4 dxe4 Qxd1+ Kxd1 Nf6 Bd3 Ng4 Nf3 Nxf2+ Ke2 Nxh1 Be3 e6 Nbd2 Bd6 1Rg1 Nc6 1Rxh1 Ne5 1Nxe5 Bxe5 1c3 O-O 1Nc4 Bf6 1e5 Be7 1Bf4 b5 1Ne3 a6 1a4 c6 1axb5 cxb5 2b4 Bb7 2Rg1 h6 2Bg3 g5 2Ng4 h5 2Nh6+ Kg7 2Nxf7 h4',\n",
              " 'd4 Nf6 c4 d5 e3 Bg4 Nf3 e6 h3 Bh5 Be2 Nc6 O-O Be7 Bd2 h6 a3 O-O 1Nc3 Bxf3 1Bxf3 e5 1cxd5 Nb8 1dxe5 Nh7 1Be4 Re8 1Nb5 Ng5 1Qc2 Nxe4 1Nxc7 Qc8 1d6 Bd8 1d7 Qxc7 2Qxc7 Nxd7 2Qxd7 Re7 2Qd3 Rxe5 2Bc3 Re6 2f3 Nf6 2Bxf6 Bxf6',\n",
              " 'e4 c5 Nf3 Nc6 d4 cxd4 Nxd4 e5 Nb5 d6 N5c3 f5 Bb5 f4 O-O Nf6 Nd5 Nxe4 1Qe2 Bf5 1Nxf4 exf4 1Nc3 d5 1Rd1 Be7 1Rxd5 Qb6 1Rxf5 O-O-O 1Qxe4 Rd4 1Qe6+ Kb8 1Bxc6 Rhd8 1Bxf4+ Ka8 2Qxe7 Qxb2 2Bxb7+ Qxb7 2Qxb7+ Kxb7 2Rb1+ Ka8 2h3 g6 2Rf7 Rc8',\n",
              " 'd4 b6 c4 Bb7 e3 e6 Nf3 Nc6 Bd3 Qe7 O-O O-O-O e4 f5 d5 exd5 cxd5 Nb4 1e5 Nxd3 1Qxd3 h6 1Re1 g5 1d6 cxd6 1exd6 Qxd6 1Qxd6 Bxd6 1Be3 Nf6 1Nd4 f4 1Nf5 Bb8 1Bd4 Rhf8 2Bxf6 Rxf6 2Nd4 Bc6 2Nxc6 dxc6 2Na3 Kb7 2Rac1 Bd6 2Nc4 Bc5',\n",
              " 'd4 d5 c4 c6 cxd5 cxd5 Nc3 Nc6 Bf4 Bf5 a3 e6 e3 Nf6 Qb3 Qb6 Qxb6 axb6 1Nb5 Rc8 1Nc7+ Kd7 1Nb5 Ne4 1f3 Nd6 1Nc3 Bg6 1Nh3 Be7 1Be2 Na5 1O-O Nac4 1Bxd6 Bxd6 1Bxc4 Rxc4 2Rfd1 Rhc8 2Nf2 Bc2 2Rd2 Bb3 2g3 f5 2Kg2 g6 2Re1 Bxa3',\n",
              " 'e4 c5 Nc3 d6 Nf3 Nc6 Bc4 Nf6 d3 g6 Be3 Ng4 h3 Nxe3 fxe3 Bg7 O-O O-O 1Ng5 e6 1h4 Na5 1Bb3 Nxb3 1axb3 e5 1Nd5 h6 1Nf3 Bg4 1Qe1 Bxf3 1Rxf3 b5 1Qf2 a5 1Rf1 Ra7 2Nf6+ Bxf6 2Rxf6 Kg7 2h5 g5 2Qf5 Qe8 2Rf3 Rd7 2Rg3 Rg8',\n",
              " 'd4 d5 c4 dxc4 e3 b5 a4 c6 b3 Qa5+ Bd2 b4 Bxc4 Ba6 Qe2 Bxc4 Qxc4 Na6 1Nf3 Qb6 1a5 Qb5 1Qxb5 cxb5 1O-O f6 1Rc1 e6 1Rc6 Nb8 1Rc8+ Kf7 1Rc7+ Ne7 1Bxb4 a6 1Nbd2 Nc6 2Bxe7 Nxe7 2Rac1 g5 2Ne4 Kg6 2Nc5 Nd5 2Rc6 Bxc5 2R1xc5 Rhe8',\n",
              " 'b3 g6 Bb2 Nf6 Nf3 Bg7 Nc3 d5 e3 c6 Be2 Nbd7 O-O e5 d4 e4 Nd2 Nh5 1Bxh5 gxh5 1Qxh5 Qf6 1f3 exf3 1Rxf3 Qg6 1Qxg6 hxg6 1Ne2 Nf6 1Ng3 Ng4 1h3 Nf6 1e4 dxe4 1Ngxe4 Nxe4 2Nxe4 Bf5 2Ng3 Bxc2 2Re1+ Kd7 2Ne4 Rhf8 2Nc5+ Kc7 2Re7+ Kb6',\n",
              " 'e4 c5 d4 cxd4 c3 d3 Bxd3 e6 Bc4 a6 a4 Nc6 Nf3 Qc7 O-O h6 Qe2 Nf6 1h3 b6 1e5 Ng8 1Nbd2 Nge7 1Re1 Ng6 1Nf1 Bb7 1h4 Na5 1Ba2 Rc8 1h5 Ne7 1Ng3 Nc4 1Bf4 Nd5 2Bd2 Nxb2 2Rec1 Nc4 2Rab1 Be7 2Nd4 O-O 2Qg4 Nxe5 2Qe2 Nc4',\n",
              " 'e4 e5 f4 d5 exd5 e4 d3 Nf6 dxe4 Nxe4 Nf3 Bc5 Qe2 Qe7 Nc3 Nxc3 bxc3 O-O 1Qxe7 Bxe7 1Bd3 Bc5 1Nd4 Re8+ 1Kf2 c6 1dxc6 Nxc6 1Be3 Bd7 1Rhe1 Rad8 1Nxc6 Bxe3+ 1Rxe3 Bxc6 1Rae1 Rxe3 2Rxe3 Kf8 2g3 h6 2Re5 Rd5 2Rxd5 Bxd5 2Ke3 Bxa2 2c4 Ke7',\n",
              " 'g3 d5 Bg2 Nf6 b3 e5 Bb2 Bd6 d3 O-O Nd2 e4 e3 exd3 cxd3 c6 Qe2 Bg4 1f3 Be6 1h4 Nbd7 1Bh3 Be5 1d4 Bxh3 1Nxh3 Bd6 1f4 Ne4 1Nxe4 dxe4 1g4 f5 1gxf5 Rxf5 1Ng5 Bb4+ 2Kd1 Nb6 2Ne6 Qe7 2Ng5 h6 2Qg4 Rff8 2Kc2 a5 2Rag1 c5',\n",
              " 'f4 e5 Nf3 e4 Nd4 f5 Nb3 d6 e3 Be6 d3 Bxb3 axb3 d5 Nc3 d4 exd4 Qxd4 1dxe4 Qxd1+ 1Nxd1 fxe4 1Nc3 e3 1Bxe3 Nc6 1O-O-O Bd6 1Bb5 O-O-O 1Bxc6 bxc6 1Bxa7 Nf6 1Bd4 Nd5 1Bxg7 Nxc3 2Bxc3 Rhe8 2g3 h5 2Rhe1 Rf8 2Re6 Be7 2Rde1 Bc5 2b4 Bb6',\n",
              " 'e4 e6 d4 d5 Nc3 Nf6 Bg5 Be7 e5 Nfd7 h4 O-O Qd2 c5 Bxe7 Qxe7 f4 cxd4 1Nb5 Nc6 1Nf3 a6 1Nbxd4 Nxd4 1Qxd4 Qc5 1O-O-O b5 1Qxc5 Nxc5 1Nd4 Ne4 1Re1 Bb7 1Rh3 h6 1Rhe3 b4 2g3 a5 2Bg2 Nc5 2c3 Rfc8 2Kb1 b3 2a3 a4 2Rc1 Ba6',\n",
              " 'c4 e5 Nc3 Bb4 e4 Bxc3 bxc3 d6 Rb1 c5 h3 b6 d3 Bb7 h4 Nd7 Bg5 f6 1Be3 Ne7 1g4 Qc7 1a4 a5 1Nh3 h6 1Bg2 g5 1h5 Bc6 1f3 Nf8 1O-O Qd7 1Rxb6 Bxa4 1Rxd6 Bxd1 2Rxd7 Kxd7 2Rxd1 Ne6 2Rb1 Rhb8 2Rb5 Rxb5 2cxb5 a4 2c4 Nd4',\n",
              " 'c4 g6 d4 d6 Bf4 Bg7 e3 Nf6 h3 O-O Be2 c6 a3 Bd7 b4 a6 Nf3 Ne4 1Nbd2 Nc3 1Qc2 Nxe2 1Kxe2 Bf5 1Qc1 e5 1Bh2 exd4 1Nxd4 c5 1Nxf5 Bxa1 1Nh6+ Kh8 1Nxf7+ Rxf7 1Qxa1+ Kg8 2Ne4 Nd7 2Nxd6 Nf6 2Nxf7 Kxf7 2Rd1 Qe7 2Qc3 Rd8 2Rxd8 Qxd8',\n",
              " 'd4 b6 e4 Bb7 Bd3 e6 d5 Bb4+ c3 Be7 Nd2 c6 dxc6 Bxc6 Ndf3 Bb7 Ne2 Nc6 1O-O Na5 1Nfd4 Nf6 1Be3 Nc6 1Nxc6 Bxc6 1b4 Bb7 1Qc2 h5 1e5 Nd5 1Ng3 Nxe3 1fxe3 h4 1Ne4 h3 2g3 f6 2Qf2 Rf8 2Nd6+ Bxd6 2exd6 f5 2e4 g6 2exf5 gxf5',\n",
              " 'd4 d5 c4 e6 Nc3 Nf6 Nf3 Bb4 Bg5 O-O e3 c5 cxd5 exd5 Be2 Re8 O-O h6 1Bh4 Bxc3 1bxc3 cxd4 1cxd4 Be6 1Ne5 Nbd7 1f4 Qa5 1Qb3 Nxe5 1fxe5 Ne4 1Be1 Qb6 1Qxb6 axb6 1Bb4 Ra4 2a3 Rc8 2Rac1 Raa8 2Bd3 Rab8 2a4 Ra8 2Bb5 Rab8 2h3 Ra8',\n",
              " 'e4 g6 Nf3 Bg7 Nc3 e6 d4 Ne7 Be3 O-O Qd2 d5 Bh6 dxe4 Bxg7 Kxg7 Nxe4 Nf5 1h4 h5 1O-O-O Nc6 1c3 Nd6 1Nxd6 cxd6 1Rg1 f5 1Ng5 e5 1dxe5 dxe5 1Qc2 Qe7 1f3 Be6 1b3 Bg8 2Be2 Rad8 2g4 hxg4 2fxg4 f4 2Bf3 Rxd1+ 2Rxd1 Nd8 2Be4 Bf7',\n",
              " 'e4 d5 exd5 e6 dxe6 Bxe6 Nf3 Bd6 Be2 Nc6 O-O Nge7 d4 O-O Nc3 Re8 Bb5 a6 1Bxc6 bxc6 1Ng5 Bf5 1Nf3 Nd5 1Nxd5 cxd5 1c3 Bg4 1h3 Bh5 1Qd3 Re4 1Ng5 Bg6 1Nxe4 Bxe4 1Qe3 Qh4 2Qg5 Be7 2Qxh4 Bxh4 2g3 Bf6 2f3 Bd3 2Re1 Kf8 2h4 Rb8',\n",
              " 'e4 e5 a3 d6 Nc3 Nc6 Nf3 Bg4 h3 Bxf3 Qxf3 Nd4 Qd1 Nf6 Bc4 a6 O-O b5 1Ba2 Be7 1d3 O-O 1Nd5 Nxd5 1Bxd5 Rb8 1Be3 c6 1Ba2 c5 1Bd5 b4 1a4 b3 1c3 Nc2 1Rb1 Bg5 2Bxg5 Qxg5 2Qg4 Qxg4 2hxg4 h6 2f4 exf4 2Rxf4 Rbd8 2Bxb3 Ne3',\n",
              " 'e4 c5 e5 e6 f4 Ne7 Ne2 a6 Rg1 b5 a4 b4 c3 Nd5 cxb4 Nxb4 d3 d6 1Be3 dxe5 1fxe5 Bb7 1a5 Qxd3 1Qa4+ Bc6 1Nf4 Qxe3+ 1Ne2 Bxa4 1Rxa4 Be7 1g3 O-O 1h4 Nc2+ 1Kd1 Nd4 2Nbc3 Nxe2 2Nxe2 Qb3+ 2Kc1 Qxa4 2Bg2 Qa1+ 2Kc2 Qxg1 2Nxg1 Ra7',\n",
              " 'e4 e5 Qh5 Nf6 Qxe5+ Qe7 Qxe7+ Bxe7 Nc3 O-O e5 Ng4 Nd5 Na6 Nxe7+ Kh8 Nxc8 Raxc8 1Nf3 Rfe8 1Bxa6 bxa6 1b3 Nxe5 1Nxe5 Rxe5+ 1Kf1 Rce8 1Bb2 Re2 1Bc3 d5 1Rd1 c5 1g3 d4 1Bb2 h5 2h4 g6 2Kg2 R2e4 2a3 Kh7 2a4 Kh6 2d3 Re2 2Rc1 f6',\n",
              " 'e4 e5 f4 exf4 Nf3 g5 h4 g4 Ne5 h5 Bc4 Nh6 d4 d6 Nd3 Qf6 Nxf4 Nc6 1c3 Be6 1d5 Ne5 1Nxe6 fxe6 1Bd3 Nxd3+ 1Qxd3 Qe5 1O-O O-O-O 1g3 exd5 1exd5 Bg7 1Bf4 Qe8 1Nd2 Be5 2Rae1 Nf7 2Qf5+ Kb8 2Bxe5 Nxe5 2b3 Qb5 2c4 Qb6+ 2Kh2 a5',\n",
              " 'f4 d5 Nf3 c5 e3 Nc6 Bb5 Bd7 Bxc6 Bxc6 O-O g6 d3 e6 Nbd2 Bd6 b3 Nf6 1Bb2 Qe7 1Ne5 Bxe5 1Bxe5 Rg8 1Nf3 Nd7 1Bb2 f6 1e4 O-O-O 1e5 f5 1a4 h6 1Ba3 g5 1a5 a6 2fxg5 hxg5 2Qe1 g4 2Nd2 Rh8 2Qg3 Qh7 2c4 d4 2b4 Qe7',\n",
              " 'e4 c5 Nf3 d6 a3 a6 b4 b6 bxc5 bxc5 Bd3 Nc6 Bb2 e5 O-O Nf6 Nc3 Be7 1Re1 Bb7 1Ne2 Nd4 1Ng3 g6 1c3 Nxf3+ 1Qxf3 Rc8 1Bc2 O-O 1d3 Rb8 1Bc1 Bc8 1Bh6 Re8 1h3 Qa5 2c4 Rb2 2Rec1 Kh8 2Bg5 Kg7 2Nf1 Qc7 2Ne3 Bb7 2Nd5 Nxd5',\n",
              " 'Nf3 g6 c4 Bg7 Nc3 b6 e4 Bb7 d4 d6 Be2 e6 O-O Ne7 Be3 Qd7 Qc2 f6 1Rad1 h6 1d5 e5 1b4 g5 1Nd2 h5 1c5 bxc5 1bxc5 Bc8 1c6 Qd8 1Rb1 O-O 1Na4 f5 1Bxh5 fxe4 2Bxg5 Nxd5 2Bxd8 Rxd8 2Nc3 Nf6 2Be2 Nxc6 2Ncxe4 Nd4 2Nxf6+ Bxf6',\n",
              " 'd4 b5 Nf3 Bb7 e3 a6 Bd3 g6 Nbd2 Bg7 c3 Nf6 e4 O-O e5 Ne8 h4 d6 1exd6 exd6 1h5 Qe7+ 1Be2 Nf6 1hxg6 fxg6 1Nf1 Bxf3 1gxf3 Nc6 1Bg5 Rae8 1Ne3 Qe6 1Qc2 b4 1Bxf6 Qxf6 2Qb3+ Kh8 2O-O-O bxc3 2bxc3 Rb8 2Qc2 Qe6 2d5 Qf6 2dxc6 Rb6',\n",
              " 'd4 b6 Bf4 Ba6 Nf3 Nf6 Nbd2 e6 e3 Bxf1 Nxf1 Nd5 Bg3 Be7 c3 O-O Qc2 f5 1N1d2 d6 1O-O-O a5 1e4 fxe4 1Nxe4 Na6 1h4 c5 1Neg5 Bxg5+ 1Nxg5 g6 1Nxe6 Qf6 1Nxf8 Rxf8 1h5 Nf4 2hxg6 hxg6 2Qb3+ Rf7 2Qxb6 Nc7 2Qb8+ Rf8 2Qxc7 cxd4 2Qh7#',\n",
              " 'f4 d5 d4 e6 e3 c5 Nf3 Nc6 c3 g6 Bd3 c4 Bc2 Bg7 Bd2 Nge7 O-O f6 1Be1 Qc7 1g4 b5 1a3 O-O 1Bg3 Qd7 1Qe2 a5 1h4 Bb7 1Kg2 b4 1axb4 axb4 1Rxa8 Rxa8 1Nbd2 b3 2Bb1 Ra7 2e4 Nd8 2e5 f5 2gxf5 Nxf5 2Rh1 Qa4 2h5 Nxg3',\n",
              " 'e4 g6 d4 Bg7 Be3 d6 Nf3 Bg4 c3 Nf6 Bd3 Nbd7 h3 Bxf3 Qxf3 O-O Nd2 e5 1d5 b6 1Ba6 Nc5 1Bxc5 bxc5 1Nc4 Qd7 1Na5 Rab8 1Nc6 Rb6 1Bc4 Rxb2 1Bb3 Nh5 1c4 Nf4 1O-O f5 2Kh1 fxe4 2Qc3 Nd3 2Kg1 Rbxf2 2Rxf2 Nxf2 2Qg3 Nd3 2Nxa7 Qf5',\n",
              " 'e4 c5 f4 Nc6 Nf3 e5 f5 g6 g4 Nd4 Nxd4 Qh4+ Ke2 Qxg4+ Nf3 Qxe4+ Kf2 Qxf5 1Kg2 e4 1Qe2 Ne7 1Nc3 exf3+ 1Qxf3 Qg5+ 1Kf2 Bg7 1d3 Bd4+ 1Be3 Qh4+ 1Ke2 O-O 1Kd2 Nf5 1Bxd4 Nxd4 2Qe3 d6 2Re1 Bf5 2Ne4 d5 2Nxc5 Rac8 2b4 b6 2c3 bxc5',\n",
              " 'd4 d5 c4 dxc4 e3 c6 Bxc4 Bf5 Bd3 Be6 Nc3 Nf6 Nf3 g6 e4 Bg7 e5 Nd5 1O-O Nd7 1Nxd5 Bxd5 1Re1 Nb6 1b3 e6 1Qc2 Qd7 1Ba3 Bxf3 1gxf3 Qd8 1Bc5 Nd5 1a3 Qg5+ 1Kf1 Qf4 2Be4 Qxh2 2Bxd5 exd5 2Ke2 O-O-O 2Qd2 Bh6 2Qd3 Rhe8 2Rh1 Qf4',\n",
              " 'e3 b6 d4 Bb7 Be2 e6 Bf3 Qe7 Bxb7 Nc6 Bxa8 g6 Bxc6 dxc6 Nf3 Bg7 O-O Nf6 1Re1 O-O 1e4 Rd8 1e5 Nd5 1c4 Nb4 1Nc3 c5 1a3 Nc6 1d5 exd5 1cxd5 Nd4 1Nxd4 cxd4 1Qxd4 Qd7 2Bf4 Qc8 2Qe3 Re8 2Bh6 Bh8 2Qf4 Qd7 2Bg5 c6 2Bf6 cxd5',\n",
              " 'd4 c5 dxc5 e6 f3 Bxc5 e4 d5 exd5 Qxd5 Qe2 Bb4+ c3 Bc5 Nd2 Nc6 Nc4 b5 1Ne3 Qd7 1Ng4 a6 1Be3 Bxe3 1Qxe3 Nf6 1Rd1 Qc7 1Nxf6+ gxf6 1c4 Bd7 1cxb5 axb5 1Bxb5 O-O 1Bxc6 Bxc6 2Nh3 Qa5+ 2Qd2 Qxd2+ 2Rxd2 Rad8 2Rc2 Bd5 2b3 Ra8 2O-O Ra3',\n",
              " 'd4 b6 Nf3 Bb7 e3 g6 Bc4 Bg7 Ne5 e6 Nf3 Qe7 O-O d6 b3 Nd7 Bb2 h5 1Bd3 g5 1Nbd2 g4 1Ne1 Nh6 1e4 f5 1exf5 Nxf5 1Bxf5 exf5 1Nd3 O-O-O 1Re1 Qg5 1Bc1 Qg6 1Nc4 f4 2Nxf4 Qh7 2Ne6 Rdg8 2Nxg7 Rxg7 2Bb2 h4 2d5 Ne5 2Nxe5 dxe5',\n",
              " 'e4 c5 d4 cxd4 c3 d3 Bxd3 e6 Nf3 a6 O-O Qc7 Re1 d6 Nbd2 Nf6 Nb3 b5 1Bg5 Nbd7 1Bf4 Ne5 1Nxe5 dxe5 1Be3 Bb7 1Nd2 Rd8 1Qc2 Be7 1Red1 O-O 1f3 Bc5 1Bxc5 Qxc5+ 1Kh1 Qe3 2Nf1 Qg5 2Qd2 Qxd2 2Nxd2 Rxd3 2Kg1 Rfd8 2Kf2 Nh5 2Ke2 Nf4+',\n",
              " 'e4 e6 d4 d5 e5 c5 c3 Nc6 Nf3 Qb6 a3 Nge7 b4 cxd4 cxd4 Nf5 Be3 Nxe3 1fxe3 Be7 1Bd3 O-O 1h4 f6 1Bxh7+ Kxh7 1Ng5+ Kh6 1Nd2 fxe5 1Ndf3 e4 1Nf7+ Rxf7 1Ng5 Rf5 1g4 Rf6 2Qe2 Bd7 2O-O-O Nxb4 2axb4 Bxb4 2Nxe4 Rc8+ 2Kb1 Bc3+ 2Kc2 Qb2+',\n",
              " 'd4 d5 e3 c6 Bd3 Nf6 h3 Nbd7 f4 Ne4 Nf3 Nd6 Nbd2 a6 O-O Nb6 Ne5 f6 1Qh5+ g6 1Nxg6 hxg6 1Qxh8 Bf5 1Bxf5 Nxf5 1Qh7 Nxe3 1Qxg6+ Kd7 1Rf2 Nxc2 1Rb1 Nxd4 1Nf3 Qc7 1Nxd4 c5 2Qf5+ Ke8 2Ne6 Qc6 2Qg6+ Kd7 2Nxf8+ Rxf8 2Bd2 c4 2Bc3 Qe6',\n",
              " 'e4 c6 Bc4 d5 exd5 cxd5 Bb5+ Nc6 Bxc6+ bxc6 d4 Nf6 Nf3 Bg4 O-O e6 Qd3 Bf5 1Qb3 Qb6 1Qxb6 axb6 1c3 Bd6 1Bg5 Ne4 1Bh4 O-O 1Ne5 c5 1Nd7 g5 1Nxf8 gxh4 1Nd7 Ra6 1f3 Nd2 2Nxd2 h3 2g3 b5 2Nf6+ Kg7 2Nh5+ Kg6 2g4 Bd3 2Rfe1 c4',\n",
              " 'e4 Nf6 Nc3 d5 exd5 Nxd5 Qf3 e6 d4 Nxc3 Qxc3 Nc6 Be3 Bb4 Qxb4 Nxb4 c3 Nc2+ 1Kd2 Nxa1 1Bb5+ c6 1Bd3 Qb6 1b4 a5 1Nf3 axb4 1Rxa1 bxc3+ 1Kxc3 Qa5+ 1Kc2 Qa4+ 1Kc3 O-O 1Bc2 Qa5+ 2Kd3 Bd7 2Bd2 Qa6+ 2Ke3 b5 2Bd3 f6 2Rc1 e5 2Nh4 exd4+',\n",
              " 'b3 b6 Bb2 Bb7 e3 e5 Nf3 f6 Qe2 Ne7 d3 Nec6 e4 Bc5 Nh4 Ne7 Nf5 Nxf5 1exf5 O-O 1f3 d5 1g4 Qd6 1Qd2 Nd7 1Nc3 Rad8 1O-O-O a5 1Bg2 Ra8 1h4 Bc6 1h5 d4 1Ne4 Bxe4 2fxe4 Nb8 2h6 g6 2fxg6 hxg6 2h7+ Kg7 2Qh6+ Kf7 2Rdf1 Ke6',\n",
              " 'd4 d5 e3 Nc6 Nc3 Nf6 h3 Bf5 Be2 Nb4 Bd3 Bxd3 cxd3 e6 Nf3 Be7 Bd2 O-O 1a3 Nc6 1b4 a6 1O-O Bd6 1e4 dxe4 1dxe4 e5 1d5 Ne7 1Ne2 Nxe4 1Ng3 Nxg3 1fxg3 c6 1g4 cxd5 2g5 e4 2Nd4 Ng6 2Nf5 Be5 2Rb1 d4 2Be1 d3 2Bg3 Bxg3',\n",
              " 'd4 d5 c4 e6 cxd5 Qxd5 Nc3 Bb4 Nf3 Nc6 Bd2 Bxc3 Bxc3 Nf6 e3 O-O Bd3 a6 1O-O b5 1Qc2 Bb7 1a3 h6 1Rfe1 Kh8 1b3 Rab8 1e4 Qd8 1Rac1 Rc8 1Qe2 Ng4 1e5 h5 1Be4 Rb8 2Bxc6 Bxc6 2Bb4 Bxf3 2Qxf3 Rg8 2Qxf7 Qxd4 2Qxc7 Qxf2+ 2Kh1 Qf4',\n",
              " 'e4 c6 Nf3 d5 exd5 cxd5 d4 Nc6 Nc3 a6 Bd3 Bg4 O-O e6 Be2 Nf6 Ne5 Bxe2 1Nxe2 Bd6 1f4 O-O 1Bd2 Ne4 1Nxc6 bxc6 1Nc3 Nxd2 1Qxd2 c5 1dxc5 Bxc5+ 1Kh1 Bb4 1a3 Ba5 1Qd3 Qc7 2Rf3 Rfc8 2Rh3 g6 2Rf1 Bxc3 2bxc3 Qc4 2Qf3 Qe4 2Qxe4 dxe4',\n",
              " 'e4 c6 Bc4 d5 exd5 cxd5 Bb3 e6 d4 Be7 Be3 Bg5 Qf3 Bxe3 fxe3 Qf6 Nd2 Qxf3 1Ndxf3 Nc6 1O-O-O Nf6 1h3 O-O 1Nd2 Bd7 1Ngf3 Ne4 1Nxe4 dxe4 1Nd2 f5 1Nc4 Rab8 1Ne5 Nxe5 1dxe5 Rfd8 2Rd6 Kf7 2Rhd1 g6 2Bxe6+ Bxe6 2Rxd8 Rxd8 2Rxd8 Ke7 2Rb8 Bd5',\n",
              " 'd4 d5 c4 Nf6 Nc3 Be6 cxd5 Nxd5 e3 a6 Nf3 f6 Bc4 Nxc3 Qb3 Bxc4 Qxc4 Nd5 1O-O b5 1Qe2 e6 1b3 Bd6 1Bb2 Nc6 1Rac1 Nce7 1g3 Rc8 1e4 Nb6 1Rfd1 O-O 1e5 Bb4 1a3 Nbd5 2axb4 Nxb4 2Ba3 Ned5 2Qd2 a5 2Bxb4 Nxb4 2Rc5 c6 2exf6 Rxf6',\n",
              " 'e4 c5 Nf3 d6 d4 cxd4 Nxd4 Nf6 Nc3 a6 Bg5 e6 Be2 Be7 O-O O-O f3 Nc6 1a3 Qb6 1Be3 Qxb2 1Na4 Qxa1 1Qxa1 d5 1Nxc6 bxc6 1Nb6 Rb8 1Nxc8 Rbxc8 1e5 Nd7 1f4 c5 1Qc1 d4 2Bf2 Nb8 2c3 Rfd8 2cxd4 cxd4 2Qd2 Bxa3 2Ra1 Rc3 2Rd1 Rcc8',\n",
              " 'e4 d6 d4 g6 c3 Bg7 f3 e5 Bd3 exd4 cxd4 Bxd4 Bc4 Bg7 Be3 Ne7 Qd2 O-O 1Bh6 c6 1Bxg7 Kxg7 1h4 d5 1exd5 cxd5 1Bd3 h5 1g4 hxg4 1fxg4 Bxg4 1h5 Bxh5 1Be2 Rh8 1Nc3 Qd6 2O-O-O Nbc6 2Bxh5 Rxh5 2Rxh5 gxh5 2Nf3 Qg6 2Rg1 Qxg1+ 2Nxg1 Nf5',\n",
              " 'e4 c5 e5 Nc6 d4 cxd4 Nf3 Qb6 Na3 d5 c4 dxc3 bxc3 e6 c4 Bb4+ Nd2 Nxe5 1cxd5 exd5 1Bb2 f6 1Bb5+ Bd7 1Bxd7+ Nxd7 1Qe2+ Ne7 1O-O O-O 1Qe6+ Rf7 1Qxd7 Nc6 1Nf3 Rxd7 1Nc2 Bd6 2Ncd4 Nxd4 2Nxd4 Qc7 2Ne6 Qb8 2f3 Bxh2+ 2Kh1 Bg3 2Rf2 Bxf2',\n",
              " 'e4 e5 Bc4 Nf6 Nf3 Nxe4 Nxe5 Nd6 d3 Nxc4 Nxc4 Nc6 O-O d5 Re1+ Be7 Ne5 Nxe5 1Rxe5 Be6 1c4 Bd6 1Re3 Qh4 1g3 Qh3 1cxd5 Bc5 1Re2 O-O-O 1dxe6 fxe6 1Be3 Bxe3 1Rxe3 Rde8 1Nd2 e5 2Ne4 Qf5 2Rf3 Qg4 2Nd2 h5 2b3 h4 2Re3 hxg3 2Qxg4+',\n",
              " 'e4 g6 d4 Bg7 Nf3 Nf6 Nc3 d6 Bc4 c6 O-O O-O Bg5 Nxe4 Bxf7+ Rxf7 Nxe4 Bf5 1Ng3 Bg4 1Re1 Nd7 1Qd3 Bxf3 1gxf3 Nf6 1c3 Qd7 1Ne4 Raf8 1Nxf6+ exf6 1Bf4 d5 1b3 Re8 1Kg2 Rfe7 2Rxe7 Qxe7 2Be3 f5 2Qd2 a6 2Bg5 Qe2 2Qf4 Qb2 2Rf1 Qxc3',\n",
              " 'e4 c5 Nf3 Nc6 d4 cxd4 Nxd4 Qb6 Nb3 Nf6 Nc3 e6 Be3 Qd8 f3 a6 Qd2 d6 1O-O-O Be7 1Bf4 e5 1Bg5 h6 1Bxf6 gxf6 1Nd5 Be6 1Kb1 Bxd5 1Qxd5 Qb6 1Qd2 a5 1Bc4 a4 1Nc1 Rc8 2Bd5 Nb4 2Ne2 Rxc2 2Qxc2 Nxc2 2Kxc2 O-O 2Nc3 Rc8 2Kb1 a3',\n",
              " 'e4 e5 Nf3 Nf6 Nxe5 Bc5 d4 Bb6 Nc3 d6 Nf3 Bg4 Be2 Nbd7 O-O Qe7 Bg5 h6 1Bxf6 gxf6 1Nd5 Qd8 1Nxb6 axb6 1c4 Qe7 1Qd3 O-O-O 1a4 Rhg8 1Kh1 h5 1Nh4 f5 1Nxf5 Bxf5 1exf5 Rxg2 2Kxg2 Rg8+ 2Kh1 h4 2a5 Nf6 2Bf3 h3 2a6 Kb8 2axb7 d5',\n",
              " 'e4 d5 exd5 Qxd5 Nc3 Qd8 Bc4 g6 Qf3 Nf6 d3 Bg7 Bg5 O-O Bxf6 Bxf6 Nge2 Nd7 1O-O c6 1Ne4 Bg7 1c3 Qc7 1N2g3 b5 1Bb3 Bb7 1a3 a6 1c4 c5 1cxb5 axb5 1a4 b4 1Rfc1 Bxb2 2Nxc5 Bxf3 2gxf3 Bxa1 2Rxa1 Nxc5 2Rb1 Nxa4 2Bxa4 Rxa4 2Ne4 Qc2',\n",
              " 'e4 e6 f4 c6 d4 d5 e5 g6 Nf3 h5 c4 Ne7 Nc3 Nf5 Bd2 Be7 Qc2 Bh4+ 1g3 Bxg3+ 1hxg3 Nxg3 1Rh3 Nf5 1Qd3 h4 1O-O-O Nd7 1Be1 dxc4 1Qxc4 Qa5 1Kb1 Ne3 1Qd3 Nxd1 1Nxd1 Qd5 2Ne3 Qb5 2Nc4 Kf8 2Rxh4 Rxh4 2Bxh4 Nb6 2Qa3+ Kg8 2Ng5 Nxc4',\n",
              " 'e4 e6 d4 d5 e5 c5 c3 Nc6 Bb5 Qb6 Bxc6+ Qxc6 f4 Ne7 Nf3 cxd4 Nxd4 Qb6 1O-O Nc6 1Na3 Bc5 1Nc2 O-O 1b4 Be7 1Be3 Qd8 1a4 a6 1Qe2 f6 1exf6 Bxf6 1Rae1 e5 1fxe5 Nxe5 2Bf4 Bg4 2Qd2 Nc4 2Qd3 Qd7 2h3 Bh5 2Ne3 Bg6 2Qe2 Rae8',\n",
              " 'd4 d5 c4 dxc4 Nc3 Nf6 Bf4 e6 Nf3 Be7 a3 O-O e4 c6 Bxc4 Nbd7 O-O b5 1Bb3 Bb7 1e5 Nd5 1Nxd5 cxd5 1Qd3 f6 1Bc2 f5 1g4 Rf7 1g5 g6 1h4 Nf8 1Qxb5 Rb8 1Qd3 a5 2Nd2 Ra8 2Qh3 Ba6 2Rfe1 Qb6 2Nf3 Qxb2 2Rac1 Bxa3 2h5 Rc8',\n",
              " 'b3 Nf6 Bb2 d6 e3 Nc6 Nf3 e5 d4 Be7 dxe5 dxe5 Qxd8+ Bxd8 Nxe5 Nxe5 Bxe5 O-O 1Bb2 Bf5 1Bd3 Bxd3 1cxd3 Re8 1Nd2 Be7 1O-O Nd5 1Nc4 Nb4 1a3 Nxd3 1Bd4 c5 1Bc3 b5 1Na5 Bd6 2Nc6 Rac8 2Na5 Be5 2Bxe5 Nxe5 2Rfd1 c4 2bxc4 Nxc4 2Nb7 Nb2',\n",
              " 'e4 e5 Nf3 Nc6 Bc4 Nd4 c3 Nxf3+ Qxf3 Nf6 d3 Bc5 O-O O-O Be3 Bb6 d4 exd4 1cxd4 d6 1Nd2 Qe7 1e5 dxe5 1dxe5 Qxe5 1Rfe1 Bxe3 1Rxe3 Qxb2 1Rb1 Qxd2 1Bd3 Bg4 1Qg3 Rfe8 1h3 Rxe3 2Bxh7+ Kxh7 2Qh4+ Kg8 2hxg4 Re1+ 2Rxe1 Qxe1+ 2Kh2 Ne4 2Qe7 c6',\n",
              " 'd4 d5 c4 dxc4 e4 b5 b3 cxb3 axb3 a6 d5 c6 Nc3 b4 Na4 cxd5 exd5 h6 1Nc5 e6 1Bc4 Bxc5 1Nf3 Qb6 1Qe2 Nf6 1dxe6 Bxe6 1Qe5 Bxf2+ 1Kd2 O-O 1Rf1 Nbd7 1Qe2 Bxc4 1bxc4 Bc5 2Ne5 Nxe5 2Qxe5 Rad8+ 2Kc2 Rfe8 2Qf4 b3+ 2Kc3 Qb4+ 2Kb2 Bd4+',\n",
              " 'e3 d5 c4 dxc4 Bxc4 Nf6 Qb3 e6 Nc3 Nc6 Nf3 Be7 h4 O-O h5 h6 Qc2 Bb4 1Qb1 Bd6 1Bd3 Ne5 1Nxe5 Bxe5 1Ne4 Nxe4 1Bxe4 f5 1Bf3 Bf6 1a3 c6 1Ra2 Rb8 1b4 Qd6 1Bb2 Qe7 2Bxf6 Qxf6 2d4 e5 2Rd2 Rd8 2Qb3+ Be6 2d5 Bxd5 2Bxd5+ Rxd5',\n",
              " 'e4 Nf6 e5 Nd5 c4 Nb6 d4 d6 f4 dxe5 fxe5 c5 d5 e6 d6 Qh4+ Ke2 Qe4+ 1Be3 Qxe5 1Nf3 Qxd6 1Qxd6 Bxd6 1b3 Nc6 1Nc3 O-O 1Rd1 Be7 1g3 Nd7 1Bg2 b6 1Ne4 Nf6 1Nxf6+ Bxf6 2h4 Bb7 2h5 h6 2g4 Rad8 2Rxd8 Rxd8 2g5 Bxg5 2Nxg5 hxg5',\n",
              " 'd4 d5 c4 e6 e3 c5 Nf3 cxd4 exd4 Nc6 Nbd2 Bb4 a3 Ba5 b4 Bc7 Bb2 Nf6 1Be2 Ne4 1O-O Nxd2 1Qxd2 O-O 1cxd5 exd5 1Rfd1 Qf6 1Ne5 Bf5 1Bf3 Rad8 1Rac1 Be4 1b5 Ne7 1Rxc7 Nf5 2Bxe4 dxe4 2d5 Qh4 2g3 Qh3 2Qf4 e3 2fxe3 Nxe3 2Qxe3 Rfe8',\n",
              " 'g3 e6 Bg2 Nf6 e3 Be7 Ne2 O-O b3 d5 Bb2 Nbd7 O-O c5 d4 b6 dxc5 Nxc5 1c4 Bb7 1Nbc3 dxc4 1bxc4 Bxg2 1Kxg2 Qxd1 1Rfxd1 Rad8 1Nd4 Nfd7 1Nc6 Rde8 1Nxe7+ Rxe7 1Ba3 Ree8 1Rd2 Rd8 2Rad1 f6 2Bxc5 bxc5 2Na4 Rf7 2Nxc5 Nxc5 2Rxd8+ Rf8 2Rxf8+ Kxf8',\n",
              " 'g3 e5 c4 d6 Bg2 a6 a4 Nf6 e3 Be7 Nf3 O-O O-O e4 Ng5 Ng4 Nxe4 Bh4 1gxh4 Qxh4 1h3 Nh6 1d4 Bxh3 1Bxh3 Qxh3 1f4 Ng4 1Qe2 Qh4 1Rf3 Nd7 1Qg2 f5 1Rh3 Qe7 1Nf2 Rf6 2Nxg4 Rg6 2Rg3 fxg4 2Rxg4 Rxg4 2Qxg4 Nf6 2Qf3 Rf8 2Nc3 c6',\n",
              " 'd4 e6 c4 c5 d5 exd5 cxd5 c4 e4 Qc7 a3 Qa5+ Nc3 b5 Nf3 b4 Nb1 bxa3+ 1Qd2 Qxd2+ 1Nbxd2 axb2 1Bxb2 a5 1Bxc4 Ne7 1O-O f6 1Rfc1 Bb7 1Bb5 Nc8 1Bc3 Nd6 1Bd3 a4 1Nd4 Be7 2f3 O-O 2Bb4 Nc8 2Bxe7 Nxe7 2Rc7 Ra7 2Nb5 Ba6 2Rxa7 Bxb5',\n",
              " 'Nf3 Nf6 Nc3 d5 e4 e6 exd5 exd5 d4 Be7 Be2 O-O O-O c6 Bf4 h6 Ne5 Nbd7 1Bd3 Nxe5 1dxe5 Nd7 1Qg4 Nxe5 1Qg3 Nxd3 1Bxh6 Bf6 1cxd3 g6 1Bxf8 Qxf8 1Rfe1 Bf5 1h4 Qb4 1h5 Bh4 2a3 Qd4 2Ne2 Qxd3 2Qxh4 Kg7 2Nf4 Qc4 2hxg6 Bxg6 2Nxg6 fxg6',\n",
              " 'e4 e5 Nf3 d6 d4 exd4 Qxd4 Nc6 Bb5 Bd7 Bxc6 Bxc6 Nc3 Qf6 Qd3 Be7 Bg5 Qg6 1Bxe7 Nxe7 1O-O O-O 1Nh4 Qg4 1Nf3 Ng6 1h3 Qf4 1Rfe1 Rfe8 1Nd5 Bxd5 1Qxd5 c6 1Qd3 Rad8 1c4 a6 2b3 b5 2Rad1 Ne5 2Nxe5 Rxe5 2cxb5 axb5 2a3 Rg5 2g3 Qf6',\n",
              " 'd4 g6 c4 Bg7 Nc3 d6 b4 Nc6 b5 Nxd4 Bb2 Ne6 e3 a6 a4 Bd7 Nf3 Nc5 1Rb1 axb5 1axb5 Nf6 1Be2 O-O 1O-O e5 1h3 c6 1Re1 cxb5 1cxb5 Qc7 1Bc4 Nce4 1Nxe4 Nxe4 1Bd3 Bf5 2Bxe4 Bxe4 2Rc1 Qa5 2Bc3 Qd8 2Bb4 Bxf3 2Qxf3 Qb6 2Rc2 Rfd8',\n",
              " 'd4 e6 c4 d5 Nc3 Nf6 Nf3 a6 e3 dxc4 Bxc4 b5 Bd3 Bb7 a3 c5 dxc5 Bxc5 1b4 Bb6 1Bb2 Nbd7 1Be2 O-O 1O-O Qb8 1Rc1 Qa7 1Na2 Ng4 1Nd4 Rfd8 1Bxg4 Nf6 1Qe2 Bxd4 1Bxd4 Qb8 2Bxf6 gxf6 2Rfd1 Qe5 2Rxd8+ Rxd8 2Bf3 Bxf3 2Qxf3 Qb2 2Qxf6 Re8',\n",
              " 'e4 c5 Nf3 Nc6 d4 cxd4 Nxd4 Nf6 Nxc6 bxc6 Bd3 d5 exd5 Qxd5 O-O Bg4 f3 Bh5 1Nc3 Qd4+ 1Kh1 e6 1Re1 Bd6 1Ne4 Bc7 1Nxf6+ gxf6 1Re4 Qd7 1Rh4 Bg6 1Bh6 O-O-O 1Bg7 Rhg8 1Bxf6 Bxd3 2Bxd8 Qxd8 2Qxd3 Qxh4 2Qa6+ Kd7 2Rd1+ Ke7 2g3 Rxg3 2Qc8 Rg1+',\n",
              " 'e4 d5 d3 dxe4 dxe4 c5 Qxd8+ Kxd8 Nf3 Bd7 Bd3 b6 c4 e6 O-O Bd6 Nc3 Kc7 1Be3 Na6 1b3 Kb7 1a3 Nc7 1Rad1 a5 1Bc2 Ne8 1a4 Rd8 1Nb5 Bxb5 1axb5 Nc7 1e5 Be7 1Rxd8 Bxd8 2Rd1 Be7 2Nd2 Nh6 2Ne4 Rd8 2Rxd8 Bxd8 2Bxh6 gxh6 2Nd6+ Kb8',\n",
              " 'g3 e5 Bg2 d6 b3 Nf6 Bb2 c6 d3 Be6 Nd2 Be7 e3 O-O Qe2 Re8 h4 Nbd7 1Bh3 Nf8 1Bxe6 Nxe6 1g4 Nd5 1g5 f5 1gxf6 Nxf6 1O-O-O Qd7 1Nh3 Nc5 1Rdg1 Rf8 1Ng5 Nd5 1Qh5 Bxg5 2Qxg5 Ne6 2Qg2 Nf6 2Rh3 Rf7 2h5 Raf8 2f4 exf4 2exf4 Nxf4',\n",
              " 'd4 f5 Nf3 Nf6 c4 d6 Nc3 g6 Qc2 Bg7 e4 O-O exf5 Bxf5 Bd3 Bxd3 Qxd3 Nc6 1Bg5 Qe8 1O-O-O Nb4 1Qd2 Rd8 1Rhe1 Qf7 1d5 c5 1Kb1 h6 1Bxh6 Ng4 1Bxg7 Qxg7 1h3 Nh6 1Re6 Nf5 2Rde1 Rde8 2Ng5 a5 2R6e4 Nd4 2Ne6 Nxe6 2Rxe6 Rf6 2Rxf6 Qxf6',\n",
              " 'e4 Nf6 Nf3 Nxe4 d3 Nf6 Be2 g6 O-O Bg7 Bg5 O-O Nc3 d6 Bxf6 exf6 Ne4 Re8 1c3 Bg4 1Nh4 Bd7 1Bg4 Bc6 1Bf3 Nd7 1Nxf6+ Nxf6 1Bxc6 bxc6 1Re1 Rb8 1Re2 Nd5 1Nf3 Bxc3 1bxc3 Nxc3 2Qd2 Nxe2+ 2Kh1 Qf6 2Re1 Ng3+ 2hxg3 Rxe1+ 2Qxe1 Qg5 2Nxg5 f6',\n",
              " 'd4 e6 c3 d5 Nf3 c5 Bf4 c4 Bg5 Be7 Bf4 f6 Bg3 Bd6 e3 Bxg3 hxg3 b5 1b3 a5 1Nbd2 Nc6 1a3 Nge7 1a4 b4 1cxb4 axb4 1bxc4 dxc4 1Nxc4 Ba6 1Qb3 Bxc4 1Bxc4 Nd5 1O-O O-O 2e4 Nb6 2Bxe6+ Kh8 2Bc4 Nxc4 2Qxc4 Rc8 2Rfc1 Re8 2Nd2 g6',\n",
              " 'd4 b6 c4 Bb7 Nc3 d5 Nf3 e6 e3 c5 a3 cxd4 Nxd4 Bc5 b4 Bd6 cxd5 e5 1Nf3 Nf6 1Bb5+ Nbd7 1e4 O-O 1O-O a6 1Bxd7 Qxd7 1Bg5 Ne8 1Rc1 f6 1Bh4 Rc8 1Qa4 b5 1Qb3 Kh8 2Rc2 Rc4 2Rfc1 Rc8 2Ne2 Ra8 2a4 g5 2Bg3 Rf7 2axb5 axb5',\n",
              " 'd4 Nf6 c3 g6 Nf3 d5 g3 Bg7 Bg2 O-O O-O c5 dxc5 Nbd7 a4 Nxc5 Re1 Qb6 1Na3 a5 1Nd4 e5 1Ndb5 Be6 1Bg5 Rad8 1Qc2 h6 1Bxf6 Bxf6 1e4 d4 1cxd4 exd4 1e5 Bf5 1Qc4 Be7 2Rad1 Be6 2Qe2 Bb3 2Rd2 Bxa4 2Nd6 Bxd6 2exd6 Rxd6 2Nc4 Qd8',\n",
              " 'e4 c5 Nf3 e6 c3 a6 a4 b6 d4 Bb7 d5 e5 Nxe5 d6 Nf3 Nf6 Bd3 Nbd7 1O-O Ne5 1Re1 Be7 1Nxe5 dxe5 1Nd2 Bd6 1Nf3 O-O 1h3 h6 1Be3 Nd7 1Rb1 a5 1Qd2 Qf6 1Rf1 Ba6 2c4 Qg6 2Nh2 Nf6 2f4 exf4 2Bxf4 Bxf4 2Qxf4 Nh5 2Qe3 Bc8',\n",
              " 'e4 b6 e5 Bb7 d4 e6 f3 Qe7 Bd3 f6 Ne2 fxe5 dxe5 Nc6 O-O Nxe5 Bf4 Nxd3 1Qxd3 d6 1Nd4 O-O-O 1Re1 Kb8 1Nc3 g6 1a4 Bg7 1a5 e5 1Ndb5 a6 1Na3 Qd7 1Be3 b5 1Nd5 Bxd5 2Qxd5 c6 2Qd3 Qb7 2Bb6 Re8 2Qxd6+ Ka8 2c4 Rc8 2cxb5 cxb5',\n",
              " 'e4 e5 d4 exd4 Nf3 Nc6 Bc4 Nf6 Ng5 Ne5 Bb3 c5 f4 c4 fxe5 cxb3 exf6 Qc7 1axb3 gxf6 1Nf3 Bc5 1Nxd4 h5 1Be3 Qe5 1Qf3 d5 1exd5 Bxd4 1Kd2 Bxb2 1Ra4 Bg4 1Qe4 Qxe4 1Rxe4+ Kd7 2c3 Bf5 2Rf4 Bg6 2Rxf6 a5 2Rxg6 fxg6 2Kc2 Rhe8 2Re1 Bxc3',\n",
              " 'e4 c5 d4 cxd4 Qxd4 Nc6 Qd1 e5 Nf3 Bc5 Be2 Nge7 O-O O-O c3 a6 b4 Ba7 1a3 d5 1exd5 Nxd5 1Bc4 Be6 1Bb3 e4 1Nd4 Nxd4 1cxd4 Rc8 1Nd2 e3 1Nc4 Nc3 1Qd3 exf2+ 1Rxf2 Bxd4 2Be3 Ne2+ 2Rxe2 Bxa1 2Nd6 Bxb3 2Qxb3 Qxd6 2Bc5 Rxc5 2bxc5 Qxc5+',\n",
              " 'c4 Nc6 a3 Nf6 b4 e5 Bb2 Be7 Nc3 d6 e3 Bf5 Be2 O-O Nf3 h6 O-O Ne4 1Nxe4 Bxe4 1d3 Bg6 1b5 Nb8 1Rc1 a6 1bxa6 Nxa6 1d4 exd4 1Nxd4 Nc5 1Nb5 f6 1Bd3 Bf7 1Bf5 Bxc4 2Qd4 Bxb5 2Rfd1 Nb3 2Qd5+ Kh8 2Qxb3 c6 2Qe6 Qe8 2Bg4 Qf7',\n",
              " 'g3 c6 Bg2 d5 Nf3 Nf6 b3 Nbd7 Bb2 e6 d3 Be7 Nbd2 O-O O-O a5 e4 a4 1exd5 cxd5 1Ne5 a3 1Bc3 Qc7 1Nxd7 Bxd7 1Bd4 e5 1Be3 d4 1Bg5 Bc6 1Bxc6 Qxc6 1Bxf6 Bxf6 1Ne4 Be7 2Rc1 f5 2Nd2 b5 2Re1 Bd6 2Qf3 Qc5 2Qb7 Rae8 2Nf3 Re7',\n",
              " 'd4 e6 Nf3 d5 Bf4 c5 e3 Nc6 Bb5 Qb6 Bxc6+ bxc6 b3 Ba6 Nbd2 cxd4 Nxd4 c5 1Ne2 Nf6 1O-O Bd6 1Bg3 Bxg3 1Nxg3 O-O 1c4 Rad8 1Qc2 Qb4 1a3 Qb6 1Rab1 Rb8 1h3 Rfd8 1Nf3 Qa5 2a4 dxc4 2bxc4 Rxb1 2Rxb1 h6 2Ne5 Rd2 2Qb3 Qc7 2Qb8+ Qxb8',\n",
              " 'd4 c5 Nf3 cxd4 Qxd4 Nc6 Qd1 g6 e4 Bg7 Bc4 e6 O-O Nge7 Nc3 d5 exd5 exd5 1Nxd5 Nxd5 1Qxd5 O-O 1Qxd8 Rxd8 1b3 Ne5 1Nxe5 Bxe5 1Rb1 a6 1Be3 b5 1Bd3 Bb7 1Bb6 Re8 1f3 Bg7 2Rfe1 Kf8 2Bc5+ Kg8 2Rbd1 Bc6 2Be4 Bxe4 2fxe4 Re6 2Bd4 Rae8',\n",
              " 'e4 d6 d4 e5 dxe5 dxe5 Qxd8+ Kxd8 Nf3 Nc6 Bb5 f6 Bxc6 bxc6 O-O Bc5 Nbd2 Ba6 1Re1 Ke7 1Nb3 Bb6 1Be3 Bxe3 1Rxe3 Nh6 1Rd1 Rad8 1Ree1 Rxd1 1Rxd1 Ng4 1h3 Nh6 1Nc5 Be2 1Rd2 Bxf3 2gxf3 Rd8 2Rxd8 Kxd8 2Ne6+ Kd7 2Nxg7 c5 2Kf1 Kd6 2Ke2 a5',\n",
              " 'e4 e6 Nf3 d5 exd5 Qxd5 Nc3 Qd8 d4 Bb4 Bd2 Bxc3 Bxc3 Nc6 Bb5 Ne7 Ne5 O-O 1Nxc6 bxc6 1Bd3 Nd5 1O-O Nxc3 1bxc3 Qd5 1Re1 c5 1Be4 Qg5 1Bxa8 Bd7 1Bf3 f6 1d5 e5 1Kh1 Rc8 2d6 cxd6 2Qxd6 Rd8 2Qe7 Rf8 2Qxd7 e4 2Bxe4 f5 2Bd5+ Kh8',\n",
              " 'g3 e5 Bg2 f5 b3 Bc5 Bb2 Bxf2+ Kxf2 f4 gxf4 Qh4+ Kf1 d5 Nf3 Qxf4 Bxe5 Qf5 1Bxg7 Nd7 1Bxh8 Ndf6 1Bxf6 Nxf6 1Ke1 Be6 1Rf1 Qg6 1Bh1 O-O-O 1d4 Qe4 1Qd3 Qxd3 1cxd3 Ng4 1Nbd2 Ne3 2Rc1 Nxf1 2Kxf1 Bh3+ 2Bg2 Bg4 2h3 Bd7 2Ne5 Bf5 2Rc5 Rf8',\n",
              " 'e4 e5 Nf3 Nc6 Bb5 d6 d4 Bd7 Be3 Nf6 Nc3 exd4 Bxc6 Bxc6 Qxd4 Be7 O-O O-O 1e5 dxe5 1Qxe5 Bd6 1Qg5 Bxf3 1gxf3 h6 1Qg2 c6 1Ne4 Nxe4 1fxe4 Qe7 1Bxh6 g6 1f4 Rfe8 1Rae1 Bc5+ 2Kh1 Qh4 2f5 Qxh6 2fxg6 fxg6 2Qf3 Rf8 2Qxf8+ Rxf8 2Rxf8+ Kxf8',\n",
              " 'e4 e5 Qh5 Qe7 d4 Nf6 Qf3 Nc6 dxe5 Ng8 Bc4 Qb4+ c3 Qxc4 Nh3 Nxe5 Qf4 Bd6 1Ng5 h6 1Nd2 Qd3 1Nxf7 Nxf7 1e5 Nxe5 1Ne4 Ng6 1Qf5 N8e7 1Nf6+ gxf6 1Qxf6 Qe4+ 1Be3 Rf8 1Qg7 Be5 2Qxh6 Qxg2 2Rf1 Rh8 2Qh5 Rxh5 2O-O-O Qc6 2Rfe1 Rxh2 2f4 Bxc3',\n",
              " 'e4 c5 d3 d6 Bf4 Nf6 e5 dxe5 Bxe5 e6 Nc3 Nc6 Bg3 Be7 Be2 O-O Nf3 a6 1Ne4 Nxe4 1dxe4 Qb6 1Qc1 Nd4 1Nxd4 cxd4 1Bd3 Bb4+ 1c3 dxc3 1bxc3 Ba5 1O-O Bd7 1a3 Rac8 1c4 Qc6 2a4 Bd8 2Bf4 Qc5 2Be3 Qh5 2Qd2 Bc6 2g3 Bf6 2Ra2 Rfd8',\n",
              " 'e4 g6 Nf3 Bg7 Nc3 e6 d4 Ne7 Be3 O-O Qd2 d5 Bh6 dxe4 Nxe4 Nf5 Bxg7 Kxg7 1h4 Nd6 1Nxd6 cxd6 1h5 Rh8 1h6+ Kf8 1O-O-O f5 1Bd3 Kf7 1Rde1 Rf8 1Ng5+ Kg8 1Nxe6 Bxe6 1Rxe6 Nc6 2d5 Nd4 2Qc3 Nxe6 2dxe6 Qe7 2Re1 Rac8 2Qd4 Rc5 2Kb1 Rfc8',\n",
              " 'e4 e5 Nf3 Qf6 a3 Nc6 b4 b5 Nc3 Nd4 Nxd4 exd4 Nd5 Qd8 d3 c6 Nf4 Bd6 1Be2 Qf6 1Qd2 g5 1Nh5 Qe5 1Qxg5 Qxg5 1Bxg5 h6 1Bf6 Nxf6 1Nxf6+ Ke7 1Ng4 Bf4 1e5 d6 1g3 Bg5 2exd6+ Kxd6 2f4 Bxg4 2Bxg4 Bf6 2O-O-O h5 2Bh3 Rae8 2Rhf1 Re2',\n",
              " 'g3 e5 e4 Nf6 Bg2 Bc5 Nc3 d6 h3 O-O Nf3 Bb4 O-O Bxc3 dxc3 Nxe4 Nxe5 Nxc3 1Nxf7 Nxd1 1Nxd8 Nxf2 1Rxf2 Rxd8 1Bg5 Re8 1Rd1 Nc6 1c3 Bd7 1Rdf1 Rf8 1Bxc6 Bxc6 1Be7 Rxf2 1Rxf2 Re8 2Re2 Kf7 2Kf2 Rxe7 2Rxe7+ Kxe7 2h4 Ke6 2Ke3 Ke5 2a3 b5',\n",
              " 'e4 e5 Nc3 c6 Bc4 Qe7 d3 d6 f4 f6 Bxg8 Rxg8 f5 g6 g4 Na6 Be3 Bd7 1Qd2 Nc7 1O-O-O d5 1d4 dxe4 1dxe5 fxe5 1Nxe4 O-O-O 1Bxa7 Bxf5 1Qxd8+ Qxd8 1Rxd8+ Kxd8 1gxf5 Nb5 1Bb6+ Kd7 2Nf6+ Ke7 2Nxg8+ Kf7 2Nf3 Kxg8 2Nxe5 gxf5 2Rg1+ Kh8 2Nf7#',\n",
              " 'e4 e5 Nf3 Qf6 Bc4 Bc5 d4 exd4 e5 Qc6 Nxd4 Qe4+ Ne2 Qxc4 O-O Ne7 b3 Qe6 1Bb2 Nbc6 1Nf4 Qf5 1Nd5 Nxd5 1Qxd5 O-O 1Qxc5 Nxe5 1Qxc7 f6 1Bxe5 fxe5 1Nd2 b5 1Rae1 d6 1c4 bxc4 2Qxc4+ Kh8 2Qc6 Bd7 2Qxd6 Rad8 2Qxe5 Qd3 2Nc4 Bb5 2Qxb5 Rd5',\n",
              " 'e4 e6 Nf3 c6 d4 Be7 c4 d5 exd5 cxd5 cxd5 Qxd5 Be3 Qd8 Nc3 Nf6 Bb5+ Bd7 1Qa4 Bxb5 1Nxb5 Qd7 1O-O a6 1Nc3 Qxa4 1Nxa4 O-O 1Nb6 Ra7 1a4 Nbd7 1Nxd7 Nxd7 1d5 Raa8 1dxe6 fxe6 2Nd4 Bf6 2Nxe6 Rfe8 2Nc7 Bxb2 2Rab1 Ba3 2Nxa8 Rxa8 2Rxb7 Nf6',\n",
              " 'e4 d5 d3 dxe4 Nf3 c6 dxe4 Bg4 Qxd8+ Kxd8 Be2 Bxf3 h3 Bxe2 Kxe2 Nd7 Bf4 e5 1Bg3 f6 1f4 Bd6 1fxe5 Bxe5 1Bxe5 Nxe5 1Nd2 Kc7 1Rad1 Rd8 1Nf3 Nxf3 1gxf3 Rxd1 1Rxd1 Ne7 1Re1 Rd8 2Rg1 Ng6 2h4 Rd7 2h5 Ne5 2f4 Nc4 2b3 Na3 2c4 Nc2',\n",
              " 'Nf3 g6 g3 Bg7 Bg2 c6 O-O d6 c4 e6 Nc3 f6 d4 h6 Qc2 g5 Qg6+ Kd7 1Qxg7+ Ne7 1c5 d5 1Qxf6 h5 1Nxg5 Rf8 1Qxe6+ Kc7 1Qe5+ Kd7 1Bh3+ Ke8 1Nh7 Bxh3 1Qxh5+ Kd7 1Qxh3+ Kc7 2Nxf8 Qxf8 2Bf4+ Kd8 2Bd6 Nd7 2e4 Qh8 2Qxh8+ Nf8 2Qxf8+ Kd7',\n",
              " 'c4 g6 e4 Bg7 d3 Nf6 Nc3 d6 Be3 O-O Be2 e5 Nf3 a5 a3 Nbd7 O-O Nc5 1Bxc5 dxc5 1Nd5 c6 1Nxf6+ Bxf6 1Nd2 b5 1b3 Bb7 1a4 b4 1Bg4 Bc8 1Bxc8 Qxc8 1Rb1 Re8 1f4 exf4 2Rxf4 Bd4+ 2Kh1 Rf8 2Qf3 Ra7 2Rf1 Re7 2Qh3 Qxh3 2gxh3 Be3',\n",
              " 'e4 e5 f4 d6 Bc4 exf4 Nc3 Bd7 d4 Be7 Bxf4 Nf6 Qf3 O-O Bd3 Nc6 e5 dxe5 1dxe5 Ne8 1Qh5 f6 1Qxh7+ Kf7 1Bg6+ Ke6 1O-O-O Nxe5 1Bf5+ Kf7 1Nf3 Bxf5 1Qxf5 Nd3+ 1Rxd3 Nd6 1Qd5+ Ke8 2Re1 c6 2Bxd6 cxd5 2Rxe7+ Qxe7 2Rxd5 Qxd6 2Rxd6 Ke7 2Rd8 Rfxd8',\n",
              " 'e4 e5 Nf3 d6 Bc4 h6 d4 Nf6 dxe5 Qe7 exd6 Qxe4+ Be2 Bxd6 O-O O-O Nc3 Qc6 1Nd4 Qd7 1Bd3 Qd8 1Be3 Nc6 1Nf3 Ne5 1Nxe5 Bxe5 1Qe2 Be6 1Rab1 b6 1Bxh6 Bg4 1f3 Bd4+ 1Kh1 Re8 2Qd2 Bf5 2Bxf5 g6 2Qg5 Be3 2Qh4 Bxh6 2Qxh6 Nh7 2Bd3 Qf6',\n",
              " 'f4 b6 Nf3 Bb7 g3 g6 Bg2 Bg7 O-O d6 Ng5 Bxg2 Kxg2 e6 Nf3 Qe7 e4 Nd7 1d4 h5 1c3 Bh6 1h4 f6 1Be3 g5 1Nbd2 gxf4 1Bxf4 Bxf4 1gxf4 Nh6 1Kf2 Ng4+ 1Ke2 f5 1Kd3 c5 2e5 dxe5 2Nxe5 Ndxe5+ 2fxe5 O-O-O 2Kc2 Ne3+ 2Kb1 Nxd1 2Rxd1 cxd4',\n",
              " 'd4 c5 e3 e6 c4 cxd4 exd4 Nf6 Nf3 d5 Be3 dxc4 Bxc4 a6 Qb3 b5 Bd3 Nc6 1Bxb5 axb5 1Qxb5 Bd7 1Qb3 Qa5+ 1Nc3 Rb8 1Qc2 Nb4 1Qa4 Bxa4 1Rc1 Nxa2 1Ra1 Nxc3 1bxc3 Qxc3+ 1Bd2 Qc4 2Rc1 Qd3 2Ne5 Qe4+ 2Be3 Bb4+ 2Ke2 Nd5 2Nc6 Bxc6 2Rxc6 Nc3+',\n",
              " 'd4 d5 Bf4 h6 Nf3 Bf5 h3 Nf6 e3 e6 c3 c5 Nbd2 Nc6 Be2 Bd6 Ne5 Bxe5 1dxe5 Nd7 1c4 Ndxe5 1cxd5 exd5 1Bxe5 Nxe5 1Bb5+ Bd7 1Bxd7+ Qxd7 1Nb3 b6 1Rc1 O-O 1O-O Rfe8 1Qc2 Rac8 2a3 Qe6 2Rfd1 Qg6 2Qe2 Red8 2Nd2 Rc7 2Nf3 Nxf3+ 2Qxf3 Rcd7',\n",
              " 'e4 c5 Bc4 Nc6 c3 e6 d3 Nge7 Nf3 Ng6 O-O Be7 Nbd2 O-O a3 d5 exd5 exd5 1Bb3 Nce5 1d4 Nxf3+ 1Nxf3 c4 1Bc2 f5 1b3 b5 1a4 Bd7 1axb5 Bxb5 1bxc4 Bxc4 1Bd3 Bxd3 1Qxd3 Qc7 2Ne5 Nxe5 2dxe5 Qxe5 2c4 dxc4 2Qxc4+ Kh8 2Bf4 Qf6 2Ra6 Rfc8',\n",
              " 'e4 b6 d4 Bb7 Nc3 e6 Nf3 Nc6 Bd3 Qe7 Be3 O-O-O Qd2 f5 O-O fxe4 Nxe4 h6 1h3 Nf6 1Rfe1 g5 1Rad1 Bg7 1Qe2 Qf7 1Ba6 Rhe8 1Bxb7+ Kxb7 1a4 Nxe4 1d5 exd5 1Nd4 Nxd4 1Bxd4 Bxd4 2Rxd4 Ng3 2Qd3 Nf5 2Rxe8 Rxe8 2Rxd5 Nd6 2c4 Qe6 2b4 Qe4',\n",
              " 'c3 d5 d4 c6 e4 Nf6 e5 Nfd7 f3 Nb6 f4 Bf5 Bd3 Bxd3 Qxd3 e6 b3 c5 1Nf3 Nc6 1Be3 Rc8 1dxc5 Nd7 1b4 d4 1cxd4 b6 1cxb6 Nxb6 1O-O Bxb4 1a3 Be7 1Nbd2 O-O 1Rac1 f6 2Rc2 fxe5 2fxe5 Rxf3 2Nxf3 Nxe5 2Nxe5 Bf6 2Bf4 Rxc2 2Qxc2 Qxd4+',\n",
              " 'e4 e5 Nf3 d6 Bc4 Bg4 h3 Bxf3 Qxf3 Qf6 Qxf6 Nxf6 d3 c6 c3 d5 exd5 cxd5 1Bb3 Nc6 1Bg5 Be7 1Bxf6 Bxf6 1Bxd5 O-O 1O-O Rad8 1Be4 h6 1Nd2 Ne7 1Nf3 Ng6 1Bxb7 Nf4 1d4 exd4 2cxd4 Bxd4 2Nxd4 Rxd4 2Rad1 Rxd1 2Rxd1 a5 2b3 Ne6 2Kh2 Nc5',\n",
              " 'e4 e5 d4 Nc6 d5 Nce7 Nf3 d6 h3 Nf6 Bd3 c6 c4 b5 dxc6 bxc4 Bxc4 Nxe4 1Bb5 Qa5+ 1Nc3 Nxc3 1bxc3 Qxb5 1c7 Qc6 1O-O Nd5 1Ba3 Bb7 1c4 Qxc4 1Rb1 Qxc7 1Qb3 Bc6 1Rbc1 Rc8 2Rfd1 Nf4 2Ng5 Ne2+ 2Kh1 Nxc1 2Rxc1 Qd7 2Rd1 Ba4 2Qb1 Bxd1',\n",
              " 'e4 Nc6 d4 d5 e5 Bf5 c3 Be4 Bd3 f5 Bxe4 dxe4 Nd2 e6 Nb3 Be7 Be3 Qd7 1h3 O-O-O 1Qe2 g5 1O-O-O f4 1Bd2 Qd5 1h4 f3 1gxf3 exf3 1Qxf3 Qxf3 1Nxf3 g4 1Ng5 Nh6 1Nxe6 Nf5 2Nxd8 Rxd8 2h5 g3 2fxg3 Nxg3 2Rhg1 Ne4 2Rg7 Nf2 2Rf1 Nd3+',\n",
              " 'b3 Nc6 Bb2 e5 e3 f6 Nf3 Nge7 Nh4 Ng6 Nf5 Be7 g4 O-O h3 d5 h4 Bxf5 1gxf5 Nh8 1h5 e4 1h6 g6 1fxg6 Nxg6 1Rg1 f5 1Rxg6+ hxg6 1Qe2 Kh7 1Nc3 Rf7 1O-O-O Qf8 1Bg2 Qxh6 2Rh1 Qxh1+ 2Bxh1 Rh8 2Qf1 Kg7 2Bg2 Bf6 2Kb1 Ne7 2Nd1 c5',\n",
              " 'b4 b6 Bb2 Bb7 e3 e6 a3 Nf6 Nf3 Be7 Be2 O-O O-O d5 d4 c5 bxc5 bxc5 1Nbd2 Nc6 1c4 cxd4 1Nxd4 Nxd4 1Bxd4 dxc4 1Nxc4 Nd5 1Bf3 Bf6 1Bxf6 Qxf6 1Na5 Ba6 1Re1 Rad8 1Nc6 Rd7 2Qd4 Qxd4 2Nxd4 e5 2Nb3 Rfd8 2Nc5 Rd6 2Red1 Bc4 2Rac1 Ba2',\n",
              " 'b3 d5 Bb2 c6 e3 Nd7 Nf3 e6 d4 Ngf6 Be2 Bd6 O-O Qe7 Nbd2 e5 dxe5 Nxe5 1Nxe5 Bxe5 1Bxe5 Qxe5 1Nf3 Qd6 1c4 O-O 1Nd4 dxc4 1Bxc4 Rd8 1Qf3 Bg4 1Qg3 Qxg3 1hxg3 c5 1Nb5 b6 2f3 Bd7 2Nd6 Be6 2Nb7 Bxc4 2bxc4 Rd7 2e4 Rxb7 2e5 Nd7',\n",
              " 'b3 e5 Bb2 Nc6 e3 Bc5 Bb5 a6 Bxc6 dxc6 Bxe5 Ne7 h3 O-O Nf3 Bf5 d3 f6 1Bf4 Nc8 1O-O Nb6 1e4 Bg6 1Nh4 Bf7 1Nf5 Bd4 1Qg4 g6 1c3 Bc5 1d4 Be7 1Bh6 Re8 1Ng7 Rf8 2Ne6 Bxe6 2Qxe6+ Kh8 2Bxf8 Bxf8 2e5 f5 2Qf7 Nd5 2c4 Nf4',\n",
              " 'd4 d5 c4 e6 Nc3 c6 Bf4 Bd6 e3 f5 c5 Bxf4 exf4 Nf6 Bd3 O-O h3 Nbd7 1Qc2 b6 1b4 a5 1b5 bxc5 1dxc5 Nxc5 1bxc6 Nxd3+ 1Qxd3 Qd6 1Nf3 Qxc6 1O-O Ba6 1Qd4 Bxf1 1Kxf1 Rfc8 2Rc1 Ne4 2Ne5 Qc7 2Ne2 Qb7 2Rxc8+ Rxc8 2g3 Qb1+ 2Kg2 Qe1',\n",
              " 'e4 e5 Nf3 d6 Bc4 Bg4 d3 Bxf3 gxf3 c6 f4 d5 exd5 cxd5 Bb3 Bb4+ Bd2 Bxd2+ 1Nxd2 exf4 1Qe2+ Qe7 1Qxe7+ Nxe7 1O-O-O Nbc6 1Rde1 Nd4 1Bxd5 Rc8 1c3 Ne6 1Bxe6 fxe6 1Rxe6 Kd7 1Rhe1 Rhe8 2Nc4 Rc6 2Ne5+ Kxe6 2Nxc6+ Kd7 2Ne5+ Kc7 2Nc4 g5 2Na3 h5',\n",
              " 'd4 c5 Nf3 cxd4 Qxd4 Nc6 Qd1 g6 Bg5 Bg7 c3 h6 Bh4 Nf6 Bxf6 Bxf6 e3 O-O 1Bd3 Bg7 1h3 d5 1Nbd2 e5 1Be2 e4 1Nd4 Ne5 1O-O b6 1c4 Bb7 1cxd5 Bxd5 1Rc1 Rc8 1b3 Rxc1 2Qxc1 Qd7 2Qb2 Rc8 2Rc1 Rxc1+ 2Qxc1 Nd3 2Bxd3 exd3 2Qc3 Ba8',\n",
              " 'e4 e5 f4 d6 Nf3 Nc6 Bc4 h6 fxe5 dxe5 O-O a6 c3 b5 Bb3 Bb7 a3 Qe7 1d3 O-O-O 1Be3 Nf6 1Nbd2 g5 1c4 bxc4 1Nxc4 g4 1Nfd2 h5 1Ba4 h4 1b4 g3 1h3 Bg7 1b5 axb5 2Bxb5 Qd7 2a4 Qe6 2a5 Na7 2a6 Nxb5 2axb7+ Kxb7 2Qa4 Kc6',\n",
              " 'Nf3 Nf6 c4 g6 g3 Bg7 Bg2 O-O O-O c5 Nc3 d6 e3 Nc6 a3 a6 Qc2 Rb8 1Nh4 Bd7 1Rb1 b5 1cxb5 axb5 1b4 c4 1d3 cxd3 1Qxd3 Ne5 1Qe2 Be6 1Rd1 Bg4 1f3 Be6 1Bb2 Nc4 2f4 Nxb2 2Rxb2 Bg4 2Nf3 Nd7 2Rc2 Qb6 2Nd5 Qd8 2Rdc1 Nb6',\n",
              " 'e4 e5 Nf3 Qf6 c3 Nc6 d4 exd4 cxd4 Bb4+ Nc3 d5 e5 Qe6 Ng5 Qf5 Bd3 Qd7 1O-O f6 1exf6 Nxf6 1Ne6 Qxe6 1Re1 Ne4 1f3 Nxd4 1fxe4 Qb6 1exd5+ Kd8 1Be3 Re8 1Bxd4 Rxe1+ 1Qxe1 Qxd4+ 2Kh1 Bxc3 2bxc3 Qxd3 2Rd1 Qg6 2Qh4+ Qf6 2Qxh7 Bd7 2Qg8+ Be8',\n",
              " 'e4 e5 Nf3 Nc6 Bb5 Nf6 Nc3 d6 h3 Bd7 O-O Be7 a3 O-O Ba4 a6 Bb3 Be6 1Ba2 Bxa2 1Rxa2 Qd7 1d3 Qe6 1Ne2 Qxa2 1c4 Nd4 1Nfxd4 exd4 1Nxd4 c5 1Nf5 Rae8 1Qc2 b5 1Bf4 bxc4 2dxc4 Rb8 2Rb1 Rfe8 2Nxe7+ Rxe7 2Bxd6 Rd7 2Bxb8 Rb7 2Be5 Qb3',\n",
              " 'd4 Nf6 e3 e6 Bd3 d5 Nf3 c5 c3 c4 Bc2 Be7 b3 b5 O-O Nc6 a4 bxa4 1bxc4 dxc4 1Bxa4 Bb7 1Na3 O-O 1Nxc4 Rc8 1Bxc6 Bxc6 1Rxa7 Bxf3 1Qxf3 Rxc4 1Bd2 Nd5 1Rfa1 Rc8 1c4 Nb6 2c5 Nc4 2Bc3 Bf6 2h3 Rb8 2Qe2 Qd5 2e4 Qg5 2Qxc4 Rfd8',\n",
              " 'e4 Nf6 e5 Nd5 c4 Nb6 d4 d6 f4 dxe5 fxe5 c5 d5 e6 dxe6 Qh4+ Ke2 Bxe6 1Nf3 Qxc4+ 1Kf2 Qd5 1Nc3 Qxd1 1Nxd1 Nc6 1Bb5 O-O-O 1Bxc6 bxc6 1Nc3 Nd5 1Ne4 f5 1Neg5 Bg8 1Be3 h6 2Nh3 Nxe3 2Kxe3 g5 2Nf2 Bg7 2Rhd1 Bd5 2Ke2 Rhe8 2Kf1 Bxe5',\n",
              " 'd4 Nf6 c4 c6 Nc3 d5 e3 Bf5 Nf3 h6 Qb3 Qb6 Be2 Qxb3 axb3 e6 Ne5 Na6 1Nxc6 Bc2 1b4 Nxb4 1Nxb4 Bxb4 1Bd2 O-O 1cxd5 exd5 1O-O a6 1Bd1 Bd3 1Re1 Rfe8 1Bb3 Rad8 1Ba4 Re7 2Bb3 Rc7 2Rac1 Rdc8 2f3 Bc4 2Bc2 a5 2Kf2 Re8 2Rcd1 Rce7',\n",
              " 'e4 c5 Nf3 a6 d4 cxd4 Nxd4 b5 c4 bxc4 Bxc4 Bb7 f3 Qa5+ Bd2 Qc7 b3 Nc6 1Nxc6 Bxc6 1O-O e6 1Be3 Bd6 1h3 Be5 1Bd4 Bxd4+ 1Qxd4 Nf6 1Rd1 O-O 1Nc3 Rfd8 1Qd6 Qxd6 1Rxd6 Ne8 2Rd2 Nf6 2Rad1 Ra7 2Ne2 Bb5 2Bxb5 axb5 2Nc3 Rb7 2Rb1 Rc8',\n",
              " 'e4 e5 Nf3 d6 Bc4 h6 c3 Bg4 d4 c6 dxe5 b5 Bb3 Bxf3 Qxf3 Nf6 exf6 g6 1O-O g5 1Rd1 a5 1e5 a4 1Bc2 d5 1b4 Qd7 1Bf5 Qc7 1Qh3 Qxe5 1Bxg5 Kd8 1Be3 Nd7 1Bxd7 Ra7 2Bb6+ Rc7 2Bxc7+ Qxc7 2Bf5 Qe5 2Qe3 Qd6 2Qb6+ Qc7 2Qxc7+ Kxc7',\n",
              " 'd4 d5 c4 e6 cxd5 exd5 Nf3 Nf6 Nc3 Nc6 Bg5 Bb4 a3 Be7 Bxf6 Bxf6 e4 dxe4 1Nxe4 O-O 1d5 Ne5 1Nxf6+ Qxf6 1Nxe5 Qxe5+ 1Qe2 Qxd5 1Qd3 Re8+ 1Kd1 Bg4+ 1f3 Be6 1Qxd5 Bxd5 1Bd3 Rad8 2Kc1 c5 2b4 cxb4 2axb4 a6 2b5 axb5 2Bxb5 Rc8+ 2Kb2 Re3',\n",
              " 'e4 Nf6 d3 e5 Bg5 Bb4+ Nd2 Be7 Be2 O-O Ngf3 Ne8 Bxe7 Qxe7 O-O d5 exd5 Bg4 1c4 Nd7 1h3 Bxf3 1Bxf3 Nc5 1d6 cxd6 1Ne4 Rb8 1Nxc5 dxc5 1Be4 Nd6 1Qh5 g6 1Qh6 Qf6 1f4 Qg7 2Qxg7+ Kxg7 2f5 gxf5 2Bxf5 Nxf5 2Rxf5 Kg6 2Raf1 Rbe8 2R5f3 f5',\n",
              " 'e3 e5 c3 d5 d4 e4 Ne2 Bg4 Qb3 b6 Nf4 c6 Be2 Bxe2 Nxe2 Bd6 O-O Bxh2+ 1Kxh2 Qh4+ 1Kg1 Nf6 1Nf4 Ng4 1Nh3 O-O 1f3 exf3 1Rxf3 f5 1Qd1 f4 1Bd2 fxe3 1Bxe3 Rxf3 1Qxf3 Qe1+ 2Qf1 Qxe3+ 2Nf2 Nxf2 2Qxf2 Qc1+ 2Qf1 Qxb2 2Nd2 Nd7 2Nf3 Rf8',\n",
              " 'e4 e5 c4 Qh4 Nf3 Qxe4+ Be2 f6 a3 d6 Nc3 Qg4 O-O Nh6 Nb5 Na6 h3 Qe6 1d4 Bd7 1dxe5 Bxb5 1cxb5 Nc5 1Bxh6 gxh6 1exd6 Nb3 1Rc1 Nxc1 1Qxc1 Qxd6 1Rd1 Qe7 1Nd4 Rd8 1Re1 Rxd4 2Bf3 Re4 2Rxe4 Kf7 2Rxe7+ Bxe7 2Bxb7 Rd8 2Qxc7 h5 2Be4 Ke8',\n",
              " 'd4 d5 c4 dxc4 e3 Be6 Nc3 c6 a4 g6 e4 Na6 d5 cxd5 exd5 Bf5 Bxc4 Nb4 1Bb3 Nf6 1Nf3 Nfxd5 1Qxd5 Nxd5 1Nxd5 Qa5+ 1Bd2 Qc5 1Rc1 Qd6 1Nc7+ Kd8 1Nxa8 Qe6+ 1Be3 Bh6 1Bxe6 fxe6 2Bxh6 Be4 2Ne5 b6 2Nf7+ Ke8 2Nxh8 Bxa8 2Rc8+ Kd7 2Rxa8',\n",
              " 'd4 g6 Nf3 Bg7 Bf4 d6 e4 Nf6 e5 dxe5 Bxe5 O-O Bc4 Be6 Be2 Nc6 c3 Nxe5 1dxe5 Qxd1+ 1Bxd1 Ne4 1O-O f6 1exf6 Bxf6 1Bc2 Nd6 1Nbd2 Bf5 1Bb3+ Kh8 1Nd4 Bxd4 1cxd4 Nb5 1Rae1 Nxd4 2Rxe7 Nxb3 2axb3 Rad8 2Nc4 b5 2Ne3 Rc8 2Nd5 c6 2Ne3 a5',\n",
              " 'e4 d5 Qf3 dxe4 Qxe4 Nc6 c3 Qd6 d4 Nf6 Qe3 g6 h3 Bg7 b4 b5 Bxb5 a6 1Bc4 Bb7 1Nf3 e6 1O-O h6 1a4 O-O 1Ne5 Nh5 1Ng4 a5 1b5 Ne7 1Nxh6+ Bxh6 1Qxh6 Nf5 1Bg5 Nxh6 2Bxh6 Rfe8 2Nd2 Nf4 2f3 Ne2+ 2Bxe2 Qd8 2Nb3 Qd6 2Nc5 Bc8',\n",
              " 'e4 g6 d4 Bg7 Be3 d5 Nc3 dxe4 Nxe4 Nc6 Nf3 Bf5 Ng3 Bd7 c3 Nf6 h3 O-O 1Bc4 e6 1Bd3 Qe7 1O-O Nd5 1Bg5 f6 1Bd2 e5 1Re1 Qd6 1dxe5 fxe5 1Bc4 Be6 1Ne4 Qe7 1Bg5 Qe8 2Bxd5 Bxd5 2Qxd5+ Kh8 2Qd2 Rxf3 2gxf3 Qe6 2Kh2 Rf8 2Qe3 Rf5',\n",
              " 'b3 b6 Bb2 Bb7 e3 Nc6 Nc3 e5 Qe2 d6 O-O-O Qd7 d4 O-O-O g3 exd4 exd4 g6 1Bg2 Bg7 1Qf1 d5 1f4 Nge7 1Bh3 Nf5 1g4 Nfxd4 1g5 f5 1Nf3 Nxf3 1Qxf3 Rhe8 1Rhf1 d4 1Ne2 Nb4 2Qf2 d3 2Nc3 Be4 2Nxe4 dxc2 2Rxd7 Rxd7 2Nf6 Bxf6 2gxf6 Red8',\n",
              " 'd4 e6 c4 d5 Nc3 Nf6 Nf3 dxc4 e3 a6 Bxc4 b5 Bd3 Bb7 a3 c5 dxc5 Bxc5 1b4 Bb6 1Be2 Nbd7 1O-O O-O 1Bb2 Qb8 1Rc1 Qa7 1Qc2 Rac8 1Qb1 Ng4 1Rcd1 Ndf6 1Nd4 Rfd8 1Bxg4 Nxg4 2h3 Nf6 2Nf3 Nd5 2Nxd5 Bxd5 2e4 Bc4 2Rfe1 Bxf2+ 2Kh1 Bxe1',\n",
              " 'd4 d5 c4 c6 Nf3 e6 Nc3 f5 e3 Nf6 Bd3 Ne4 O-O Bd6 Ne5 Nd7 f3 Nxc3 1bxc3 Nxe5 1dxe5 Bxe5 1cxd5 Bxc3 1Ba3 Bxa1 1Qxa1 Qg5 1dxc6 Qxe3+ 1Kh1 Qxd3 1Qc1 b6 1Rd1 Qa6 1Qc3 Rg8 2Qb4 Kf7 2h4 Kg6 2Qe7 h6 2Bb2 Qe2 2h5+ Kh7 2Qd6 Qxb2',\n",
              " 'e4 d5 exd5 Qxd5 d4 Qd8 Nc3 e6 Nf3 Nc6 Be2 Nf6 Be3 Nd5 a3 Nxc3 bxc3 Bd6 1c4 Nb8 1c5 Be7 1c4 O-O 1O-O f5 1Re1 Bf6 1h3 Bd7 1Qd2 Bc6 1Bg5 Bxg5 1Nxg5 h6 1Nxe6 Qe7 2Nxf8 Qxf8 2Bf3 Qf6 2d5 Bd7 2Qe2 Na6 2Qe7 Qc3 2Qxd7 Qxc4',\n",
              " 'e4 c5 Nc3 d6 Nf3 e6 d4 cxd4 Nxd4 a6 Be3 Qc7 Be2 Nf6 Qd2 b5 a3 Bb7 1f3 Nbd7 1O-O Nb6 1Bd3 d5 1Nde2 Bc5 1exd5 Nbxd5 1Nxd5 Nxd5 1Bd4 e5 1Bxc5 Qxc5+ 1Kh1 O-O 1Ng3 g6 2Ne4 Qc6 2b3 f5 2Ng3 Nc3 2Rfe1 Rae8 2Ne2 Nxe2 2Bxe2 Rd8',\n",
              " 'Nf3 d5 g3 Nc6 Bg2 e5 d3 Bb4+ c3 Be7 O-O Nf6 Nbd2 O-O e4 d4 cxd4 Nxd4 1Nxd4 Qxd4 1Nb3 Qd8 1d4 exd4 1Nxd4 Bd7 1e5 Ng4 1Bxb7 Rb8 1Bg2 Nxe5 1Nf3 Bf6 1Rb1 Bb5 1Re1 a6 2Qxd8 Rbxd8 2Be3 Nxf3+ 2Bxf3 c6 2b3 a5 2Rbc1 a4 2Bxc6 Bxc6',\n",
              " 'e4 c5 Nf3 Nc6 d4 cxd4 Nxd4 e5 Nb3 Nf6 Bg5 h6 Bxf6 Qxf6 Bc4 Be7 O-O a6 1a4 O-O 1Nc3 Kh8 1Nd5 Qg6 1c3 d6 1Nxe7 Nxe7 1Bd5 Bh3 1Qf3 Nxd5 1Qxh3 Nf4 1Qg3 Ne2+ 1Kh1 Nxg3+ 2hxg3 f5 2exf5 Rxf5 2Rad1 Rh5+ 2Kg1 Rf8 2Na5 b6 2Nc4 d5',\n",
              " 'd4 d6 c3 g6 Nf3 Bg7 Bf4 f6 e3 Nc6 Bd3 e5 dxe5 dxe5 Bg3 Nge7 Bc2 Qxd1+ 1Bxd1 O-O 1Bb3+ Kh8 1O-O e4 1Nfd2 f5 1Bxc7 Ne5 1Bxe5 Bxe5 1Nc4 Bg7 1Nbd2 b5 1Na3 a6 1c4 b4 2Nc2 a5 2a3 bxa3 2Rxa3 Nc6 2Rfa1 Bd7 2Ba4 Rfd8 2R1a2 Ne5',\n",
              " 'e4 b6 e5 Bb7 f4 e6 d4 d6 exd6 Bxd6 Nf3 Bxf3 Bb5+ c6 Qxf3 Qc7 Bd3 Nf6 1c3 Nd5 1O-O Nxf4 1Bxf4 Bxf4 1Qxf4 Qxf4 1Rxf4 f5 1Nd2 Nd7 1Re1 O-O-O 1Rxe6 Kb7 1Nb3 g6 1a4 Rhe8 2Rxe8 Rxe8 2Nd2 Re1+ 2Kf2 Rb1 2b4 Rb2 2Ke3 Ra2 2a5 Ra3',\n",
              " 'e4 e5 d4 exd4 f4 Nc6 Nf3 d6 Bd3 Bg4 a3 Nf6 O-O Qd7 Qe2 O-O-O b4 g6 1Nbd2 Bg7 1Nb3 h5 1Bd2 Bh6 1b5 Nb8 1Na5 b6 1Nc6 Nxc6 1bxc6 Qxc6 1Ba6+ Kb8 1Bb5 Qb7 1e5 dxe5 2Qxe5 Nd7 2Qe7 a6 2Bd3 Bxf3 2Rxf3 Rhe8 2Qxf7 Nc5 2Bb4 Nxd3',\n",
              " 'e4 e6 Nf3 d5 exd5 exd5 Be2 a6 O-O Nc6 Re1 Be6 d4 h6 c4 Nf6 Qb3 Bb4 1Bd2 a5 1cxd5 a4 1Qc4 Bxd2 1dxe6 Bxe1 1exf7+ Kf8 1Nxe1 Qe7 1d5 Ne5 1Qe4 Nxe4 1Na3 Kxf7 1Nec2 Rhd8 2Re1 Kf8 2Nd4 Rxd5 2Nf5 Qf6 2g4 h5 2h3 hxg4 2hxg4 Rd2',\n",
              " 'e4 e6 d4 d5 e5 c5 c3 Nc6 Nf3 Qb6 a3 Nge7 b4 cxd4 cxd4 Nf5 Be3 Nxe3 1fxe3 Be7 1Bd3 O-O 1Nc3 f6 1Na4 Qd8 1exf6 Bxf6 1h4 h6 1Bc2 e5 1dxe5 Nxe5 1Nxe5 Bxe5 1Qd3 Bf5 2e4 Bxe4 2Qh3 Bxc2 2Qe6+ Rf7 2Rf1 Qf8 2Qxe5 Rxf1+ 2Kd2 Rxa1',\n",
              " 'd4 c6 e3 d5 c4 Nf6 Bd2 e6 Nc3 Be7 c5 b6 Nf3 bxc5 Qc2 cxd4 Nxd4 c5 1Nf3 O-O 1Bd3 Nbd7 1Ng5 h6 1Nh7 Nxh7 1Bxh7+ Kh8 1e4 Nf6 1Bxh6 Nxh7 1Qd2 gxh6 1Qxh6 Bg5 1Qh5 Qf6 2O-O Qg6 2Qh3 e5 2Ne2 Bxh3 2gxh3 Be3+ 2Kh1 Bf4 2Ng3 Bxg3',\n",
              " 'd4 d5 c4 c6 a4 Bf5 Nc3 e6 f3 Bb4 e3 Ne7 cxd5 Qxd5 Ne2 Qa5 Bd2 Nd7 1e4 Bg6 1e5 Nd5 1Nxd5 Bxd2+ 1Qxd2 Qxd2+ 1Kxd2 cxd5 1Nf4 Nf8 1Bb5+ Nd7 1Rac1 Ke7 1Rc7 Rhd8 1Rxb7 a6 2Bxd7 Rxd7 2Rxd7+ Kxd7 2Nxg6 hxg6 2Rb1 f6 2f4 f5 2g3 a5',\n",
              " 'e4 b6 d4 Bb7 Nc3 e6 Bd3 Bb4 Bd2 Nf6 Nge2 h6 a3 Bxc3 Nxc3 a6 Qe2 Nc6 1Be3 d5 1e5 Nh7 1f4 f5 1Qh5+ Kd7 1b4 b5 1g4 fxg4 1Qxg4 Qf8 1f5 Nd8 1a4 h5 1Qg6 Qe7 2fxe6+ Nxe6 2axb5 Qxb4 2Kd2 Nhf8 2Rab1 Qxc3+ 2Kxc3 Nxg6 2Bxg6 axb5',\n",
              " 'd4 b6 Nf3 Bb7 Bg5 g6 Bh4 Bg7 e3 d6 Bd3 Nd7 Bg3 e6 Nbd2 Qe7 c4 h5 1Rc1 Bh6 1h3 g5 1Bh2 g4 1hxg4 hxg4 1Ng1 Bg5 1Qxg4 f6 1f4 Bh6 1Bg6+ Kd8 1Ngf3 f5 1Qg3 Ngf6 2Qf2 Ng4 2Qg1 Qg7 2Bh5 e5 2Bxg4 fxg4 2Nh4 exd4 2exd4 Qe7+',\n",
              " 'e4 g6 Nf3 Bg7 Nc3 e6 d4 Ne7 Be3 O-O Qd2 d5 Bh6 dxe4 Nxe4 Nf5 Bxg7 Kxg7 1h4 h5 1O-O-O Nd6 1Nxd6 cxd6 1Bd3 Nc6 1c3 Bd7 1Rhg1 Rc8 1g4 hxg4 1Rxg4 e5 1Rg5 exd4 1Nxd4 Nxd4 2Bxg6 Nb3+ 2axb3 fxg6 2Rdg1 Rf6 2h5 Bf5 2Qd4 Kf7 2hxg6+ Bxg6',\n",
              " 'e4 e5 Nf3 d6 Bc4 Bg4 Be2 Bxf3 Bxf3 h6 c3 Be7 d4 exd4 cxd4 Bg5 O-O Bxc1 1Qxc1 Nf6 1Nc3 O-O 1Re1 a6 1e5 dxe5 1dxe5 Nfd7 1Bxb7 Ra7 1Bd5 Nb6 1Qe3 Nxd5 1Qxa7 Nxc3 1bxc3 Nc6 2Qc5 Qe8 2Rab1 Nxe5 2Rxe5 Qd7 2Qd4 Qxd4 2cxd4 Rd8 2Rd1 Rb8',\n",
              " 'Nf3 Nf6 g3 g6 Bg2 d6 O-O e5 d3 Bg7 c4 O-O Bg5 Qe8 Nbd2 h6 Bxf6 Bxf6 1Rb1 Nd7 1b4 a5 1Ne4 Bg7 1a4 f5 1Nc3 f4 1Nd2 g5 1Nd5 Qd8 1Ne4 c6 1Ndc3 Nf6 1b5 Nxe4 2Bxe4 Bf5 2bxc6 Bxe4 2Nxe4 bxc6 2Rb7 d5 2cxd5 cxd5 2Nc5 Qc8',\n",
              " 'e3 e5 g3 d5 d3 c5 b3 b5 Bb2 Bd6 Bg2 Bb7 Nc3 a6 Bxd5 Bxd5 Nxd5 Nf6 1Nxf6+ Qxf6 1Qf3 Ra7 1Qxf6 gxf6 1e4 c4 1Nf3 c3 1Bxc3 Rc7 1Kd2 b4 1Bb2 Nc6 1Rac1 Bc5 1Rhf1 Nd4 2Nxd4 Bxd4 2Bxd4 exd4 2Ra1 O-O 2a3 a5 2axb4 axb4 2Ra4 Rfc8',\n",
              " 'e4 g6 d4 Bg7 Nf3 e6 Nc3 Ne7 Be2 O-O Bd2 b6 Bb5 a6 Ba4 b5 Bb3 Nbc6 1a3 Nxd4 1Nxd4 Bxd4 1Bf4 e5 1Bg3 d6 1Rb1 Bxc3+ 1bxc3 Bb7 1f3 Nc6 1c4 Na5 1cxb5 Nxb3 1cxb3 axb5 2a4 bxa4 2bxa4 Ba6 2f4 c6 2fxe5 Qa5+ 2Qd2 Qxd2+ 2Kxd2 dxe5',\n",
              " 'b3 d5 Bb2 e6 e3 Nc6 Nc3 Bd7 Qe2 Qe7 O-O-O O-O-O f4 f6 Nf3 e5 fxe5 fxe5 1h3 d4 1Nd5 Qe6 1e4 Nf6 1Ng5 Qg8 1h4 Nxd5 1exd5 Ne7 1Ne6 Bxe6 1dxe6 Qxe6 1g4 Nd5 1g5 Nf4 2Qf2 Bd6 2Re1 Rhf8 2Qg3 Qf5 2h5 h6 2g6 Qg5 2Qxg5 hxg5',\n",
              " 'e4 e5 Nf3 Nc6 Bc4 Bc5 d3 h6 d4 exd4 O-O d6 Bb5 Bd7 Bxc6 Bxc6 e5 Bb5 1Re1 d5 1Nxd4 Bd7 1e6 fxe6 1Nxe6 Qf6 1Nxc5+ Ne7 1c3 O-O-O 1Qb3 b6 1Na6 Rhf8 1Rf1 Qg6 1c4 Bh3 2Qxh3+ Nf5 2cxd5 Rxd5 2Nc3 Ra5 2Nb4 Re5 2Qf3 Rfe8 2Qa8+ Kd7',\n",
              " 'e4 e5 Nf3 Nc6 Bc4 Nf6 Nc3 Bb4 d3 d6 h3 h6 O-O Bd7 a3 Ba5 b4 Bb6 1Na4 Bd4 1c3 Bb6 1Nxb6 axb6 1Bb2 Ne7 1Bb3 c5 1c4 O-O 1Qd2 Nh7 1Nh2 f5 1f4 fxe4 1dxe4 Bxh3 2gxh3 Ng6 2f5 Nf4 2Qe3 Qg5+ 2Ng4 Qh4 2Kh2 Nf6 2Nxf6+ Rxf6',\n",
              " 'd4 d5 c4 Nf6 e3 e6 a3 c6 Nf3 Bd6 c5 Be7 Be2 O-O Nc3 b6 b4 a5 1Bb2 axb4 1axb4 Rxa1 1Qxa1 Nbd7 1O-O bxc5 1bxc5 Qc7 1g3 Ne8 1Rb1 e5 1Nd1 e4 1Ne1 Nef6 1Ng2 Nb8 2Bc3 Bg4 2Bxg4 Nxg4 2h3 Nh6 2Qa5 Qxa5 2Bxa5 Nd7 2Rb7 Nxc5',\n",
              " 'd4 c5 Nf3 cxd4 Nxd4 Nc6 Nxc6 bxc6 g3 e5 Bg2 Nf6 O-O Bc5 b3 Bd4 c3 Bb6 1Ba3 c5 1Bxa8 O-O 1Bg2 Ba6 1Re1 d5 1Nd2 Qc7 1Nf3 e4 1Nd2 Rd8 1Qc2 Qe5 1Rad1 Bb7 1e3 h5 2c4 h4 2cxd5 Bxd5 2Nc4 Qe6 2Nxb6 axb6 2Rd2 Ng4 2Bxe4 Bxe4',\n",
              " 'e4 e5 Nf3 Nc6 d4 exd4 Nxd4 Bb4+ c3 Nxd4 Qxd4 Ba5 b4 Bb6 Qe5+ Qe7 Qxg7 Qf6 1Qg3 d6 1Bg5 Bxf2+ 1Qxf2 Qxf2+ 1Kxf2 Be6 1Bd3 f6 1Bf4 O-O-O 1Re1 Ne7 1Kg1 Ng6 1Be3 Ne5 1Rd1 Bg4 2Rd2 Rhg8 2Bxa7 Bf3 2Bf1 Bxe4 2Na3 b6 2Nb5 Kb7 2Re1 Bc6',\n",
              " 'e4 e5 Nf3 Nc6 Bb5 Nf6 O-O Bc5 c3 a6 Ba4 d6 d4 exd4 cxd4 Ba7 Nc3 b5 1Bc2 O-O 1Be3 Re8 1d5 Bxe3 1fxe3 Ne5 1Nxe5 Rxe5 1Qf3 Qe7 1Rac1 Bg4 1Ne2 Bxf3 1Rxf3 Nxe4 1Nd4 Nd2 2Rg3 Rxe3 2Nc6 Qe8 2Rd1 Re1+ 2Kf2 Rxd1 2Bxd1 Ne4+ 2Kf3 Nxg3',\n",
              " 'e4 e5 f4 d6 Nf3 f6 d4 exd4 Qxd4 Nc6 Bb5 Bd7 Qe3 Qe7 Nc3 O-O-O Bd2 a6 1Bxc6 Bxc6 1O-O h6 1Nd4 Bd7 1Qf3 g5 1fxg5 hxg5 1Nf5 Qe5 1Ne2 Bh6 1Bc3 Ne7 1Bxe5 fxe5 1Nxe7+ Kb8 2Nf5 Rdf8 2Qb3 Rxf5 2exf5 Rg8 2Ng3 g4 2Qxg8+ Ka7 2f6 Bc6',\n",
              " 'e4 c5 g3 Nc6 Bg2 d6 Nf3 e5 O-O h6 b3 Nf6 Bb2 Nxe4 Nxe5 dxe5 Bxe4 Bd6 1Nc3 Be6 1Nb5 Bb8 1h4 a6 1Nc3 O-O 1g4 Qd7 1f3 f5 1Bxc6 bxc6 1gxf5 Bxf5 1Kh1 Bh3 1Rg1 Qf5 2Rg3 e4 2Kh2 Bxg3+ 2Kxg3 exf3 2Kf2 Qg4 2Qg1 Qd4+ 2Kg3 Qg4+',\n",
              " 'e4 b6 d4 Bb7 Bd3 g6 Qe2 Bg7 c3 e6 h4 Ne7 Bg5 h6 Be3 d5 Nd2 dxe4 1Bxe4 Bxe4 1Nxe4 Nd7 1Nf3 Nd5 1Bd2 N7f6 1Nxf6+ Qxf6 1Ne5 O-O 1O-O-O Qe7 1f4 Bxe5 1fxe5 Kh7 1h5 g5 2Qe4+ Kg7 2Rdf1 f5 2exf6+ Rxf6 2Rxf6 Qxf6 2Re1 Re8 2c4 Nf4',\n",
              " 'e4 e5 Qh5 Qf6 Bc4 g6 Qe2 Nc6 Nf3 d6 h3 Nge7 Nc3 Be6 d3 Bxc4 dxc4 O-O-O 1Bg5 Qe6 1Nd5 h6 1Bxe7 Nxe7 1O-O Nxd5 1cxd5 Qd7 1a4 Kb8 1b4 Qc6 1dxc6 b6 1b5 Be7 1a5 g5 2axb6 cxb6 2Qd3 Rc8 2Qa3 a5 2Nd2 Ka7 2Nc4 Rb8 2Qb3 Rhc8',\n",
              " 'd4 c5 e3 e6 d5 exd5 Qxd5 Nf6 Qd1 d5 Be2 Nc6 Nf3 Bd6 Bd2 O-O c3 Bg4 1Na3 a6 1Ng1 Bf5 1Nf3 Qc7 1g3 Be4 1O-O Ne5 1Nc2 Nfg4 1Nxe5 Nxe5 1f3 Bg6 1f4 Nd7 1Qe1 Bxc2 2Rc1 Be4 2Bf3 Bxf3 2Rxf3 Nf6 2Qf2 Ne4 2Qe1 Nxd2 2Qxd2 Qc6',\n",
              " 'e4 d5 Nf3 dxe4 Ng1 Nc6 Nc3 Nf6 Nge2 Bf5 b3 Nd4 Nxd4 Qxd4 Bb2 e6 Bc4 Bc5 1Rf1 Ng4 1Qe2 Nxh2 1Rg1 Bg4 1Qe3 O-O 1Qxd4 Bxd4 1Ne2 Bxb2 1Rb1 Bf6 1Rh1 Be5 1g3 Nf3+ 1Kd1 Nd4 2Re1 c6 2b4 b5 2Bb3 Nf5 2Kc1 Rad8 2Nf4 Nd4 2Rxe4 Nxb3+',\n",
              " 'd4 b6 c4 Bb7 Nc3 g6 Nf3 Bg7 g3 e6 Bg2 Ne7 O-O O-O Bg5 Qe8 e3 c6 1Ne5 d6 1Nf3 d5 1b3 dxc4 1bxc4 c5 1Ne5 Bxg2 1Kxg2 cxd4 1exd4 Nbc6 1Nxc6 Nxc6 1Nb5 Qd7 1Be3 a6 2Na3 Nxd4 2Rb1 Rfd8 2Rxb6 Qc7 2Rb1 Qc6+ 2Kg1 Nf3+ 2Qxf3 Qxf3',\n",
              " 'e4 e5 Nc3 c6 Bc4 Qe7 Nf3 d6 d3 f5 exf5 Bxf5 O-O Nd7 d4 e4 Ng5 d5 1Bb3 h6 1f3 hxg5 1fxe4 Bxe4 1Nxe4 dxe4 1Qg4 O-O-O 1Bxg5 Nf6 1Bxf6 gxf6 1Rae1 Bh6 1Qxe4 Qxe4 1Rxe4 Rde8 2Rfe1 Rxe4 2Rxe4 Kd8 2c3 Re8 2Rxe8+ Kxe8 2Kf2 Bc1 2d5 Bxb2',\n",
              " 'e4 d5 exd5 Qxd5 Nc3 Qd8 g3 Nf6 Bg2 g6 d3 Bg7 Bg5 O-O Bxf6 Bxf6 Nge2 c6 1O-O Nd7 1d4 Nb6 1a3 Be6 1Nf4 Bf5 1Be4 Bxe4 1Nxe4 Bxd4 1c3 Bg7 1Qxd8 Raxd8 1Rad1 Nc4 1Rxd8 Rxd8 2b3 Nxa3 2c4 Nc2 2Nc5 b6 2Na4 Rd2 2c5 b5 2Nh3 Rd3',\n",
              " 'f4 d6 Nf3 g6 d3 Bg7 g3 f5 Bg2 Nf6 Bd2 O-O Nc3 Nbd7 h3 e5 fxe5 Nxe5 1Nxe5 dxe5 1O-O Be6 1e4 c6 1exf5 Bxf5 1g4 Be6 1Ne4 Qd4+ 1Kh2 Qxb2 1Nxf6+ Rxf6 1Rxf6 Bxf6 1Rb1 Qd4 2Rxb7 Bd5 2Qg1 c5 2Be3 Qxe3 2Qxe3 Bxb7 2Bxb7 Rb8 2Bd5+ Kg7',\n",
              " 'd4 f6 c4 e6 e3 d5 Nf3 dxc4 Bxc4 c6 a3 b5 Bb3 Bb7 Bc2 Nd7 Nbd2 Nb6 1b4 Nc4 1Nxc4 bxc4 1Qe2 Ba6 1Kf1 Qc8 1Kg1 c3 1Bd3 Bxd3 1Qxd3 a5 1Qxc3 a4 1Bb2 Bd6 1h3 Ne7 2Rc1 O-O 2Qd3 Qd7 2Qd1 Rac8 2Qe2 Nd5 2g3 Nb6 2Kg2 h5',\n",
              " 'd4 Nf6 c4 g6 Nc3 Bg7 e4 d6 f4 O-O e5 Ne8 h3 dxe5 fxe5 c5 d5 Bxe5 1Be3 Nd7 1Nf3 Bg7 1Bd3 Nd6 1O-O b6 1Qd2 Nf6 1Bh6 Bf5 1Bxg7 Kxg7 1Nh4 Bxd3 1Qxd3 Rb8 1Rae1 a6 2a3 b5 2b3 bxc4 2bxc4 Rb3 2Qg3 Qa5 2Re3 Nxc4 2Ref3 Nd6',\n",
              " 'e4 e6 f3 d5 exd5 Qxd5 d4 Nf6 Ne2 Bd6 c3 Qc6 Be3 Nbd7 Ng3 Nb6 a4 Bxg3+ 1hxg3 Bd7 1Bb5 Qd6 1Bxd7+ Nfxd7 1O-O O-O-O 1Bf4 e5 1dxe5 Nxe5 1Qxd6 Rxd6 1a5 Nxf3+ 1gxf3 Rf6 1axb6 h5 2bxa7 Kd7 2Rd1+ Kc6 2a8=Q Rxa8 2Rxa8 h4 2Rc8 Rxf4 2gxf4 h3',\n",
              " 'd4 Nc6 c4 d5 c5 Bf5 a3 Nf6 b4 e6 b5 Na5 Qa4 Nc4 e3 Be7 Bxc4 dxc4 1Qxc4 O-O 1a4 Ne4 1Nc3 Nxc3 1Qxc3 Be4 1f3 Bf5 1Bb2 c6 1Ne2 Bf6 1Ng3 Bg6 1O-O Bh4 1Ne2 cxb5 2axb5 b6 2c6 Qc7 2Nf4 Bf5 2g3 Bf6 2Nh5 Be7 2d5 f6',\n",
              " 'd4 d5 Nf3 Nf6 c4 c6 e3 Bf5 Nc3 Bg6 cxd5 cxd5 Be2 a6 Ne5 e6 O-O Bd6 1Nxg6 hxg6 1g3 Nc6 1Bf3 Qc7 1e4 dxe4 1Nxe4 Nxe4 1Bxe4 O-O-O 1Be3 Kb8 1Rc1 Rc8 1d5 exd5 1Bxd5 Qe7 2Bxc6 Rxc6 2Rxc6 bxc6 2Qb3+ Ka8 2Qc4 Qb7 2Rd1 Rd8 2Bc5 Bc7',\n",
              " 'b3 Nf6 Bb2 g6 g3 Bg7 f3 O-O e3 Ne8 c3 f6 h4 d5 h5 Bf5 hxg6 Bxg6 1Qe2 Nc6 1d3 Nd6 1Nd2 Nf5 1Qf2 Ne5 1O-O-O a5 1g4 Nd6 1f4 Nc6 1f5 Bf7 1g5 fxg5 1Ndf3 h6 2Nxg5 hxg5 2Qg3 Nxf5 2Qxg5 e6 2Nh3 Qxg5 2Nxg5 a4 2Nh7 Rfc8',\n",
              " 'b3 d6 Bb2 e5 e3 f5 Bd3 g5 Nf3 Nf6 Nxg5 h6 Nf3 Be6 Nh4 Nbd7 Nxf5 Bxf5 1Bxf5 Be7 1Bxd7+ Qxd7 1Qe2 Qf5 1Nc3 O-O-O 1O-O-O Nd7 1Kb1 Nc5 1g4 Qd7 1h3 Bf6 1Na4 Nxa4 1bxa4 b5 2axb5 a5 2a4 Be7 2c3 d5 2d4 e4 2f3 Rhe8 2fxe4 Bg5',\n",
              " 'e4 e5 Bc4 Nc6 d3 d6 Nc3 Be7 Nf3 Bg4 h3 Bh5 O-O Nf6 Nd5 Nd4 Be3 Nxf3+ 1gxf3 Nxd5 1Bxd5 c6 1Bb3 O-O 1Kh1 Bh4 1Rg1 Qf6 1Kh2 Bxf3 1Qf1 Rad8 1a4 d5 1exd5 cxd5 1Bxa7 d4 2Bb6 Qf4+ 2Rg3 Rd6 2Bc5 Rg6 2Qg1 Rc8 2Bb4 Bxg3+ 2fxg3 Qe3',\n",
              " 'e4 c5 Nf3 e6 d4 cxd4 Nxd4 a6 c4 Nc6 Nc3 d5 exd5 exd5 cxd5 Nxd4 Qxd4 Nf6 1Bg5 Be7 1O-O-O O-O 1Bc4 h6 1Bh4 Nh5 1Bxe7 Qxe7 1g3 Qg5+ 1Kb1 Bf5+ 1Ka1 b5 1Bd3 Bxd3 1Qxd3 Rfd8 2f4 Qf6 2Qf3 Qf5 2g4 Qxf4 2Qxf4 Nxf4 2Rhf1 g5 2d6 Rd7',\n",
              " 'e4 d5 e5 Nc6 Nf3 e6 d4 f6 Bb5 Bd7 O-O g5 Bxc6 Bxc6 Na3 g4 Nd2 f5 1f3 g3 1hxg3 Qg5 1f4 Qxg3 1Qf3 Qxf3 1Rxf3 O-O-O 1Rc3 Bh6 1Nb3 Ne7 1Nc5 b6 1Nxe6 Rdg8 1Rh3 Rg6 2Ng5 Bxg5 2fxg5 Bd7 2Bf4 Nc6 2Nb5 a6 2Nc3 Nxd4 2Rd1 Nxc2',\n",
              " 'Nf3 d5 e4 dxe4 Ng5 Nf6 Nc3 e6 Ngxe4 Nxe4 Nxe4 c6 d4 Be7 c3 O-O Bd3 g6 1h4 h5 1Be3 Nd7 1g4 hxg4 1Qxg4 Nf6 1Nxf6+ Bxf6 1h5 e5 1Qg2 g5 1Qe4 Re8 1O-O-O exd4 1Qh7+ Kf8 2Bc4 Be6 2Bxd4 Bxd4 2Rxd4 Qf6 2f4 Bf5 2Qxf7+ Qxf7 2Bxf7 Kxf7',\n",
              " 'c4 e6 g4 Be7 Nc3 h5 e3 hxg4 Qxg4 Bf6 Nf3 Bxc3 bxc3 Qf6 Bb2 Nh6 Qe4 c5 1Ne5 Nc6 1Nxc6 bxc6 1Ba3 Qf5 1Qxf5 Nxf5 1Bxc5 Nh4 1Be2 Ng2+ 1Kf1 Nh4 1Rg1 Ng6 1Bh5 Rxh5 1Re1 Rxc5 2Rg3 Rxc4 2Rh3 Rh4 2Rf3 Rxh2 2Ke2 Ba6+ 2d3 Rh5 2c4 Ra5',\n",
              " 'e4 c5 f4 d6 Nf3 g6 Bc4 Bg7 d4 e6 dxc5 dxc5 Qxd8+ Kxd8 Nc3 a6 Ng5 Ke7 1Be3 Nd7 1Na4 b5 1Nxc5 bxc4 1Nxd7 Bxd7 1Bc5+ Ke8 1e5 h6 1Ne4 Bf8 1Nd6+ Bxd6 1Bxd6 Ne7 1O-O-O Nf5 2Ba3 Rd8 2Rd2 Bc6 2Rhd1 Rxd2 2Rxd2 Bd5 2g4 Ne3 2Re2 Nxg4',\n",
              " 'd4 Nf6 c4 g6 Nc3 Bg7 Nf3 O-O h3 c6 Bf4 d6 e3 Nbd7 Be2 Re8 O-O Nf8 1Re1 Be6 1e4 Qc8 1d5 Bd7 1Rc1 Rd8 1Qd2 c5 1e5 dxe5 1Nxe5 b6 1Bf3 Ne8 1d6 Nxd6 1Nd5 Re8 2Nxf7 Kxf7 2Nxe7 Rxe7 2Rxe7+ Kxe7 2Bxd6+ Kf7 2Bxf8 Bc6 2Bxg7 Bxf3',\n",
              " 'e4 e6 Nf3 c5 Bc4 Nc6 c3 a6 d4 b5 Bb3 c4 Bc2 Nf6 Bg5 Be7 e5 Nd5 1Bxe7 Ndxe7 1O-O O-O 1Nbd2 Bb7 1Ng5 g6 1f4 Nf5 1Qe2 d6 1g4 Ng7 1Nge4 dxe5 1fxe5 Ne7 1Qf3 f5 2Nf6+ Rxf6 2Qxb7 Rf7 2Rf4 Nd5 2Qc6 Rc7 2Qd6 Rd7 2Qc6 Nxf4',\n",
              " 'e4 d5 exd5 g6 c4 Bg7 Nc3 Nf6 Nf3 a6 d4 O-O Bd3 b5 b3 b4 Ne4 a5 1O-O Bg4 1Nxf6+ exf6 1h3 Bd7 1Be3 f5 1Qd2 Bc8 1Rae1 Nd7 1Bh6 Nf6 1Bxg7 Kxg7 1Re2 Qd6 1Rfe1 Bd7 2Ne5 Ne4 2Bxe4 fxe4 2Rxe4 Bf5 2R4e2 Rae8 2g4 Bc8 2f4 Qf6',\n",
              " 'g3 d5 Bg2 Nf6 b3 g6 Bb2 Bg7 d3 O-O Nd2 c6 e3 e5 Qe2 Re8 h4 d4 1e4 c5 1Bh3 h5 1Bxc8 Qxc8 1Nh3 b5 1f3 Nc6 1g4 hxg4 1fxg4 Qxg4 1Qh2 Qxh4+ 1Nf2 Qxh2 1Rxh2 Nh5 2O-O-O Nf4 2Rdh1 f6 2Ng4 Kf7 2Rf1 Rh8 2Rhf2 Rh3 2Kb1 Na5',\n",
              " 'd4 d5 Nf3 Nf6 e3 c6 Bd3 Bg4 h3 Bxf3 Qxf3 g6 O-O Bg7 c4 e6 Nc3 O-O 1Bd2 Nbd7 1Rad1 Re8 1b4 dxc4 1Bxc4 Nb6 1Bb3 Nbd5 1Ne4 Nxe4 1Qxe4 e5 1dxe5 Bxe5 1Qc4 Qe7 1e4 Nb6 2Qc2 Rad8 2Be3 Bc7 2f3 Kg7 2a3 f6 2Bc5 Qe5 2a4 Qh2+',\n",
              " 'e4 e5 Nf3 d6 Bc4 Be7 Nc3 Nc6 Nd5 Bg4 Nxe7 Qxe7 c3 Nf6 d3 O-O Bg5 h6 1Bh4 Na5 1Bb3 Nxb3 1axb3 c5 1h3 Bxf3 1Qxf3 Qe6 1Bxf6 gxf6 1Qg4+ Kh7 1Qf5+ Qxf5 1exf5 d5 1f3 a6 2g4 Rfe8 2O-O-O b5 2h4 a5 2g5 Rg8 2Rdg1 a4 2bxa4 Rxa4',\n",
              " 'd3 g6 e4 Bg7 f4 d6 Bd2 Bxb2 Bc3 Bxc3+ Nxc3 Nf6 d4 c6 Rb1 O-O Nf3 b5 1d5 a6 1h4 Nh5 1Ng5 Nxf4 1g3 Nh5 1Be2 Nxg3 1Rh2 Nxe2 1Qxe2 h5 1Kd2 Bg4 1Qf2 c5 1Rf1 Qe8 2Ne2 Bxe2 2Kxe2 Nd7 2Qf3 Ne5 2Qf4 b4 2Rhf2 a5 2Qg3 a4',\n",
              " 'e4 e6 Nf3 d6 d4 c6 c4 Be7 Be3 Nf6 Bd3 d5 Nc3 dxe4 Nxe4 Nxe4 Bxe4 O-O 1Qc2 g6 1O-O-O Nd7 1d5 cxd5 1cxd5 exd5 1Bxd5 Qa5 1Kb1 Nf6 1Bb3 b5 1Bd4 Ng4 1h3 Nh6 1Qc3 Nf5 2Qxa5 Nxd4 2Rxd4 Bc5 2Rdd1 Bxf2 2Qxb5 Bf5+ 2Ka1 a6 2Qb7 Rab8',\n",
              " 'e4 e5 Nf3 Nc6 Bb5 a6 Bxc6 dxc6 Nxe5 Qd4 Nf3 Qxe4+ Qe2 Qxe2+ Kxe2 Bg4 Re1 O-O-O 1h3 Bxf3+ 1gxf3 Nf6 1d3 Nd5 1Be3 Bd6 1c4 Nf6 1Nc3 Rhe8 1Kf1 Bb4 1Ke2 Nh5 1Kd2 Bd6 1Rg1 g6 2Ne4 Bf4 2Rad1 f5 2Bxf4 Nxf4 2Nf6 Rxd3+ 2Kc2 Re2+ 2Kc1 Rxd1+',\n",
              " 'e4 c5 f4 Nc6 Nf3 e6 a3 d6 Bc4 Nf6 Nc3 a6 d3 Be7 O-O b5 Ba2 Bb7 1Be3 Ng4 1Qd2 Nxe3 1Qxe3 Qd7 1Kh1 h6 1f5 g5 1fxe6 fxe6 1e5 d5 1Qe2 O-O-O 1Rad1 g4 1Ng1 Nd4 2Qxg4 Rdg8 2Qh3 Nf5 2b4 cxb4 2axb4 Bxb4 2Nce2 d4 2Nf4 Ne3',\n",
              " 'Nc3 d5 d4 Nf6 Bf4 Bf5 e3 Ne4 Nxe4 dxe4 f3 exf3 Qxf3 Bxc2 b3 Nc6 Bb5 Qd7 1Rc1 a6 1Bxc6 Qxc6 1Qxc6+ bxc6 1Rxc2 Kd7 1Nf3 f6 1O-O g5 1Bg3 h5 1h3 Bh6 1Kh2 g4 1Nh4 Bxe3 2Re1 Bxd4 2Rd1 e5 2Nf5 Ke6 2Nxd4+ exd4 2Rxd4 Rad8 2Re4+ Kd5',\n",
              " 'e4 e5 Nf3 Nc6 Bc4 Nf6 d3 Be7 O-O O-O c3 h6 Be3 d6 h3 a6 Nbd2 Be6 1Bxe6 fxe6 1d4 exd4 1cxd4 Qc8 1Qb3 Kh8 1e5 Nd5 1Ne4 dxe5 1Nxe5 Nxe5 1dxe5 Rf5 1Bc5 Bxc5 1Nxc5 b6 2Ne4 Rxe5 2f3 Rf5 2Rad1 Qb7 2Rfe1 Raf8 2Ng3 R5f7 2Rxe6 Nf4',\n",
              " 'e4 e5 f3 Nc6 d3 Nd4 Be3 c5 Ne2 d5 c3 Nc6 g3 d4 cxd4 cxd4 Bf2 Be6 1a3 Qa5+ 1Qd2 Qb6 1b4 Nxb4 1axb4 Bxb4 1Nbc3 Bxc3 1Nxc3 dxc3 1Qxc3 Rc8 1Qd2 Qb5 1Be2 Nf6 1O-O O-O 2Rfb1 Qd7 2Rd1 b6 2d4 Qe7 2d5 Rcd8 2Qe3 Bd7 2f4 exf4',\n",
              " 'd4 d5 c4 e5 dxe5 dxc4 Qxd8+ Kxd8 e4 Nc6 Nf3 Bg4 Bxc4 Bxf3 gxf3 Nxe5 Bb3 Nxf3+ 1Ke2 Ne5 1Bf4 Nf6 1Nd2 Bd6 1Bxe5 Bxe5 1Rac1 Rc8 1Nf3 c6 1Nxe5 Re8 1Nxf7+ Kc7 1Rhd1 Nxe4 1f3 Ng5+ 2Kf2 Nxf7 2Re1 Rxe1 2Rxe1 Nd6 2Re7+ Kb6 2Rxg7 Nb5 2Rxh7 Nd4',\n",
              " 'e4 Nf6 e5 Nd5 d4 d6 Nf3 Bg4 exd6 exd6 Nc3 Nb6 h3 Bh5 g4 Bg6 Be3 Be7 1Qd2 O-O 1O-O-O c6 1h4 h6 1g5 hxg5 1hxg5 f6 1gxf6 Bxf6 1Kb1 N8d7 1Bg5 d5 1Bxf6 Qxf6 1Nh4 Bh5 2Be2 Bxe2 2Qxe2 Qxf2 2Qe6+ Qf7 2Qxf7+ Rxf7 2Ng6 Nf6 2Rh8#',\n",
              " 'd4 Nc6 f4 d6 a3 e5 d5 Nd4 c3 Nf5 e4 Nfe7 f5 f6 Qh5+ g6 fxg6 Nxg6 1Nf3 Qe7 1Bb5+ Bd7 1Bd3 O-O-O 1Nbd2 Be8 1Qh3+ Bd7 1Qg3 Nf4 1Bc2 Nh6 1h3 Rg8 1Qf2 Nxg2+ 1Kd1 Nf4 2Qxa7 c6 2Qa8+ Kc7 2Qa5+ Kb8 2Nc4 Bc8 2dxc6 bxc6 2Be3 Rd7',\n",
              " 'b3 g6 Bb2 Nf6 e3 Bg7 d4 d5 Nf3 Nc6 Be2 Bg4 O-O Bxf3 Bxf3 e6 Nd2 O-O 1Rc1 a6 1c4 Qd7 1a3 Rad8 1b4 dxc4 1Nxc4 Nd5 1Qb3 b5 1Ne5 Nxe5 1dxe5 c6 1Rfd1 Qc7 1h3 Bxe5 2Bxe5 Qxe5 2Rxc6 Nf6 2Rxd8 Rxd8 2Rxa6 Nd5 2Bxd5 Rxd5 2Rc6 Qa1+',\n",
              " 'd4 c6 c4 d5 Nc3 Nf6 Nf3 e6 Bg5 Be7 e3 O-O Bxf6 Bxf6 cxd5 exd5 Bd3 Bg4 1O-O Nd7 1h3 Bh5 1g4 Bg6 1Bxg6 hxg6 1Qd3 Qe7 1Rac1 Rfe8 1Kg2 Nf8 1Na4 Ne6 1Nc5 Nxc5 1Rxc5 Qd6 2Rfc1 Re7 2g5 Bxg5 2Nxg5 Qf6 2Nf3 Re4 2Ne5 g5 2b4 g4',\n",
              " 'e4 Nf6 e5 Nd5 Nf3 d6 c4 Nb6 exd6 exd6 d4 Bg4 Nc3 Be7 Be2 O-O Be3 Re8 1Qb3 Nc6 1O-O-O Na5 1Qc2 Naxc4 1Bxc4 Nxc4 1Ne4 Nxe3 1fxe3 Bf5 1Rhf1 Kh8 1Nfd2 Bg6 1Qc3 d5 1Nc5 Bxc5 2Qxc5 b6 2Qc3 Rc8 2Nf3 c5 2Qd2 cxd4+ 2Qc3 dxc3 2bxc3 Rxc3+',\n",
              " 'e4 d5 exd5 Nf6 d3 Nxd5 Nf3 Bg4 Be2 e6 O-O Nc6 Nc3 Nxc3 bxc3 Bd6 d4 Qe7 1Nd2 Bxe2 1Qxe2 O-O 1Nc4 b6 1Nxd6 Qxd6 1Rb1 Ne7 1Rb3 Rfd8 1Qf3 Nd5 1c4 Ne7 1Ba3 Qd7 1Rd3 Nf5 2d5 exd5 2Rxd5 Nd6 2Rfd1 Qe6 2Bxd6 cxd6 2Rxd6 Qe8 2Qd3 Rxd6',\n",
              " 'd3 d5 e4 e6 exd5 exd5 d4 Nc6 c3 a6 Bd3 b5 Nf3 Bb7 Bf4 Nf6 h3 h6 1O-O g5 1Bg3 Qe7 1Re1 Qxe1+ 1Qxe1+ Be7 1Ne5 Nxe5 1dxe5 Nh5 1e6 fxe6 1Qxe6 Nxg3 1fxg3 d4 1cxd4 Bc8 2Qg6+ Kd8 2Nc3 Bd7 2Bf5 Bxf5 2Qxf5 Rf8 2Qe6 Ra7 2Nd5 c6',\n",
              " 'c4 e5 Nf3 Nc6 e3 Nf6 Be2 d5 cxd5 Nxd5 Qb3 Ndb4 a3 Be6 Qa4 Nd5 Nxe5 Qd6 1d4 Nb6 1Qb5 a6 1Qd3 Nxe5 1dxe5 Qxe5 1O-O Bd6 1f4 Qf6 1Nc3 O-O-O 1Qc2 Nd5 1Ne4 Qg6 1Nxd6+ Rxd6 2f5 Rc6 2Qxc6 bxc6 2fxg6 hxg6 2e4 Nf6 2Bxa6+ Kb8 2e5 Ng4',\n",
              " 'e4 e6 f4 Nh6 d4 Be7 Bd3 O-O f5 Bh4+ g3 Bg5 Nc3 exf5 e5 d6 Nf3 Bxc1 1Rxc1 dxe5 1dxe5 Nc6 1O-O Nxe5 1Nxe5 Qd4+ 1Kg2 Qxe5 1Qf3 Rb8 1Rce1 Qa5 1b4 Qxb4 1Nd5 Qc5 1Re5 Qd6 2Rfe1 Bd7 2Ne7+ Kh8 2Nxf5 Nxf5 2Bxf5 Bc6 2R5e4 Bxe4 2Bxe4 c6',\n",
              " 'e4 d5 e5 Bf5 d3 e6 f4 c5 Nf3 Nc6 b3 b5 Bb2 d4 Be2 Qa5+ Nbd2 Nge7 1h3 Nd5 1O-O Ne3 1Qc1 Nxf1 1Qxf1 Nb4 1c4 bxc4 1dxc4 Nc2 1Rc1 Ne3 1Qe1 Qxa2 1Bxd4 cxd4 1Nxd4 Bc5 2Nb5 Nc2+ 2Qf2 Bxf2+ 2Kxf2 O-O 2c5 Rfd8 2Nd6 Nd4 2Bc4 Qxd2+',\n",
              " 'Nf3 b6 g3 Bb7 Bg2 e6 O-O Bc5 d4 Bd6 c3 h5 e4 h4 Nbd2 hxg3 fxg3 f5 1e5 Be7 1Nc4 Nc6 1Ne3 d6 1Bd2 dxe5 1Nxe5 Nxe5 1dxe5 Qd7 1Bxb7 Rb8 1Bf3 g5 1Nc4 f4 1gxf4 gxf4 2Bxf4 Nh6 2Bxh6 Rxh6 2Qe2 Rg6+ 2Kh1 Kd8 2Rad1 Bd6 2exd6 cxd6',\n",
              " 'd4 c5 c3 Qa5 e3 Nf6 Bd2 Qb6 Qb3 Qc6 Nf3 a6 Bc4 e6 O-O d5 Ne5 Qd6 1Be2 Ne4 1Qc2 Nd7 1Nxd7 Bxd7 1c4 Be7 1cxd5 Qxd5 1Bf3 f5 1Bxe4 fxe4 1Nc3 Qc4 1Qxe4 Bc6 1Qe5 Rg8 2Qh5+ g6 2Qxh7 Rf8 2Qxg6+ Kd7 2dxc5 Bxc5 2Rfc1 Qb4 2Rc2 Rae8',\n",
              " 'e4 c6 d4 d5 e5 Bf5 b3 e6 Nf3 Ne7 Bb2 Nd7 Nbd2 Qb6 c4 dxc4 Nxc4 Qc7 1Nd6+ Kd8 1Nxf5 Nxf5 1Qc2 Rc8 1O-O-O Nb6 1a4 Bb4 1Qd3 Nd5 1g3 Qb6 1g4 Nfe7 1Ng5 Ke8 1Nxh7 g6 2Nf6+ Kf8 2h4 Nxf6 2exf6 Nd5 2g5 Nf4 2Qf3 Bd6 2Be2 Nxe2+',\n",
              " 'e4 Nc6 Nf3 e5 Bb5 Nf6 Bxc6 dxc6 d3 Bc5 O-O Qe7 c3 Bg4 h3 Bxf3 Qxf3 O-O-O 1b4 Bb6 1a4 a6 1b5 Qd6 1bxa6 Qxd3 1axb7+ Kxb7 1Be3 Qxe4 1Qg3 Nh5 1Qg5 Bxe3 1Qxh5 g6 1Qe2 Bxf2+ 2Qxf2 f5 2Nd2 Qd3 2Nf3 Rhe8 2Rfb1+ Ka8 2Qc5 Qa6 2Nxe5 Rd5',\n",
              " 'e4 g6 f4 Bg7 Bb5 b6 Be2 c6 Nf3 Bb7 O-O d6 d4 e6 c4 f6 Nc3 h6 1Be3 g5 1fxg5 hxg5 1e5 fxe5 1dxe5 d5 1cxd5 cxd5 1Bxg5 Qd7 1Be3 Nc6 1Ng5 Nh6 1Bh5+ Kd8 1Nh3 Nf5 2Bd2 Kc8 2Bg4 Kc7 2Bxf5 exf5 2Bg5 Qe6 2Bf6 Bxf6 2exf6 Qxf6',\n",
              " 'd4 d5 Bf4 Nf6 Nc3 e6 a3 Bd6 Bg5 h6 Bh4 O-O Qd3 Be7 Qf3 a6 e4 dxe4 1Nxe4 Nxe4 1Bxe7 Qxe7 1Qxe4 f5 1Qe3 Nc6 1c3 b5 1b4 Bb7 1Nf3 Rae8 1Be2 Qf6 1a4 bxa4 1Rxa4 Ne7 2Bxa6 Nd5 2Qd2 Bxa6 2Rxa6 g5 2Ne5 Re7 2O-O Nf4 2Rfa1 g4',\n",
              " 'Nf3 c5 Nc3 d5 e4 d4 Nb1 Nc6 Bc4 e5 d3 f6 a3 Qe7 Bxg8 Be6 Bxe6 Qxe6 1h3 O-O-O 1Bd2 Kb8 1Qe2 Bd6 1c3 dxc3 1Nxc3 Bf8 1O-O g5 1Nd5 h5 1b4 h4 1bxc5 Bxc5 1Nb4 Ne7 2Rfb1 Ka8 2Be3 Bxe3 2Qxe3 g4 2hxg4 Qxg4 2Nd2 Rdg8 2Qf3 Qe6',\n",
              " 'e4 Nf6 Nc3 e5 Nf3 d6 d4 Bg4 h3 Bxf3 Qxf3 exd4 Nd5 Nxd5 exd5 Qe7+ Be2 Nd7 1O-O Ne5 1Qb3 b6 1Re1 O-O-O 1Ba6+ Kb8 1f4 Nf3+ 1Qxf3 Qxe1+ 1Kh2 Be7 1Qd3 Bh4 1Bd2 Qg3+ 1Qxg3 Bxg3+ 2Kxg3 g5 2fxg5 Rhg8 2h4 f6 2Rf1 fxg5 2hxg5 h6 2Rf5 hxg5',\n",
              " 'e4 d5 exd5 Qxd5 c4 Qa5 Nc3 Nf6 d4 Bg4 Be2 Bxe2 Nxe2 Nc6 Be3 O-O-O O-O e6 1a3 Bd6 1b4 Qh5 1Ng3 Qh4 1Qf3 h5 1h3 Ng4 1b5 Nxe3 1Qxe3 Bf4 1Qe4 Rxd4 1Qc2 Ne5 1Nce2 Bxg3 2Nxd4 Qxd4 2Rad1 Qc5 2Qe4 f6 2Kh1 Bh4 2Qxh4 g5 2Qe4 g4',\n",
              " 'e4 e5 f4 Nc6 Nf3 Bc5 fxe5 Nge7 d4 Bb6 Nc3 O-O Na4 Ng6 Nxb6 axb6 Bg5 Qe8 1Be2 d6 1c3 dxe5 1d5 Nce7 1O-O Nf4 1Bxf4 exf4 1Qd2 Ng6 1Bd3 Bg4 1Nd4 Qe7 1h3 Bd7 1a3 Qg5 2Rae1 Bxh3 2Nf3 Qg3 2e5 Bg4 2Bxg6 fxg6 2e6 Rfe8 2Ne5 f3',\n",
              " 'd4 Nf6 c4 e6 Nc3 d5 Nf3 Bb4 e3 Nbd7 a3 Bxc3+ bxc3 c5 Bb2 b6 Bd3 Bb7 1O-O Rc8 1Rc1 Qe7 1Ne5 Nxe5 1dxe5 Nd7 1cxd5 Nxe5 1Bb5+ Kf8 1f4 a6 1d6 Qd8 1fxe5 axb5 1Qg4 Qd7 2Rc2 h5 2Qg5 g6 2Qxg6 Rg8 2Qxh5 Rxg2+ 2Rxg2 Bxg2 2Qh8#',\n",
              " 'c4 f6 g3 e6 Bg2 d6 f4 c6 Nc3 d5 Nf3 d4 Nb1 c5 d3 e5 e3 exf4 1exd4 Qe7+ 1Qe2 cxd4 1Qxe7+ Bxe7 1Nxd4 Bc5 1Nb3 Be3 1Bxe3 fxe3 1Ke2 Nc6 1Kxe3 Nge7 1Re1 O-O 1Kf2 Ng6 2N1d2 Bf5 2Ne4 Bxe4 2Bxe4 Nge5 2Nc5 Nd4 2Nxb7 Nc2 2Rec1 Nxa1',\n",
              " 'd4 e6 c4 d5 Nc3 dxc4 Nf3 a6 e3 b5 a4 c6 axb5 cxb5 Nxb5 Qa5+ Nc3 Qxa1 1Bxc4 Qa5 1O-O Nf6 1Bd2 Bb4 1Qb3 Nc6 1Ne5 Bd7 1Nxd7 Nxd7 1d5 exd5 1Bxd5 Rc8 1Bxf7+ Kd8 1Be6 Ke7 2Nd5+ Kxe6 2Nxb4+ Ke7 2Nxc6+ Rxc6 2Bxa5 Rhc8 2Qd5 Rd6 2Qe4+ Kf7',\n",
              " 'e4 e6 d4 d5 exd5 exd5 Nf3 Be6 Bd3 c5 c3 Nc6 Be3 Qb6 Qd2 c4 Be2 O-O-O 1a4 h6 1O-O g5 1Na3 f5 1Qc2 Be7 1Rfb1 g4 1Ne1 Qc7 1g3 h5 1Bf4 Bd6 1Bxd6 Qxd6 1Qd2 h4 2b3 hxg3 2fxg3 Nf6 2bxc4 Ne4 2Qe3 dxc4 2Nxc4 Bxc4 2Bxc4 Na5',\n",
              " 'e4 c6 Nf3 d5 Nc3 d4 Ne2 c5 c3 dxc3 bxc3 Nc6 d4 e5 dxe5 Qxd1+ Kxd1 Be6 1Kc2 O-O-O 1Be3 b6 1Ng3 g6 1Bb5 Kc7 1Rhd1 Rxd1 1Rxd1 f5 1exf5 gxf5 1Nh4 f4 1Bxf4 Nge7 1Bg5 Nd5 2Nf3 h5 2Bf6 Rh6 2Ne4 Bf5 2Bd3 Bxe4 2Bxe4 Nxf6 2Bf5 Nd5',\n",
              " 'e4 c5 Qh5 e6 Bc4 a6 f4 Nc6 f5 Nf6 Qf3 Ne5 Qe2 b5 fxe6 dxe6 Nf3 Nxc4 1d3 Nb6 1Bg5 Be7 1O-O Nfd7 1c4 Bxg5 1Nxg5 Qxg5 1Qf2 O-O 1Nd2 Qe5 1Nf3 Qc7 1Ng5 Ne5 1Nxe6 Bxe6 2Qxf7+ Rxf7 2Rxf7 Nxf7 2Rf1 b4 2Rxf7 Bxf7 2Kf1 Qe5 2Ke1 Qxb2',\n",
              " 'e4 c6 Nf3 d5 exd5 cxd5 d4 a6 Bd3 Nc6 c3 Bg4 O-O e6 Bf4 Be7 Nbd2 Nf6 1Qc2 Rc8 1Rae1 Nb4 1Qb1 Nxd3 1Qxd3 O-O 1Ne5 Bh5 1Ndf3 Bd6 1Qe3 Bxe5 1Nxe5 Ng4 1Nxg4 Bxg4 1h3 Bf5 2Be5 Qb6 2Re2 Qb5 2Rfe1 a5 2g4 Bg6 2h4 Be4 2f3 Bd3',\n",
              " 'e4 d5 f3 c6 d4 e6 e5 Be7 Bd3 f6 f4 g6 Nf3 c5 c3 cxd4 cxd4 Nc6 1Nc3 Qb6 1a3 Bd7 1Na4 Qc7 1Be3 Nh6 1b4 Nf5 1Bf2 fxe5 1fxe5 O-O 1Rc1 a6 1Qd2 Qd8 1Bxf5 exf5 2h4 Kg7 2Nc5 Bxc5 2bxc5 f4 2Ng5 Bf5 2g4 Bxg4 2Rg1 Bf5',\n",
              " 'd4 Nf6 e3 g6 Nc3 d5 Nf3 Bg7 Bb5+ Bd7 Bd3 b6 O-O c5 dxc5 bxc5 Ne5 O-O 1Qf3 e6 1e4 d4 1Nb5 Bxb5 1Bxb5 Qb6 1c4 dxc3 1Bc6 Nxc6 1Nxc6 Qxc6 1e5 Qxf3 1gxf3 Nd5 1bxc3 Bxe5 2Ba3 Nxc3 2Bxc5 Ne2+ 2Kg2 Bxa1 2Bxf8 Nf4+ 2Kg3 Kxf8 2Rxa1 e5',\n",
              " 'e4 e5 d4 exd4 Qxd4 d6 Qe3 Nc6 Nc3 Be7 Nh3 Nf6 Bd2 O-O Qg3 Nh5 Qf3 Nf6 1Be2 Bg4 1Qg3 Bxe2 1Kxe2 Nd4+ 1Kd1 c6 1Bh6 g6 1Bxf8 Bxf8 1Qe3 c5 1Nf4 Ng4 1Qg3 Qd7 1h3 Nf6 2Re1 Re8 2Ncd5 Nxd5 2exd5 Rxe1+ 2Kxe1 Nxc2+ 2Kd2 Nxa1 2Kc1 Qb5',\n",
              " 'd4 c5 Nf3 Nc6 d5 Nb8 e4 d6 Bd3 Nf6 O-O h6 Nc3 a6 Be3 e6 Re1 Be7 1dxe6 Bxe6 1e5 dxe5 1Nxe5 Nbd7 1Nxd7 Nxd7 1Be4 Qc7 1Nd5 Bxd5 1Qxd5 Rb8 1Qf5 Nf6 1Bf4 Bd6 1Bxb7+ Kf8 2Bxd6+ Qxd6 2Rad1 Qc7 2Bxa6 Rxb2 2Qxc5+ Qxc5 2Rd8+ Ne8 2Rexe8#',\n",
              " 'e4 b6 d3 Bb7 Nf3 e6 Be2 Nc6 O-O Qe7 c3 O-O-O d4 d5 exd5 Rxd5 Re1 Rd8 1Bc4 h6 1Be3 g5 1Nbd2 Bg7 1Ne5 Nf6 1Nxc6 Bxc6 1d5 Nxd5 1Bxd5 Bxd5 1Bd4 f6 1Qe2 e5 1Be3 Qf7 2Nb3 Bc4 2Qc2 f5 2Nd2 Bd3 2Qc1 e4 2Bd4 f4 2Bxg7 Qxg7',\n",
              " 'd4 d5 e3 Bf5 Nc3 Qd6 Bd3 Nc6 Bxf5 e6 Bd3 Nf6 Nf3 g6 a3 Bh6 Bd2 O-O 1O-O Rfe8 1Ne5 Nxe5 1dxe5 Qxe5 1f4 Qd6 1Nb5 Qb6 1b4 a6 1Nd4 e5 1fxe5 Rxe5 1Nf3 Rg5 1Nxg5 Bxg5 2Kh1 Bxe3 2Bxe3 Qxe3 2Re1 Qd4 2Re2 Ng4 2Qe1 c5 2Re8+ Rxe8',\n",
              " 'e4 b6 Bc4 e6 d3 Bb7 Qf3 Qf6 Qe2 Bc5 Be3 d5 Bb5+ c6 Nc3 Bb4 O-O-O Bxc3 1e5 Bxe5 1Ba4 Ba6 1c3 Ne7 1Nf3 b5 1Bc2 b4 1Bg5 Bf4+ 1Bxf4 Qxf4+ 1Rd2 bxc3 1bxc3 Nd7 1g3 Qh6 2Ba4 Bb5 2Bxb5 cxb5 2d4 a6 2h4 Rc8 2Kb2 Nb6 2Ka1 Rxc3',\n",
              " 'e4 Nf6 Nc3 e5 Bc4 Bb4 d3 c6 Bb3 d5 Bd2 O-O Nge2 d4 Nb1 a5 Bxb4 axb4 1Nd2 Qe7 1O-O Nbd7 1f4 exf4 1Nxf4 Ne5 1h3 Ng6 1Nxg6 hxg6 1Qf3 Nh5 1Rae1 Be6 1Nc4 b5 1Nd2 Qg5 2Rf2 Bxb3 2axb3 f5 2e5 f4 2Qxc6 Rac8 2Qe6+ Kh7 2Ne4 Qf5',\n",
              " 'e4 Nf6 e5 Nd5 c4 Nb6 c5 Nd5 Nc3 e6 Nxd5 exd5 d4 d6 cxd6 cxd6 Nf3 Nc6 1exd6 Bxd6 1Bb5 O-O 1O-O Bg4 1Qd3 Bxf3 1Bxc6 Bxg2 1Kxg2 bxc6 1f4 f5 1Be3 Rf6 1Rf3 Rh6 1Rg3 Qh4 2h3 Bxf4 2Bxf4 Qxf4 2Rf1 Qe4+ 2Rff3 Re8 2a3 Rg6 2Rxg6 hxg6',\n",
              " 'e4 c5 Nf3 e6 d4 cxd4 Nxd4 Nc6 Be3 a6 Nc3 Qc7 Be2 Nf6 Bg5 Be7 Bxf6 Bxf6 1Nxc6 Bxc3+ 1bxc3 Qxc6 1Qd4 O-O 1O-O b5 1Rad1 Rd8 1Bf3 Bb7 1e5 Qc7 1Bxb7 Qxb7 1f3 Rac8 1Rd3 Rc4 2Qe3 Rdc8 2Rfd1 R4c7 2h3 h6 2Kh1 Qc6 2g4 Rd8 2Kg2 Qc4',\n",
              " 'e4 d5 exd5 Nf6 Nc3 Nxd5 Nxd5 Qxd5 Nf3 Nc6 Qe2 Bf5 c3 O-O-O Qb5 Qe6+ Be2 a6 1Qc4 Qf6 1O-O e6 1d4 Bd6 1g3 h6 1Nh4 Bh3 1Re1 g5 1Ng2 h5 1f4 Bxg2 1Kxg2 gxf4 1Rf1 Qg5 2Bxf4 Bxf4 2Rxf4 h4 2Rg4 Qd2 2b4 hxg3 2hxg3 Kb8 2Rd1 Qe3',\n",
              " 'e4 g6 d4 Bg7 e5 d6 exd6 cxd6 Nf3 Be6 c3 Nc6 Bd3 Nf6 O-O O-O h3 b6 1a3 a6 1Be3 b5 1b4 Nd5 1a4 bxa4 1Rxa4 Qd7 1Ra1 a5 1b5 Na7 1c4 Nb4 1Na3 Nxd3 1Qxd3 Qc7 2Rac1 Rfc8 2d5 Bf5 2Qe2 Qd8 2Ng5 Rc7 2Nf3 Rac8 2Bd4 Bxd4',\n",
              " 'd4 d5 c4 c6 cxd5 cxd5 Nf3 Nf6 Nc3 e6 Bf4 Nc6 e3 a6 Be2 Bd6 Bxd6 Qxd6 1O-O O-O 1a3 b5 1Rc1 Ne4 1Nxe4 dxe4 1Nd2 f5 1Qb3 Kh8 1Rfd1 f4 1Nxe4 Qd8 1exf4 Rxf4 1Bf3 Bb7 2d5 Na5 2Qd3 exd5 2Nc5 Qf6 2Nxb7 Nxb7 2Qxd5 Rf8 2Qxb7 Qg5',\n",
              " 'd4 e6 Nf3 d5 Bg5 Nf6 e3 Be7 Bd3 h6 Bh4 b6 Bg3 Bb7 c4 c6 cxd5 cxd5 1Nc3 a6 1Rc1 b5 1a4 b4 1Ne2 Bd6 1O-O Bxg3 1Nxg3 O-O 1Ne5 Nbd7 1Bb1 Nxe5 1dxe5 Ne4 1Qf3 Nxg3 2Qxg3 d4 2exd4 Qxd4 2Rfd1 Qxb2 2Qd3 g6 2h4 Qxe5 2h5 Qf5',\n",
              " 'd4 e6 Bf4 d5 h3 c5 e3 Nc6 c3 Qb6 Qd2 Nf6 Bd3 c4 Be2 Ne4 Qc2 f5 1Nd2 Be7 1Ngf3 O-O 1O-O a6 1Nh2 Qd8 1f3 Nxd2 1Qxd2 Bd6 1Bxd6 Qxd6 1f4 b5 1g4 b4 1gxf5 exf5 2Kh1 Rf6 2Rg1 Rh6 2Bf3 Rxh3 2Qg2 Qh6 2Bxd5+ Kh8 2Bxc6 Rxh2+',\n",
              " 'd4 c6 Bf4 d5 e3 Nf6 Nf3 e6 h3 Be7 Nbd2 Nbd7 Be2 O-O O-O c5 c3 cxd4 1cxd4 a6 1a3 b5 1Rc1 Bb7 1b4 Rc8 1Qb3 Nb6 1a4 Nc4 1Bxc4 dxc4 1Qb2 h6 1a5 Nd5 1Bh2 Re8 2Ne5 Bd6 2Qb1 Bb8 2Nef3 Qe7 2Bxb8 Rxb8 2Ne5 Qc7 2Ndf3 Nf6',\n",
              " 'e4 e5 d4 exd4 Qxd4 Nc6 Qc4 Nf6 Nf3 d5 exd5 Nxd5 Qe4+ Be7 Ng5 f5 Qe2 h6 1Nf3 O-O 1Ne5 Bf6 1Ng6 Re8 1Be3 Bxb2 1Qd3 Nxe3 1fxe3 Qxd3 1Bxd3 Bxa1 1Bc4+ Kh7 1Nh4 Rxe3+ 1Kd2 Re4 2Kd3 Rxh4 2Nc3 Bxc3 2Kxc3 Ne5 2Bb3 Bd7 2Rd1 Rxh2 2Rd5 Re8',\n",
              " 'd4 d5 c4 c6 Nf3 a6 Bf4 e6 e3 Nf6 Be2 Bb4+ Nc3 Qa5 Qc2 Ne4 O-O Bxc3 1bxc3 Qxc3 1Qxc3 Nxc3 1Bd3 O-O 1Ng5 h6 1Nh7 Re8 1c5 Nd7 1h4 g6 1Ng5 hxg5 1hxg5 b5 1g4 Bb7 2Kg2 Kg7 2Rh1 Rh8 2Rh2 Rxh2+ 2Bxh2 a5 2a3 f5 2gxf5 gxf5',\n",
              " 'b3 Nf6 g3 g6 Bg2 Bg7 Bb2 O-O c3 d5 f3 e5 h3 Bf5 g4 Bd7 h4 c5 1h5 b5 1hxg6 fxg6 1e3 Nc6 1Qe2 d4 1cxd4 cxd4 1e4 Rb8 1d3 Qc7 1Nd2 Nb4 1Rc1 Qb6 1a3 Na6 2Nh3 Rbc8 2Ng5 Rxc1+ 2Bxc1 Nc5 2b4 Na4 2O-O Nc3 2Qe1 Bh6',\n",
              " 'b3 d5 Bb2 d4 e3 dxe3 Nf3 exf2+ Kxf2 Bg4 Kg1 Bxf3 Qxf3 f6 Nc3 e5 Ne4 Be7 1Nf2 Nh6 1c3 O-O 1h4 Nf7 1Re1 Nd6 1h5 Nc6 1h6 g6 1d4 exd4 1cxd4 Nf5 1d5 Ne5 1Bxe5 fxe5 2Rxe5 Bd6 2Re6 Qd7 2Qc3 Ng7 2hxg7 Qxg7 2Qxg7+ Kxg7 2Bd3 Rae8',\n",
              " 'e4 d6 d4 g6 f4 Bg7 c3 e6 g3 Ne7 Bg2 O-O Nf3 f5 e5 dxe5 dxe5 Nd5 1O-O Nc6 1Qe2 Nde7 1Rd1 Qe8 1Be3 b6 1Na3 Bb7 1Nb5 Rd8 1Nxc7 Rxd1+ 1Rxd1 Qc8 1Nb5 a6 1Nd6 Qc7 2Nxb7 Qxb7 2Nd4 Nxd4 2Rxd4 Qc7 2Qd3 Nd5 2c4 Nb4 2Qd1 Nxa2',\n",
              " 'd4 d5 c4 Nf6 e3 Nc6 Nf3 Bg4 Nbd2 Bxf3 Nxf3 Qd6 a3 e5 c5 Qe6 dxe5 Nxe5 1Be2 Nxf3+ 1Bxf3 Ne4 1O-O Bxc5 1Qc2 b6 1b4 Bd6 1Bb2 Be5 1Bxe5 Qxe5 1Rad1 Rd8 1Bxe4 Qxe4 1Qxe4+ dxe4 2Rxd8+ Kxd8 2Rd1+ Ke7 2Rd4 f5 2g4 Rd8 2gxf5 Rxd4 2exd4 Kf6',\n",
              " 'd4 d5 e4 c6 Nc3 dxe4 Nxe4 e6 Qe2 Nf6 h3 Qxd4 Be3 Qxe4 O-O-O Nd5 Rd4 Qe5 1Nf3 Qf6 1Bg5 Qg6 1h4 f6 1Bd2 Qf7 1g4 Bc5 1Rd3 Nd7 1g5 N7b6 1gxf6 Nxf6 1Ng5 Qe7 1Bh3 e5 2f4 e4 2Nxe4 Nxe4 2Re1 Ng3 2Qg2 Ne2+ 2Rxe2 Be6 2Rxe6',\n",
              " 'e4 e5 c3 Bc5 Qf3 Nf6 Bc4 b6 Bxf7+ Kxf7 Qh5+ Nxh5 Nf3 Qf6 O-O d6 d3 Qg6 1b4 Bh3 1Ng5+ Kg8 1Nxh3 Nc6 1bxc5 bxc5 1Be3 Qg4 1f3 Qg6 1a3 Rb8 1Nd2 Rb2 1Nf2 Nf4 1Bxf4 exf4 2Nc4 Rc2 2Rab1 Kf7 2Rbc1 Rxc1 2Rxc1 Ne5 2Na5 Nxf3+ 2Kh1 Nh4',\n",
              " 'e4 d6 d4 e6 Nf3 c6 Nc3 Be7 e5 d5 Bd2 Nd7 Bd3 c5 dxc5 Nxc5 Bb5+ Bd7 1Qe2 a6 1Bxd7+ Nxd7 1O-O-O Qc7 1Nd4 Bc5 1Be3 Nxe5 1f4 Nd7 1g4 Ngf6 1f5 O-O 1g5 Ne4 1g6 fxg6 2fxg6 Rf6 2gxh7+ Kxh7 2Qh5+ Rh6 2Bxh6 gxh6 2Qf7+ Kh8 2Nxe6 Bf8',\n",
              " 'g3 d5 Nf3 Nc6 Bg2 e5 O-O e4 Ne1 f5 d3 Nf6 c4 dxc4 Bg5 cxd3 exd3 h6 1Bxf6 Qxf6 1Nc3 exd3 1Qxd3 Bd7 1Qe3+ Qe7 1Qd4 O-O-O 1Qa4 Qb4 1Bxc6 Bxc6 1Qxa7 b6 1Nd3 Rxd3 1Rad1 Rxd1 2Rxd1 Bc5 2Qa6+ Bb7 2Qd3 Kb8 2b3 Re8 2Na4 Re1+ 2Rxe1 Qxe1+',\n",
              " 'e4 b6 d4 Bb7 Nc3 g6 Bd3 Bg7 Nf3 d6 Bg5 Nd7 Bh4 h6 Bg3 g5 O-O e6 1e5 d5 1Bb5 Qe7 1Bxd7+ Qxd7 1a4 f6 1a5 f5 1axb6 cxb6 1Nd2 Ne7 1Nb3 O-O 1f4 g4 1h3 h5 2hxg4 hxg4 2Kf2 Nc6 2Rh1 Kf7 2Rh7 Rh8 2Rxg7+ Kxg7 2Qe2 a5',\n",
              " 'd4 Nf6 e3 g6 c3 Bg7 Nd2 O-O Ngf3 d6 h3 Nbd7 Be2 Re8 a3 e5 O-O e4 1Ne1 c6 1f3 exf3 1Bxf3 Rxe3 1Nc4 Re6 1d5 Nxd5 1Bxd5 cxd5 1Qxd5 Nf6 1Qb5 Bd7 1Qxb7 d5 1Ne3 Rb6 2Qxb6 Qxb6 2Nf3 Qd6 2Nd4 Ne4 2Nec2 Be5 2Be3 Bh2+ 2Kh1 Ng3+',\n",
              " 'd4 d5 c4 e5 e3 exd4 exd4 dxc4 Bxc4 Nf6 Nf3 Bb4+ Nc3 O-O O-O Bg4 Be3 Nc6 1Be2 Re8 1d5 Bxf3 1Bxf3 Ne5 1a3 Bxc3 1bxc3 Nxf3+ 1Qxf3 Qxd5 1Qg3 Kh8 1Bd4 Re6 1Qxc7 Rae8 1Qxf7 R6e7 2Qxd5 Nxd5 2Bxa7 Nxc3 2Bc5 Re2 2Bb4 Rc2 2g3 Ne2+ 2Kg2 Nd4',\n",
              " 'e4 c5 Nf3 Nc6 d4 cxd4 Nxd4 e5 Nb5 d6 c4 a6 N5c3 f5 f3 f4 Ne2 Be7 1g3 g5 1Nbc3 Nf6 1Nd5 Be6 1h4 gxh4 1gxf4 Bxd5 1exd5 Nd4 1fxe5 Nxf3+ 1Kf2 Nxe5 1Bh3 Qb6+ 1Ke1 Nxc4 2Nf4 Qb4+ 2Bd2 Qxb2 2Rc1 Nxd2 2Qxd2 Qxd2+ 2Kxd2 Ne4+ 2Ke3 Ng5',\n",
              " 'b3 g6 Bb2 Nf6 e3 Bg7 d4 d6 Nf3 Nbd7 Be2 c6 O-O e6 c4 d5 Nc3 O-O 1Qc2 b6 1Rad1 Bb7 1e4 Rc8 1e5 Ne8 1h3 f6 1exf6 Nexf6 1Ng5 Qe7 1Rfe1 h6 1Nf3 g5 1Bd3 Rf7 2Bg6 Rff8 2Ne5 Nxe5 2dxe5 Nd7 2Ne2 Nxe5 2Ng3 Nxg6 2Qxg6 Qf7',\n",
              " 'e4 e6 f4 d5 e5 c5 Nf3 Nc6 d4 cxd4 Nxd4 Bc5 Nb3 Bb6 Nc3 Nge7 Qe2 O-O 1Bd2 Nf5 1O-O-O Bd7 1g4 Nfd4 1Nxd4 Nxd4 1Qg2 Rc8 1h4 f6 1exf6 Qxf6 1g5 Qg6 1Bd3 Qh5 1Be3 Nf5 2Bxb6 axb6 2Nxd5 Bc6 2Bxf5 Bxd5 2Rxd5 exd5 2Qxd5+ Kh8 2Bxc8 Rxc8',\n",
              " 'e4 e5 Nf3 d6 d4 c6 Bc4 b5 Bb3 Nf6 Ng5 Be6 Bxe6 fxe6 Nxe6 Qe7 Nxf8 Rxf8 1dxe5 dxe5 1Nc3 Kf7 1Bg5 Kg8 1Bxf6 Qxf6 1f3 Rd8 1Qe2 Qh4+ 1g3 Qe7 1O-O Qc5+ 1Kg2 Na6 1Rad1 Nb4 2a3 Na6 2Rxd8+ Rxd8 2Rd1 Qb6 2Rxd8+ Qxd8 2b4 Nc7 2Qe3 a6',\n",
              " 'd4 d5 Bg5 Nf6 Bxf6 exf6 e3 c5 c4 cxd4 exd4 dxc4 Bxc4 Nc6 Ne2 Bb4+ Nbc3 O-O 1O-O Bg4 1a3 Ba5 1b4 Bb6 1d5 Ne5 1a4 Nxc4 1a5 Bxf2+ 1Rxf2 Ne5 1b5 Re8 1Nf4 Bxd1 1Rxd1 Qd6 2b6 a6 2Ne4 Qb4 2Re2 f5 2d6 fxe4 2d7 Red8 2Nd5 Qd6',\n",
              " 'e4 e6 Nf3 c6 d4 d5 exd5 cxd5 c4 Ne7 cxd5 Nxd5 Be3 Be7 Nc3 O-O Nxd5 Qxd5 1Bd3 Qd8 1O-O b6 1Qc2 g6 1Ne5 Bb7 1Bh6 Re8 1Nxg6 Bg5 1Bxg5 Qxg5 1Ne7+ Qxe7 1Bxh7+ Kf8 1Be4 Nc6 2Rac1 Nb4 2Qb3 Bxe4 2f3 Bd5 2Qe3 Nxa2 2Qh6+ Kg8 2Rce1 Qf8',\n",
              " 'd4 Nf6 f4 g6 e3 Bg7 Nf3 O-O Bd3 d6 O-O e5 fxe5 dxe5 Nxe5 Nbd7 Nxd7 Bxd7 1c3 Ne8 1e4 f5 1e5 c6 1Nd2 Qb6 1Kh1 Nc7 1Nc4 Qa6 1Nd6 b5 1a4 Qb6 1a5 Qa6 1Bg5 Nd5 2Qb3 Rab8 2c4 bxc4 2Qxc4 Qxc4 2Bxc4 h6 2Be7 Rxb2 2Bxf8 Kxf8',\n",
              " 'e4 e5 Nf3 Nc6 a3 Nf6 Nc3 d6 Bc4 Bg4 h3 Bh5 d3 h6 g4 Bg6 Be3 Be7 1O-O O-O 1Qd2 Kh7 1Kg2 Ng8 1Nh2 Bg5 1Nd5 Bxe3 1Qxe3 Nd4 1Qd2 c6 1Ne3 d5 1exd5 cxd5 1Nxd5 b5 2Ba2 Rc8 2c3 Ne6 2Qe3 Nf4+ 2Nxf4 exf4 2Qxf4 Qxd3 2Rad1 Qc2',\n",
              " 'd4 d5 Bg5 f6 Bh4 e6 e3 Bd6 c4 Ne7 c5 g5 Qh5+ Ng6 cxd6 gxh4 dxc7 Qxc7 1Nc3 Bd7 1Nf3 Na6 1a3 O-O-O 1Bxa6 bxa6 1Rc1 Bb5 1Na2 Bc6 1O-O Qb7 1Nb4 Rd6 1Rc5 Kb8 1Rfc1 Bb5 2Rc7 Qxc7 2Rxc7 Kxc7 2Nxh4 Nxh4 2Qxh4 a5 2Qxf6 Rc8 2Qe7+ Rd7',\n",
              " 'c4 d5 cxd5 Qxd5 Nc3 Qd4 Nf3 Qb4 e4 Bg4 a3 Qc5 Be2 Bxf3 Bxf3 e5 O-O Nf6 1d3 Nc6 1Be3 Qa5 1b4 Qa6 1b5 Qa5 1bxc6 Qxc3 1cxb7 Rb8 1Qa4+ c6 1Qxa7 Bd6 1Rac1 Qxa3 1Qxa3 Bxa3 2Ra1 Bd6 2Ra8 O-O 2Rfa1 Nd7 2Bg4 f5 2Bxf5 Rxf5 2exf5 h6',\n",
              " 'e4 e5 Nf3 Nc6 Bc4 Nf6 Ng5 d5 exd5 Na5 Bb5+ c6 dxc6 bxc6 Be2 Bd6 Nc3 h6 1Nge4 Nxe4 1Nxe4 f5 1Nxd6+ Qxd6 1O-O O-O 1c3 Nb7 1Bc4+ Be6 1Bxe6+ Qxe6 1d4 e4 1Be3 Kh8 1f4 Nd6 2b3 Nb5 2c4 Nc7 2Qc2 Rfd8 2Rad1 Na6 2Qc3 Qd6 2Rd2 Nb4',\n",
              " 'd4 b6 c3 Bb7 Nf3 Nf6 g3 e6 Bg2 d5 O-O Bd6 Nbd2 O-O Qc2 c5 e3 Nc6 1dxc5 bxc5 1Nb3 Ne4 1Nfd2 Ba6 1Rd1 Nxd2 1Rxd2 Ne5 1f4 c4 1Nd4 Nd3 1Bf1 e5 1Nf5 exf4 1exf4 Qb6+ 2Kg2 d4 2Nxd4 Bb7+ 2Kh3 Bc5 2Bxd3 Qh6+ 2Kg4 f5+ 2Nxf5 Qg6+',\n",
              " 'b3 b6 e3 Bb7 Nf3 e6 Bd3 d5 Nc3 Bd6 Nb5 e5 Nxd6+ Qxd6 Bb5+ c6 Be2 e4 1Nd4 g6 1Nf3 h6 1Nd4 Nf6 1Bb2 O-O 1h4 a6 1g4 c5 1g5 hxg5 1hxg5 Nh7 1Bh5 cxd4 1Bxd4 gxh5 2Qxh5 Qg6 2Qh4 Nd7 2O-O-O f6 2Bxf6 Ndxf6 2gxf6 Qf7 2Rdg1+ Kh8',\n",
              " 'd4 d5 Nf3 c5 dxc5 g6 e3 Bg7 c3 Nf6 Bd3 O-O O-O Re8 h3 e5 Nbd2 e4 1Bxe4 dxe4 1Nd4 Nc6 1Qe2 Nxd4 1cxd4 b6 1Nb3 bxc5 1Nxc5 Nd7 1Qc4 Nxc5 1Qxc5 Be6 1Bd2 Bd5 1Bc3 Rc8 2Qb5 Qg5 2Qe2 Be6 2Kh2 Red8 2Rad1 Bf8 2Qa6 Bd6+ 2Kh1 Qh4',\n",
              " 'e4 d5 exd5 Qxd5 Nc3 Qe5+ Be2 Bg4 d3 Bxe2 Ngxe2 e6 O-O Nf6 Bf4 Qc5 d4 Qc6 1Ng3 Bd6 1Bxd6 Qxd6 1Nce4 Nxe4 1Nxe4 Qd5 1Re1 O-O 1b3 Nc6 1c3 f5 1Nd2 f4 1Nf3 Rae8 1Qc2 e5 2c4 Qa5 2d5 Nd4 2Nxd4 exd4 2Kf1 Rxe1+ 2Rxe1 h6 2Re2 b5',\n",
              " 'e4 c6 e5 d5 d4 Bf5 b3 e6 f4 h6 g3 Ne7 Bg2 Qb6 Ne2 c5 O-O cxd4 1Nxd4 Qxd4+ 1Be3 Qxe3+ 1Kh1 Qd4 1Qxd4 Nbc6 1Qd1 Rd8 1Nd2 Rc8 1Nf3 d4 1Nxd4 Nxd4 1Qxd4 Rxc2 1Qa4+ Nc6 2b4 Bxb4 2Qxc2 Bxc2 2Rac1 Bd3 2Rfd1 Bb5 2Rb1 a6 2Bxc6+ Bxc6+',\n",
              " 'd4 d5 c4 e6 Nf3 Nf6 e3 Be7 b3 O-O Bb2 Nbd7 Bd3 b6 O-O c5 a3 Bb7 1Nbd2 Rc8 1Re1 h6 1h3 Re8 1Bf1 Qc7 1Nh2 e5 1dxe5 Nxe5 1Ndf3 Bd6 1Rb1 Rcd8 1Ng4 Nexg4 1hxg4 Nxg4 2g3 Nxf2 2Kxf2 Bxg3+ 2Ke2 dxc4 2Qc2 Bxe1 2Nxe1 Qh2+ 2Ng2 Bxg2',\n",
              " 'e4 e5 Nf3 d6 Bc4 Be7 Nc3 Nc6 O-O Na5 Bd5 c6 b4 cxd5 bxa5 Nf6 exd5 b6 1axb6 axb6 1Qe2 O-O 1Qb5 Ra5 1Qc4 Bb7 1Rb1 Nxd5 1Nxd5 Bxd5 1Qg4 Bxa2 1Rb4 Be6 1Qg3 d5 1d3 Bxb4 2Bh6 g6 2Qxe5 f6 2Qxe6+ Rf7 2Rb1 Bf8 2Bxf8 Qxf8 2h3 Kg7',\n",
              " 'e4 e6 Nf3 d6 d3 b6 c4 Bb7 Be3 h6 Be2 a6 b4 Nd7 Nc3 Qe7 b5 a5 1a4 g5 1h3 Qf6 1Bd4 e5 1Be3 Qg7 1Nh2 Be7 1Bh5 Ngf6 1Nd5 Bd8 1Be2 h5 1Qd2 g4 1h4 Nxd5 2cxd5 Bxh4 2Kd1 g3 2fxg3 Bxg3 2Nf3 Nf6 2Qc1 Ng4 2Kd2 O-O-O',\n",
              " 'Nf3 b6 e3 Bb7 d3 e6 e4 Bb4+ c3 Be7 Be3 h5 g3 h4 gxh4 Bxh4 Nxh4 Rxh4 1Qe2 Rh8 1Nd2 Nc6 1O-O-O Ne5 1d4 Nc6 1Bg2 a5 1f4 a4 1Nc4 Qe7 1d5 exd5 1exd5 Na5 1Nxa5 bxa5 2Rde1 O-O-O 2c4 Qd6 2Qd3 f6 2Qc3 Kb8 2Qxa5 Qa6 2Qc5 c6',\n",
              " 'e4 h5 Bc4 h4 Nc3 g5 d3 g4 Nge2 h3 g3 Nf6 Nf4 e5 Nfd5 Nxd5 Nxd5 c6 1Bg5 Be7 1Nxe7 Rg8 1Qxg4 d5 1exd5 Bxg4 1Nxc6 Qxg5 1Nxb8 Rxb8 1d6 b6 1O-O Qd2 1Rae1 f6 1Re4 Kd7 2Bb5+ Kxd6 2c3 Qxb2 2d4 Qxb5 2dxe5+ fxe5 2Rd1+ Ke6 2Re3 Bxd1',\n",
              " 'd4 a6 e4 c5 dxc5 Nc6 Bd2 e6 b4 Qf6 Na3 d6 cxd6 Bxd6 b5 Bb4 bxc6 Bxa3 1cxb7 Bxb7 1Bd3 Bb2 1Rb1 Bd4 1Nf3 Bc6 1O-O Ne7 1Bg5 Qg6 1Bxe7 Kxe7 1Nxd4 Bxe4 1Rb7+ Bxb7 1Bxg6 hxg6 2Qb1 Be4 2Qb4+ Kf6 2a4 Rh4 2Nf3 Rg4 2Qd4+ Ke7 2h3 Rd8',\n",
              " 'e4 d6 d4 e6 Nf3 b6 Bd3 Bb7 O-O g6 Re1 Bg7 Bf4 Ne7 Nbd2 Nd7 c4 c5 1b4 cxd4 1Nb3 e5 1Bg3 a6 1Rc1 Nc6 1b5 axb5 1cxb5 Nb4 1Bc4 O-O 1h4 Nf6 1Nh2 Nxe4 1h5 Nxa2 2hxg6 hxg6 2Ra1 Nac3 2Qg4 Bc8 2Qf3 Rxa1 2Rxa1 Ng5 2Qd3 Bf5',\n",
              " 'c4 c5 Nc3 Nc6 g3 Nf6 Bg2 d6 Nf3 e5 d3 Be7 O-O O-O a3 a6 Bd2 Nd4 1Nxd4 cxd4 1Ne4 Rb8 1b4 Bg4 1h3 Bh5 1a4 Qc8 1Kh2 Bg6 1Nxf6+ Bxf6 1b5 axb5 1axb5 b6 1Ra7 Bf5 2Bb4 Rd8 2Qb3 h6 2Qa3 Qe6 2Bd5 Qc8 2Bxd6 Bxh3 2Re1 Qf5',\n",
              " 'e4 e5 Nf3 d5 d3 d4 Nxe5 Nc6 Nxc6 bxc6 g3 h6 Bg2 Bb7 O-O Bd6 Nd2 Be5 1Nc4 Qe7 1Qg4 Nf6 1Qxg7 Rf8 1Qxh6 Ng4 1Qh5 O-O-O 1Qxg4+ Qd7 1Qxd7+ Rxd7 1Nxe5 Rdd8 1h4 Kb8 1Bh3 Bc8 2Bxc8 Rxc8 2Nxc6+ Ka8 2Nxd4 Rcd8 2Be3 Rd7 2f4 c5 2Nb3 Rg8',\n",
              " 'e4 g6 f4 Bg7 Bc4 b6 Be2 Bb7 Nf3 d6 O-O c6 d4 e6 c4 h6 b4 h5 1Nc3 Ne7 1e5 d5 1cxd5 cxd5 1Qc2 Nbc6 1Bb2 Nxb4 1a3 Nbc6 1Rad1 Rc8 1Qd3 Qd7 1f5 Nxf5 1Nd2 Nfxd4 2Ncb1 Bxe5 2Bf3 Na5 2Bxd4 Bxd4+ 2Qxd4 Nc4 2Qxh8+ Ke7 2Qd4 Nxd2',\n",
              " 'e4 d5 Nf3 dxe4 Ng5 e5 d3 Nf6 b3 Qd4 c3 Qd5 Bb2 Bg4 f3 exf3 gxf3 h6 1c4 Qa5+ 1Bc3 Qb6 1Ne4 Bb4 1fxg4 Bxc3+ 1Nbxc3 Qd4 1Qc1 Nxg4 1Nb5 Qe3+ 1Qxe3 Nxe3 1Nxc7+ Kd8 1Nxa8 Nc2+ 2Kd1 Nxa1 2Rg1 Nc6 2Rxg7 Nd4 2Rxf7 Nac2 2Bh3 Ke8 2Nd6+ Kd8',\n",
              " 'd4 d6 c4 e6 Nc3 h6 e4 g5 Bd3 c6 Nge2 Nd7 Be3 Nb6 Qd2 Be7 O-O Bd7 1h3 Qc7 1f4 O-O-O 1Rac1 Kb8 1b3 a5 1a4 f6 1Nd1 f5 1Qxa5 Re8 1d5 c5 1Nec3 g4 1h4 Nf6 2b4 Nh5 2Nb5 Qc8 2Qxb6 Bxb5 2cxb5 Ng3 2Re1 Bxh4 2bxc5 exd5',\n",
              " 'd4 d6 c4 Nc6 e4 Nf6 Nc3 Bg4 Be2 Bxe2 Ngxe2 Qd7 d5 Ne5 O-O Nxc4 Bg5 O-O-O 1Nd4 h6 1Bxf6 exf6 1Ndb5 Kb8 1Qa4 a6 1Qxc4 axb5 1Nxb5 c6 1dxc6 Qxc6 1Qxc6 bxc6 1Nd4 c5 1Nb5 Rc8 2a4 Kb7 2a5 Ka6 2Nc3 c4 2Rfd1 h5 2Rd5 h4 2h3 g5',\n",
              " 'd4 d5 e3 Nc6 Bd3 Nf6 Nd2 Bd7 f4 Bg4 Ngf3 e6 O-O Bxf3 Qxf3 Be7 Qh3 O-O 1Rf3 Qd7 1Rg3 g6 1f5 exf5 1Bxf5 Qd6 1Nf3 Nh5 1Ng5 Bxg5 1Rxg5 Ne7 1Bd3 Kh8 1Be2 f6 1Rg4 f5 2Rg5 Qf6 2e4 dxe4 2Bxh5 gxh5 2Rxh5 Rf7 2Bg5 Qg6 2Bxe7 Rxe7',\n",
              " 'e4 e5 f4 exf4 Nf3 d6 d4 Bg4 Bxf4 Qf6 Bg5 Bxf3 Bxf6 Bxd1 Bxg7 Bxg7 Kxd1 Bxd4 1c3 Bf2 1Nd2 Nf6 1Bd3 Rg8 1g3 Ng4 1Be2 Ne3+ 1Kc1 d5 1b3 dxe4 1Nxe4 Nd5 1Nxf2 Nxc3 1Kc2 Nxe2 2Rae1 Kd7 2Rxe2 Nc6 2Rd1+ Kc8 2Ne4 Rd8 2Red2 Rxd2+ 2Rxd2 b5',\n",
              " 'e4 c6 d4 Qa5+ Nc3 c5 Bd2 cxd4 Nce2 Qb6 Bf4 Nc6 Nf3 Qb4+ c3 dxc3 bxc3 Qxe4 1Nd4 e5 1Nxc6 exf4 1Nd4 d5 1Nb5 f3 1gxf3 Qxf3 1Nc7+ Ke7 1Nxa8 Qxh1 1Nc7 Bh3 1Nxd5+ Ke8 1Ndf4 Qxf1+ 2Kd2 Qxd1+ 2Rxd1 Bg4 2Ke3 Bc5+ 2Kd3 Bf5+ 2Kc4 Bxf2 2Nd5 Be6',\n",
              " 'd4 e6 c4 c5 d5 Nf6 Nc3 exd5 cxd5 d6 Nf3 g6 Bf4 Bg7 Qa4+ Bd7 Qb3 b6 1h3 O-O 1e3 Na6 1Bxd6 Re8 1Bxa6 Bc8 1Bxc8 Qxd6 1Ba6 Ne4 1Nxe4 Rxe4 1O-O Rb4 1Qd3 Rxb2 1e4 Rb4 2Rab1 Ra4 2Bc4 a6 2Bb3 Ra3 2Rfe1 b5 2Qe2 c4 2e5 Qxd5',\n",
              " 'g3 c6 Bg2 d5 Nf3 Nd7 O-O e5 d4 e4 Ne1 f5 f3 Ngf6 fxe4 fxe4 Bg5 Bd6 1c3 Qe7 1Nc2 Nf8 1Ne3 Ng6 1c4 Be6 1cxd5 cxd5 1Nc3 Qf7 1Qa4+ Bd7 1Qb3 Bc6 1Rf2 Ne7 1Raf1 O-O-O 2Bxf6 gxf6 2Rxf6 Qh5 2g4 Qg5 2Nexd5 Nxd5 2Nxd5 Bxd5 2Qc2+ Kb8',\n",
              " 'e4 e6 d4 d5 exd5 exd5 Qe2+ Qe7 Nc3 Nc6 Qxe7+ Ngxe7 Nf3 Bg4 Be2 O-O-O Be3 g6 1h3 Be6 1Bg5 Bg7 1O-O-O Rde8 1Bb5 a6 1Bxe7 Rxe7 1Bxc6 bxc6 1Rde1 Rhe8 1Re3 Kd7 1Rhe1 Bh6 1Ne5+ Kd6 2Na4 Bxe3+ 2Rxe3 f6 2Nf3 Bd7 2Kd2 Rxe3 2fxe3 Bf5 2Nc5 a5',\n",
              " 'e4 e5 Nf3 d6 d4 exd4 Qxd4 Nc6 Bb5 Bd7 Bxc6 Bxc6 Nc3 Nf6 Bg5 Be7 O-O-O h6 1Bh4 Nh7 1Bxe7 Qxe7 1Qxg7 O-O-O 1Qd4 Ng5 1Qxa7 Nxf3 1gxf3 Kd7 1Qe3 Rde8 1Rhe1 Qe5 1f4 Qh5 1Qg3 Rhg8 2Qd3 Qxh2 2Nd5 Bxd5 2Qxd5 Qxf4+ 2Kb1 b6 2e5 Rxe5 2Rxe5 Qxf2',\n",
              " 'b3 g6 Bb2 Nf6 e4 Bg7 e5 Nd5 d4 Nb6 c4 O-O Nf3 d6 exd6 cxd6 Nc3 Nc6 1d5 Ne5 1Nxe5 Bxe5 1Bd3 e6 1Be4 exd5 1Bxd5 Be6 1O-O Rc8 1Qd2 Qf6 1Rac1 Bxd5 1cxd5 Bxc3 1Bxc3 Rxc3 2Rxc3 Re8 2Rfc1 Re5 2Qd4 Re1+ 2Rxe1 Qxd4 2Rce3 Qxd5 2Re8+ Kg7',\n",
              " 'e4 c6 Nc3 d5 exd5 cxd5 Nf3 Nf6 d4 e6 Bf4 a6 Ne5 Be7 g4 Nbd7 g5 Ne4 1Nxd7 Bxd7 1Nxe4 dxe4 1Be5 f6 1g6 hxg6 1Bf4 g5 1Be3 Bc6 1h4 gxh4 1Qg4 Kf7 1Rxh4 Rxh4 1Qxh4 f5 2Qh5+ Kg8 2Bc4 Bd5 2Be2 Bf6 2O-O-O Rc8 2Kb1 Qc7 2c3 b5',\n",
              " 'd4 e5 Nf3 e4 Nfd2 d5 c4 c6 Nc3 Nf6 Qb3 Be6 Qxb7 Nbd7 Qxc6 Bb4 cxd5 Bxc3 1dxe6 Bxd2+ 1Bxd2 fxe6 1Qxe6+ Qe7 1Qxe7+ Kxe7 1e3 Rab8 1b3 Rbc8 1Bc4 Nb6 1Bb4+ Kd8 1Rc1 Nxc4 1Rxc4 Kd7 2Kd2 Nd5 2Rhc1 g5 2Rxc8 Rxc8 2Rxc8 Kxc8 2Bc5 a6 2b4 Kc7',\n",
              " 'e4 b6 Nc3 Bb7 Bc4 g6 d3 Bg7 f4 d6 f5 Nc6 Nf3 Qd7 a4 a6 b3 Na5 1Bd5 c6 1Bc4 Nxc4 1bxc4 gxf5 1exf5 Qxf5 1O-O O-O-O 1Rb1 Kc7 1Be3 c5 1a5 bxa5 1Rxb7+ Kc8 1Qb1 Bxc3 2Ra7 Bb4 2Rxa6 Qe6 2Bf2 Nf6 2c3 Kd7 2cxb4 axb4 2Re1 Qg4',\n",
              " 'd4 d5 c4 dxc4 e3 c5 Bxc4 cxd4 exd4 Nf6 Nc3 e6 Nf3 a6 O-O Be7 a3 b5 1Be2 Bb7 1b4 Nbd7 1Be3 Rc8 1Qd2 Nb6 1Rac1 Nbd5 1Nxd5 Nxd5 1Ne5 f6 1Nf3 O-O 1Bd3 Qd7 1Qa2 Kh8 2Bd2 Bd6 2Rfe1 Bb8 2Qb1 h6 2Bg6 Rxc1 2Rxc1 Nf4 2Be3 Bxf3',\n",
              " 'e4 c6 d4 g6 c4 Bg7 Nf3 e6 Nc3 Qc7 Bd3 Ne7 O-O b6 Be3 Bb7 Qd2 h6 1a3 g5 1Rac1 d6 1b4 Nd7 1c5 d5 1exd5 exd5 1cxb6 axb6 1b5 g4 1Nh4 O-O-O 1bxc6 Nxc6 1Nf5 Bf6 2Bf4 Nce5 2dxe5 Nxe5 2Nxd5 Bc6 2Be4 Rxd5 2Bxd5 Nf3+ 2gxf3',\n",
              " 'd4 d5 c4 e6 Nc3 c6 e3 Bd6 Nf3 Nd7 Bd3 Ne7 O-O O-O Bd2 h6 Rc1 e5 1cxd5 cxd5 1Nb5 Bb8 1dxe5 Nxe5 1Nxe5 Bxe5 1Bc3 Bxc3 1Rxc3 Bd7 1Nd4 Rc8 1Rxc8 Qxc8 1Qb3 b6 1Qa3 Nc6 2Nxc6 Qxc6 2Bh7+ Kxh7 2Qxf8 Be6 2Qb4 a5 2Qd2 Qc4 2b3 Qg4',\n",
              " 'd4 d5 c4 e6 Nc3 c6 a3 Nf6 Bg5 Be7 Nf3 O-O e3 b6 Bd3 Nbd7 Bc2 c5 1Qd3 dxc4 1Qxc4 a5 1Qd3 Ba6 1Nb5 Bb7 1Nh4 Ne4 1Bxe7 Qxe7 1Nf3 Rad8 1Nd2 Ne5 1Qe2 Nxd2 1Kxd2 cxd4 2Nxd4 Ng6 2f3 e5 2Kc1 exd4 2Rd1 dxe3 2Rxd8 Rxd8 2Bxg6 fxg6',\n",
              " 'e4 e5 Nf3 Nc6 Nc3 Nf6 d4 exd4 Nxd4 Nxd4 Qxd4 d6 Bg5 Be7 Bc4 O-O Be3 c5 1Qd2 a6 1a3 b5 1Ba2 Bb7 1f3 c4 1O-O Nh5 1b3 cxb3 1Bxb3 Bf6 1Rad1 Be5 1Ne2 Nf6 1Bg5 a5 2Nf4 Bxf4 2Qxf4 a4 2Ba2 h6 2Bxf6 Qxf6 2Qxd6 Qxd6 2Rxd6 Rac8',\n",
              " 'd4 d5 Nc3 c6 Nf3 f6 Bf4 Nd7 e3 h5 h3 h4 Bd3 e6 Bg6+ Ke7 a3 Nh6 1Nxh4 Nf7 1Nf3 Nb6 1O-O Nd6 1Qe2 Bd7 1e4 Be8 1Bxe8 Qxe8 1e5 Nf5 1exf6+ gxf6 1Na4 Qg6 1Kh2 Nxa4 2c4 Rg8 2Rg1 Kf7 2cxd5 exd5 2Be5 Re8 2Qc2 Nb6 2Rae1 Nc4',\n",
              " 'd4 d5 c4 dxc4 e3 b5 a4 c6 axb5 cxb5 Qf3 Qc7 Qxa8 a6 Qe4 Nf6 Qc2 Bb7 1Nf3 Bxf3 1gxf3 e6 1Bd2 Bd6 1Ba5 Qb7 1Be2 O-O 1h3 Nd5 1Nd2 Nc6 1Ne4 Be7 1Bd2 a5 1Bxa5 Nxa5 2Rxa5 f5 2Nc5 Qb6 2Ra6 Qc7 2Nxe6 Qb7 2Ra1 Rc8 2Rg1 g6',\n",
              " 'e4 c6 Nf3 d5 exd5 cxd5 d4 Nf6 Bb5+ Bd7 Qe2 e6 Bg5 Be7 h4 Bxb5 Qxb5+ Qd7 1Qxd7+ Nbxd7 1c3 Ne4 1Bxe7 Kxe7 1Nbd2 Nxd2 1Nxd2 Nf6 1f3 Kd6 1g4 b6 1Nf1 Rae8 1O-O-O e5 1Ng3 exd4 2Nf5+ Kc5 2cxd4+ Kb4 2a3+ Kb3 2Rd3+ Ka2 2Rh2 Re1+ 2Kc2 Rhe8',\n",
              " 'e4 d5 d3 d4 f4 h5 Nf3 c5 a4 Bg4 h3 Bd7 g3 e6 Nbd2 Qa5 Bg2 Nc6 1O-O b5 1Nb3 Qb6 1axb5 Qxb5 1Bd2 Nb4 1Ne5 f6 1Ra5 Qb6 1Nc4 Qc7 1e5 Rb8 1Be4 f5 1Bf3 g6 2h4 Nh6 2Bxb4 Rxb4 2Qa1 Rb7 2Bxb7 Qxb7 2Rxa7 Qc6 2Ra6 Qd5',\n",
              " 'e4 e5 Nc3 Nc6 Nf3 Nf6 Bc4 h6 d4 exd4 Nxd4 Nxd4 Qxd4 c5 Qd3 Be7 Nd5 Nxd5 1Qxd5 O-O 1e5 d6 1e6 fxe6 1Qe4 Rf6 1Bd3 Rf5 1Bxh6 Re5 1O-O Rxe4 1Bxe4 Bg5 1Bxg5 Qxg5 1f4 Qg4 2Rae1 d5 2h3 Qh4 2Bd3 c4 2Be2 b5 2Bg4 Qf6 2f5 exf5',\n",
              " 'd4 e6 c4 d5 Nc3 dxc4 Nf3 a6 e3 b5 a4 c6 axb5 cxb5 Bd2 Bd7 Nxb5 Bxb5 1Bc3 Nc6 1Nd2 Bd6 1Bxc4 Bxc4 1Nxc4 Nge7 1O-O O-O 1e4 Bb4 1d5 exd5 1exd5 Qxd5 1Nb6 Qxd1 1Rfxd1 Rad8 2Rxd8 Rxd8 2Bxb4 Nxb4 2h3 Nec6 2Nc4 Rd4 2Ne3 h6 2Nf5 Rd2',\n",
              " 'c4 e6 Nc3 d5 e3 Nf6 d4 Bb4 a3 Bxc3+ bxc3 O-O Nf3 dxc4 Bxc4 c5 O-O b6 1a4 Bb7 1Ne5 Na6 1Re1 Qc8 1f4 Rd8 1Bd3 Nc7 1Bb2 Ncd5 1g3 cxd4 1cxd4 Nb4 1Bb1 Qc7 1Re2 Rac8 2Ba3 Nfd5 2Bb2 Ba8 2Nf3 Qb7 2Ng5 h6 2Nf3 Nc3 2Rc2 Nxd1',\n",
              " 'e4 e5 Nf3 d6 Bc4 Bg4 h3 Bxf3 Qxf3 Qe7 Nc3 Nf6 d3 c6 Bg5 h6 Bh4 g5 1Bg3 Bg7 1O-O-O Nbd7 1Qe3 O-O 1Bh2 c5 1g3 a6 1f4 exf4 1gxf4 b5 1Bb3 gxf4 1Bxf4 Ne5 1Rhg1 Kh7 2Qg3 Rg8 2Rdf1 Nh5 2Qe3 Nxf4 2Rxf4 Ng6 2Nd5 Qe5 2Nc3 Nxf4',\n",
              " 'd4 e6 e4 Be7 Nc3 d6 Be3 Nd7 Bd3 c6 Nge2 e5 O-O Ngf6 Qd2 Nf8 dxe5 N6d7 1exd6 Bxd6 1Rfd1 Ne5 1Bc4 Nxc4 1b3 Nxd2 1Rxd2 Ne6 1Rad1 O-O 1Rxd6 Qa5 1a4 Qh5 1h3 Qxe2 1Nxe2 h6 2b4 Ng5 2Rd8 Bxh3 2Rxf8+ Rxf8 2Bxg5 Bxg2 2Kxg2 hxg5 2f4 gxf4',\n",
              " 'e4 c6 d4 d5 e5 Bf5 Nf3 e6 h3 a6 Bd3 Bg6 Bxg6 hxg6 O-O Nd7 c3 c5 1Nbd2 Rc8 1Nb3 Nh6 1Bg5 Qb6 1Rc1 Nf5 1g4 Nh6 1Kg2 Be7 1Bf4 c4 1Nbd2 Qxb2 1Rc2 Qb6 1Qe2 Qc6 2Rb1 b5 2a4 Rb8 2Rcb2 f5 2g5 Nf7 2axb5 axb5 2Kg3 Rh5',\n",
              " 'e4 e5 Nf3 Nf6 Nc3 Nc6 a3 b6 Bb5 Nd4 O-O a6 Nxd4 exd4 e5 Ng8 Nd5 axb5 1d3 Bb7 1Qf3 c6 1Nxb6 Ra6 1Nxd7 Qxd7 1c3 b4 1cxd4 Ne7 1Re1 Nd5 1Bf4 bxa3 1bxa3 Ra4 1Re4 Bxa3 2e6 Qe7 2exf7+ Kxf7 2Rxe7+ Kxe7 2Bg5+ Kd6 2Rb1 Re8 2Qg3+ Kd7',\n",
              " 'd4 d5 Nf3 e6 c4 Nf6 cxd5 exd5 Bg5 c6 Nc3 h6 Bf4 Bd6 Bxd6 Qxd6 e3 Bg4 1Bd3 Bxf3 1Qxf3 O-O 1O-O Nbd7 1e4 dxe4 1Nxe4 Qxd4 1Nxf6+ Nxf6 1Bc2 Qxb2 1Rac1 Qxa2 1Bb3 Qd2 1Rfd1 Qg5 2Bc2 Rfd8 2Re1 Re8 2Rf1 Rad8 2Qb3 b5 2Bb1 c5 2Ba2 Rf8',\n",
              " 'e4 c5 d4 e6 c3 cxd4 Nf3 dxc3 Nxc3 Nc6 Bd3 Bb4 a3 Bxc3+ bxc3 Nf6 O-O Qa5 1Qc2 Ng4 1h3 Nge5 1Nxe5 Nxe5 1Rd1 Nxd3 1Rxd3 b6 1Bf4 Ba6 1Rd6 Rc8 1Rad1 Qxc3 1Qxc3 Rxc3 1Rxd7 O-O 2Rxa7 Rxa3 2Rd6 Ra4 2Rxb6 Bb5 2Rab7 Bd3 2f3 h6 2Bd6 Rd8',\n",
              " 'e4 e5 f4 exf4 Nf3 g5 Bc4 Bg7 O-O h6 d4 d6 e5 d5 Bb3 c6 c4 Be6 1cxd5 cxd5 1Nc3 a6 1Qd3 Ne7 1Bd2 Nbc6 1Rac1 Bf5 1Qe2 b5 1a4 b4 1Na2 a5 1Rc5 Qd7 1Rfc1 Be6 2Qb5 Rc8 2h4 O-O 2hxg5 hxg5 2Nxg5 Nxd4 2Qxd7 Bxd7 2Rxc8 Bxc8',\n",
              " 'd4 d5 c4 e6 Nc3 Bb4 e3 Nc6 Bd3 b6 Ne2 Nf6 a3 Bxc3+ bxc3 dxc4 Bxc4 Ne4 1O-O O-O 1f3 Nf6 1e4 e5 1d5 Ne7 1Bd3 c6 1c4 cxd5 1cxd5 Qd6 1a4 a5 1Ba3 Qd8 1Rc1 Ba6 2Bxa6 Re8 2Bb5 Rf8 2d6 Ng6 2d7 Ra7 2Bxf8 Kxf8 2Qd6+ Kg8',\n",
              " 'd4 d5 c4 dxc4 e4 Nc6 d5 Ne5 Bf4 e6 Bxe5 Bb4+ Bc3 a5 Bxc4 Bxc3+ bxc3 exd5 1exd5 c6 1d6 Nf6 1Nd2 Bg4 1Be2 h5 1h3 Bxe2 1Qxe2+ Kf8 1Rd1 Qxd6 1Ne4 Qe7 1Nxf6 gxf6 1Qxe7+ Kxe7 2Nf3 Rhe8 2O-O Kf8 2Rfe1 Rxe1+ 2Nxe1 b5 2Rd6 Ra6 2Rxf6 b4',\n",
              " 'e4 e5 Nf3 Nc6 d4 Nxd4 Nxd4 exd4 Qxd4 Qe7 Qe3 d6 Bd3 Nf6 Nc3 Be6 Qg3 O-O-O 1Bg5 h6 1Bf4 g5 1Be3 Rg8 1f3 g4 1Qf2 h5 1O-O-O Bg7 1Bg5 Qd7 1Nb5 c5 1Nxa7+ Kb8 1Nb5 Rc8 2Qe2 Bxa2 2Bc4 Bxc4 2Qxc4 Ne8 2Qa4 b6 2Nxd6 Nxd6 2Qxd7 Rgd8',\n",
              " 'e4 c5 Nf3 d6 d4 cxd4 Nxd4 Nf6 Nc3 a6 Bg5 Nbd7 f4 Qc7 Qf3 e6 O-O-O b5 1g4 Bb7 1Bxf6 Nxf6 1g5 b4 1gxf6 bxc3 1Qxc3 Qxc3 1bxc3 gxf6 1Bd3 Bh6 1Rdf1 Ke7 1Kd1 Rhg8 1Rf2 Rg4 2Rhf1 Rag8 2Ke1 Rc8 2c4 Rcg8 2c3 Rg2 2Ne2 e5 2f5 Be3',\n",
              " 'e4 f6 f4 e6 d4 d6 Nf3 c6 Bd3 b6 e5 a6 exd6 Qxd6 O-O Qc7 Nc3 Bd6 1Bd2 Bxf4 1Bxf4 Qxf4 1Qe2 Qc7 1Rae1 Qd6 1Ne4 Qd7 1c4 Ne7 1d5 cxd5 1cxd5 e5 1Bc4 b5 1Bb3 Bb7 2Rd1 f5 2Neg5 h6 2Nxe5 Qc8 2Ngf7 Rf8 2Nd6+ Kd8 2Nxc8 Kxc8',\n",
              " 'e4 e5 d4 exd4 c3 Nc6 c4 Bc5 Bd3 a6 Ne2 d6 O-O Bg4 a3 Nge7 b4 Ba7 1b5 axb5 1cxb5 Ne5 1f4 Nxd3 1Qxd3 O-O 1Nxd4 c5 1bxc6 bxc6 1Kh1 d5 1e5 Bxd4 1Qxd4 Be6 1Qc5 Qd7 2Nd2 Nf5 2Nf3 h6 2a4 d4 2Rd1 d3 2Ba3 Rfd8 2a5 Rab8',\n",
              " 'd4 d6 e3 Nf6 Bd3 g6 f4 Bg7 Nf3 O-O c3 Na6 e4 c5 e5 dxe5 fxe5 Nd5 1O-O cxd4 1cxd4 e6 1Nc3 Nxc3 1bxc3 b6 1Ba3 Nc7 1Bxf8 Qxf8 1Be4 Rb8 1Qe2 Nd5 1Bxd5 exd5 1Ng5 Be6 2Nxe6 Qe7 2Nxg7 Kxg7 2Qf3 Rf8 2Qf6+ Qxf6 2Rxf6 Rc8 2Raf1 Rxc3',\n",
              " 'e4 b6 d4 Bb7 Bd3 e6 f4 Nf6 Qe2 Be7 Nf3 O-O O-O h6 c3 Nh7 h3 d6 1a4 a5 1Na3 f6 1f5 e5 1d5 Ba6 1Nb5 Bxb5 1Bxb5 Ng5 1Nxg5 fxg5 1Qh5 Nd7 1Bc6 Rb8 1Qg6 Nc5 2Re1 Nd3 2Re3 Nf4 2Bd7 Nxg6 2Be6+ Kh7 2fxg6+ Kxg6 2Bf5+ Rxf5',\n",
              " 'd4 g6 c4 Bg7 Nc3 b6 e4 Bb7 Be3 d6 Bd3 e6 f4 Ne7 Nf3 O-O O-O Nd7 1Qc2 a6 1e5 c6 1Be4 d5 1cxd5 cxd5 1Bd3 b5 1a3 h6 1b4 f5 1Qe2 Kh7 1h3 Ng8 1Kh2 Nb6 2Rac1 Nc4 2a4 Nxe3 2Qxe3 bxa4 2Nxa4 h5 2Nc5 Rb8 2Nxe6 Qe7',\n",
              " 'e4 e5 d4 exd4 Nf3 c5 Bc4 d5 Bxd5 Nc6 Ng5 Be6 Bxe6 fxe6 Nxe6 Qd7 Nf4 Nf6 1O-O Bd6 1Re1 O-O 1c3 Rad8 1cxd4 cxd4 1Na3 a6 1Nc4 Bc7 1e5 Nd5 1e6 Qe7 1Nh5 Bxh2+ 1Kxh2 Qh4+ 2Kg1 Qxf2+ 2Kh1 Rf5 2Rf1 Qh4+ 2Kg1 Rxh5 2Qf3 Qh2+ 2Kf2 Ne5',\n",
              " 'b3 g6 Bb2 Nf6 e3 Bg7 d4 d6 Nf3 Nbd7 Be2 b6 O-O Bb7 c4 h5 d5 h4 1h3 c6 1Nc3 cxd5 1Nxd5 Bxd5 1cxd5 O-O 1Nxh4 Nc5 1Nf3 Qc8 1Rc1 Qf5 1b4 Nce4 1Nd4 Qxd5 1Nc6 Qxd1 2Rfxd1 Kh7 2Nxe7 Rae8 2Nc6 Nh5 2Bxg7 Nxg7 2Bd3 f5 2Bxe4 fxe4',\n",
              " 'e4 c5 f4 d5 exd5 Qxd5 Nf3 Qe4+ Be2 Qxf4 d4 Qd6 dxc5 Qxd1+ Bxd1 e6 b4 Nf6 1O-O Nd5 1Ne5 Be7 1Nxf7 O-O 1Nd6 Nc6 1Rxf8+ Kxf8 1Nxc8 Rxc8 1c3 Bf6 1Bd2 Ndxb4 1Na3 Nd5 1Rc1 Ne5 2c4 Nc7 2Nb5 Na6 2Nxa7 Rxc5 2Be3 Rxc4 2Rb1 Nb4 2a3 Nd5',\n",
              " 'a3 e5 e4 Bc5 Nf3 Qf6 Bc4 Nc6 O-O Nh6 d3 Nd4 c3 Nxf3+ gxf3 Qg6+ Kh1 d6 1Rg1 Qh5 1Nd2 Bxf2 1Rg2 Be3 1Rxg7 Rg8 1Rxh7 Bh3 1Nf1 Bg5 1Bxg5 Qxg5 1Ng3 Qg6 1Bxf7+ Nxf7 1Rxh3 Ng5 2Rh5 Rf8 2Kg2 O-O-O 2Qg1 Rf7 2Qxa7 c6 2Rf1 Rdf8 2Nf5 Nxe4+',\n",
              " 'c4 g6 Nf3 Bg7 Nc3 Nf6 g3 d6 Bg2 O-O d4 Nbd7 O-O c6 b4 a5 b5 e5 1dxe5 Nxe5 1bxc6 Nxc4 1Qb3 bxc6 1Qxc4 Ba6 1Qb3 Rb8 1Qc2 Nd5 1Bd2 Nb4 1Qd1 Re8 1Re1 d5 1Rb1 d4 2Na4 Nxa2 2Rxb8 Qxb8 2Nc5 Bc4 2Qa4 Bd5 2Bf4 Qb2 2Qxa5 Nc3',\n",
              " 'd4 e6 c4 b6 a3 Bb7 Nc3 Qh4 e4 Bxe4 Nxe4 Qxe4+ Ne2 g6 Be3 Bg7 Ng3 Qh4 1d5 Bxb2 1Rb1 Bxa3 1Qb3 Bd6 1Be2 Bxg3 1fxg3 Qf6 1Rd1 e5 1Bf2 d6 1O-O Qe7 1Be3 Nf6 1Bg5 O-O 2Bxf6 Qd7 2c5 bxc5 2Qb7 Na6 2Qxa6 Rfb8 2Qc6 Qxc6 2dxc6 Rb6',\n",
              " 'd4 e5 dxe5 Nc6 Nf3 b6 e4 g5 h3 Be7 Bd3 Nh6 Nc3 f6 exf6 Bxf6 Bd2 a6 1Qe2 Nd4 1Qd1 Nxf3+ 1Qxf3 Bxc3 1Bxc3 Rf8 1Qh5+ Nf7 1Qxh7 d6 1O-O-O g4 1hxg4 Bxg4 1f3 Qg5+ 1Kb1 O-O-O 2Qh4 Qxh4 2Rxh4 Be6 2Bxa6+ Kd7 2Bb5+ c6 2Bd3 Ra8 2Rh5 Bxa2+',\n",
              " 'b3 b6 Bb2 Bb7 Nc3 e6 Nf3 Nc6 d4 Qe7 e4 O-O-O Bd3 f5 O-O fxe4 Nxe4 Nf6 1Nxf6 gxf6 1d5 h5 1Bc3 exd5 1Bb5 Qf7 1Qe2 Bg7 1Ba6 Rhe8 1Bxb7+ Kxb7 1Qd2 f5 1Bxg7 Qxg7 1Rae1 d4 2Rxe8 Rxe8 2Re1 Rg8 2g3 Qg4 2Ne5 Nxe5 2Rxe5 h4 2Qe2 Qg6',\n",
              " 'e4 e5 d3 c6 h3 f6 Qf3 d6 Ne2 g5 Qh5+ Ke7 Ng3 Be6 Be2 Nh6 Nf5+ Nxf5 1exf5 Bf7 1Qf3 Bd5 1Qg3 h5 1Nd2 h4 1Qg4 Bh6 1Ne4 Nd7 1c4 Bf7 1O-O Qe8 1Qf3 Bh5 1Qe3 Bf7 2Qd2 a6 2Bg4 b6 2b4 d5 2cxd5 Bxd5 2a3 b5 2Qc2 Rc8',\n",
              " 'e4 e6 d4 d5 Nc3 c5 Be3 dxe4 Nxe4 Nc6 Nf3 Nf6 Nxf6+ Qxf6 Bb5 Bd7 O-O cxd4 1Bxd4 Qf5 1Bd3 Qd5 1Bc3 Nb4 1Bxb4 Bxb4 1c3 Be7 1Qc2 h6 1Rfe1 Bf6 1Rad1 Qc5 1a3 Bc6 1Nd2 O-O 2Ne4 Bxe4 2Rxe4 b5 2c4 Rac8 2b4 Qc6 2c5 Rfd8 2Ree1 Rd4',\n",
              " 'e4 e6 d3 d5 Nd2 dxe4 dxe4 Be7 Ngf3 b6 g3 Bb7 Bg2 Nf6 Qe2 O-O O-O c5 1Rd1 Qc8 1e5 Nd5 1c4 Nb4 1a3 Nc2 1Rb1 Nd4 1Nxd4 cxd4 1Ne4 Rd8 1Qh5 Nd7 1b3 Nc5 1Nxc5 bxc5 2Bxb7 Qxb7 2Bg5 Bxg5 2Qxg5 Qe4 2Re1 Qc2 2Qc1 Qf5 2Qf4 Qxf4',\n",
              " 'e4 e5 Nf3 d6 Bb5+ c6 Bc4 a5 d4 Bg4 dxe5 b5 Be2 Bxf3 Bxf3 Be7 exd6 Bxd6 1O-O Qc7 1g3 Nf6 1Bf4 Bxf4 1gxf4 Qxf4 1Qe2 Nbd7 1e5 Nxe5 1Re1 O-O 1Qxe5 Qxf3 1Nd2 Qh3 1Ne4 Ng4 2Qg3 Qh5 2f3 f5 2fxg4 fxg4 2Rf1 Rxf1+ 2Rxf1 Qg6 2Qc7 Qxe4',\n",
              " 'e4 e5 Nf3 d6 Bc4 Be7 Nc3 c6 d4 exd4 Nxd4 b5 Bb3 b4 Nce2 c5 Nf5 Bxf5 1exf5 Nf6 1O-O O-O 1Ng3 Nc6 1Be3 Ne5 1h3 c4 1Ba4 Qa5 1b3 c3 1Qd4 Qc7 1Qxb4 d5 1Qf4 Rfd8 2Bd4 Bd6 2Ne2 Nc6 2Qe3 Nxd4 2Nxd4 Bc5 2Qd3 Qb6 2Nb5 a6',\n",
              " 'e4 c6 d4 d5 e5 Bf5 b3 e6 Bb2 Be7 Nd2 Nh6 Ngf3 O-O Qe2 g6 O-O-O Qb6 1h4 c5 1g3 cxd4 1Nxd4 Qc5 1Nxf5 Nxf5 1Rg1 Nd4 1Bxd4 Qxd4 1Kb1 Ba3 1Nc4 Qc3 1Nxa3 Na6 1Qd2 Qc7 2Bxa6 bxa6 2Ka1 Rab8 2Nb1 a5 2a4 Rfd8 2Nc3 Qxe5 2Ka2 Rdc8',\n",
              " 'c4 Nf6 d3 c5 e4 e5 Nc3 d6 Nf3 Bg4 Be2 Nc6 O-O Nd4 Nxd4 cxd4 Bxg4 Nxg4 1Qxg4 dxc3 1bxc3 g6 1Rb1 h5 1Qf3 b6 1Bg5 Qxg5 1d4 Rc8 1dxe5 Qxe5 1Qd3 h4 1f4 Qc5+ 1Kh1 Rh5 2Qh3 Qxc4 2Rfc1 Qxe4 2Qxc8+ Ke7 2Re1 Rc5 2Rxe4+ Kf6 2Qd8+ Kg7',\n",
              " 'd4 Nf6 c4 e6 Nf3 d5 e3 c6 Nc3 Bd6 Bd3 O-O O-O h6 b3 Bc7 Bb2 Nbd7 1Qc2 Re8 1Rad1 e5 1dxe5 Nxe5 1Nxe5 Bxe5 1Na4 Bxb2 1Nxb2 Qe7 1cxd5 Nxd5 1Bc4 Nb6 1Be2 Be6 1Bf3 Rad8 2Rxd8 Rxd8 2Rd1 Bd5 2Bxd5 Nxd5 2Nc4 Qf6 2Rd3 Re8 2h3 Qa1+',\n",
              " 'd4 d5 c4 dxc4 Qa4+ c6 Qxc4 e6 a3 Be7 Nf3 Nf6 h3 Nbd7 Bf4 Nb6 Qc2 Nfd5 1Bh2 O-O 1e4 Nf6 1Bd3 h6 1O-O Nh5 1Nc3 Nf4 1Bxf4 Bf6 1e5 Be7 1Rac1 Nd5 1Nxd5 cxd5 1Qc7 Qe8 2b4 b5 2Bg3 f6 2Qc2 f5 2Qc7 Bg5 2Nxg5 hxg5 2Qc5 f4',\n",
              " 'e4 e6 Bc4 d5 exd5 exd5 Bb3 f5 Qe2+ Be7 d4 c6 Nf3 Nf6 Bg5 Ne4 Bxe7 Qxe7 1Ne5 O-O 1O-O Qf6 1Nd2 Nd7 1Nxe4 fxe4 1Nxd7 Bxd7 1Rad1 Rae8 1a4 a6 1a5 Qg5 1c4 Bg4 1Qc2 Bxd1 2Qxd1 h5 2cxd5 cxd5 2Kh1 h4 2h3 Kh7 2Bc2 Kh6 2Qe1 Rf7',\n",
              " 'e4 c6 Nc3 d5 Nf3 e6 exd5 cxd5 d4 Nf6 Bd3 Be7 Bd2 Nbd7 Ne2 a6 c3 b5 1Ng3 Bb7 1O-O h6 1Re1 O-O 1Qc2 Nb6 1Ne5 Nc4 1f4 Rc8 1Bc1 b4 1Qe2 bxc3 1bxc3 a5 1Nxc4 dxc4 2Bc2 Bd5 2Ne4 Nxe4 2Bxe4 Bxe4 2Qxe4 Bf6 2f5 Re8 2Qf3 e5',\n",
              " 'e4 e5 d4 exd4 Qxd4 d6 Bc4 Nf6 Bg5 Be7 Nf3 Bg4 Qd1 O-O h3 Bh5 g4 Bg6 1Bd3 Nxe4 1Be3 d5 1h4 h5 1gxh5 Bxh5 1Nbd2 Nxd2 1Bxd2 d4 1a4 c5 1Ra3 Nc6 1Bc4 Ne5 1Rh3 Nxf3+ 2Rhxf3 Bxh4 2Qe2 Qd6 2Qe4 Bxf3 2Rxf3 Rae8 2Bxf7+ Kh8 2Bxe8 Bxf2+',\n",
              " 'e3 d5 Nc3 c6 Nce2 Nd7 a3 e5 b3 Bd6 Bb2 Qe7 Ng3 g6 h4 h5 Be2 Ngf6 1Nf3 Nb6 1Ng5 Bd7 1a4 O-O-O 1a5 Na8 1Bc3 Rhf8 1b4 Bxb4 1Bxb4 Qxb4 1c3 Qd6 1Qb3 c5 1Rb1 Bc6 2c4 d4 2e4 d3 2Bf3 Nc7 2O-O Na6 2Ra1 Nb4 2Rfb1 Rd7',\n",
              " 'e4 e5 Nf3 d5 Nc3 d4 Nb5 Bg4 h3 Bd7 Nxe5 Bxb5 Bxb5+ c6 Bc4 Qe7 Bxf7+ Kd8 1Qh5 Nf6 1Qf5 g6 1Qf4 Bg7 1Bb3 Nh5 1Nf7+ Kc8 1Qg4+ Nd7 1Nxh8 Bxh8 1d3 Kc7 1O-O Rf8 1Bg5 Qf7 2Bxf7 Rxf7 2f4 Bf6 2e5 Bxg5 2Qxg5 Nc5 2f5 Ng7 2fxg6 Rxf1+',\n",
              " 'e4 e6 Nf3 c6 d4 d5 e5 c5 c3 c4 b3 b5 bxc4 bxc4 Nbd2 Ne7 Bxc4 dxc4 1Nxc4 Nd5 1Qc2 Ba6 1Ne3 Nxe3 1fxe3 Qd5 1Kf2 Be7 1Rd1 Bb7 1Bd2 Qd7 1Rab1 Bxf3 1gxf3 O-O 1Qb3 Nc6 2e4 f6 2exf6 Bxf6 2Ke3 h6 2Rg1 Kh8 2Rg2 e5 2d5 Na5',\n",
              " 'd4 d5 Nf3 Bg4 Ne5 Bf5 g4 Be4 f3 Bg6 Nxg6 hxg6 h4 e6 g5 Bd6 e3 Bg3+ 1Ke2 Rxh4 1Rxh4 Bxh4 1f4 f6 1Bh3 Qd6 1gxf6 gxf6 1b3 Nd7 1Ba3 Qa6+ 1Qd3 Qxd3+ 1Kxd3 e5 1fxe5 fxe5 2Bxd7+ Kxd7 2dxe5 Ke6 2Kd4 Bg3 2c3 Bxe5+ 2Kd3 Nf6 2Nd2 g5',\n",
              " 'e4 e6 d4 d5 Nd2 Nf6 e5 Nfd7 Ngf3 c5 Bb5 Nc6 Bxc6 bxc6 O-O f5 exf6 Nxf6 1dxc5 Bxc5 1Nb3 Bb6 1Bg5 O-O 1Ne5 h6 1Bxf6 Qxf6 1Nxc6 Bb7 1Ncd4 e5 1Nf3 d4 1Qd3 e4 1Qc4+ Kh8 2Nfxd4 Rac8 2Qa4 Qg6 2c3 e3 2f3 e2 2Rfe1 Qd3 2Qb5 Qe3+',\n",
              " 'e4 c5 Nf3 d6 d4 Nc6 dxc5 dxc5 Bd3 Bg4 O-O c4 Be2 Qc7 c3 Rd8 Qc2 Bxf3 1Bxf3 Ne5 1Be2 Nf6 1Bg5 h6 1Bh4 g5 1Bg3 Nfd7 1Nd2 Qc6 1Nf3 Nxf3+ 1Bxf3 Bg7 1e5 O-O 1Bxc6 bxc6 2Rae1 e6 2h4 g4 2Qe4 h5 2Qxc4 Rc8 2Qd4 Rfd8 2Qf4 Nc5',\n",
              " 'e4 g6 Nc3 Bg7 Nf3 e6 d4 Ne7 Be3 O-O Bd3 d5 Qd2 a6 Bh6 b5 Bxg7 Kxg7 1h4 Nd7 1h5 Rh8 1O-O-O c5 1exd5 Nxd5 1dxc5 Nxc5 1Nxd5 Qxd5 1Kb1 Nxd3 1cxd3 Bb7 1hxg6 hxg6 1Rhe1 a5 2d4 b4 2Rc1 b3 2a3 a4 2Rc5 Qd6 2Qg5 Bxf3 2gxf3 Rac8',\n",
              " 'e4 e5 Nc3 Nc6 Bc4 Nf6 d3 Be7 Be3 O-O h3 Na5 g4 Nxc4 dxc4 d6 g5 Nd7 1Qf3 Bxg5 1O-O-O Nc5 1h4 Bxe3+ 1Qxe3 f5 1exf5 Bxf5 1Nh3 Qxh4 1Ng5 Qf4 1Nxh7 Qxe3+ 1fxe3 Bxh7 1Rdg1 Rf2 2Nd5 Rxc2+ 2Kd1 Be4 2Nf6+ Kf7 2Nxe4 Rxb2 2Rf1+ Ke7 2Ng5 Rf8',\n",
              " 'e4 e5 d4 exd4 c3 dxc3 Bc4 cxb2 Bxb2 Bb4+ Nd2 c6 Nf3 Qa5 Bxg7 Bc3 Bxh8 Bxh8 1Rb1 d5 1exd5 Bf5 1Qe2+ Ne7 1dxc6 bxc6 1O-O Bxb1 1Re1 Bf6 1Nxb1 Nd7 1Bxf7+ Kxf7 1Qe6+ Kg7 1Qxd7 Rd8 2Qg4+ Ng6 2Nbd2 Rxd2 2Nxd2 Qxd2 2Rd1 Qg5 2Rd7+ Kh6 2Qh3+ Nh4',\n",
              " 'e4 e5 Nf3 Nc6 d4 exd4 Nxd4 Nxd4 Qxd4 c5 Qd1 d6 Bb5+ Bd7 Bxd7+ Qxd7 O-O g6 1Nc3 Bg7 1Nd5 Nf6 1Nxf6+ Bxf6 1c3 O-O 1Bh6 Rfe8 1Qf3 Be5 1Rad1 Qe6 1b3 c4 1b4 b5 1Rfe1 a5 2a3 axb4 2axb4 Ra2 2Rd5 Rc2 2Rxb5 Rxc3 2Be3 Ra8 2Qd1 Raa3',\n",
              " 'e4 c5 Nf3 d6 Bc4 e6 c3 g6 d4 a6 O-O b5 Bb3 c4 Bc2 Bg7 Re1 Ne7 1b3 d5 1e5 Nf5 1Bg5 Qc7 1Nbd2 h6 1Bf4 g5 1Bxg5 hxg5 1Nxg5 Bh6 1Ndf3 Bxg5 1Nxg5 Qe7 1f4 Nd7 2bxc4 bxc4 2Ba4 Qf8 2Rf1 Qh6 2h3 Ne3 2Qf3 Nxf1 2Rxf1 Qg6',\n",
              " 'b3 e6 Bb2 d5 e3 c6 Nc3 Nf6 Qe2 Be7 O-O-O O-O g4 b6 g5 Ne4 Nxe4 dxe4 1f3 Bb7 1fxe4 c5 1Bg2 Nc6 1d4 cxd4 1exd4 Qc7 1d5 exd5 1exd5 Nd8 1Kb1 Bd6 1c3 Re8 1Qd2 Be5 2c4 Bxb2 2Qxb2 Qd6 2Nf3 a6 2h4 b5 2Nd4 bxc4 2Nf5 Qe5',\n",
              " 'e4 e5 Nf3 Nc6 d3 Nd4 Nc3 h6 Nxe5 Qe7 Nf3 Nxf3+ Qxf3 d6 Qd1 Nf6 h3 Be6 1f4 Qd7 1f5 Bxa2 1Rxa2 d5 1exd5 Nxd5 1Nxd5 Qxd5 1Ra1 O-O-O 1Be2 Bc5 1Rf1 Rhe8 1Bd2 Qxg2 1Rf2 Qg3 2Be3 Rxe3 2Qd2 Qg1+ 2Rf1 Qg3+ 2Kd1 Re5 2c4 Be3 2Qe1 Qg5',\n",
              " 'd4 b6 Nf3 Bb7 Bg5 e6 Bxd8 Kxd8 Nc3 Be7 d5 Nf6 dxe6 fxe6 e3 d6 Be2 Nbd7 1O-O c5 1Bc4 d5 1Be2 Kc7 1e4 d4 1Na4 Rad8 1b3 e5 1Bb5 Bxe4 1Bxd7 Bxf3 1Qxf3 Rxd7 1Rfd1 Rf8 2Qe2 h5 2Qb5 Ne4 2Qa6 Kb8 2Qb5 Rc7 2c3 Nxc3 2Nxc3 dxc3',\n",
              " 'e4 e5 Nf3 d6 h3 Nc6 Bc4 Nh6 d3 a6 Ng5 b5 Nxf7 Nxf7 Bd5 Bd7 Qf3 Qf6 1Qxf6 gxf6 1O-O Rb8 1f4 Nd4 1fxe5 Ne2+ 1Kh2 Nxc1 1Rxc1 Rg8 1exf6 Rg6 1Rf1 b4 1a3 a5 1c3 b3 2Nd2 a4 2Nf3 c6 2Bxf7+ Kxf7 2d4 Rh6 2e5 Bg4 2exd6 Bxf3',\n",
              " 'e4 e5 Qh5 d6 Bc4 g6 Qf3 Qf6 Qxf6 Nxf6 Nf3 Bg7 Ng5 O-O Bxf7+ Rxf7 Nxf7 Kxf7 1O-O Nc6 1c3 Be6 1d3 Kg8 1Bg5 Rf8 1Nd2 h6 1Bxf6 Bxf6 1c4 Nd4 1Kh1 Bg5 1a4 Bxd2 1Ra3 Bb4 2Ra2 a5 2f3 Bg4 2h3 Be6 2Raa1 Ne2 2Rf2 Ng3+ 2Kh2 Nh5',\n",
              " 'd4 Nf6 c4 g6 Nc3 d6 e4 Bg7 Nf3 O-O Be2 Nbd7 Be3 Re8 Qd2 e5 d5 b6 1Bh6 a5 1Bxg7 Kxg7 1h4 Nc5 1Qe3 Bg4 1Ng5 Nh5 1Bxg4 Rf8 1Bxh5 gxh5 1Nf3 f5 1Qg5+ Kh8 1Qxd8 Raxd8 2exf5 Rxf5 2Ke2 Rdf8 2Rhf1 e4 2Ng5 h6 2Nh3 Kg7 2f4 exf3+',\n",
              " 'd4 c5 d5 d6 Bf4 Nf6 Nf3 g6 h3 Bg7 c3 Na6 e3 Nc7 Nbd2 a6 c4 b5 1b3 bxc4 1bxc4 Rb8 1Rc1 Bd7 1Be2 a5 1O-O Na6 1Rb1 Nb4 1a3 Na6 1Qc2 Bf5 1e4 Bd7 1Rfc1 O-O 2Bd3 Nh5 2Bh2 Rxb1 2Rxb1 Nf6 2Rb7 Qc8 2Qb1 Ba4 2Rb6 Bd7',\n",
              " 'd4 Nf6 c4 d6 Nc3 g6 e3 Bg7 Bd3 O-O Nf3 Ne8 b4 f6 O-O Nd7 Bb2 e5 1dxe5 fxe5 1e4 a6 1Bc1 Ndf6 1Bg5 Be6 1Qd2 Qd7 1Bh6 Bg4 1Bxg7 Nxg7 1Ne1 Nfh5 1f3 Be6 1Ne2 Qf7 2Rc1 Rae8 2Nc3 c6 2Rc2 Bxc4 2Ne2 Bxd3 2Qxd3 Rd8 2Qe3 Ne6',\n",
              " 'e4 e6 d4 g6 e5 Ne7 Bg5 Nbc6 Bf6 Rg8 c3 Bg7 Qf3 Bxf6 Qxf6 Nd5 Qxd8+ Nxd8 1Bc4 Nf4 1g3 Nh5 1Nd2 b6 1Ne2 Bb7 1Rg1 Nc6 1f4 O-O-O 1b4 f6 1d5 exd5 1Bxd5 fxe5 1Bxg8 Rxg8 2fxe5 Nxe5 2O-O-O Re8 2Nd4 Bd5 2a4 Nd3+ 2Kc2 Nf2 2Rde1 Ng4',\n",
              " 'e4 c5 d3 Nc6 Nc3 g6 Nf3 Bg7 Be3 d6 Be2 Nf6 O-O O-O a4 a6 b3 Ng4 1Qd2 Nxe3 1Qxe3 Bxc3 1Ra3 Bg4 1h4 h5 1Ng5 Bxe2 1Qxe2 Bf6 1c4 e6 1Nf3 Bxh4 1g3 Bf6 1Nd2 Nd4 2Qd1 d5 2exd5 exd5 2Re1 Qd6 2Ra1 Rfe8 2Rxe8+ Rxe8 2Nf3 Ne2+',\n",
              " 'Nf3 Nc6 d4 d5 e3 Bf5 h3 Nb4 Bd3 Nxd3+ cxd3 e6 g4 Bg6 Ne5 Bb4+ Nc3 Qf6 1Nxg6 Qxg6 1a3 Bd6 1f4 Be7 1O-O Qh6 1Kh2 Qh4 1Qe1 O-O-O 1Qxh4 Bxh4 1Bd2 Nf6 1Be1 Bxe1 1Rfxe1 g6 2e4 dxe4 2Nxe4 Ne8 2Ng5 Rd7 2Re4 h6 2Nf3 f6 2g5 f5',\n",
              " 'e4 e5 Nf3 Nc6 Bc4 d6 d3 Na5 Bd5 Ne7 Ng5 f6 Nf7 Qd7 Nxh8 Nxd5 exd5 Ke7 1O-O g6 1Nc3 Qe8 1f4 Bg7 1Nxg6+ Qxg6 1f5 Qf7 1d4 b6 1Re1 Bxf5 1h3 Nc4 1Nb5 Rg8 1Nxc7 Kd7 2Ne6 Bxe6 2dxe6+ Qxe6 2b3 d5 2bxc4 dxc4 2c3 b5 2dxe5+ Ke7',\n",
              " 'e4 c6 Nf3 d5 exd5 cxd5 d4 Nc6 Nc3 Bg4 Bb5 a6 Ba4 b5 Bb3 Bxf3 gxf3 e6 1f4 Nf6 1f5 Be7 1fxe6 fxe6 1Bg5 O-O 1Rg1 Ne4 1Nxe4 dxe4 1Bxe6+ Kh8 1h4 Bxg5 1hxg5 Qxd4 1Bd5 Qxd1+ 2Rxd1 Rac8 2Bxe4 Rfe8 2f3 Nb4 2Rh1 g6 2Kf2 Nxa2 2Bxg6 Rxc2+',\n",
              " 'd4 d5 Bf4 Nf6 e3 g6 c4 Bg7 c5 O-O Nf3 c6 Bd3 Bg4 Nbd2 Nbd7 h3 Bxf3 1Nxf3 Nh5 1Bh2 Re8 1Qc2 e5 1Nd2 e4 1Be2 Nhf6 1O-O h5 1f3 Bh6 1fxe4 Bxe3+ 1Kh1 Bxd2 1Qxd2 Nxe4 2Qh6 Qg5 2Qxg5 Nxg5 2Bf3 Nxf3 2Rxf3 Re2 2b3 Rae8 2Bd6 Re1+',\n",
              " 'e4 d5 exd5 Qxd5 Nf3 Qd8 Bb5+ c6 Ba4 e6 c3 Nf6 Bc2 Nbd7 d4 Be7 O-O b6 1Nbd2 Bb7 1Re1 Qc7 1Nf1 O-O 1Ng3 Rfe8 1Re3 c5 1Ne5 cxd4 1cxd4 Bd6 1Nxd7 Nxd7 1Bd2 Nf6 1Bc3 Nd5 2Re2 a6 2Qd2 b5 2Ne4 Be7 2Bb3 a5 2Bxd5 Bxd5 2Qf4 Qxf4',\n",
              " 'e4 Nf6 f3 e5 d3 Nc6 Be3 d5 Ne2 d4 Bf2 Be7 g3 Nd7 Bg2 f6 Nd2 O-O 1a3 Ncb8 1O-O c5 1f4 Nc6 1f5 g6 1fxg6 hxg6 1h3 Nb6 1g4 Qd7 1Ng3 Qe8 1Nf3 Qf7 1Qd2 Qh7 2Rae1 Nd8 2Nh2 Nf7 2b3 Nh6 2Nf3 f5 2exf5 gxf5 2gxf5',\n",
              " 'e4 e6 d4 d5 Nd2 Nf6 e5 Nfd7 f4 a6 c3 c5 Ndf3 Nc6 Bd3 Qb6 Ne2 Be7 1O-O h6 1Kh1 cxd4 1cxd4 Qd8 1f5 Nf8 1fxe6 Bxe6 1Nf4 Qd7 1Nxe6 fxe6 1Nh4 O-O-O 1Ng6 Nxg6 1Bxg6 Rdf8 2Be3 Kb8 2Qe2 Na5 2b3 Ba3 2Rxf8+ Rxf8 2Rf1 Qd8 2Rxf8 Qxf8',\n",
              " 'e4 e5 Nf3 d6 h3 h6 Bc4 Nf6 d3 a5 a3 c6 Ba2 Be7 b4 a4 c4 O-O 1Nc3 Nh7 1Nxa4 Bg5 1Bxg5 Nxg5 1Nxg5 Qxg5 1O-O Bxh3 1g3 Bxf1 1Kxf1 Nd7 1Bb3 Nf6 1Nc3 Qh5 1Qxh5 Nxh5 2Kg2 Nf6 2b5 cxb5 2Nxb5 Rfd8 2Nc3 Nd7 2Nd5 Nc5 2Bc2 Ne6',\n",
              " 'b4 e5 Bb2 d6 e3 g6 Bb5+ c6 Ba4 Bg7 Nf3 Ne7 O-O Nd5 c4 Nxb4 a3 Nd3 1Bc3 O-O 1Qe2 e4 1Nd4 c5 1Nb5 a6 1Bxg7 Kxg7 1N5c3 Qf6 1g3 b5 1cxb5 axb5 1Bxb5 Bd7 1Bxd3 exd3 2Qxd3 Nc6 2Nd5 Qxa1 2Nc7 Rab8 2Nc3 Qxa3 2Qxd6 Bh3 2Re1 Nb4',\n",
              " 'b3 Nc6 Bb2 d5 g3 e6 Bg2 Bd6 e3 Nf6 Qf3 O-O h4 e5 h5 Ne4 h6 g6 1Qe2 f5 1Bxe4 dxe4 1Nh3 Nb4 1Qd1 Be6 1a3 Nc6 1Nc3 f4 1Nxe4 fxg3 1Nxg3 e4 1Nxe4 Qd7 1Nf6+ Rxf6 2Bxf6 Bxh3 2Bb2 Bf5 2Qe2 Ne5 2d3 Rf8 2e4 Bg4 2f3 Bxf3',\n",
              " 'e4 b6 Nc3 Bb7 Nf3 e6 d4 Nf6 Bg5 Bb4 Bxf6 Qxf6 Qd3 Bxc3+ bxc3 O-O e5 Qe7 1Qe3 d5 1Bd3 c5 1Qg5 Qxg5 1Nxg5 g6 1h4 Nc6 1h5 c4 1hxg6 fxg6 1Be2 Rf5 1Nxe6 Bc8 1g4 Rf7 2Ng5 Rf4 2Rxh7 Bxg4 2Bxg4 Rxg4 2Rc7 Rxg5 2Rxc6 Rg1+ 2Kd2 Rxa1',\n",
              " 'e4 e5 Nf3 Nc6 Nc3 Bb4 Bc4 Bxc3 dxc3 Nf6 Bg5 h6 Be3 Nxe4 Qd3 Nf6 O-O-O e4 1Qd2 exf3 1gxf3 O-O 1Rhe1 Ne5 1Bd5 Nxf3 1Bxh6 Nxd2 1Rxd2 gxh6 1Rg1+ Kh7 1Bc4 Ne4 1Rd4 Nxf2 1Bd3+ Nxd3+ 2cxd3 c5 2Rdg4 d6 2Rg7+ Kh8 2c4 Rg8 2Rxg8+ Qxg8 2Rxg8+ Kxg8',\n",
              " 'd4 d5 Nf3 c6 Bf4 e6 e3 Nf6 c4 Be7 cxd5 cxd5 Nc3 O-O Qc2 a6 Rc1 b5 1Bd3 Bb7 1a3 Nc6 1Ne5 Nxe5 1Bxe5 Nd7 1Bxh7+ Kh8 1Bd3 Nxe5 1dxe5 g6 1Qe2 Kg7 1h4 Rh8 1h5 g5 2h6+ Rxh6 2Rxh6 Kxh6 2Qg4 Kg7 2Ke2 Qh8 2f4 Qh4 2Qf3 gxf4',\n",
              " 'd4 c5 c4 cxd4 Qxd4 Nf6 Qd1 g6 b3 Bg7 Bb2 O-O Nc3 d5 cxd5 Nbd7 e4 Nxe4 1Nxe4 Bxb2 1Rb1 Be5 1Bc4 Nb6 1Nf3 Bf5 1Nxe5 Bxe4 1O-O Bxb1 1Qxb1 Nxd5 1Rd1 e6 1Qb2 Qf6 1Bxd5 exd5 2Rxd5 Rad8 2Qd2 Rxd5 2Qxd5 Re8 2f4 Qxf4 2Nf3 Qe3+ 2Kf1 Qe2+',\n",
              " 'd4 d5 e3 e6 Bd3 Nf6 Nd2 c5 c3 a6 f4 Nbd7 Qf3 Rb8 Ne2 b5 g4 Be7 1g5 Ng8 1h4 b4 1Nf1 Qb6 1Nfg3 bxc3 1bxc3 Qa5 1Nh5 Bf8 1Nhg3 Ne7 1h5 Nc6 1O-O Bd6 1h6 g6 2f5 exf5 2Qxd5 Bxg3 2Nxg3 Qxc3 2Bxf5 Ne7 2Bxd7+ Bxd7 2Qxf7+ Kd8',\n",
              " 'e4 c6 Nf3 d5 e5 Bg4 d4 e6 Be2 c5 Nc3 Nc6 Bb5 Qb6 h3 Bxf3 Qxf3 cxd4 1Bxc6+ Qxc6 1Ne2 Qxc2 1O-O Qe4 1Qb3 Qxe5 1Qxb7 Qb8 1Qc6+ Kd8 1Nxd4 Qc7 1Bg5+ f6 1Bxf6+ Nxf6 1Nxe6+ Ke7 2Nxc7 Rc8 2Nxd5+ Nxd5 2Qxc8 Kf7 2Rfe1 Be7 2Qf5+ Nf6 2Rad1 Bb4',\n",
              " 'd4 Nf6 e3 g6 c3 Bg7 Nd2 O-O Ngf3 d6 Bd3 Nbd7 Qe2 Re8 h3 e5 dxe5 dxe5 1e4 Nc5 1Bc2 Nh5 1Nb3 Ne6 1O-O Nhf4 1Bxf4 Nxf4 1Qb5 c6 1Qb4 Bf8 1Qc4 Be6 1Qa4 a5 1c4 Qc8 2Rfe1 Nxg2 2Kxg2 Bxh3+ 2Kh2 Qg4 2Rg1 Qxf3 2Nc1 Qxf2+ 2Kh1 Qh4',\n",
              " 'd4 b6 c4 Bb7 Nc3 g6 e4 Bg7 Nf3 Nc6 a3 e6 d5 exd5 cxd5 Ne5 Bf4 Nxf3+ 1Qxf3 Nf6 1Be5 d6 1Bd4 Qe7 1Bb5+ Kf8 1O-O a6 1Bd3 c5 1Be3 b5 1Rac1 c4 1Bb1 h5 1h3 Bc8 2Bd4 g5 2Rfe1 g4 2hxg4 Bxg4 2Qe3 Bh6 2f4 Rg8 2Rcd1 Bxd1',\n",
              " 'd4 d5 c4 e6 Nc3 Nf6 Nf3 Bb4 Qc2 c6 e3 Nbd7 Bd3 Nb6 b3 Nbd7 O-O O-O 1Bd2 b6 1Nxd5 Nxd5 1cxd5 Bxd2 1dxe6 Bb4 1Bxh7+ Kh8 1exd7 Bxd7 1Ne5 Bd6 1Be4 Bxe5 1dxe5 Qe7 1f4 Rfe8 2Rad1 g6 2Rd6 Rac8 2Bxg6 Be6 2Bf5 Kg7 2Bxe6 fxe6 2Rf3 Rg8',\n",
              " 'e4 c5 Nf3 e6 d4 cxd4 c3 Nc6 cxd4 Nf6 Bg5 Be7 Nc3 O-O Bc4 a6 O-O b5 1Bb3 d6 1Rc1 Bd7 1Qe2 Qb6 1Rfd1 Rae8 1e5 dxe5 1dxe5 Ng4 1Rxd7 Bxg5 1Nxg5 Ncxe5 1Rdd1 f6 1Nf3 Nxf3+ 2Qxf3 f5 2h3 Ne5 2Qf4 Nc4 2Bxc4 bxc4 2Qxc4 Qxb2 2Qxa6 e5',\n",
              " 'e4 d5 exd5 Qxd5 Nc3 Qe6+ Qe2 Qxe2+ Ngxe2 Nc6 d4 e5 dxe5 Nxe5 Bf4 f6 Bxe5 fxe5 1O-O-O Bd7 1Nd5 O-O-O 1Nec3 c6 1Ne3 Bb4 1Ne4 Nf6 1Nxf6 gxf6 1h3 Be6 1a3 Bc5 1Rxd8+ Kxd8 1Bd3 Bb6 2Nf5 Bxf5 2Bxf5 Re8 2f3 Be3+ 2Kb1 Kc7 2h4 Rd8 2g4 Rd2',\n",
              " 'c4 e6 a3 d6 b4 b6 d4 Bb7 Bf4 h6 e3 Nd7 h3 a6 Ne2 g5 Bh2 Qf6 1Ng3 Qg6 1Nd2 h5 1Nf3 Be7 1Bd3 Qg7 1O-O g4 1hxg4 hxg4 1Ne1 Qh6 1f3 Qxh2+ 1Kf2 gxf3 1Nxf3 Bxf3 2Qxf3 Qh6 2Qxa8+ Bd8 2Ke2 Qg7 2Ne4 f5 2Nf2 Ngf6 2Qxa6 Qxg2',\n",
              " 'd4 c5 Nf3 cxd4 Nxd4 Nf6 g3 g6 Bg2 Bg7 O-O Nc6 Nxc6 bxc6 c3 O-O Nd2 Ba6 1Re1 d5 1Qa4 Bb5 1Qa3 e5 1c4 dxc4 1Qc5 Qb6 1Qxb6 axb6 1a3 Rad8 1Ne4 Nxe4 1Bxe4 f5 1Bc2 e4 2Be3 c3 2b3 Rd2 2Rac1 Rfd8 2Bxb6 R8d7 2a4 Bxe2 2b4 Bh6',\n",
              " 'd4 g6 e4 Bg7 Bd3 f6 c3 d6 Nf3 e5 O-O exd4 cxd4 c6 Qe2 Bg4 Re1 Bxf3 1Qxf3 Ne7 1e5 dxe5 1dxe5 f5 1Be2 O-O 1Bf4 Qe8 1Bg5 Nd7 1Nc3 Nxe5 1Qe3 Bf6 1Bxf6 Rxf6 1Qxe5 Nd5 2Qxe8+ Rxe8 2Bc4 Rd8 2Bxd5+ cxd5 2Rad1 d4 2Nb5 Rfd6 2Nc7 Kg7',\n",
              " 'd4 Nf6 c4 g6 Nc3 d5 e3 Bg7 Nf3 c6 Qc2 O-O Bd2 Nbd7 b3 Re8 Be2 e5 1cxd5 Nxd5 1Nxd5 cxd5 1dxe5 Nxe5 1Nxe5 Bxe5 1Bc3 Qf6 1Bxe5 Qxe5 1O-O Bf5 1Bd3 Be4 1Rae1 Rac8 1Qd2 Qc3 2Qxc3 Rxc3 2Bb1 Rec8 2Rd1 Kf8 2Bxe4 dxe4 2Rd4 f5 2Ra4 a6',\n",
              " 'd4 d5 Bf4 c6 h3 Nf6 e3 Bf5 Bd3 Bg6 Nf3 e6 Nbd2 Qb6 b3 Bb4 O-O O-O 1a3 Bxd2 1Qxd2 Bxd3 1cxd3 Qxb3 1Rfb1 Qa4 1Rxb7 Nbd7 1Rb4 Qa5 1Rab1 Qxa3 1R1b3 Qa1+ 1Rb1 Qa5 1Ne5 Nxe5 2Bxe5 Nd7 2Bd6 Rfe8 2Qc3 Rec8 2Qb3 Nf8 2Bxf8 Rxf8 2Rb7 c5',\n",
              " 'e4 e5 f4 exf4 Nf3 d6 Bc4 Be7 O-O g5 d4 h6 Nc3 Be6 d5 Bg4 Qd4 Bf6 1e5 dxe5 1Nxe5 Qe7 1Re1 Bh5 1Bd2 Kf8 1Nb5 Qd8 1d6 c6 1Nc7 Na6 1Nxa8 Bxe5 1Qxe5 f6 1Qe6 Qxa8 2d7 Qd8 2Bc3 Nc5 2Qd6+ Kg7 2Qxc5 Bf7 2Bxf7 Kxf7 2Rad1 Ne7',\n",
              " 'e4 g6 Nf3 c6 Nc3 Nf6 d4 d5 e5 Ne4 Nxe4 dxe4 Ng5 Bf5 Qe2 h6 Nxe4 e6 1c3 Be7 1Ng3 Kf8 1f3 h5 1Qd2 Bh4 1Bd3 Nd7 1Bxf5 gxf5 1f4 Nb6 1Qe3 Nd5 1Qf3 Qb6 1O-O Bxg3 2Qxg3 h4 2Qf3 Rg8 2Kh1 Rg4 2a3 Ke7 2c4 Nc7 2c5 Qb5',\n",
              " 'b3 g6 Bb2 Nf6 e3 Bg7 Nf3 d6 d4 e5 dxe5 Ng4 Nbd2 Nxe5 c3 Nxf3+ Nxf3 O-O 1Be2 Nc6 1O-O b6 1h3 Bb7 1Rc1 Qf6 1Qc2 Ne5 1Nxe5 Qxe5 1Ba1 Qg5 1e4 Rae8 1f3 h5 1Rfe1 d5 2Bd3 dxe4 2Bxe4 Bxe4 2Rxe4 Rxe4 2fxe4 Re8 2c4 Rxe4 2Bxg7 Kxg7',\n",
              " 'd4 d5 c4 e5 e3 exd4 exd4 Nf6 Nf3 Bb4+ Nc3 Ne4 Bd2 Nxd2 Qxd2 O-O Be2 Re8 1O-O c6 1cxd5 cxd5 1Rfe1 Bf5 1a3 Ba5 1b4 Bb6 1Na4 Nc6 1Nxb6 axb6 1Bb5 Qd6 1Rxe8+ Rxe8 1Bxc6 bxc6 2Ne5 Be4 2Rc1 Rc8 2Qf4 f6 2Ng6 Qxf4 2Nxf4 g5 2Nxd5 Bxd5',\n",
              " 'b3 e5 Bb2 d6 g3 Nd7 Bg2 c6 e3 Ndf6 d3 Ne7 c3 Ng6 Nd2 Be7 Qc2 Bd7 1f3 Qc8 1Ne2 Bh3 1Rg1 Bxg2 1Rxg2 h5 1d4 h4 1g4 h3 1Rg1 Nh4 1dxe5 dxe5 1Ne4 Nd5 1c4 Nxe3 2Qd3 Neg2+ 2Kf2 f5 2gxf5 g6 2f6 Bb4 2a3 Ba5 2Bxe5 Bc7',\n",
              " 'e4 Nc6 Nc3 e5 Nf3 f5 Bc4 fxe4 Nxe4 d5 d3 dxe4 dxe4 Qxd1+ Kxd1 Bg4 h3 Bh5 1g4 Bg6 1Ng5 Nh6 1f3 O-O-O+ 1Bd2 Bc5 1Be6+ Kb8 1a3 Be3 1Rh2 Bxg5 1Kc1 Bf4 1Bxf4 exf4 1g5 Nf7 2h4 Nfe5 2h5 Be8 2b4 Rf8 2g6 hxg6 2hxg6 Nxf3 2Rh7 Ncd4',\n",
              " 'e4 g6 Nf3 Bg7 c3 Nf6 e5 Nd5 Bc4 c6 O-O O-O d4 Nb6 Be2 d5 Bg5 Qd7 1Nbd2 Na4 1Qc2 Nb6 1Rad1 Qe6 1Bh4 N8d7 1Ng5 Qf5 1Qxf5 gxf5 1Ngf3 e6 1Be7 Re8 1Bh4 Na4 1Ng5 Nxb2 2Rde1 b6 2Bh5 Rf8 2f4 Nd3 2Re3 Ba6 2Rg3 N3xe5 2Rf2 Nd3',\n",
              " 'e4 e5 f4 exf4 Nf3 d5 exd5 Nf6 d4 Nxd5 Bc4 Qe7+ Be2 Ne3 Bxe3 Qxe3 Nc3 Bg4 1Nd5 Qe4 1Nxc7+ Kd8 1Nxa8 Bb4+ 1c3 Bd6 1O-O Re8 1Bc4 Qc6 1Bxf7 Re7 1Qb3 Bxf3 1Rxf3 g5 1Bd5 Qd7 2h3 h5 2Qc2 g4 2hxg4 hxg4 2Rf2 f3 2Qg6 Bg3 2Qg8+ Re8',\n",
              " 'e4 c6 d3 d5 exd5 cxd5 b3 Nf6 Bb2 Nc6 Bxf6 exf6 g3 g6 Bg2 Bg7 c3 O-O 1d4 Re8+ 1Ne2 f5 1O-O Qe7 1Nf4 g5 1Nd3 Be6 1Re1 Qd7 1Ne5 Bxe5 1dxe5 Rad8 1Qh5 Qe7 1Nd2 f6 2Nf3 Bf7 2Qh6 Qf8 2Qxf6 Qg7 2Qxf5 Be6 2Qxg5 Qxg5 2Nxg5 Bf5',\n",
              " 'e4 c6 d4 d5 e5 Bf5 h4 e6 g4 Ne7 gxf5 Nxf5 Nf3 Qb6 c3 c5 Bd3 cxd4 1Bxf5 exf5 1cxd4 Bb4+ 1Nc3 Nc6 1Be3 O-O-O 1Qd3 Be7 1a3 Qxb2 1O-O Qb6 1Rab1 Qc7 1Rfc1 Bxa3 1Nb5 Bxc1 2Nxc7 Kxc7 2Rxc1 g6 2Bf4 Kd7 2e6+ Kxe6 2Qe3+ Kf6 2Be5+',\n",
              " 'e4 e6 f4 d5 exd5 exd5 Nf3 Nf6 Be2 Bd6 d3 O-O O-O c6 Ne5 Re8 Ng4 Nbd7 1Nc3 Nxg4 1Bxg4 Nf6 1Bxc8 Rxc8 1Qf3 Qb6+ 1Kh1 d4 1Na4 Qa5 1b3 b5 1Nb2 Qc3 1Qf2 Nd5 1Rb1 Ne3 2Bxe3 dxe3 2Qe2 Qd4 2Nd1 Bxf4 2c3 Qd6 2g3 Bh6 2d4 c5',\n",
              " 'd4 d5 Bf4 g6 e3 Bg7 Nd2 Nf6 c3 O-O Ngf3 Nc6 h3 Bg4 hxg4 Nxg4 Be2 h5 1Be5 Ncxe5 1Nxe5 Nxe5 1dxe5 Bxe5 1Nf3 Bg7 1Qb3 c6 1O-O-O Rb8 1Kb1 e5 1e4 d4 1Bc4 c5 1Bd5 b5 2cxd4 cxd4 2Rc1 a5 2a3 b4 2a4 Qd7 2Bc4 Rfc8 2Bb5 Rxb5',\n",
              " 'e4 d5 f3 dxe4 fxe4 c6 d3 e6 Be3 Nd7 Ne2 Ngf6 h3 Be7 Nd2 O-O g3 Ne8 1Bg2 b6 1O-O Bb7 1Nf3 Qc7 1g4 c5 1Qd2 Ne5 1Bf4 Nxf3+ 1Rxf3 Bd6 1Raf1 Bxf4 1Nxf4 Nd6 1Nh5 Ne8 2Qg5 h6 2Qe3 Rd8 2g5 hxg5 2Qxg5 Rb8 2Nf6+ Nxf6 2Rxf6 Qd8',\n",
              " 'c3 e5 Nf3 Nc6 g3 d6 Bg2 g6 b3 Bg7 Bb2 Nf6 Na3 O-O O-O b6 c4 Bb7 1Rc1 Nb4 1Rc3 Nxa2 1Rc2 Nb4 1Rc1 Nd3 1exd3 d5 1Bxe5 dxc4 1Qc2 cxd3 1Qb2 Ng4 1Rb1 Bxe5 1Nxe5 Nxe5 2Bxb7 Rb8 2Be4 Re8 2Rbe1 Ng4 2h3 Nf6 2Nb5 Nxe4 2Rxe4 Rxe4',\n",
              " 'd4 d5 e3 a6 b4 Nc6 Bd2 e6 Be2 Nf6 Bc3 Ne4 Nf3 Bxb4 Bxb4 Nxb4 O-O h6 1Ne5 Qd6 1a3 f6 1Ng6 Rg8 1axb4 e5 1b5 Bf5 1Nh4 g6 1Nxf5 gxf5 1Bh5+ Kd7 1f3 Ng5 1Ra5 Nh3+ 2Kh1 Rg5 2gxh3 Rxh5 2f4 Rxh3 2fxe5 fxe5 2Qd2 exd4 2Qxd4 Qxh2#',\n",
              " 'e4 g6 e5 Bg7 d4 e6 Nf3 h5 Bc4 Ne7 Bd2 b6 Qe2 Bb7 Nc3 d6 O-O-O Bxf3 1Qxf3 d5 1Bb5+ Nd7 1h3 Nf5 1Bf4 Bh6 1Bxh6 Nxh6 1Qd3 Qe7 1f3 O-O-O 1Bc6 Nb8 1Bb5 c6 1Ba6+ Nxa6 2Qxa6+ Qb7 2Qxb7+ Kxb7 2g4 Ng8 2a4 a5 2b3 Rc8 2Ne2 c5',\n",
              " 'e4 c5 c3 e6 a3 a6 b4 cxb4 axb4 a5 b5 Nf6 Qf3 a4 h3 Bd6 d4 Bc7 1Bc4 O-O 1Ne2 e5 1d5 d6 1O-O Nbd7 1Ng3 Nc5 1Re1 Bd7 1Na3 Nb3 1Bxb3 axb3 1Bb2 g6 1c4 h5 2h4 Ng4 2Nb1 Rxa1 2Bxa1 Qa8 2Nc3 Ba5 2Bb2 Bb4 2Ra1 Qc8',\n",
              " 'e4 e5 Nc3 d6 Bc4 Be6 Bxe6 fxe6 d3 Nf6 Nge2 Be7 O-O c5 f4 Nc6 Ng3 g6 1f5 gxf5 1exf5 Qd7 1fxe6 Qxe6 1Nh5 O-O-O 1Qf3 Nd4 1Qd1 Nxh5 1Qxh5 Nxc2 1Rb1 Nd4 1Ne4 Rdg8 1Kh1 Rg4 2Be3 Rhg8 2g3 Ne2 2Qf5 Qxf5 2Rxf5 d5 2Nf2 Rxg3 2hxg3 Nxg3+',\n",
              " 'e4 e6 d4 c6 Be3 d5 Bd3 Ne7 exd5 Nxd5 c4 Nxe3 fxe3 Bb4+ Nc3 Bd6 Qc2 g6 1O-O-O Be7 1Re1 a6 1Kb1 b5 1Nge2 bxc4 1Bxc4 a5 1Ne4 Ba6 1Rhf1 Bxc4 1Qxc4 O-O 1Nf6+ Bxf6 1Ng3 Bg7 2Ne4 Nd7 2Qxc6 Rc8 2Qa4 Nf6 2Nc5 Nd5 2e4 Nb4 2a3 Nc6',\n",
              " 'e3 d5 Nc3 c6 Nce2 Nd7 a3 e5 b3 Bd6 Bb2 Ngf6 Ng3 Qe7 Nh5 Qf8 h4 g6 1Nxf6+ Nxf6 1h5 Nxh5 1f4 Qg7 1Qf3 Bf5 1O-O-O Be4 1Qf2 O-O-O 1d3 Bf5 1g4 Bxg4 1Be2 Bxe2 1Nxe2 f6 2Nc3 exf4 2e4 d4 2Na4 b5 2Qxd4 Bxa3 2Qc3 Bxb2+ 2Nxb2 Qc7',\n",
              " 'e4 c5 c3 e6 d4 Nc6 Bd3 cxd4 cxd4 Bb4+ Nc3 Nxd4 a3 Ba5 b4 Bb6 Be3 Nc6 1f4 Nge7 1Qf3 O-O 1Nh3 Nd4 1Qg3 Ng6 1O-O d5 1e5 Nf5 1Bxf5 Bxe3+ 1Qxe3 exf5 1Qg3 Be6 1Ng5 a6 2Rad1 Rc8 2Na4 h6 2Nxe6 fxe6 2Qxg6 Re8 2Nc5 Qe7 2Rf3 b6',\n",
              " 'e4 c5 Nf3 d6 c4 Nf6 Nc3 Nc6 d4 cxd4 Nxd4 g6 Be2 Bg7 Be3 O-O O-O e5 1Nxc6 bxc6 1f4 Ne8 1f5 Rb8 1b3 Rb7 1Qd2 Rd7 1Bg5 f6 1Bh4 g5 1Bg3 Bb7 1h4 h6 1hxg5 hxg5 2Bh5 d5 2cxd5 cxd5 2exd5 Nc7 2Bf3 Nxd5 2Nxd5 Bxd5 2Bxd5+ Rxd5',\n",
              " 'e4 c5 d3 b6 c3 Bb7 Nh3 e5 Be2 Nf6 Qc2 Be7 O-O O-O Bf3 d5 Rd1 d4 1cxd4 cxd4 1Nd2 Na6 1a3 Bc8 1Nc4 Bxh3 1gxh3 Rc8 1Qa4 Nc5 1Qc2 Rc6 1Nxe5 Re6 1Nc4 Qc7 1b4 Ncd7 2Bb2 Ne5 2Be2 Ng6 2Bxd4 Nf4 2Bf1 N6h5 2h4 Bxh4 2Qd2 Rg6+',\n",
              " 'e4 e5 f4 exf4 Nf3 Be7 h4 d5 e5 Bg4 d4 h5 Bxf4 Nh6 Bd3 Nc6 c3 a6 1Nbd2 Qd7 1Qb3 b5 1O-O-O Na5 1Qc2 Nf5 1Rde1 O-O 1Ng5 Bxg5 1hxg5 b4 1Be2 Nc4 1Bxg4 bxc3 1Nxc4 cxb2+ 2Nxb2 g6 2Bxf5 gxf5 2Rxh5 Qe6 2Reh1 f6 2gxf6 c5 2Rh8+ Kf7',\n",
              " 'g3 b6 e4 Bb7 f3 Bxe4 Bg2 Bb7 Ne2 e6 O-O Bd6 d4 h5 f4 h4 Bxb7 hxg3 1Bxa8 gxh2+ 1Kh1 Nc6 1Bxc6 dxc6 1Ng3 Qa8 1Rf2 c5+ 1Rf3 Nf6 1Qe2 Ng4 1Nd2 Bxf4 1Ndf1 Bxg3 1Nxg3 f5 2Bf4 Kf7 2Rf1 Kf6 2Be5+ Kf7 2dxc5 Qd5 2Bxg7 Rh7 2Bc3 Qxc5',\n",
              " 'd4 g6 c4 Bg7 Nc3 Nc6 Nf3 Nb8 e4 Nf6 Be2 O-O e5 Ne8 Bg5 d6 exd6 Nxd6 1O-O h6 1Bh4 g5 1Bg3 Nc6 1b3 Bg4 1h3 Bxf3 1Bxf3 Nxd4 1Rc1 Nxf3+ 1Qxf3 Rb8 1Qe3 a6 1Rfe1 e6 2Rcd1 Qf6 2Bxd6 cxd6 2Ne4 Qe5 2Nxd6 Qxe3 2Rxe3 Rfd8 2Red3 Bf8',\n",
              " 'e4 c5 Nf3 e6 c4 Nc6 Nc3 a6 d3 Qc7 g3 Nf6 Bg2 Be7 Bf4 d6 O-O b6 1Re1 Bb7 1e5 dxe5 1Nxe5 Nxe5 1Bxe5 Qd7 1Bxb7 Qxb7 1Bxf6 Bxf6 1Rc1 O-O 1Ne4 Bxb2 1Rc2 Ba3 1Nd6 Qc7 2Ne4 Rad8 2Qf3 Bb4 2Rd1 Qd7 2Rcd2 Bxd2 2Rxd2 Qd4 2Ng5 h6',\n",
              " 'e4 d6 f4 Nf6 Nc3 e5 f5 d5 d3 d4 Nce2 c5 Ng3 Nc6 Bg5 h6 Bxf6 Qxf6 1Nf3 g5 1fxg6 fxg6 1Be2 Bg7 1O-O Qe7 1Nd2 Be6 1a3 O-O-O 1Qb1 h5 1b4 h4 1Nh1 Bh6 1Nc4 Bxc4 2dxc4 Be3+ 2Nf2 h3 2Bg4+ Kb8 2Bxh3 Rxh3 2gxh3 Qh4 2Kg2 Bxf2',\n",
              " 'e4 c5 Nf3 a6 d3 d6 Bd2 e6 Nc3 Nc6 Be2 Qc7 O-O h6 Bf4 Ne5 Bxe5 dxe5 1a3 Nf6 1h3 Bd7 1Nxe5 Qxe5 1f4 Qc7 1f5 e5 1Nd5 Nxd5 1exd5 Qd6 1c4 Be7 1Bh5 O-O 1Qg4 Qf6 2Rf3 Bd6 2Raf1 Kh8 2b4 b5 2bxc5 Bxc5+ 2Kh1 bxc4 2dxc4 Rab8',\n",
              " 'd3 d5 d4 Nf6 g3 e6 Bg2 c6 e3 Nbd7 Ne2 b6 O-O Bb7 a3 Be7 f3 O-O 1Nd2 c5 1dxc5 Nxc5 1b4 Na4 1c3 b5 1Nd4 Nxc3 1Qc2 Na4 1Nxb5 Rc8 1Qxa4 a6 1Nd4 Bd6 1Bb2 e5 2Nf5 Bc7 2Rac1 Qe8 2f4 Qe6 2fxe5 Qxe5 2Bxe5 Ne4 2Bxc7 Nxd2',\n",
              " 'e4 c5 Nf3 d6 d4 cxd4 Nxd4 Nf6 Bb5+ Bd7 O-O Nxe4 f3 Nf6 h4 Nc6 Be3 Nxd4 1Bxd7+ Qxd7 1Bxd4 Qf5 1Qd3 Qf4 1Be3 Qxh4 1Qb5+ Nd7 1Qxb7 Rd8 1Bxa7 g6 1Bb6 Rb8 1Qa7 Rxb6 1Qa8+ Rb8 2Qc6 Bg7 2Qe4 Qxe4 2fxe4 Bxb2 2Nc3 Bxc3 2Rad1 O-O 2Rd3 Be5',\n",
              " 'e4 e6 Nf3 d5 exd5 exd5 d4 Nf6 Nc3 Bb4 Bg5 O-O Ne5 Bxc3+ bxc3 Nc6 Be2 Re8 1Bb5 Bd7 1Bxc6 Bxc6 1O-O h6 1Bh4 Bd7 1Re1 Be6 1Re3 c6 1Rg3 g5 1Bxg5 hxg5 1Rxg5+ Kf8 1Qf3 Nd7 2Rh5 Nxe5 2dxe5 Ke7 2Rh7 Rh8 2Qf6+ Kd7 2c4 Rxh7 2cxd5 cxd5',\n",
              " 'd4 d5 c4 dxc4 Nf3 Nf6 Nc3 e6 e3 Bb4 Bd2 O-O Bxc4 Nc6 O-O Re8 Rc1 e5 1dxe5 Nxe5 1Nxe5 Rxe5 1Nb1 Bxd2 1Qxd2 Qxd2 1Nxd2 Be6 1Bxe6 Rxe6 1Rxc7 Rb6 1b3 h6 1h3 Nd5 1Rd7 Nb4 2Nc4 Rb5 2a4 Rd5 2Rxb7 a5 2Rb5 Rxb5 2axb5 Rb8 2b6 Nd5',\n",
              " 'd3 d5 c4 dxc4 d4 e6 Nc3 Bb4 e4 Nf6 Bg5 h6 e5 hxg5 exf6 Qxf6 Nf3 g4 1Ne5 Nd7 1Nxg4 Qf4 1Be2 f5 1g3 Qd6 1Ne3 f4 1Ng4 fxg3 1fxg3 Nf6 1Ne5 c5 1Nxc4 Qxd4 1Qa4+ Bd7 2Qb3 Ne4 2Rc1 Nxc3 2bxc3 Qe4 2cxb4 Qxh1+ 2Kd2 Qd5+ 2Ke1 O-O',\n",
              " 'Nf3 d5 d4 Nf6 Nc3 Bg4 Bf4 a6 e3 e6 Be2 Bd6 Bg3 Bxg3 fxg3 O-O O-O Nbd7 1Nd2 Bxe2 1Qxe2 c5 1dxc5 Nxc5 1e4 d4 1Nd1 e5 1b4 Ne6 1Nf2 Rc8 1Rac1 Qd6 1a3 b5 1Nd3 Rc7 2Nf3 Nd7 2Nh4 Rfc8 2Qg4 Nf6 2Qe2 Rc3 2Nf5 Qc7 2Rf2 Nd7',\n",
              " 'e4 g6 Bc4 Bg7 Bxf7+ Kxf7 Qf3+ Ke8 Nh3 e6 d3 Qe7 Ng5 Nf6 Nh3 h6 Nf4 g5 1Ng6 Qf7 1Nxh8 Bxh8 1Qe2 d6 1Nc3 Bd7 1Be3 Nc6 1f3 a6 1d4 Nb4 1a3 Nc6 1e5 dxe5 1dxe5 Nxe5 2Bd4 Nc6 2Bxf6 Bxf6 2O-O-O Bxc3 2bxc3 Qe7 2Qd3 Qxa3+ 2Kd2 Rd8',\n",
              " 'd4 Nf6 e3 g6 Bd3 Bg7 f4 d6 Nf3 O-O O-O Nbd7 Ng5 e5 fxe5 dxe5 dxe5 Nxe5 1Nc3 Nh5 1e4 Nxd3 1cxd3 f5 1exf5 Bxf5 1g4 Bxd3 1Rxf8+ Kxf8 1gxh5 Qd4+ 1Kh1 Rd8 1Nxh7+ Kg8 1hxg6 Be4+ 2Nxe4 Qxd1+ 2Kg2 Qc2+ 2Kf3 Qd3+ 2Kf4 Bh6+ 2Ke5 Re8+ 2Kf5 Qd5+',\n",
              " 'e4 e5 Nf3 Nc6 Bb5 Nf6 O-O Bc5 Bc4 O-O d3 d6 h3 a6 Bg5 b5 Bb3 Na5 1Bd5 c6 1Bb3 Nxb3 1axb3 h6 1Bxf6 Qxf6 1Nc3 Be6 1d4 exd4 1e5 dxe5 1Ne4 Qe7 1Nxe5 Bd5 1Nxc5 Qxc5 2Nd7 Qd6 2Nxf8 Rxf8 2Qd2 c5 2Rfe1 Qc6 2f3 Be6 2Qd3 Rd8',\n",
              " 'e4 d6 d4 Nf6 Nc3 a6 Nf3 h6 a3 Nc6 Bc4 Na5 Ba2 Bg4 h3 Bh5 Qd3 Bg6 1d5 b5 1Nh4 Bh7 1b4 Nb7 1O-O Nd7 1f4 f6 1Ne2 g5 1Nf3 Bg7 1Bb2 Qc8 1c4 bxc4 1Bxc4 a5 2Bb5 axb4 2axb4 Rxa1 2Bxa1 O-O 2Ned4 gxf4 2Ne6 Rf7 2Nxf4 Ne5',\n",
              " 'e4 e5 c4 Nf6 Bd3 Bc5 Nh3 d6 O-O Bg4 Qb3 Qc8 Ng5 O-O h3 Be6 Nxe6 fxe6 1Be2 Nc6 1Bg4 Nd4 1Qa4 Nxg4 1hxg4 a6 1Qd1 Qd8 1Nc3 Rf6 1d3 Rg6 1f3 Qh4 1Be3 Nxf3+ 1Rxf3 Rxg4 2Bxc5 dxc5 2Kf1 Qh1+ 2Ke2 Qxg2+ 2Ke3 Qxb2 2Ne2 Rg2 2Rf2 Rxf2',\n",
              " 'e4 e5 b3 Nf6 Bb2 d6 Nc3 Be6 Bc4 Bxc4 bxc4 Nc6 Nf3 Be7 O-O O-O d3 Nd7 1Nd5 f5 1exf5 Rxf5 1d4 exd4 1Bxd4 Nxd4 1Nxd4 Rg5 1Qe2 Bf6 1Qe6+ Kh8 1h4 Bxd4 1hxg5 Bxa1 1Rxa1 c6 2Ne7 Nc5 2Qf7 Qe8 2g6 hxg6 2Nxg6+ Kh7 2Qxe8 Rxe8 2Nf4 Re4',\n",
              " 'e4 g6 d4 Bg7 Be3 e6 Nf3 c5 Qd2 Nc6 c3 cxd4 cxd4 Nge7 Nc3 Qa5 Bd3 O-O 1O-O b6 1a3 Qh5 1Be2 f5 1Ng5 Qh4 1g3 Qxg5 1Bxg5 fxe4 1Nxe4 Nf5 1Rfe1 Nfxd4 1Be3 Nxe2+ 1Rxe2 d5 2Ng5 Ne5 2f4 Ng4 2Bd4 Re8 2Bxg7 Kxg7 2Qc3+ Kg8 2Qc7 Rf8',\n",
              " 'e4 c5 Nf3 e6 Bc4 Nc6 a4 a6 O-O Be7 d3 d6 Be3 Nf6 Nc3 O-O d4 d5 1exd5 exd5 1Ba2 cxd4 1Nxd4 Bg4 1f3 Bh5 1Nxc6 bxc6 1Qd4 Rb8 1Bb3 Qd6 1Bf4 Qc5 1Ne2 Rbe8 1Rae1 Bd6 2Bxd6 Qxd6 2c4 Rb8 2c5 Qc7 2Qc3 Qd7 2Nd4 g6 2a5 Qd8',\n",
              " 'e4 c5 Nf3 d6 d4 cxd4 Nxd4 Nf6 Bd3 e6 O-O a6 Bg5 h6 Bh4 Be7 Nd2 Nc6 1c3 Qb6 1b4 Nxd4 1cxd4 Qxd4 1Nf3 Qxb4 1e5 Nd5 1Bg3 dxe5 1Nxe5 O-O 1Rb1 Qa5 1a4 Bf6 1Ng4 Nc3 2Nxf6+ gxf6 2Qg4+ Qg5 2Qxg5+ fxg5 2Ra1 f5 2Be5 Nd5 2Rac1 Bd7',\n",
              " 'e4 c5 Nf3 d6 d4 cxd4 Nxd4 Nf6 Nc3 a6 Bg5 e6 f4 Qb6 Qd2 Qxb2 Rb1 Qa3 1Be2 Be7 1O-O Nc6 1Nxc6 bxc6 1Kh1 O-O 1e5 dxe5 1fxe5 Nd5 1Bxe7 Qxe7 1Ne4 Qh4 1Bd3 Ra7 1c4 Ne7 2Nd6 Bd7 2Qe3 Raa8 2Rf4 Qh6 2Rbf1 Nc8 2Qf2 Nxd6 2Rh4 Qg6',\n",
              " 'e4 c5 c3 Nc6 Bb5 a6 Ba4 b5 Bc2 e5 d3 h6 Nd2 Nf6 h3 d6 Ne2 Be6 1O-O Qd7 1Nf3 g5 1Ng3 g4 1hxg4 Bxg4 1Qd2 Ne7 1Bb3 Ng6 1Qe1 Nf4 1Bxf4 exf4 1Ne2 Bxf3 1Nxf4 Qg4 2g3 Nd7 2Qe3 h5 2Bd5 Rb8 2e5 Nxe5 2Bxf3 Qxf3 2Qxf3 Nxf3+',\n",
              " 'e4 e6 Nf3 d5 exd5 exd5 d4 h6 Be2 Nf6 h3 Be7 O-O O-O Nc3 Re8 a3 c6 1Bd3 a5 1Bd2 b5 1Re1 b4 1axb4 Bxb4 1Rxe8+ Qxe8 1Nxd5 Bxd2 1Nb6 Ra7 1Qxd2 Nbd7 1Nxd7 Bxd7 1Rxa5 Rxa5 2Qxa5 Qb8 2Qc3 Nd5 2Qa3 Nb4 2Qb3 Qd6 2c3 Nxd3 2Qc2 Nf4',\n",
              " 'e4 c5 Nf3 d6 d4 cxd4 Nxd4 e5 Nf3 a6 Nc3 Nf6 Bc4 b5 Bb3 Bb7 Bg5 Nbd7 1Nd5 Qa5+ 1Bd2 Qd8 1Nxf6+ Nxf6 1Bg5 Bxe4 1O-O Be7 1Qe2 Bb7 1Rad1 O-O 1Nxe5 Nd5 1Bxe7 Qxe7 1Bxd5 Bxd5 2Rxd5 f6 2Qd2 dxe5 2Rd7 Qc5 2Rd1 Rac8 2c3 Rc7 2Rxc7 Qxc7',\n",
              " 'e4 e5 Nf3 Nf6 a3 Nxe4 Nxe5 d6 Nf3 Be6 Nc3 Nc6 d3 Nc5 g3 d5 Bg2 d4 1Nb5 Qe7 1Bf4 Bd5+ 1Qe2 Rc8 1Qxe7+ Bxe7 1O-O O-O 1Rfe1 Rfe8 1Nfxd4 Nxd4 1Nxd4 Ne4 1Bxe4 Bxe4 1Rxe4 Bc5 2Nb3 Rxe4 2dxe4 Re8 2Re1 g5 2Bxg5 Be7 2Bf4 Rd8 2Bxc7 Rd2',\n",
              " 'd4 e6 e4 d5 exd5 exd5 Qe2+ Be6 Be3 Qe7 Nf3 Nc6 Ng5 f6 Nxe6 Qxe6 c3 O-O-O 1Nd2 Re8 1O-O-O f5 1Qd3 h6 1Bf4 Bd6 1Be5 Bxe5 1dxe5 Nxe5 1g3 Nxd3+ 1Bxd3 c5 1f4 c4 1Bc2 Qe3 2Rhe1 Qxe1 2Rxe1 Rxe1+ 2Bd1 Nf6 2Kc2 Ne4 2Nf3 Nf2 2Nxe1 Nxd1',\n",
              " 'b3 d5 Bb2 c5 e3 Nc6 Nf3 Bg4 Be2 Nf6 O-O e6 h3 Bh5 d4 Bg6 dxc5 Bxc5 1Nbd2 O-O 1Rc1 Rc8 1c4 dxc4 1Bxc4 Be7 1Qe2 Qb6 1Rfd1 Nd8 1Nd4 Nc6 1Nxc6 Rxc6 1Bd4 Qc7 1Nf3 Rc8 2Be5 Qb6 2Bd4 Qd8 2Bxf6 Qxd1+ 2Rxd1 Bxf6 2Nd4 R6c7 2Nb5 Rc6',\n",
              " 'e4 e5 Nf3 Nc6 Bc4 Nf6 d4 d5 exd5 Nxd5 dxe5 Na5 Bxd5 c6 Bxf7+ Ke7 Bg5+ Kxf7 1Bxd8 Bc5 1Bxa5 Bf5 1Nbd2 Rad8 1Bc3 Bg4 1O-O Rhe8 1Qe2 b5 1b4 Bb6 1Ne4 Kg8 1Nc5 Bf5 1Rad1 Rc8 2Bd4 Bg6 2Ng5 Bc7 2Nge6 Bb8 2Rfe1 h6 2h4 Re7 2h5 Bf5',\n",
              " 'd4 d5 e3 Bf5 c4 Nf6 c5 Ne4 Qb3 e5 Qxb7 Qh4 g3 Qd8 Qxa8 exd4 Bb5+ Bd7 1c6 Bg4 1f3 Bxf3 1Nxf3 dxe3 1Bxe3 d4 1Nxd4 Bc5 1O-O Bxd4 1Bxd4 Qxd4+ 1Kg2 Qxb2+ 1Kh3 Qxb5 1Qb7 Qh5+ 2Kg2 Qe2+ 2Kh3 Qxf1+ 2Kg4 Nf2+ 2Kg5 Ne4+ 2Kh4 Qh1 2Qxb8+ Ke7',\n",
              " 'b3 c6 g3 d5 Bg2 Nf6 Bb2 e6 e3 Bd6 Ne2 Nbd7 d4 e5 Nd2 e4 c4 Nf8 1c5 Bc7 1b4 a6 1a4 Ng6 1Qb3 Bg4 1Nc3 O-O 1b5 Qd7 1b6 Bd8 1Qc2 Bh3 1Bxh3 Qxh3 1O-O-O Ng4 2Nb3 Bg5 2Na5 Bxe3+ 2fxe3 Nxe3 2Qf2 Nxd1 2Rxd1 f5 2Nxb7 f4',\n",
              " 'd4 d5 Nf3 Nf6 c4 c6 Nc3 Bg4 e3 e6 cxd5 Nxd5 Nxd5 Qxd5 Be2 c5 O-O cxd4 1exd4 Nc6 1Be3 Be7 1Qa4 O-O 1a3 Bf6 1Rac1 Rfd8 1b4 h5 1b5 Ne7 1Rc5 Qa2 1Rc2 Qd5 1Rfc1 Nf5 2Qc4 Nxd4 2Bxd4 Bxf3 2Qxd5 Rxd5 2Bxf6 Bxe2 2Rxe2 gxf6 2h3 Rxb5',\n",
              " 'd4 d5 Bg5 h6 Bh4 g5 Bg3 Bg7 e3 Nf6 Bd3 a6 Nf3 O-O c3 Nh5 Nbd2 Nxg3 1hxg3 Bg4 1Bb1 e5 1Qc2 e4 1Ne5 Be6 1c4 c6 1Nxe4 dxe4 1Qxe4 f5 1Qd3 Bxe5 1dxe5 Qxd3 1Bxd3 Nd7 2f4 Kg7 2O-O-O Nc5 2Be2 Ne4 2g4 Nf2 2gxf5 Bxf5 2e4 Bxe4',\n",
              " 'e4 d5 exd5 Qxd5 Nc3 Qd8 d4 g6 Nf3 Bg7 Be3 Nf6 Be2 a6 O-O b5 Bd3 Bb7 1Ne5 O-O 1f4 Nd5 1Nxd5 Qxd5 1Qe2 Nd7 1c4 bxc4 1Bxc4 Qd6 1Nxf7 Rxf7 1Bxf7+ Kxf7 1Rad1 Kg8 1f5 Nf6 2fxg6 hxg6 2Bf4 Qd5 2Rd2 Ne4 2Rc2 Qxd4+ 2Be3 Qd5 2Rd1 Qf5',\n",
              " 'd4 Nf6 c4 e6 Nc3 d5 Nf3 Be7 e3 O-O Bd3 c6 O-O b6 Qe2 Bb7 Rd1 c5 1cxd5 exd5 1b3 Re8 1Bb2 Nc6 1Rac1 cxd4 1exd4 Bc5 1Qd2 Nxd4 1Nxd4 Bxd4 1Bxh7+ Nxh7 1Qxd4 Nf6 1Qf4 Qb8 2Qh4 Qd8 2Nb5 Re4 2Qg3 Kf8 2Nd6 Re7 2Bxf6 gxf6 2Nxb7 Rxb7',\n",
              " 'e4 Nc6 f3 e5 d3 Nf6 Be3 Bb4+ Nd2 Bxd2+ Qxd2 d6 Ne2 O-O g3 Bd7 Bg2 Qc8 1a3 Re8 1O-O a6 1f4 Rb8 1f5 Nh5 1h3 Nf6 1g4 h6 1Ng3 Nh7 1h4 Qd8 1Rf2 Qxh4 1Rf3 Ng5 2Bxg5 Qxg5 2Qf2 h5 2Nxh5 Qxg4 2Ng3 f6 2Rf1 Qg5 2Ne2 Qh5',\n",
              " 'f4 Nc6 e3 Nf6 Nf3 d5 Bb5 Bg4 Bxc6+ bxc6 O-O h5 b3 e6 Bb2 Bd6 h3 Qe7 1hxg4 hxg4 1Nh2 O-O-O 1Nxg4 Ne4 1d3 Ng3 1Rf2 Qh4 1Rf3 Qh1+ 1Kf2 Qxd1 1Kxg3 Qxc2 1Na3 Qxb2 1Rf2 Qxa3 2Rc1 f5 2Ne5 Bxe5 2fxe5 g5 2d4 f4+ 2exf4 gxf4+ 2Rxf4 Qxa2',\n",
              " 'd4 d5 c4 dxc4 e4 e5 Nf3 Bb4+ Bd2 Bxd2+ Qxd2 exd4 Qxd4 Qxd4 Nxd4 c5 Nb5 Na6 1Bxc4 Ne7 1Nd6+ Kf8 1Nxf7 Nb4 1Na3 b5 1Nxb5 Nc2+ 1Ke2 Nxa1 1Rxa1 Ba6 1Nxh8 Rb8 1Nd6 Bxc4+ 1Nxc4 Kg8 2Rd1 Kxh8 2Rd7 Nc6 2Rc7 Nd4+ 2Kd3 Ne6 2Rxa7 h6 2g3 Rd8+',\n",
              " 'e4 e5 Nf3 Nc6 Bc4 Nh6 d3 d6 Bxh6 gxh6 O-O Bg4 h3 Bh5 g4 Bxg4 hxg4 h5 1Nh2 h4 1Nd2 Rg8 1Kg2 Nd4 1c3 Qd7 1Kh3 h5 1Rg1 Rxg4 1Nxg4 hxg4+ 1Kxh4 Be7+ 1Kg3 Nf3 1Nxf3 gxf3 2Kxf3 Qh3+ 2Ke2 Bh4 2Kd2 Bxf2 2Rh1 Qe3+ 2Kc2 b5 2Bxb5+ Ke7',\n",
              " 'e4 c5 Nf3 Nc6 d4 cxd4 Nxd4 e5 Nb3 h6 Bc4 Nf6 Nc3 Be7 O-O O-O Be3 a6 1Nd5 b5 1Nxf6+ Bxf6 1Bd5 Rb8 1Bc5 Re8 1Bd6 Rb7 1Nc5 Be7 1Bxe7 Qxe7 1Nxb7 Bxb7 1c3 d6 1a4 Na7 2Bxb7 Qxb7 2Qxd6 Re6 2Qd8+ Kh7 2axb5 Nxb5 2f3 Nd6 2b4 Qa7+',\n",
              " 'e3 e6 d4 b6 Bd2 Bb7 Nf3 g6 g4 Bh6 Rg1 Nf6 Na3 Bxf3 Qxf3 d5 e4 Bxd2+ 1Kxd2 Nxe4+ 1Ke2 f5 1gxf5 exf5 1Qb3 Nc6 1Qb5 Qd7 1f3 Nxd4+ 1Kd3 Nxb5 1fxe4 fxe4+ 1Kd2 Nxa3 1Re1 Nc4+ 2Kc1 O-O-O 2Bxc4 dxc4 2Rxe4 Rhf8 2c3 Qd2+ 2Kb1 Rf2 2a4 Qxb2#',\n",
              " 'e4 e5 Nf3 Nc6 Bc4 d6 d3 h6 Nc3 Nf6 Be3 Be7 Bb5 Bd7 Nd5 O-O Nxe7+ Nxe7 1Bxd7 Qxd7 1Nh4 c5 1h3 b5 1g4 g5 1Nf5 Nxf5 1gxf5 Rac8 1h4 Ng4 1Qxg4 f6 1hxg5 Qg7 1Rxh6 fxg5 2Rg6 Rf7 2Bxg5 Kf8 2Bh6 Qxh6 2Rxh6 Rg7 2Rh8+ Kf7 2Qh5+ Ke7',\n",
              " 'e4 c5 Nf3 a6 c3 Nc6 d4 cxd4 cxd4 e5 d5 Nce7 Bg5 f6 Bh4 Ng6 Bg3 d6 1Bd3 Bg4 1Nbd2 Be7 1h3 Bxf3 1Nxf3 Nh6 1O-O O-O 1Bh2 f5 1Re1 f4 1a4 Nh4 1b4 Nxf3+ 1Qxf3 Rf6 2b5 axb5 2Bxb5 Rg6 2g3 fxg3 2Bxg3 Rf6 2Qe3 Rg6 2Re2 Bh4',\n",
              " 'd4 c5 dxc5 Qa5+ Nc3 Qxc5 Nf3 a6 Be3 Qa5 Qd5 Nc6 Qxa5 Nxa5 Nd5 Nc4 Nc7+ Kd8 1Nxa8 Nxe3 1fxe3 Nf6 1O-O-O Ne4 1Rd4 Nd6 1Nb6 f6 1Nxc8 Kxc8 1e4 e5 1Rd5 Nxe4 1e3 Bc5 1Bd3 Bxe3+ 2Kb1 Nc5 2Re1 Bf2 2Re2 Nxd3 2Rxd3 Bb6 2Rc3+ Kb8 2Rd2 Rd8',\n",
              " 'e4 c5 d4 e6 c3 cxd4 cxd4 Nc6 Nc3 Bb4 Nf3 Nf6 Bd2 Bxc3 Bxc3 Nxe4 Bd3 Nxc3 1bxc3 O-O 1O-O d5 1h4 Ne7 1Bxh7+ Kxh7 1Ng5+ Kg6 1Qg4 f5 1Qg3 f4 1Qg4 e5 1h5+ Kh6 1Ne6 Bxe6 2Qxe6+ Kxh5 2Qxe5+ Rf5 2Qe2+ Kh6 2Rae1 Ng6 2f3 Qd6 2Kf2 Raf8',\n",
              " 'e4 b6 g3 Bb7 Bg2 e5 d4 d6 dxe5 dxe5 Nd2 Nc6 c3 Bc8 Bh3 Bxh3 Nxh3 h6 1O-O Qd7 1Kg2 O-O-O 1Qe2 Kb7 1Nf3 f6 1b4 Qd3 1Qe1 Be7 1Be3 g5 1Nd2 h5 1Rd1 Qa6 1f4 g4 2Nf2 Rd3 2Nxd3 Qxd3 2fxe5 Qxc3 2exf6 Nxf6 2b5 Nb4 2Rc1 Qd3',\n",
              " 'd4 d5 c3 e6 Nf3 c6 Bf4 h6 e3 Nf6 Nbd2 Nbd7 Bd3 Be7 e4 b6 e5 Ng8 1O-O g5 1Be3 Bb7 1Ne1 Qc7 1Qh5 c5 1f4 O-O-O 1Qxf7 Bf8 1Qxe6 Kb8 1fxg5 Bc8 1g6 cxd4 1cxd4 Nc5 2Qf7 Qxf7 2Rxf7 Nxd3 2Nxd3 Ne7 2g7 Bxg7 2Rxg7 Nc6 2Nb3 Be6',\n",
              " 'e4 d5 exd5 Qxd5 d4 Qa5+ Nc3 Nf6 Nf3 g6 Bd3 Bg7 Bd2 O-O O-O Bg4 Re1 Re8 1a3 Nbd7 1b4 Qh5 1Be2 a6 1Be3 Rad8 1Qd3 Nd5 1Ne4 Nxe3 1fxe3 Nf6 1c4 Nxe4 1Qxe4 c6 1Rad1 e6 2Rd2 Bf5 2Qf4 Bh6 2Ne5 Bxf4 2Bxh5 Bxe3+ 2Rxe3 gxh5 2Rg3+ Bg6',\n",
              " 'e4 c5 Nf3 d6 d4 cxd4 Nxd4 Nf6 Nc3 e6 Bc4 Qc7 Bb3 a6 Bg5 b5 O-O Nbd7 1Bxe6 fxe6 1Nxe6 Qb7 1Nd5 Nxd5 1exd5 Nf6 1Bxf6 gxf6 1Qh5+ Kd7 1Qf7+ Be7 1Rfe1 Qxd5 1Rad1 Qf5 1Nd8 Re8 2Rxd6+ Kxd6 2Rd1+ Kc7 2Qxe8 Bxd8 2Qxd8+ Kb7 2Qe7+ Kb8 2Qd6+ Kb7',\n",
              " 'e4 e6 d3 d5 Nd2 Nf6 Ngf3 Bc5 e5 Nfd7 d4 Bb6 c3 c5 Bd3 Nc6 Qe2 cxd4 1O-O dxc3 1bxc3 Bc7 1Bb5 a6 1Bxc6 bxc6 1c4 O-O 1Ba3 Re8 1Rfd1 f6 1exf6 Nxf6 1Nb3 Bd6 1Bb2 a5 2Nbd4 c5 2Nb5 d4 2Nxd6 Qxd6 2Ne5 Bb7 2f3 Nd7 2Re1 Nxe5',\n",
              " 'g3 d5 Bg2 Bh3 Nf3 Bxg2 Rg1 Bxf3 exf3 e5 Kf1 f6 Kg2 h5 d3 h4 Re1 hxg3 1hxg3 Qd7 1Rh1 Nh6 1Bxh6 gxh6 1Qe2 Nc6 1Nd2 O-O-O 1Nb3 Bd6 1c3 Rdg8 1Rh3 h5 1Rah1 Qf7 1c4 dxc4 2dxc4 Nd4 2Nxd4 exd4 2Qd3 Be5 2b4 Rg5 2a4 Qg7 2c5 h4',\n",
              " 'e4 g6 Nf3 c6 Nc3 Nf6 d4 d5 e5 Ne4 Nxe4 dxe4 Ng5 Bf5 c3 h6 g4 hxg5 1gxf5 gxf5 1Bxg5 Bh6 1Bxh6 Rxh6 1Qd2 Rh8 1O-O-O e6 1Be2 Nd7 1f3 Nb6 1fxe4 fxe4 1Qf4 Qd5 1Rhf1 O-O-O 2h4 Qxa2 2Kc2 Qa4+ 2Kb1 Nd5 2Qxe4 a5 2Qc2 Qxc2+ 2Kxc2 Ne3+',\n",
              " 'Nf3 Nf6 d4 d5 c4 e6 Nc3 c6 g3 Bb4 Bd2 Nbd7 cxd5 exd5 Qc2 O-O Bg2 Nb6 1b3 Qc7 1O-O Be6 1Ne5 Nc8 1Nb5 Qa5 1Bxb4 Qxb4 1Nc3 Qxd4 1Nf3 Qg4 1Qd2 Nd6 1Ne5 Qh5 1Qf4 Ng4 2Nxg4 Ne8 2Ne3 Nf6 2f3 Rad8 2Nc2 Qg6 2Nd4 Nh5 2Qh4 Bd7',\n",
              " 'e4 e5 Nf3 Nf6 Nc3 Nc6 d4 d6 Bb5 Bd7 dxe5 Nxe5 Nxe5 dxe5 Bxd7+ Nxd7 O-O Bd6 1Nb5 a6 1Nxd6+ cxd6 1Qxd6 Qe7 1Qxe7+ Kxe7 1Bg5+ f6 1Be3 b5 1Rad1 Rhd8 1f4 a5 1fxe5 Nxe5 1Bf4 Nc4 2b3 g5 2bxc4 gxf4 2cxb5 Rxd1 2Rxd1 Ke6 2g3 fxg3 2hxg3 Ke5',\n",
              " 'Nf3 g6 g3 Bg7 Bg2 d6 O-O Nf6 d3 O-O c4 e5 Bg5 Nbd7 Nbd2 Re8 Qc2 c6 1Rab1 h6 1Bxf6 Nxf6 1a3 Bf5 1h3 d5 1b4 dxc4 1Nxc4 Qc7 1Rfc1 Rad8 1g4 Be6 1Ncxe5 Bd5 1Nc4 b5 2Ne3 Bxf3 2Bxf3 Nd7 2Qxc6 Qxc6 2Bxc6 Be5 2Bxb5 Nf6 2Rf1 Re7',\n",
              " 'e4 d5 f3 dxe4 fxe4 e6 d3 g6 Nc3 Nh6 h3 Nc6 Bxh6 Bxh6 Nf3 Qf6 g4 Be3 1Qe2 Nd4 1Nxd4 Bxd4 1O-O-O Bxc3 1bxc3 Qxc3 1d4 Qa1+ 1Kd2 Qxa2 1d5 Qa5+ 1c3 exd5 1exd5+ Kf8 1Bg2 Bd7 2Ra1 Qb6 2Rhb1 Qf6 2Rf1 Qg5+ 2Kd1 a6 2Qc4 Rd8 2d6 Kg7',\n",
              " 'f4 Nc6 e3 Nf6 Nf3 d5 b3 Bg4 Bb5 Bxf3 Bxc6+ bxc6 Qxf3 e6 O-O Be7 Bb2 h5 1d3 Qd7 1Nd2 Ng4 1h3 Nf6 1e4 Bc5+ 1d4 Bb6 1e5 Ne4 1c3 Nxd2 1Qe2 Nxf1 1Kxf1 g5 1fxg5 O-O-O 2Kg1 Qe7 2Kh1 Qxg5 2Rf1 Rdg8 2Bc1 Qg3 2Rf3 Qg6 2Bf4 Qb1+',\n",
              " 'd4 d5 Nf3 c6 c4 e6 Nc3 b6 cxd5 cxd5 e3 Nf6 Bb5+ Bd7 Bd3 a6 Bd2 Be7 1Ne5 h6 1f4 Nc6 1O-O Nb4 1Be2 Nc6 1a3 b5 1b4 O-O 1Bf3 Rc8 1Ne2 Be8 1Nc1 Ne4 1Bxe4 dxe4 2Ncd3 f5 2Nc5 Bxc5 2bxc5 Bf7 2Nxc6 Rxc6 2Qe1 Qc8 2Ba5 Qb7',\n",
              " 'e4 e6 Nf3 d5 exd5 exd5 d4 Nf6 Nc3 Bd6 Bg5 c6 Bd3 O-O O-O Bg4 h3 Bh5 1Re1 Nbd7 1Re3 Qc7 1Ne2 Rfe8 1c3 Rxe3 1fxe3 Bxf3 1gxf3 Re8 1Kf2 h6 1Bf4 Nh5 1Bxd6 Qxd6 1Qg1 Qe6 2e4 dxe4 2Bxe4 Qxh3 2Re1 Ndf6 2Bc2 Qh4+ 2Kf1 Nd5 2Be4 Re6',\n",
              " 'e4 c6 Nf3 d5 exd5 cxd5 d3 Bg4 Nbd2 Bxf3 Nxf3 e6 Be2 h6 Bf4 Bd6 Bxd6 Qxd6 1Qd2 Nf6 1O-O-O O-O 1h3 Nc6 1c3 Rfd8 1g4 Rac8 1Kb1 Nd7 1d4 Nf6 1Bd3 Ne4 1Bxe4 dxe4 1Nh4 Qd5 2Rdf1 Qg5 2Qxg5 hxg5 2Ng2 f5 2gxf5 exf5 2f3 Re8 2Ne3 exf3',\n",
              " 'd3 c6 f3 d5 e4 Nf6 e5 Ng8 f4 e6 d4 c5 Nf3 cxd4 Nxd4 Bc5 c3 Ne7 1Be3 Nd7 1b4 Bxd4 1cxd4 O-O 1a3 a6 1Nc3 b5 1a4 Qb6 1a5 Qd8 1Rc1 Bb7 1Bd3 Rc8 1O-O Re8 2Rc2 g6 2Qd2 Nf5 2Bf2 h6 2Bxf5 gxf5 2g3 Kh7 2Kh1 Rg8',\n",
              " 'e4 b6 Nc3 Bb7 Nf3 e6 d4 Nf6 Bg5 Be7 Qd2 h6 Bxf6 Bxf6 e5 Be7 d5 exd5 1Nxd5 O-O 1O-O-O Nc6 1Bc4 a5 1Bb5 Nb4 1Nxe7+ Qxe7 1Qxd7 Qxd7 1Rxd7 Nxa2+ 1Kb1 c6 1Rxb7 cxb5 1Rxb6 Nb4 2Rxb5 Nc6 2Rd1 Rfc8 2Rbd5 Nb4 2R5d2 a4 2Rc1 a3 2Rd4 a2+',\n",
              " 'e4 d5 exd5 Qxd5 Nc3 Qe6+ Be2 b6 Nf3 Ba6 Ng5 Bxe2 Nxe2 Qg4 O-O Qxg5 d4 Qb5 1Nc3 Qc6 1d5 Qg6 1Qf3 c6 1dxc6 Qxc6 1Qxc6+ Nxc6 1Nd5 Rc8 1Bf4 Kd7 1Rfd1 Rd8 1Nxb6+ Ke8 1Rxd8+ Kxd8 2Nd5 e6 2Ne3 e5 2Rd1+ Kc8 2Bg5 f6 2Bh4 g5 2Bg3 Nd4',\n",
              " 'e4 c6 d4 d5 e5 Bf5 Nf3 e6 Be3 Qb6 b3 Bb4+ c3 Bxb1 cxb4 Be4 a3 Ne7 1Be2 Bxf3 1Bxf3 O-O 1O-O Nd7 1Qd3 f5 1exf6 Nxf6 1Rfe1 Nf5 1Rad1 Nxe3 1Rxe3 Rfe8 1Rde1 a5 1bxa5 Qxa5 2a4 b5 2axb5 Qxb5 2Qxb5 cxb5 2h3 Ra6 2Be2 Rb6 2Bd3 Rc6',\n",
              " 'e4 e5 f4 d5 exd5 e4 d4 exd3 cxd3 Nf6 Nc3 Bc5 Nf3 O-O Bd2 Re8+ Be2 Ng4 1Rf1 Nxh2 1Rh1 Nxf3+ 1gxf3 Na6 1Qb3 Bd4 1Ne4 f5 1Ng5 h6 1Ne6 Bxe6 1dxe6 Nc5 1Qc4 Rxe6 1O-O-O b5 2Qb4 Rxe2 2Kb1 Nxd3 2Qb3+ Kh8 2Qxd3 Rg2 2Qxf5 c5 2Qh3 Re2',\n",
              " 'c4 e6 d4 d5 c5 Nf6 Nf3 h6 Nc3 Be7 e3 O-O h3 c6 Ne5 Nbd7 Qh5 Nxe5 1Qxe5 Nd7 1Qh5 Nf6 1Qf3 Qe8 1e4 dxe4 1Nxe4 Nxe4 1Qxe4 Qd7 1Bd3 f5 1Qe5 Bf6 1Qg3 Qxd4 1Bxh6 Qe5+ 2Be3 Qxg3 2fxg3 Bxb2 2Rd1 Bc3+ 2Bd2 Bxd2+ 2Rxd2 Rd8 2O-O g6',\n",
              " 'b3 b6 Bb2 Bb7 d3 e6 Nd2 h6 c3 d5 Qc2 Nf6 O-O-O Nc6 e4 Qd7 Ngf3 dxe4 1dxe4 e5 1Nc4 Qe7 1Ne3 Na5 1c4 Bxe4 1Qc3 Bxf3 1gxf3 Qe6 1Bg2 Bd6 1Rhe1 O-O 1f4 exf4 1Nd5 Qd7 2Nxf6+ gxf6 2Qxf6 Be5 2Qg7+ Bxg7 2Rxd7 Bxb2+ 2Kxb2 Rad8 2Rxd8 Rxd8',\n",
              " 'e4 c5 Bc4 a6 Nf3 e6 a4 Nc6 c3 Na5 Ba2 b5 axb5 axb5 Na3 c4 b3 cxb3 1Bxb3 Nxb3 1Qxb3 Qa5 1Nc2 Qxa1 1Nxa1 Rxa1 1O-O Nf6 1d3 Be7 1Qxb5 O-O 1e5 Nd5 1Qc4 Ba6 1Qb3 d6 2c4 Nc7 2Qb6 Na8 2Qb4 Rd8 2Bb2 Rxf1+ 2Kxf1 Kf8 2Qa5 Bb7',\n",
              " 'd4 Nf6 Bf4 g6 Nf3 Bg7 e3 O-O h3 d5 Nbd2 c5 c3 Nc6 Be2 cxd4 cxd4 Re8 1a3 Nh5 1Bh2 e5 1dxe5 Nxe5 1Rb1 Nxf3+ 1Nxf3 Bf5 1Rc1 Nf6 1O-O Rc8 1Qa4 a6 1b4 Ne4 1Qb3 Be6 2Qd3 Nc3 2Nd4 Nxe2+ 2Nxe2 Qh4 2Bg3 Qe7 2Nf4 Bf5 2Qxd5 Rxc1',\n",
              " 'e4 e6 f4 d5 e5 c5 Nf3 Nc6 Bb5 Qb6 Bxc6+ bxc6 O-O Ba6 d3 c4+ Kh1 cxd3 1cxd3 Ne7 1Re1 Nf5 1d4 Be7 1Nc3 O-O 1a3 Bc4 1b4 a5 1Na4 Qd8 1Bd2 axb4 1axb4 Qc7 1Nc5 h6 2Qc2 Nh4 2Nxh4 Bxh4 2g3 Be7 2f5 Bxc5 2bxc5 exf5 2Qxf5 Qe7',\n",
              " 'd4 d6 c4 e6 e4 h6 Bf4 Nf6 e5 Nfd7 exd6 cxd6 Qa4 Nc6 d5 Nce5 dxe6 fxe6 1Ne2 Nd3+ 1Kd2 b5 1Qc2 Nxf2 1Rg1 Rb8 1cxb5 e5 1Be3 Qa5+ 1Nbc3 Ng4 1Qg6+ Kd8 1Qxg4 Nf6 1Qc4 d5 2Qc6 Ne4+ 2Kc2 Bd7 2Qxd5 Rc8 2Qxe4 Qxb5 2Kd1 Qxb2 2Qh4+ Be7',\n",
              " 'e4 d5 e5 Qd6 d4 Qc6 Nc3 Be6 Nf3 Nd7 Bb5 Qb6 Bxd7+ Bxd7 O-O e6 Ng5 c5 1Qf3 Be7 1Qxf7+ Kd8 1Nxe6+ Bxe6 1Qxe6 Qxe6 1Nb5 Nh6 1Nd6 Bxd6 1exd6 Qxd6 1Bg5+ Kd7 1Rae1 Rhf8 1Re7+ Qxe7 2Bxe7 Kxe7 2Re1+ Kd6 2dxc5+ Kxc5 2b3 Rf6 2Re5 Raf8 2b4+ Kxb4',\n",
              " 'e4 e5 Nf3 d6 c3 Nf6 d3 Be7 h3 O-O Be2 c5 O-O Be6 Nbd2 Nc6 b3 a6 1Bb2 h6 1d4 cxd4 1cxd4 exd4 1Nxd4 Nxd4 1Bxd4 Qa5 1Re1 Qg5 1Nf3 Qg6 1Kh2 Nxe4 1Bd3 Bf5 1Bxe4 Bxe4 2Qe2 Bxf3 2Qxf3 Bd8 2Qxb7 Bf6 2Bxf6 Qxf6 2Qf3 Qxf3 2gxf3 Rfd8',\n",
              " 'd4 d5 g3 e6 Bg2 c5 e3 cxd4 Qxd4 Nc6 Qd1 g6 Ne2 Bg7 O-O Nge7 c3 a6 1Nd4 b5 1Nd2 O-O 1Nxc6 Nxc6 1f3 Ne5 1Nb3 Nc4 1e4 dxe4 1fxe4 Qxd1 1Rxd1 Bb7 1Bf4 Ne3 1Bxe3 Rfd8 2Bd4 Bxd4+ 2Nxd4 e5 2Ne2 f6 2Kf2 Kf7 2Ke3 Ke7 2Rd3 Rd7',\n",
              " 'e4 c5 Nf3 g6 d4 cxd4 Nxd4 Bg7 h4 Nc6 Nxc6 bxc6 h5 Nf6 h6 Bf8 e5 Nh5 1g4 Ng7 1hxg7 Bxg7 1f4 O-O 1Nc3 d6 1Ne4 dxe5 1Qxd8 Rxd8 1Ng5 Bxg4 1Be3 exf4 1Bxf4 h6 1Ne4 Bxb2 2Rb1 g5 2Be3 Bg7 2Be2 Bf5 2Bd3 Rab8 2Rxb8 Rxb8 2Kd2 Rb2',\n",
              " 'c4 b6 Nc3 Bb7 e4 Nc6 Nge2 g6 g3 Bg7 Bg2 e6 O-O Nge7 d4 O-O d5 Nb8 1Be3 exd5 1cxd5 d6 1Qd2 c5 1Bh6 Nd7 1Bxg7 Kxg7 1f4 f5 1exf5 Nxf5 1Bh3 Qf6 1Ne4 Qe7 1Ng5 Rfe8 2Nc3 Nf8 2Rae1 Qd7 2Ne6+ Nxe6 2dxe6 Rxe6 2Bxf5 gxf5 2Nd5 Rae8',\n",
              " 'd4 d5 Nf3 Nc6 c3 Bg4 h3 Bxf3 gxf3 e5 dxe5 Nxe5 f4 Ng6 e3 f5 Nd2 Qh4 1Nf3 Qf6 1Qe2 O-O-O 1Bd2 Bc5 1O-O-O d4 1exd4 Be7 1Be3 Qa6 1Kb1 Qb6 1d5 Bc5 1Nd4 Re8 1Qc4 Ba3 2b3 Nf6 2Ne6 c5 2Bxc5 Bxc5 2Nxc5 a6 2Nxa6+ Kd7 2Nc5+ Ke7',\n",
              " 'e4 c6 d3 d5 exd5 cxd5 Nf3 Nc6 Be2 Nf6 O-O Bg4 Bg5 e6 Bxf6 gxf6 Nbd2 Bd6 1c4 d4 1a3 e5 1b4 a6 1b5 Ne7 1bxa6 Rxa6 1Qb3 Rb6 1Qa4+ Kf8 1Rab1 Rg8 1Rxb6 Qxb6 1Rb1 Qc7 2Qb5 Bc8 2g3 Bxa3 2Bf1 Nf5 2Ne4 Kg7 2Bh3 Nd6 2Nxd6 Bxh3',\n",
              " 'c4 b6 Nc3 Bb7 e4 Nf6 d3 d6 Nf3 e5 Be2 Be7 O-O O-O h3 h6 a4 Nc6 1Be3 Nh7 1d4 exd4 1Nxd4 Nf6 1Bd3 Ne5 1Nd5 Nxd3 1Qxd3 c6 1Nxe7+ Qxe7 1f3 Rad8 1Rfe1 Qc7 1Rac1 Rfe8 2Nf5 Re6 2Bd4 Rde8 2Qc3 c5 2Bf2 Bxe4 2fxe4 Nxe4 2Qxg7#',\n",
              " 'd4 d5 Nc3 Nc6 e3 Bf5 h3 e6 g4 Bg6 h4 Nb4 h5 Nxc2+ Kd2 Nxa1 hxg6 fxg6 1b3 Bb4 1Bb2 Bxc3+ 1Bxc3 Qd6 1Bxa1 Qa3 1Qc2 Rc8 1Bb2 Qxa2 1Ne2 Ne7 1Nc3 Qa5 1Ke1 c5 1Bb5+ Nc6 2dxc5 O-O 2Ba4 Nb4 2Qd1 Rxc5 2e4 dxe4 2Nxe4 Nd3+ 2Kf1 Nxb2',\n",
              " 'e4 d5 Qf3 e6 exd5 Qxd5 Be2 Qxf3 Bxf3 c6 d3 Be7 Nc3 Nd7 Be3 Ndf6 Nge2 Nd5 1O-O-O Nxe3 1fxe3 Nf6 1d4 Nd5 1Nxd5 exd5 1Nc3 Bf5 1e4 dxe4 1Bxe4 Bxe4 1Nxe4 O-O 1Rhe1 f5 1Ng3 Bh4 2Re7 Bxe7 2Nh5 g6 2Ng3 Bd6 2Re1 Rfe8 2Rxe8+ Rxe8 2b3 Bxg3',\n",
              " 'e4 e6 d4 a6 Bd3 b5 Nf3 h6 Bf4 g5 Be3 g4 Ng1 h5 f3 e5 fxg4 d6 1gxh5 Qh4+ 1g3 Qxh5 1Be2 Qg6 1dxe5 Qxe4 1Qd2 Qxh1 1Bf3 Qxh2 1Bxa8 Qxd2+ 1Bxd2 c6 1exd6 Bxd6 1Ne2 Rh1+ 2Kf2 Nf6 2Kg2 Rh6 2Nbc3 Rg6 2Nd4 Rxg3+ 2Kf2 Ng4+ 2Ke2 Rg2+',\n",
              " 'e4 e5 Nf3 d6 d4 Nc6 d5 Nce7 Bb5+ Bd7 Nc3 c6 dxc6 Bxc6 Bxc6+ Nxc6 Nd5 Rc8 1Be3 a6 1Bb6 Qd7 1Qd2 Nd4 1Nxd4 exd4 1Qxd4 Qc6 1Nc7+ Rxc7 1Bxc7 Qxc7 1O-O-O Nf6 1Qa4+ Nd7 1Rhe1 Be7 2f4 O-O 2e5 Nc5 2exd6 Nxa4 2dxc7 Bf6 2g4 Nxb2 2Rd5 Bc3',\n",
              " 'c4 e5 e3 Nf6 d4 Nc6 c5 d6 Nc3 dxc5 dxe5 Qxd1+ Nxd1 Nxe5 e4 Nxe4 f3 Nf6 1Bf4 Bd6 1g4 h6 1a3 O-O 1Ne3 a6 1Nf5 Bxf5 1gxf5 b5 1Rd1 Rad8 1Bxe5 Bxe5 1Rxd8 Rxd8 1Ne2 Bxb2 2Nf4 Bxa3 2h4 Bb4+ 2Kf2 c4 2Bg2 c6 2Nh3 Nd5 2f4 Bc5+',\n",
              " 'b3 d5 Bb2 Nf6 e3 g6 Nf3 Bg7 d4 O-O Be2 c6 O-O Nbd7 Nbd2 e6 Rc1 Ne8 1h3 f5 1c4 dxc4 1Nxc4 b6 1Nce5 Nxe5 1Nxe5 Bb7 1Nxc6 Bxc6 1Rxc6 Qd7 1Rc1 Rd8 1Bc4 Nf6 1Qe2 Nd5 2Rfd1 b5 2Bxb5 Qe7 2f3 Qg5 2e4 Nf4 2Qd2 Nxh3+ 2Kh2 Nf4',\n",
              " 'e4 e6 b3 c6 Bb2 d5 exd5 cxd5 d3 Nf6 g3 Be7 Bg2 Nc6 Nf3 a6 O-O O-O 1Nbd2 h6 1a4 d4 1Nc4 Bb4 1Nh4 Re8 1Bxc6 bxc6 1Nf3 c5 1Ba3 a5 1Bxb4 axb4 1Kg2 Bb7 1Kg1 Qd5 2Ncd2 Ng4 2Kg2 e5 2Re1 f5 2h3 Nf6 2Qe2 e4 2dxe4 fxe4',\n",
              " 'd4 c5 Nf3 e6 Bg5 cxd4 Bxd8 Kxd8 Qxd4 Nc6 Qh4+ Nf6 e3 d5 Bb5 Bd7 Bxc6 Bxc6 1Nc3 a6 1O-O-O Be7 1Qg3 Bf8 1e4 Ke8 1exd5 exd5 1Rhe1+ Kd8 1Qe5 Bb4 1Nxd5 Bxe1 1Nxf6+ Kc8 1Qf5+ Kc7 2Rxe1 gxf6 2Qxf6 Rhf8 2Qe7+ Kb6 2Qb4+ Ka7 2a4 Rae8 2a5 Rxe1+',\n",
              " 'e4 b6 Nf3 Bb7 Nc3 e6 d4 Bb4 Bd3 Nf6 Qe2 d5 e5 Nfd7 a3 Bxc3+ bxc3 h6 1O-O c5 1Bf4 cxd4 1cxd4 Ba6 1Bxa6 Nxa6 1Qxa6 O-O 1c4 f6 1cxd5 exd5 1exf6 Qxf6 1Be5 Nxe5 1dxe5 Qf5 2Qe2 g5 2Rfe1 g4 2Nd4 Qf4 2Qe3 Qxe3 2Rxe3 Rae8 2Rae1 Rf7',\n",
              " 'e4 f5 e5 Nc6 f4 b6 Nf3 Bb7 d4 e6 a3 Qe7 Be3 O-O-O c4 d6 Qa4 h6 1Nc3 dxe5 1dxe5 g6 1Be2 Bg7 1O-O Nf6 1Nb5 a6 1exf6 Bxf6 1Nbd4 Nxd4 1Bxd4 Bxd4+ 1Nxd4 Rxd4 1Bf3 Bxf3 2Rxf3 Qc5 2Qxa6+ Kd7 2Qb5+ Qxb5 2cxb5 Rd8 2Rc1 Kc8 2Rfc3 Rd1+',\n",
              " 'e3 c6 Nc3 d5 Nce2 Nf6 b3 g6 Bb2 Bg7 Ng3 O-O h4 Bg4 Be2 Bxe2 Qxe2 Nbd7 1f4 e5 1f5 e4 1h5 gxf5 1h6 Bh8 1Nh3 Ng4 1Bxh8 Kxh8 1Nf4 Ndf6 1Ngh5 Nxh5 1Nxh5 Qg5 1O-O-O f6 2Kb1 Qxh6 2d3 Rad8 2dxe4 dxe4 2Rxd8 Rxd8 2Qc4 Ne5 2Qe6 Rf8',\n",
              " 'e4 b6 d4 Bb7 e5 g6 f4 Bg7 Nf3 d6 c3 dxe5 fxe5 e6 Bd3 Ne7 O-O Rg8 1Nbd2 Nf5 1Qe2 Nd7 1Be4 Bxe4 1Nxe4 h6 1Bd2 g5 1Ne1 Bh8 1Rd1 g4 1Bf4 h5 1c4 h4 1d5 Bxe5 2dxe6 fxe6 2Bxe5 Qe7 2Rxd7 Kxd7 2Nf6+ Kc6 2Nxg8 Rxg8 2Nc2 g3',\n",
              " 'e4 e5 Bc4 Nc6 Nf3 Bc5 d3 d6 Ng5 Nh6 Qh5 O-O O-O Bg4 Qh4 Nd4 Bb3 Ne2+ 1Kh1 Nxc1 1Rxc1 Qf6 1f3 Bd7 1Nc3 Be3 1Nd5 Qxg5 1Qxg5 Bxg5 1Rf1 c6 1Nc3 b5 1a3 a5 1Rad1 b4 2Nb1 a4 2Bc4 Rab8 2axb4 Rxb4 2b3 axb3 2Bxb3 Rfb8 2Na3 Rxb3',\n",
              " 'd4 g6 f4 Bg7 e3 f6 Bd3 e6 Nf3 b6 c3 Bb7 O-O Ne7 e4 d6 f5 gxf5 1exf5 exf5 1Nfd2 Nbc6 1Bxf5 Bc8 1Qh5+ Kf8 1Be4 Qe8 1Qf3 Bd7 1b4 Ng6 1b5 Nxd4 1cxd4 Bxb5 1Rf2 Rd8 2Na3 Bd7 2Nb3 Qe6 2Nc4 Re8 2Bd3 Ne7 2Bd2 Kf7 2Re1 Qd5',\n",
              " 'd4 a6 e3 b5 c3 Bb7 f3 Nc6 Bd3 e5 d5 Na5 e4 Bc5 Ne2 Nc4 Nd2 Ne3 1Qb3 Nxg2+ 1Kd1 Qg5 1Nf1 Be3 1Rg1 Bxc1 1Rxc1 Ne3+ 1Nxe3 Qxe3 1c4 d6 1cxb5 Qb6 1bxa6 Qxb3+ 1axb3 Bxa6 2Bxa6 Rxa6 2Rxg7 Ra7 2Kc2 Nf6 2Rcg1 Ra6 2Ng3 c6 2dxc6 Rxc6+',\n",
              " 'd4 d5 c4 e6 c5 Nf6 Nf3 Nbd7 Bf4 c6 e3 b6 b4 bxc5 bxc5 Be7 Bd3 Qa5+ 1Nbd2 Ba6 1Bxa6 Qxa6 1Qe2 Qxe2+ 1Kxe2 O-O 1h3 a5 1g4 Ra7 1g5 Nh5 1Ne5 Nxf4+ 1exf4 Nb8 1h4 a4 2h5 a3 2Ndf3 f6 2gxf6 Bxf6 2Ke3 h6 2Rhg1 Na6 2Ng6 Rff7',\n",
              " 'd4 d5 c4 dxc4 e3 c5 Bxc4 cxd4 exd4 Nf6 Nc3 e6 a3 a6 Nf3 Be7 O-O b5 1Ba2 Bb7 1Ne5 Nbd7 1f4 Nb6 1Be3 Nbd5 1Nxd5 Nxd5 1Qd3 Rc8 1Rac1 Bf6 1b4 O-O 1h3 Qd6 1g4 Rc7 2g5 Be7 2Rxc7 Qxc7 2Rc1 Qd7 2Nxd7 Rd8 2Ne5 g6 2Bd2 Kg7',\n",
              " 'e4 b6 f4 Bb7 Nc3 e6 Nf3 Nf6 Bc4 Nxe4 Nxe4 Bxe4 O-O Nc6 d3 Bg6 Ne5 Nxe5 1fxe5 Bc5+ 1d4 Be7 1c3 Bg5 1Bxg5 Qxg5 1Qf3 O-O 1Rf2 a6 1Re1 b5 1Bd3 Bxd3 1Qxd3 c6 1Rf3 Qe7 2Rg3 g6 2Rh3 Rfd8 2Qe3 h5 2Rf1 Kg7 2Rhf3 Rf8 2Rg3 Rad8',\n",
              " 'd4 d5 c3 c5 Nf3 Nf6 Bg5 Ne4 Bf4 c4 e3 Bg4 h3 Bh5 g4 Bg6 h4 h5 1g5 Nc6 1Nbd2 f6 1Rg1 e6 1gxf6 Qxf6 1Qa4 O-O-O 1Ne5 Nxe5 1Nxe4 Nf3+ 1Kd1 Bxe4 1Qxa7 Nxg1 1Qb8+ Kd7 2Qxb7+ Ke8 2Bg5 Qf3+ 2Ke1 Rd7 2Qc8+ Kf7 2Qxd7+ Kg6 2Qxe6+ Kh7',\n",
              " 'e4 Nc6 Nf3 d5 d4 e6 Ne5 dxe4 Bb5 a6 Bxc6+ bxc6 Nxc6 Qd6 Ne5 Bb7 Bf4 Qb6 1Qg4 Nf6 1Qg5 Bb4+ 1c3 Bf8 1O-O O-O-O 1Nxf7 h6 1Nd6+ Bxd6 1Bxd6 Qxd6 1Qxg7 Nd7 1Nd2 Rhg8 1Qxh6 e3 2Nf3 Bxf3 2Qxe3 Rxg2+ 2Kh1 Rg4+ 2Qxf3 Rdg8 2Qa8+ Nb8 2f4 Rxf4',\n",
              " 'd4 d5 Nc3 c6 h3 Nf6 Nf3 h6 g4 h5 g5 Nfd7 e3 e6 Bd3 Bb4 g6 Bxc3+ 1bxc3 f6 1Ba3 Nf8 1e4 Bd7 1e5 f5 1Rg1 Rh6 1Bxf8 Kxf8 1Kd2 Be8 1Rg2 Ke7 1Qg1 Kd7 1Rb1 b6 2a4 Kc7 2Ng5 Qe7 2a5 b5 2a6 Nxa6 2Ra1 Nb8 2c4 a6',\n",
              " 'd4 c5 Nf3 cxd4 Nxd4 e5 Nb5 a6 N5c3 Bb4 a3 Bxc3+ Nxc3 Ne7 e3 d5 Be2 Be6 1O-O Nbc6 1b3 Rc8 1Bb2 Qc7 1Na4 O-O 1Nc5 Bf5 1Bg4 d4 1Bxf5 Nxf5 1Qf3 Nce7 1Ne4 Qxc2 1Rab1 b5 2b4 Qc6 2Rbc1 Qb7 2Qg4 Qb6 2Nc5 Rxc5 2bxc5 Qf6 2exd4 exd4',\n",
              " 'c4 d5 b3 dxc4 bxc4 e6 Bb2 Nf6 Nc3 Be7 g3 O-O Bg2 c6 d3 Nbd7 Qc2 Nb6 1O-O-O c5 1a3 Rb8 1h4 Bd7 1f3 h6 1g4 Bc6 1Rh2 Nfd7 1g5 h5 1f4 g6 1Bxc6 bxc6 1e4 e5 2Nf3 exf4 2Rf1 Bd6 2e5 Nxe5 2Nxe5 Bxe5 2Re2 Bd4 2Re4 Be3+',\n",
              " 'e4 e6 d4 a6 c4 h6 a4 b6 a5 Bb4+ Bd2 bxa5 Rxa5 Bxa5 Bxa5 Nc6 Bc3 d6 1d5 Ne5 1f4 Ng6 1g3 e5 1f5 Nf8 1h4 Nf6 1Bd3 h5 1Nf3 N8d7 1Bb4 Rb8 1Ba3 Ng4 1Ng5 Ndf6 2Qe2 Bd7 2Nc3 Rb6 2Nd1 Qb8 2c5 Rb3 2c6 Bc8 2Bxa6 Bxa6',\n",
              " 'e4 e5 Nf3 Nc6 Bc4 h6 c3 Nf6 d4 exd4 Nxd4 Nxd4 cxd4 Nxe4 O-O Nd6 Re1+ Be7 1Qg4 g5 1b3 Nxc4 1bxc4 d6 1Qf3 g4 1Qf6 Rf8 1Bxh6 Rg8 1Bg7 Be6 1Qh6 Qd7 1d5 Bf5 1Bf6 O-O-O 2Bxe7 Rde8 2Qf6 Bd3 2Nd2 Rg6 2Qxf7 Rh8 2Ne4 Bxe4 2Rxe4 g3',\n",
              " 'e4 c5 Qg4 d6 Qf3 Nf6 d3 Nc6 c3 g6 Na3 Bg7 d4 cxd4 Bb5 dxc3 bxc3 Bd7 1Qd3 O-O 1Nf3 a6 1Ba4 b5 1Bb3 b4 1Nc4 bxc3 1Qxc3 Nxe4 1Qe3 Nc5 1Rb1 d5 1Qxc5 dxc4 1Qxc4 Qa5+ 2Bd2 Qf5 2O-O Ne5 2Nxe5 Bxe5 2Bc2 Qh5 2Bf4 Rac8 2Qe4 f5',\n",
              " 'e4 e6 f4 c5 Nf3 Nc6 d3 d5 e5 d4 c3 b6 Bd2 Bb7 Be2 b5 O-O Nh6 1cxd4 cxd4 1Na3 a6 1h3 Nf5 1Qe1 Bc5 1Nc2 a5 1a3 b4 1axb4 axb4 1Rxa8 Qxa8 1Nxb4 Ne3 1Bxe3 dxe3 2Nxc6 Bxc6 2d4 Bxf3 2Bxf3 Qa7 2dxc5 Qxc5 2Qe2 O-O 2Re1 Qb4',\n",
              " 'e4 g6 d4 c6 Nf3 Nf6 Bc4 d5 exd5 cxd5 Bb5+ Nc6 Bxc6+ bxc6 O-O Ne4 c4 Bf5 1cxd5 cxd5 1Nc3 Bg7 1Qa4+ Kf8 1Nxd5 Qxd5 1Be3 h5 1Ne5 Bxe5 1dxe5 Qxe5 1Rae1 h4 1h3 f6 1Bd4 Qf4 2Be3 Qb8 2f4 Kg7 2Bc5 Nxc5 2Qc4 Kh6 2Qxc5 Qb6 2Qxb6 axb6',\n",
              " 'g3 h5 Bg2 h4 Nf3 hxg3 hxg3 Rxh1+ Bxh1 d5 Bg2 c6 b3 Na6 Bb2 Bf5 Nc3 Qd7 1d3 Nf6 1e4 dxe4 1dxe4 Qxd1+ 1Rxd1 Nxe4 1Nxe4 Bxe4 1c4 Rd8 1Rxd8+ Kxd8 1Ke2 e6 1Ke3 Bh7 1Nd4 Bc5 2Ke2 Ke7 2Nc2 Nb4 2Nxb4 Bxb4 2Bxg7 f6 2Bh6 e5 2f4 Bc5',\n",
              " 'e4 c5 Bc4 e6 c3 Nc6 Nf3 a6 d4 Nf6 Qd3 b5 Bb3 Bb7 d5 c4 Qd1 exd5 1Bc2 dxe4 1Nd4 Nxd4 1cxd4 Be7 1Nc3 b4 1Ne2 a5 1b3 c3 1O-O Ng4 1h3 h5 1hxg4 hxg4 1Ng3 Qc7 2Bxe4 Bxe4 2Qxg4 Bb7 2Re1 Rh4 2Qg5 f6 2Qxg7 O-O-O 2Rxe7 Rdh8',\n",
              " 'e4 e5 b3 d6 Bb5+ c6 Bc4 b5 Bd3 Nd7 Nh3 Ngf6 f3 Nc5 f4 exf4 Qf3 Qe7 1e5 dxe5 1Qxc6+ Ncd7 1Qxa8 Kd8 1Qxa7 Nc5 1Qb6+ Qc7 1Qxb5 Bd7 1Qc4 Be6 1Qd4+ Bd6 1Bc4 exd4 1Bxe6 fxe6 2Ng5 d3 2b4 dxc2 2Na3 Nd3+ 2Ke2 Nxb4 2Nxe6+ Kd7 2Nxc7 Kxc7',\n",
              " 'e4 e5 g3 Nf6 Bg2 c6 Ne2 d5 exd5 cxd5 d3 Nc6 Nbc3 Bb4 a3 Bxc3+ Nxc3 Be6 1O-O O-O 1f4 Qb6+ 1Kh1 Ng4 1Qe2 Nd4 1Qd2 exf4 1Na4 Qb5 1Nc3 Qb6 1Qxf4 Nxc2 1Rb1 Nxa3 1bxa3 Qc5 2Bd2 Rae8 2h3 Nf6 2Be3 Qxa3 2Nb5 Qxd3 2Bd4 Nh5 2Qf3 Qg6',\n",
              " 'e4 e5 Nf3 d6 Bc4 Be6 Bxe6 fxe6 d3 h6 Nc3 Nc6 g3 Qe7 Nh4 Qf6 Qh5+ Kd8 1Ng6 Rh7 1Nxf8 Qxf8 1Qh4+ Nf6 1Nb5 g5 1Qh3 Qe7 1f4 exf4 1gxf4 gxf4 1Bxf4 e5 1Bxh6 a6 1Nc3 Nd4 2Rg1 Nxc2+ 2Kd2 Nxa1 2Rxa1 c5 2Nd5 Nxd5 2exd5 Kc7 2Qe3 Rah8',\n",
              " 'b3 e6 Bb2 d5 Nc3 Nc6 d4 Bd7 e3 Qe7 Bb5 O-O-O Bxc6 Bxc6 a4 a6 a5 Qb4 1Qd2 Bb5 1Nge2 Be7 1O-O Nf6 1Rfd1 Ne4 1Nxb5 Qxd2 1Rxd2 Nxd2 1Nbc3 Ne4 1f3 Nxc3 1Bxc3 Kb8 1b4 c5 2Rb1 c4 2Bd2 f6 2c3 e5 2dxe5 fxe5 2f4 exf4 2exf4 Bd6',\n",
              " 'e4 e6 d4 d5 exd5 exd5 Nf3 Nf6 Be2 Bd6 h3 O-O c3 Re8 O-O c6 Bg5 Be6 1Nbd2 Nbd7 1Bd3 Qc7 1Re1 Bf4 1Bxf4 Qxf4 1Ne5 Nxe5 1Rxe5 Bd7 1Nf3 Bxh3 1gxh3 Ne4 1Bxe4 dxe4 1Nh2 Rxe5 2dxe5 Qxe5 2Qg4 f5 2Qg3 f4 2Qg4 e3 2Re1 Re8 2Nf3 Qe4',\n",
              " 'c4 Nf6 Nf3 d6 d4 Nbd7 Nc3 e5 dxe5 dxe5 Bg5 c6 Ne4 Be7 Nd6+ Kf8 Nxc8 Rxc8 1e3 h6 1Bh4 Kg8 1Bg3 Kh7 1Nxe5 Nxe5 1Bxe5 Qa5+ 1Bc3 Qg5 1Qf3 Qg6 1Rd1 Rhd8 1Be2 Rxd1+ 1Bxd1 Qb1 2O-O Qxa2 2Bc2+ Kg8 2Rd1 Qxc4 2Qf5 Re8 2Bxf6 Bxf6 2Qh7+ Kf8',\n",
              " 'e4 g6 Nc3 e5 d4 exd4 Qxd4 f6 Bg5 Bg7 Bf4 Nc6 Qc5 b6 Qc4 Qe7 f3 Na5 1Qd3 Bb7 1Bxc7 f5 1Nd5 Bxd5 1Qxd5 Rc8 1Bd6 Qe6 1Bb5 Qxd5 1exd5 Bxb2 1Rd1 Bc3+ 1Kf2 Nf6 1Ne2 Bb4 2c3 Bxd6 2Rhe1 Bc5+ 2Nd4+ Kf7 2a4 Nxd5 2Bc4 Nxc4 2Kg3 Nxc3',\n",
              " 'b4 c6 Bb2 c5 bxc5 b6 cxb6 axb6 a3 b5 d4 b4 axb4 Rxa1 Bxa1 Nc6 c3 e6 1e4 Bb7 1d5 Nb8 1dxe6 fxe6 1Be2 g6 1Na3 Nf6 1c4 Nxe4 1c5 Bh6 1Nf3 Rf8 1O-O Rf4 1g3 Rf6 2Bxf6 Qxf6 2Qd4 Qf5 2Qh8+ Kf7 2Ne5+ Qxe5 2Qxe5 Nf6 2Qxb8 Be4',\n",
              " 'd4 e6 c4 d5 Nc3 Nf6 cxd5 exd5 Bg5 c6 Qc2 Bd6 e3 O-O Bd3 h6 Bh4 Bg4 1f3 Bh5 1g4 Bg6 1Bxg6 fxg6 1Qxg6 Qe7 1e4 dxe4 1fxe4 Bb4 1e5 Bxc3+ 1bxc3 Qe6 1h3 Re8 1Ne2 Nd5 2Qxe6+ Rxe6 2Kd2 Nd7 2Rhf1 N7b6 2Kd3 Rae8 2Be1 Ne7 2Nf4 Ng6',\n",
              " 'e4 d6 d4 Nf6 Nc3 g6 h3 Bg7 Nf3 O-O Bd3 c5 e5 Ne8 exd6 Qxd6 dxc5 Qxc5 1Ne4 Qc7 1O-O Nc6 1Be3 Nf6 1Qc1 Rd8 1Bh6 Bh8 1Re1 b6 1Neg5 e6 1Qe3 Nb4 1Rac1 Nbd5 1Qd2 Bb7 2Ne4 Nxe4 2Bxe4 Bxb2 2Qg5 Bg7 2Bxg7 Kxg7 2h4 h6 2Qd2 Nf4',\n",
              " 'e4 c5 Nf3 d6 Bc4 e6 Nc3 a6 a4 Bd7 d3 Bc6 O-O Nf6 Bg5 Nbd7 Re1 Qc7 1a5 Be7 1Bb3 O-O 1d4 cxd4 1Nxd4 Nc5 1Nxc6 bxc6 1Ba2 d5 1e5 Nfe4 1Nxe4 Nxe4 1Bf4 Qxa5 1c3 Qb6 2Qc2 c5 2Bb1 g6 2f3 c4+ 2Kf1 Nc5 2h3 Rfb8 2Re2 Nd3',\n",
              " 'e4 c5 c3 Nc6 d4 cxd4 cxd4 e5 d5 Nd4 Nc3 Bb4 Bd3 Nf6 h3 O-O f4 exf4 1Bxf4 Qa5 1Rc1 Bxc3+ 1bxc3 Nb5 1Bd2 Qc7 1Nf3 Qg3+ 1Kf1 d6 1a4 Nc7 1c4 Bd7 1Rc3 a6 1Qc1 Nh5 2Bc2 f5 2e5 dxe5 2Qd1 e4 2Ng5 Ne8 2Rxg3 Nxg3+ 2Kf2 Nxh1+',\n",
              " 'e4 e5 Nf3 Nc6 Nc3 d6 Bc4 Be7 O-O Nf6 d3 O-O Bg5 Bg4 Bxf6 Bxf6 Nd5 Bxf3 1Qxf3 Nd4 1Nxf6+ gxf6 1Qg3+ Kh8 1c3 Ne6 1Bb3 Nf4 1Rae1 Rg8 1Qf3 Rxg2+ 1Kh1 Qg8 1Rg1 Rxg1+ 1Rxg1 Qc8 2Bxf7 Qd7 2Bd5 c6 2Bb3 Rf8 2d4 d5 2exd5 cxd5 2c4 dxc4',\n",
              " 'e4 d6 Bc4 a6 Qf3 Nf6 Nc3 Nc6 Nge2 Ne5 Qg3 Nxc4 d3 Ne5 d4 Ng6 e5 dxe5 1dxe5 Nd5 1O-O Nxc3 1Nxc3 Qd4 1Be3 Qxe5 1Qxe5 Nxe5 1Bd4 Nc6 1Be3 Bg4 1h3 Bh5 1Bf4 e5 1Be3 Bd6 2Nd5 O-O 2a3 f5 2b4 f4 2Bd2 Nd4 2c3 Nf5 2c4 c6',\n",
              " 'e4 b6 d4 Bb7 Bd3 d5 f3 dxe4 fxe4 Nf6 Qe2 Nc6 Be3 Nxd4 Bxd4 Qxd4 Nc3 e6 1Nf3 Qd8 1O-O-O Qb8 1Bb5+ c6 1Ba4 a5 1Kb1 Bb4 1Qe3 O-O 1a3 Bc5 1Ng5 Bxe3 1Nf3 b5 1Bb3 b4 2axb4 axb4 2Ne2 Qa7 2c3 bxc3 2Nxc3 c5 2Ba2 Nxe4 2Rde1 Nxc3+',\n",
              " 'e4 c5 Nf3 Nc6 Bb5 g6 c3 Bg7 Qa4 a6 d4 cxd4 Nxd4 Nxd4 cxd4 Nf6 Nc3 O-O 1Bg5 d6 1O-O Be6 1Bd3 b5 1Qc2 Rc8 1Qe2 Bc4 1Rad1 Bxd3 1Rxd3 Nd7 1Rfd1 Re8 1e5 dxe5 1dxe5 Rc7 2e6 fxe6 2Qxe6+ Kh8 2Rxd7 Rxd7 2Rxd7 Qc8 2Nd5 Qc2 2h3 Qd1+',\n",
              " 'd4 b6 c4 Bb7 Nf3 e6 e3 Nf6 Be2 Bb4+ Bd2 Ne4 Bxb4 f5 Nbd2 d6 Qc2 Nd7 1Bd3 Ndf6 1O-O Qd7 1a4 a5 1Bc3 h6 1b4 axb4 1Bxb4 g5 1a5 h5 1axb6 O-O 1bxc7 Qxc7 1c5 d5 2Bxe4 fxe4 2Nxg5 Ng4 2g3 h4 2Nxe6 Qh7 2Nxf8 Rxf8 2h3 hxg3',\n",
              " 'd4 Nf6 e3 g6 c3 Bg7 Nd2 O-O Ngf3 d6 h3 Nbd7 Bd3 Re8 Qe2 e5 e4 exd4 1cxd4 d5 1e5 c5 1O-O Nh5 1Nb1 cxd4 1Bb5 Bxe5 1Kh1 Bg7 1Qd3 a6 1Bxd7 Bxd7 1Nxd4 Qf6 1Nf3 Bb5 2Qd1 Be2 2Qe1 Bxf3 2Qb4 Be2 2Rg1 Qxf2 2Bg5 Ng3+ 2Kh2 Nf1+',\n",
              " 'e4 d6 Nf3 e6 d4 c6 Nc3 b6 d5 a6 Be2 cxd5 exd5 exd5 Nxd5 Be6 Bc4 Qd7 1Be3 Nf6 1b3 Ne4 1Qd4 Nc5 1Qc3 Nc6 1O-O Ne4 1Qd3 Nc5 1Bxc5 bxc5 1Rfe1 Rc8 1Nf6+ Kd8 1Bxe6 fxe6 2Qxa6 Qf7 2Qb6+ Rc7 2Red1 Be7 2Ne5 Qf8 2Nxc6+ Kc8 2Qb8#',\n",
              " 'e4 e5 g3 Bc5 c3 Nc6 a3 a6 b4 Ba7 Bg2 d6 Nf3 h6 d4 Bg4 O-O Nf6 1Qd3 O-O 1Be3 Bxf3 1Bxf3 Re8 1d5 Bxe3 1Qxe3 Ne7 1Nd2 Qd7 1a4 Ng4 1Qe2 Nf6 1Nc4 Ng6 1Qe3 Qh3 2Na5 Ng4 2Bxg4 Qxg4 2f3 Qh3 2Nxb7 h5 2Qf2 h4 2Qg2 Qc8',\n",
              " 'c4 c5 Nc3 Nc6 e3 g6 d4 cxd4 exd4 d6 Nf3 Bg7 h3 Nf6 Be2 d5 c5 O-O 1O-O Bf5 1Bf4 Ne4 1a3 f6 1Rc1 Rc8 1b4 e5 1Bh2 Nxc3 1Rxc3 e4 1Nh4 Be6 1b5 Nxd4 1Qxd4 f5 2Be5 Bxe5 2Qxe5 Re8 2g3 d4 2Rcc1 d3 2Bd1 d2 2Rc3 Qa5',\n",
              " 'd3 e5 Bd2 d5 Ba5 e4 dxe4 dxe4 Qxd8+ Kxd8 Bc3 f6 Nd2 Bc5 e3 Bg4 f3 exf3 1gxf3 Bh5 1O-O-O Bxe3 1Kb1 Kc8 1Nc4 Bxg1 1Rxg1 Bxf3 1Rd3 Be4 1Re3 Bd5 1Rxg7 Bxc4 1Bxc4 Ne7 1Rgxe7 Nc6 2Be6+ Kb8 2Re8+ Rxe8 2Bxf6 Nd4 2Bxd4 b6 2Bd5 c6 2Bxc6 Kc7',\n",
              " 'd4 d5 c4 e6 Nf3 c5 e3 Nf6 b3 Nc6 Bb2 Ne4 Bd3 f5 O-O cxd4 exd4 Bd6 1cxd5 exd5 1Nc3 O-O 1h3 Be6 1Ne2 Bc7 1Bxe4 fxe4 1Ne5 Qg5 1Ng3 Nxe5 1dxe5 Rxf2 1Rxf2 Qxg3 1Rc1 Bxh3 2Rxc7 e3 2Re2 Be6 2Qe1 Qf4 2Rxe3 Re8 2Qg3 Qxg3 2Rxg3 g6',\n",
              " 'd4 Nf6 Bg5 e6 Bxf6 Qxf6 Nf3 Be7 e4 d6 e5 dxe5 dxe5 Qg6 Nc3 f6 Be2 Qf7 1exf6 Bxf6 1O-O g6 1Bc4 O-O 1Re1 Nc6 1Nb5 Na5 1Bb3 Nxb3 1axb3 a6 1Nc3 c6 1Nd4 Bd7 1Nf3 Rad8 2Qe2 e5 2Nxe5 Bxe5 2Qxe5 Qxf2+ 2Kh1 Bf5 2Qg3 Qxg3 2hxg3 Rd2',\n",
              " 'e3 c6 Nc3 d5 Nce2 Nf6 a3 g6 b3 Bg7 Bb2 O-O Ng3 Bg4 Be2 Bxe2 Qxe2 Nbd7 1h4 e5 1h5 Nxh5 1Nxh5 gxh5 1Qxh5 h6 1g4 Qg5 1Qxg5 hxg5 1Ne2 f6 1Ng3 Kf7 1Nf5 Rh8 1Rxh8 Rxh8 2O-O-O Bf8 2d4 Ke6 2dxe5 Nxe5 2Bxe5 Kxe5 2Rd4 Bxa3+ 2Kd2 Rh2',\n",
              " 'e4 e5 Bc4 Nf6 d3 Nc6 Nc3 Be7 f4 exf4 Bxf4 d6 Nf3 O-O O-O Bg4 e5 dxe5 1Bg3 Bc5+ 1Kh1 Nd4 1Qe1 Nxc2 1Qxe5 Bxf3 1Qxc5 Nxa1 1gxf3 Nc2 1Bb3 Nd4 1Bxc7 Rc8 1Bxd8 Rxc5 1Rg1 Nd7 2Be7 Nxb3 2Bxf8 Kxf8 2axb3 Ne5 2Ne4 Rb5 2Rg5 f6 2Rh5 Rxb3',\n",
              " 'e4 e5 Nf3 Nc6 c3 d6 d4 Bg4 dxe5 Nxe5 Be2 Nf6 Bg5 Be7 Nxe5 Bxe2 Qxe2 dxe5 1O-O O-O 1Nd2 h6 1Bh4 g5 1Bg3 a6 1Rad1 Re8 1Nf3 Qc8 1Bxe5 Ng4 1Bd4 Bd6 1h3 Ne5 1Nxe5 Bxe5 2Qh5 Bxd4 2cxd4 Kg7 2e5 Qf5 2Rfe1 c6 2Re3 Rad8 2Rf3 Qg6',\n",
              " 'e4 e5 Nf3 d6 d4 Nc6 Bb5 Bd7 dxe5 dxe5 Bxc6 Bxc6 Qxd8+ Rxd8 O-O Bxe4 Re1 Nf6 1Nxe5 Bd6 1Bg5 Bxc2 1Nc6+ Kd7 1Nxd8 Rxd8 1Bxf6 gxf6 1Nc3 Kc8 1Ne4 Be5 1Rac1 Ba4 1Nc5 Bc6 1h4 Bxb2 2Rc2 Bd4 2Ne4 Bxe4 2Rxe4 Bc5 2Rce2 b6 2Re8 a5 2Rxd8+ Kxd8',\n",
              " 'e4 g6 f4 Bg7 Bb5 b6 Be2 Bb7 Nf3 c6 d4 d6 c4 e6 Be3 f6 Qd3 Ne7 1Nc3 Qd7 1O-O-O h6 1e5 fxe5 1fxe5 d5 1cxd5 Nxd5 1Nxd5 cxd5 1Qd2 Nc6 1Ne1 Rc8 1Nd3 Nxd4+ 1Kb1 Nb5 2Nb4 Bxe5 2Rhf1 a5 2Bxh6 d4 2Nd3 Bd5 2Nxe5 Qd6 2Qg5 a4',\n",
              " 'e3 b6 Ne2 Bb7 d4 e6 c4 c5 d5 exd5 cxd5 d6 Nbc3 Nf6 Bd2 Qe7 f3 Nbd7 1Ng3 O-O-O 1Be2 Ne5 1O-O h6 1f4 Ned7 1a4 g5 1Nb5 gxf4 1exf4 Ne4 1Nxe4 Qxe4 1Bf3 Qc4 1Rc1 Qa2 2Nxa7+ Kb8 2Nb5 Qxb2 2a5 Ba6 2Be2 Bxb5 2Bxb5 Qxb5 2axb6 Nxb6',\n",
              " 'd4 d6 c4 e6 Nf3 h6 Bf4 g5 Bg3 c6 e3 Nd7 Nc3 Nb6 Be2 Bd7 h3 Be7 1O-O f5 1b4 g4 1hxg4 fxg4 1Ne1 h5 1c5 Nd5 1Nxd5 cxd5 1cxd6 Bxd6 1Bxd6 Nf6 1Be5 Rg8 1Nd3 Ne4 2Bh2 g3 2fxg3 h4 2Bh5+ Ke7 2Rf7+ Kd6 2gxh4+ Kc6 2Ne5+ Kb6',\n",
              " 'Nf3 b6 b3 Bb7 Bb2 Nc6 e3 Nf6 d4 d6 c4 e6 d5 exd5 cxd5 Ne7 Bb5+ Nd7 1Nc3 a6 1Be2 Nf6 1e4 g6 1O-O Bg7 1Rc1 O-O 1Nd4 Rc8 1f3 Nd7 1Qd2 Nc5 1Rfd1 f5 1b4 Nd7 2Ne6 Qe8 2Nxf8 Qxf8 2Na4 fxe4 2Bxg7 Qxg7 2fxe4 Ne5 2Nb2 g5',\n",
              " 'e4 e5 Nf3 d6 h3 Nf6 Nc3 Be6 d4 exd4 Nxd4 Qd7 Bg5 Be7 Nxe6 fxe6 Bd3 Nc6 1O-O O-O-O 1Bb5 h6 1Be3 a6 1Ba4 d5 1exd5 exd5 1Ne2 g5 1Nd4 Qe6 1Nxc6 bxc6 1Qd3 c5 1c3 c4 2Qd2 Ne4 2Qe2 h5 2f3 Ng3 2Qf2 Nxf1 2Rxf1 h4 2Bc2 Bd6',\n",
              " 'd4 Nf6 c4 d6 Nc3 Nbd7 e4 e5 d5 Nc5 f3 g6 Be3 Bg7 Qd2 b6 O-O-O Ba6 1g4 Qd7 1h4 Na4 1Nh3 Nxc3 1Qxc3 Qa4 1a3 Nd7 1Nf2 Nc5 1Re1 Nb3+ 1Kb1 O-O-O 1Be2 Rd7 1h5 gxh5 2Rxh5 f6 2Reh1 Bf8 2g5 fxg5 2Bxg5 Kb7 2Ng4 b5 2cxb5 Bxb5',\n",
              " 'e4 d5 exd5 Qxd5 d4 e6 c4 Qd8 Nc3 Nf6 Nf3 Bb4 Bd2 Bxc3 Bxc3 O-O Be2 b6 1O-O c5 1Re1 cxd4 1Nxd4 Nc6 1Nxc6 Qxd1 1Raxd1 Bb7 1Nd4 e5 1Bf3 Bxf3 1Nxf3 e4 1Bxf6 exf3 1Bh4 fxg2 2Kxg2 f6 2Bg3 Rac8 2b3 b5 2cxb5 Rc2 2Ra1 Rfc8 2a4 g6',\n",
              " 'c4 e6 d4 c6 a3 d5 c5 Nf6 h3 Nbd7 Bf4 Nh5 Bh2 Be7 e3 Nhf6 Nc3 a5 1b4 axb4 1axb4 Rxa1 1Qxa1 b6 1Nf3 bxc5 1bxc5 O-O 1Be2 Ne4 1Nxe4 dxe4 1Nd2 f5 1Nc4 Bf6 1O-O Nxc5 2Ne5 Bxe5 2Bxe5 Nd3 2Bxd3 exd3 2Qa3 Qb6 2Qxd3 Ba6 2Rb1 Qa5',\n",
              " 'e4 e6 d4 d5 exd5 exd5 Bd3 c6 Ne2 Be6 Bf4 Nf6 Bg5 Bd6 Nbc3 h6 Bf4 Bxf4 1Nxf4 O-O 1Nxe6 fxe6 1Qd2 Qd7 1O-O-O Na6 1Rde1 Nb4 1a3 Nxd3+ 1Qxd3 Rae8 1Re2 Qd6 1g3 e5 1dxe5 Rxe5 2Rhe1 Rxe2 2Rxe2 Re8 2f4 Rxe2 2Qxe2 Kf7 2Kd2 g6 2Nd1 Ne4+',\n",
              " 'e4 c5 Nf3 d6 c3 e5 d4 cxd4 cxd4 exd4 Nxd4 Nc6 Nc3 Be7 Be2 Nf6 O-O Bd7 1Bg5 Qc7 1Ndb5 Qb8 1Bxf6 gxf6 1Re1 a6 1Nd4 Qc7 1Rc1 O-O-O 1Nd5 Qa5 1Nxe7+ Kb8 1Nexc6+ bxc6 1Rxc6 Rc8 2Rxc8+ Rxc8 2Bf3 Ba4 2b3 Bd7 2Nf5 Rc6 2Ne3 Qxa2 2e5 Rb6',\n",
              " 'e4 c5 f4 Nc6 c3 e6 e5 d6 d4 dxe5 dxe5 a6 Qxd8+ Nxd8 Nf3 b5 Nbd2 Bb7 1a4 c4 1Nd4 Bc5 1N2f3 Ne7 1b4 Bxf3 1gxf3 Bxd4 1cxd4 Rc8 1axb5 axb5 1Ra5 Rb8 1Kf2 Ndc6 1Ra1 Nxd4 2Be3 Ndc6 2Bc5 O-O 2Bh3 Rfd8 2f5 Nd5 2f6 g6 2Bd6 Ra8',\n",
              " 'b3 d5 Bb2 c5 g3 e5 Bg2 Bf5 e3 Nc6 d3 Nf6 h3 d4 g4 dxe3 gxf5 exf2+ 1Kxf2 Nd4 1Bxb7 Rb8 1Bg2 Nd5 1c3 Nxf5 1c4 Nf4 1Bd5 Nd4 1Bxd4 cxd4 1Nf3 Qf6 1Nbd2 Be7 1Qc2 O-O 2Rag1 Kh8 2Rg4 h5 2Rg5 Nxd5 2cxd5 Rbd8 2Rxe5 Rxd5 2Rxd5 Bd6',\n",
              " 'e4 d6 Nf3 e5 d4 Bg4 Be2 exd4 Qxd4 Nc6 Bb5 a6 Bxc6+ bxc6 Be3 Nf6 e5 c5 1Qf4 Nd5 1Qe4 Nxe3 1Qxe3 dxe5 1Nxe5 Be7 1O-O Be6 1Nc3 Qb8 1Qf4 Qxb2 1Nc6 Qxc3 1Qxc7 O-O 1Nxe7+ Kh8 2Nc6 Rac8 2Qf4 Rxc6 2Rfe1 Bc4 2Re3 Qb4 2Rb3 Qa4 2Rab1 Rf6',\n",
              " 'e4 e5 Nf3 d6 Bc4 Be7 Nc3 Nf6 O-O O-O Qe2 Nc6 d3 Bg4 h3 Bxf3 Qxf3 Na5 1Qg3 Nxc4 1dxc4 c6 1Bh6 Ne8 1Rae1 Kh8 1Bxg7+ Nxg7 1Re3 Rg8 1Qf3 Qe8 1b4 Ne6 1Qh5 Nf4 1Qh6 Nxg2 2Rg3 Nf4 2b5 cxb5 2cxb5 Rc8 2Nd5 Ne2+ 2Kh2 Nxg3 2fxg3 Rxc2+',\n",
              " 'd4 d5 e3 c5 Bd3 Nc6 c3 c4 Bc2 Nf6 Nf3 g6 O-O Bh6 b3 cxb3 axb3 Bg4 1Nbd2 Qd7 1Re1 O-O 1Bb2 Rac8 1Qb1 Qc7 1Bd1 Bf5 1Bc2 Ne4 1Nxe4 dxe4 1Bxe4 Bxe4 1Qxe4 f5 1Qd3 Rfd8 2c4 e5 2Qc3 e4 2Ne5 Nxe5 2dxe5 Rd3 2Qb4 Bg7 2Rxa7 Bxe5',\n",
              " 'e4 d5 exd5 Qxd5 d4 Nc6 Nf3 Bg4 Be3 Bxf3 gxf3 O-O-O c4 Qa5+ Nc3 e5 d5 Bb4 1Bd2 Nd4 1a3 Bxc3 1Bxc3 Qc5 1b4 Qe7 1Be2 Nxe2 1Qxe2 f6 1O-O-O Nh6 1Rhg1 Nf5 1Qe4 Nd6 1Qd3 g6 2c5 Nf5 2Qc4 a6 2a4 Rhe8 2b5 axb5 2axb5 e4 2Rge1 e3',\n",
              " 'e4 e5 Nf3 Nc6 Nc3 Bc5 Qe2 d6 b3 Bg4 h3 Nd4 d3 Nxe2 Bxe2 Bxf3 Bxf3 Bd4 1Bd2 Ne7 1O-O f5 1Rae1 f4 1Ne2 Bb6 1c3 g5 1d4 h5 1Kh1 g4 1Bxg4 hxg4 1Rg1 Ng6 1f3 gxh3 2g4 Nh4 2Ref1 h2 2Rg3 fxg3 2Nxg3 exd4 2cxd4 Bxd4 2Nh5 Rxh5',\n",
              " 'e4 c5 Nf3 Nc6 d4 cxd4 Nxd4 Nf6 Nc3 e6 Nxc6 bxc6 Bd3 d5 e5 Nd7 f4 a6 1O-O c5 1Kh1 c4 1Be2 Bb7 1Be3 Be7 1Bf3 O-O 1Ne2 Nc5 1Bxc5 Bxc5 1Nd4 Qb6 1c3 Qxb2 1Rb1 Qxc3 2Ne2 Qa3 2Rxb7 Qxa2 2f5 a5 2f6 gxf6 2exf6 Kh8 2Bh5 a4',\n",
              " 'e4 d5 Nc3 Bg4 Qxg4 Nf6 Qe2 dxe4 Nxe4 e5 Nxf6+ Qxf6 f3 Bb4 Nh3 Bc5 g3 O-O 1d3 Nc6 1f4 Nd4 1Qd1 Qe6 1c3 Nc6 1Be2 Bb6 1Ng5 Qf6 1Nf3 h6 1fxe5 Nxe5 1Nxe5 Qxe5 1Kd2 Rae8 2Kc2 Qa5 2Qd2 Qa6 2b4 Qb5 2Bb2 Qh5 2Rhe1 Qg6 2Kc1 c6',\n",
              " 'e4 g6 d4 Bg7 Nf3 e6 Bd3 Ne7 O-O O-O Re1 d5 c3 dxe4 Bxe4 Nbc6 Nbd2 b6 1b4 Bb7 1b5 Na5 1Bb2 Nd5 1a3 a6 1c4 Nf4 1Nf1 Bxe4 1Rxe4 Nxc4 1Rxf4 Nxb2 1Qc2 axb5 1Qxb2 c5 2Qxb5 cxd4 2Rd1 Ra5 2Qb4 e5 2Re4 f5 2Rxe5 Bxe5 2Nxe5 Rxe5',\n",
              " 'd4 e6 e3 b6 Bd3 Bb7 f4 Bxg2 Nf3 Bxh1 Be4 c6 Ke2 Bxf3+ Bxf3 Nf6 Nc3 g6 1Ke1 Bg7 1Ne4 d5 1Ng5 O-O 1Bd2 h6 1Bb4 Re8 1Nh3 a5 1Bc3 b5 1Qe2 b4 1Bd2 Nbd7 1Rd1 Qb6 2c3 b3 2a3 a4 2Qd3 c5 2Kf1 c4 2Qe2 Nh7 2e4 Ndf6',\n",
              " 'e4 e6 Nf3 d5 exd5 exd5 d4 Nf6 Bd3 c5 dxc5 Bxc5 O-O O-O Bg5 Qd6 c3 a6 1Nbd2 Bg4 1Qc2 h6 1Bh4 Nbd7 1Bg3 Qc6 1Nb3 Ba7 1Ne5 Nxe5 1Bxe5 Rad8 1Bd4 Bb8 1f3 Be6 1Qf2 b5 2Nc5 Bc8 2Nb3 Nh5 2Qh4 g6 2Rae1 Qd6 2g4 Nf4 2Bc2 Kh7',\n",
              " 'e4 e6 d4 d5 e5 c5 c3 Nc6 Nf3 Bd7 a3 Qb6 Be2 Rc8 O-O cxd4 cxd4 Nge7 1b4 Nf5 1Be3 Nxe3 1fxe3 Be7 1Nc3 a6 1Na4 Qa7 1Nc5 Bxc5 1bxc5 b6 1cxb6 Qxb6 1Rb1 Qa7 1Kh1 O-O 2Qd3 a5 2Bd1 f6 2exf6 Rxf6 2Bc2 g6 2Bb3 Rcf8 2Rfc1 a4',\n",
              " 'e4 e6 d4 d5 Nc3 Bb4 Ne2 dxe4 a3 Bxc3+ Nxc3 Nf6 Bg5 O-O Nxe4 Nbd7 Bd3 c6 1c3 Qa5 1h4 Nxe4 1Bxe4 h6 1Bd2 e5 1O-O exd4 1cxd4 Qc7 1Qf3 Nf6 1Bd3 Bg4 1Qf4 Qd7 1f3 Be6 2Bc3 Nd5 2Qe4 f5 2Qe5 Rae8 2Rfe1 f4 2Rad1 Rf6 2Qh5 Bf7',\n",
              " 'e4 e6 f4 d5 e5 c5 Nf3 Bd7 c3 Nc6 d4 a5 Be3 Qb6 Nbd2 Qxb2 Qc1 Qxc1+ 1Rxc1 cxd4 1Nxd4 Nge7 1c4 Nxd4 1Bxd4 Nf5 1Bc3 Ne3 1Be2 Nxg2+ 1Kf2 Nh4 1Rb1 Bc6 1Rhg1 Bc5+ 1Kg3 Nf5+ 2Kg2 d4+ 2Nf3 dxc3 2Kf1 Bxg1 2Nxg1 O-O 2Nf3 Rfd8 2Rc1 c2',\n",
              " 'd4 e6 c4 d5 Nc3 Bb4 Bd2 Bxc3 Bxc3 dxc4 e4 b5 a4 Bd7 axb5 Bxb5 Nf3 Nf6 1e5 Nd5 1Be2 Nf4 1O-O h5 1b3 g5 1bxc4 Bc6 1Bd3 g4 1Nd2 Bxg2 1Be4 Bxf1 1Bxa8 Bxc4 1Qa4+ c6 2Qxc4 O-O 2Ne4 Qh4 2Ng3 Nh3+ 2Kg2 Qg5 2Bxc6 Qf4 2Rf1 h4',\n",
              " 'e4 d5 d3 dxe4 dxe4 Qxd1+ Kxd1 Nf6 Bd3 Ng4 Nf3 Nxf2+ Ke2 Nxh1 Be3 e6 Nbd2 Bd6 1Rxh1 Bd7 1g3 Nc6 1e5 Nxe5 1Nxe5 Bxe5 1Bf4 Bxf4 1gxf4 O-O-O 1Nc4 Rhe8 1Ne5 Ba4 1Nxf7 Bd7 1Nxd8 Rxd8 2b3 Re8 2Bc4 e5 2fxe5 Rxe5+ 2Kd3 Bc6 2Kc3 Bxh1 2Kb4 Rh5',\n",
              " 'e4 c6 d3 d5 e5 Bf5 Bf4 h5 Nd2 e6 f3 Nd7 g4 hxg4 fxg4 Bg6 Qf3 Qc7 1d4 c5 1Bb5 a6 1Bxd7+ Qxd7 1O-O-O cxd4 1Nb3 Qa4 1Kb1 Rc8 1Rd2 Bc5 1Ne2 Be4 1Qf1 Bxh1 1Qxh1 Ne7 2Nexd4 Bxd4 2Rxd4 Qc6 2Qg2 Ng6 2c3 Qc7 2Qe2 Nxf4 2Rxf4 b5',\n",
              " 'd4 c6 c4 d5 e3 e6 Nf3 Nf6 a3 Nbd7 Nbd2 Bd6 b3 O-O Bb2 Re8 h3 Nf8 1Be2 Ng6 1c5 Bc7 1b4 Nd7 1Rc1 e5 1dxe5 Ndxe5 1Nxe5 Nxe5 1Nf3 Qf6 1Nxe5 Bxe5 1Bxe5 Rxe5 1O-O Qg6 2Bg4 Bxg4 2Qxg4 Qxg4 2hxg4 Rae8 2Rfd1 Re4 2Rd4 Rxd4 2exd4 Re4',\n",
              " 'e4 d5 e5 Nc6 d4 Bf5 c3 a6 Bd3 Bxd3 Qxd3 e6 f4 Qd7 Nf3 O-O-O O-O h5 1Nh4 Nh6 1Nd2 Be7 1Qg3 Ng4 1h3 Bxh4 1Qxh4 Ne3 1Rf2 g5 1fxg5 Rhg8 1Nf3 Qe7 1Qxh5 Nf5 1Qg4 Kb8 2h4 Rh8 2g3 Rdg8 2Bf4 Na5 2b3 Ka7 2Rc1 c5 2dxc5 Qxc5',\n",
              " 'e4 e6 d4 d5 e5 c5 Qg4 Nc6 Nf3 Qb6 Bd3 cxd4 O-O h5 Qg3 Nb4 a3 Nxd3 1cxd3 Bd7 1b4 Ne7 1Bb2 Nf5 1Qf4 g6 1Bxd4 Qa6 1Qd2 Bh6 1Qe2 Bb5 1Rd1 Ba4 1Rf1 Rc8 1Bc3 Bb5 2Rd1 O-O 2h4 Ba4 2Rf1 Rfd8 2Bd2 Rc2 2Nc3 Bxd2 2Nxa4 Qxa4',\n",
              " 'e4 g6 d4 c6 Nf3 Nf6 Bc4 Nxe4 O-O d5 Bb3 Bf5 c4 e6 cxd5 cxd5 Nc3 h5 1Nd2 Nxc3 1bxc3 Bd6 1Nf3 Nd7 1Bg5 Be7 1Bxe7 Qxe7 1Re1 Nb6 1Ne5 Kf8 1Qf3 h4 1h3 Rc8 1Rac1 a5 2c4 a4 2cxd5 Rxc1 2Rxc1 axb3 2dxe6 fxe6 2axb3 Nd5 2Nxg6+ Kf7',\n",
              " 'g3 g6 Bg2 Bg7 d4 Nf6 Nf3 O-O O-O d5 c4 dxc4 Qa4 e6 Qxc4 c6 Nc3 Nbd7 1e4 Nb6 1Qd3 c5 1Rd1 cxd4 1Nxd4 Bd7 1e5 Nfd5 1Nxd5 Nxd5 1Bxd5 exd5 1f4 Bc6 1Be3 f6 1exf6 Qxf6 2Rac1 Rac8 2Nxc6 bxc6 2Bd4 Qxd4+ 2Qxd4 Bxd4+ 2Rxd4 Kf7 2b4 Ke6',\n",
              " 'e4 e5 Nf3 Nc6 h3 Nf6 Nc3 d5 exd5 Nxd5 Bc4 Nxc3 bxc3 e4 Nh2 Bd6 d3 exd3 1cxd3 Qe7+ 1Be3 Be6 1O-O Bxc4 1dxc4 Bxh2+ 1Kxh2 Qe5+ 1Kg1 Qxc3 1Rc1 Qe5 1Bxa7 Rxa7 1Re1 O-O 1Rxe5 Nxe5 2Qd5 Ng6 2Rc2 c6 2Qd4 Raa8 2Qb6 Rab8 2c5 Ne5 2Qb2 Nd3',\n",
              " 'e4 e5 Nf3 Nc6 c3 b6 d4 Bb7 Bg5 f6 Be3 g6 d5 Nce7 Nbd2 Nc8 Nc4 d6 1Qa4+ Qd7 1Qxd7+ Kxd7 1a4 Nge7 1a5 Bg7 1a6 Bxd5 1exd5 Nxd5 1Bd3 f5 1O-O e4 1Nfe5+ dxe5 1Bb1 Nd6 2Nxd6 cxd6 2Bg5 Rac8 2f4 exf4 2Bxf4 Nxf4 2Rxf4 Be5 2Rf1 Rc5',\n",
              " 'e4 c6 Nf3 d5 exd5 cxd5 d4 Nf6 c3 Bf5 Nbd2 e6 Bb5+ Nbd7 Ne5 a6 Nxd7 Nxd7 1Bxd7+ Qxd7 1O-O Bd6 1Nf3 O-O 1Re1 Qc7 1Be3 Bg4 1g3 Rad8 1Kg2 e5 1dxe5 Bxe5 1Bd4 Bxd4 1Qxd4 Bxf3+ 2Kxf3 Qc6 2Kg2 b5 2Rac1 Rfe8 2Re5 Rxe5 2Qxe5 d4+ 2Kg1 d3',\n",
              " 'd4 Nf6 Nf3 e6 Bg5 Be7 e3 h6 Bh4 Ne4 Bg3 Nxg3 hxg3 d5 c3 c5 Nbd2 c4 1e4 b5 1exd5 exd5 1Qc2 O-O 1O-O-O Be6 1Be2 Qd7 1Nh4 Bxh4 1gxh4 Bf5 1Ne4 Bxe4 1Qd2 Re8 1f3 Bg6 2g4 Bd3 2Bxd3 cxd3 2Qxd3 Re7 2Rhe1 Nc6 2Rxe7 Qxe7 2Kc2 Re8',\n",
              " 'd4 Nf6 Bg5 e6 Bxf6 Qxf6 e4 d5 e5 Qd8 Nf3 c5 dxc5 Nc6 a3 Bxc5 b4 Be7 1b5 Nb8 1a4 Nd7 1Nbd2 a6 1bxa6 bxa6 1Be2 Bb7 1O-O Nc5 1Nd4 O-O 1Rb1 Ne4 1N2f3 Bc8 1Bd3 Qc7 2Qe2 Nc3 2Qd2 Nxb1 2Rxb1 Rb8 2Rc1 Rb7 2c4 Bd7 2c5 Bc6',\n",
              " 'b3 b6 Bb2 Bb7 f3 e5 e3 f6 d3 d5 c3 Nd7 Nd2 c5 Qc2 Bd6 Be2 Ne7 1g3 Qc7 1h3 O-O-O 1g4 d4 1a3 dxe3 1Ne4 g6 1Nxf6 Nxf6 1a4 Nfd5 1a5 Nf4 1axb6 axb6 1b4 Ng2+ 2Kd1 Nf4 2bxc5 Bxc5 2c4 Bb4 2h4 Nc6 2Nh3 Nd4 2Bxd4 exd4',\n",
              " 'd4 g6 Nf3 Bg7 e4 e6 e5 Ne7 Bd3 O-O O-O d6 Bg5 h6 Bf6 Bxf6 exf6 Nf5 1Bxf5 exf5 1Qd2 Kh7 1Qc3 Qxf6 1Qxc7 Nc6 1d5 Ne5 1Nxe5 Qxe5 1Re1 Qf6 1Nd2 f4 1Nf3 Bf5 1Rad1 Rab8 2Qa5 Bxc2 2Rc1 Bf5 2Qa3 a6 2Qa4 Rfd8 2Qxf4 Re8 2g4 Rxe1+',\n",
              " 'e4 e6 f4 d5 exd5 exd5 Nf3 Nf6 d4 Be7 Nc3 O-O Be3 Bg4 Qd2 a5 O-O-O c6 1h3 Bf5 1g4 Be4 1Nxe4 Nxe4 1Qe2 b5 1Ne5 b4 1Bg2 Nd7 1Bxe4 dxe4 1Bf2 Nxe5 1dxe5 Qc7 1Qxe4 c5 2Rd5 c4 2Rhd1 c3 2b3 a4 2Rd7 Qc5 2Bxc5 Bxc5 2Qd5 axb3',\n",
              " 'e4 e5 Nf3 Nc6 Bb5 Nf6 O-O Be7 Re1 d6 c3 Bd7 d4 O-O dxe5 Nxe5 Nxe5 dxe5 1Bc4 c6 1Bg5 Qc7 1Nd2 Rad8 1Nf3 Bg4 1Qe2 h6 1Bxf6 Bxf6 1h3 Bh5 1Qe3 b6 1a4 Rd6 1a5 Rfd8 2axb6 axb6 2Bb3 c5 2Bd5 g5 2c4 Qd7 2Qc3 Re8 2Rab1 g4',\n",
              " 'e4 c5 Nf3 Nc6 d4 cxd4 Nxd4 Nxd4 Qxd4 d6 Nc3 e5 Bb5+ Bd7 Qd1 Bxb5 Nxb5 Qb6 1Nc3 Nf6 1Nd5 Nxd5 1exd5 Be7 1c4 Bh4 1O-O O-O 1b3 f5 1Be3 Qc7 1f4 Bf6 1fxe5 Bxe5 1Qh5 Bxa1 2Rxa1 f4 2Bd4 Qe7 2Rf1 Qe4 2Ba1 Qc2 2Qg4 g6 2Qe6+ Rf7',\n",
              " 'e4 c6 d4 d5 exd5 cxd5 Nc3 a6 Qf3 Nf6 Bg5 e6 Bxf6 Qxf6 Qxf6 gxf6 Bd3 b5 1Nf3 Nc6 1a3 Bg7 1b4 f5 1Ne2 Bd7 1c3 Rc8 1Kd2 Bh6+ 1Kc2 Bg7 1Nf4 Nxd4+ 1Nxd4 Bxd4 1Ne2 Bxf2 2Rhf1 Be3 2Kb3 Rg8 2g3 h6 2Rf3 Bg5 2Nd4 e5 2Nxf5 e4',\n",
              " 'e4 e5 Bc4 d6 Nf3 Nf6 Ng5 d5 exd5 Bd6 d3 Bg4 f3 Bh5 g4 Bg6 Ne4 Nxe4 1fxe4 Qh4+ 1Kd2 Nd7 1Kc3 Nc5 1Be3 Na4+ 1Kb3 b5 1Bxb5+ Ke7 1Bxa4 Rab8+ 1Kc3 Bb4+ 1Kc4 a5 1c3 Bd6 2a3 Rxb2 2Nd2 Rhb8 2Nb3 Rxh2 2Rxh2 Qxh2 2Bc5 Bxc5 2Nxc5 Qb2',\n",
              " 'e3 d5 Ne2 c5 Ng3 Nf6 Nh5 g6 Nxf6+ exf6 b3 Bg7 Bb2 O-O Nc3 Nc6 Ne2 Bg4 1h3 Bxe2 1Qxe2 f5 1h4 Bxb2 1Rb1 Bg7 1h5 Qf6 1h6 Bh8 1g3 Rfe8 1Bg2 d4 1Bd5 dxe3 1fxe3 Nd4 2Qc4 b5 2Qd3 Rad8 2e4 Rxd5 2Kd1 fxe4 2Qe3 Nf3 2Rf1 Rxd2+',\n",
              " 'Nf3 d5 d4 c5 c3 Bg4 Bf4 Nc6 e3 f6 Bb5 a6 Bxc6+ bxc6 Nbd2 cxd4 cxd4 c5 1h3 Bh5 1Qa4+ Qd7 1Qxd7+ Kxd7 1dxc5 e5 1Bh2 Bxc5 1O-O Bb4 1Nb3 Bxf3 1gxf3 Ne7 1a3 Bd6 1e4 d4 2Rad1 Rab8 2Na5 Rxb2 2Nc4 Rb3 2Nxd6 Kxd6 2f4 Rxh3 2fxe5+ fxe5',\n",
              " 'd4 g6 h4 Bg7 h5 h6 hxg6 fxg6 Qd3 g5 Qg6+ Kf8 f4 e6 fxg5 hxg5 Rxh8 Bxh8 1Bxg5 Qe8 1Qxe8+ Kxe8 1e3 Bf6 1Bxf6 Nxf6 1Nd2 b6 1Be2 Ba6 1Bf3 c6 1O-O-O Kd8 1b3 Nd5 1c4 Nc3 2Re1 Nxa2+ 2Kc2 Nb4+ 2Kc3 c5 2Bxa8 Kc7 2dxc5 bxc5 2Ngf3 Bb7',\n",
              " 'e4 d5 exd5 Nf6 Nc3 Nxd5 Nxd5 Qxd5 d4 Nc6 Nf3 Bg4 c3 e5 Qe2 Bxf3 gxf3 O-O-O 1Bh3+ Kb8 1Bg5 f6 1Bh4 exd4 1O-O-O Qxa2 1Kc2 Qa4+ 1Kb1 Bc5 1Bf5 d3 1Qd2 Qxh4 1h3 Qxf2 1Qxf2 Bxf2 2Rh2 Bb6 2Bxd3 Ne5 2Kc2 Nxf3 2Rg2 g6 2Re2 Ne5 2Bxg6 Rxd1',\n",
              " 'e4 d5 exd5 Qxd5 Nc3 Qa5 Nge2 Nc6 d4 Nf6 Bd2 Bd7 g3 O-O-O Bg2 Qh5 Nf4 Qxd1+ 1Rxd1 Nxd4 1Rc1 e5 1Nfd5 Nxd5 1Nxd5 Bc6 1c3 Bxd5 1Bxd5 Rxd5 1cxd4 Rxd4 1Be3 Bb4+ 1Ke2 Rd7 1Bxa7 Rd2+ 2Kf3 Rhd8 2a3 Be7 2b4 e4+ 2Kg4 g6 2Bb6 h5+ 2Kh3 R8d7',\n",
              " 'e4 e5 f4 exf4 Nf3 g5 Bc4 Bg7 d4 h6 O-O Ne7 c3 O-O b4 d6 Qb3 a6 1a4 c6 1Bb2 d5 1exd5 cxd5 1Bd3 Bf5 1Qc2 Bxd3 1Qxd3 Qd7 1Nbd2 Qf5 1Qe2 Nbc6 1Nb3 Rfe8 1Qd2 b5 2a5 Qc8 2Rae1 Nf5 2Nc5 Ne3 2Rf2 Nc4 2Rxe8+ Qxe8 2Qe1 Nxb2',\n",
              " 'e4 e5 Nf3 Nc6 d4 f6 d5 Nb8 Nc3 c6 Bc4 d6 dxc6 bxc6 O-O Ne7 Be3 Ba6 1Bxa6 Nxa6 1a4 Nb4 1b3 d5 1exd5 cxd5 1Bc5 Nec6 1Bxf8 Rxf8 1Nb5 e4 1Nfd4 Nxd4 1Nxd4 Qd7 1Qd2 a5 2c3 Nd3 2c4 Nb4 2cxd5 Nxd5 2Rfe1 f5 2f3 Kf7 2fxe4 Nb4',\n",
              " 'd4 e6 c4 c5 d5 e5 e4 d6 h4 Be7 g3 Nf6 Bh3 Nbd7 Qd3 O-O Nc3 a6 1Be3 Nb6 1h5 Ng4 1Bxg4 Bxg4 1h6 g6 1b3 f5 1exf5 Bxf5 1Qd2 e4 1Nh3 Bf6 1Rc1 Qe7 1Nf4 Rae8 2Kf1 g5 2Nfe2 Bg4 2Ng1 Qe5 2Nh3 Bxh3+ 2Rxh3 Qf5 2Rh2 Qf3',\n",
              " 'd4 d5 c4 Nf6 Nc3 c6 e3 e6 Nf3 Ne4 Bd3 f5 O-O Bd6 Qc2 O-O c5 Bc7 1b4 Bd7 1Bb2 Be8 1Ne2 Nd7 1a4 Qe7 1a5 a6 1Ne5 Nxe5 1dxe5 Bh5 1f3 Ng5 1Qd2 h6 1Nf4 Be8 2Rad1 Rd8 2Qe1 Kh7 2g4 Nf7 2gxf5 Qg5+ 2Kh1 Nxe5 2Nxe6 Qh5',\n",
              " 'e4 Nc6 d4 d5 Nc3 dxe4 Nxe4 Qxd4 Qxd4 Nxd4 Bd3 Bf5 Bf4 Bxe4 Bxe4 c6 Nf3 Nxf3+ 1Bxf3 Nf6 1O-O e6 1a3 Nd5 1Bxd5 cxd5 1Rad1 Be7 1Rfe1 O-O 1g4 g5 1Be5 f6 1Bg3 Rac8 1c3 e5 2Rxd5 b6 2Rd7 Bc5 2Rxa7 Rfd8 2Kg2 Rd2 2Ra4 Rxb2 2h4 gxh4',\n",
              " 'Nc3 d5 d4 e6 Bf4 a6 a3 Bd6 e3 Bxf4 exf4 Nf6 Nf3 h6 Bd3 O-O Qd2 Qd6 1O-O-O b5 1Ne5 Nc6 1h4 Nxd4 1h5 c5 1Nb1 Nc6 1c3 Nxe5 1fxe5 Qxe5 1g3 c4 1Bc2 Qc7 1f4 e5 2f5 Bd7 2Qe3 e4 2Rh3 Bxf5 2Rhh1 Bg4 2Rdf1 Rfe8 2Rh4 Bxh5',\n",
              " 'e4 e5 f4 exf4 Nf3 Be7 Bc4 Bh4+ Kf1 Nf6 Nxh4 Nxe4 Nf5 d5 Nxg7+ Kf8 d3 Kxg7 1dxe4 dxc4 1Qxd8 Rxd8 1Nc3 b5 1Bxf4 b4 1Nd5 Na6 1Nxc7 Nxc7 1Bxc7 Re8 1Bd6 Rxe4 1Bxb4 Rf4+ 1Ke2 Bf5 2Ke3 Re4+ 2Kf2 Rae8 2Rhe1 Rxe1 2Rxe1 Rxe1 2Bxe1 Bxc2 2a3 f5',\n",
              " 'd4 d5 e4 c6 exd5 cxd5 Nf3 Nf6 a4 e6 Nc3 Nc6 Ne5 Bd7 Nxc6 Bxc6 Be2 Be7 1O-O Qd7 1Bg5 O-O 1b4 h6 1Bh4 Ne8 1b5 Bxh4 1bxc6 bxc6 1a5 Nd6 1g3 Be7 1Na4 Ne4 1Nc5 Nxc5 2dxc5 Bxc5 2Rb1 Qc7 2c4 Rab8 2cxd5 exd5 2Rc1 Bd6 2Qc2 Qd7',\n",
              " 'd4 d5 e3 f5 h3 Nf6 Nc3 a6 a3 Nc6 Nf3 e6 Ne5 Ne4 Nxe4 dxe4 Nxc6 bxc6 1c3 Bd6 1Qe2 Bb7 1Bd2 c5 1dxc5 Bxc5 1Qc4 Qd6 1Be2 Bd5 1Qa4+ Bc6 1Qc2 Qe5 1O-O Bd6 1g3 Qf6 2b4 f4 2exf4 Bxf4 2Bxf4 e5 2Be3 Qf5 2Kh2 g5 2c4 g4',\n",
              " 'e4 e6 Nf3 d5 exd5 exd5 d4 Nc6 Bd3 Be6 O-O Bd6 Bg5 Qd7 Re1 f6 Be3 O-O-O 1c3 h5 1b4 Nh6 1a4 Nf5 1a5 Nxe3 1fxe3 h4 1b5 Nb8 1b6 axb6 1axb6 c6 1Ra8 Bg4 1Nbd2 h3 2g3 g5 2Qe2 Be6 2e4 g4 2exd5 gxf3 2dxe6 fxe2 2exd7+ Rxd7',\n",
              " 'd4 e6 c4 g6 Nc3 Bg7 e4 Ne7 Nf3 d6 g3 c6 Bg2 a6 O-O e5 d5 cxd5 1cxd5 Nd7 1b4 O-O 1a3 f5 1exf5 Nxf5 1Ne4 Nb6 1Bg5 Qd7 1Rc1 h6 1Be3 Nxe3 1fxe3 Qg4 1Qd3 Bf5 2Nfd2 Na4 2h3 Bxe4 2Nxe4 Qd7 2Qb3 b5 2Rc6 Rac8 2Rxd6 Qf5',\n",
              " 'e4 Nc6 Bc4 e5 d3 Qe7 Ne2 Nf6 Bg5 d6 Nbc3 Be6 Nd5 Bxd5 Bxd5 Qd7 Bxf6 gxf6 1Ng3 O-O-O 1Qb1 Bh6 1Nf5 Bf4 1g3 Bg5 1h4 Ne7 1Nxe7+ Qxe7 1hxg5 fxg5 1Qd1 f5 1exf5 Qf6 1Qg4 e4 2dxe4 c6 2Be6+ Kb8 2O-O-O h6 2Qe2 Rde8 2Qc4 Qe5 2Qb4 d5',\n",
              " 'e4 g6 d4 Bg7 f4 d6 Nf3 c6 Bd3 e6 O-O Ne7 Nc3 f6 f5 g5 fxe6 Bxe6 1d5 Bf7 1Nd4 h5 1Ne6 Bxe6 1dxe6 Qc8 1Bc4 a5 1Qxd6 b5 1Bd3 b4 1Na4 Qb7 1Nc5 Qa7 1Be3 O-O 2Rae1 Nc8 2Qg3 Qe7 2Bc4 Nd6 2Nd7 Rd8 2Nxb8 Nxc4 2Nxc6 Qxe6',\n",
              " 'e4 e5 Nf3 d6 d4 exd4 Qxd4 Nc6 Bb5 a6 Bxc6+ bxc6 e5 d5 a3 Be6 Nc3 c5 1Qa4+ Qd7 1Qxd7+ Bxd7 1Nxd5 Rc8 1O-O c6 1Nb6 Rc7 1Nxd7 Rxd7 1Bf4 Re7 1Rfe1 g6 1Bg5 Re6 1Bf4 Bg7 2Ng5 Re7 2c3 Nh6 2Nf3 O-O 2Bg5 Ree8 2Bf6 Bxf6 2exf6 Ng4',\n",
              " 'e4 e6 d4 d5 Nd2 Nf6 e5 Nfd7 f4 c5 c3 Nc6 Ndf3 Qb6 g3 cxd4 cxd4 Bb4+ 1Kf2 f6 1Kg2 O-O 1Bd3 f5 1h3 a5 1g4 Nxd4 1Be3 Bc5 1Nxd4 Bxd4 1Bxd4 Qxd4 1Nf3 Qxf4 1gxf5 Nxe5 2Nxe5 Qxe5 2Re1 Qxb2+ 2Re2 Qf6 2Qb3 Qxa1 2fxe6 Qf1+ 2Kg3 Rf3+',\n",
              " 'e4 d6 Nf3 Nf6 Nc3 e5 d4 exd4 Nxd4 c6 Bd3 Be7 O-O O-O Be3 b5 Nce2 Ng4 1Qd2 Nxe3 1Qxe3 Qc7 1f4 Nd7 1Nf3 Nc5 1Rad1 Re8 1Ng3 Bf8 1Qd2 Nxd3 1cxd3 Bg4 1Rc1 Qb6+ 1Kh1 Bxf3 2Rxf3 a5 2d4 c5 2dxc5 dxc5 2Rfc3 Rad8 2Qf2 b4 2Rc4 Qd6',\n",
              " 'e4 c5 Nf3 Nc6 d4 cxd4 Nxd4 Qc7 Nc3 a6 Be3 e6 Qd2 Nf6 f3 Bb4 a3 Ba5 1b4 Bb6 1Bd3 Bxd4 1Bxd4 Nxd4 1Bxa6 Nxf3+ 1gxf3 bxa6 1Na4 O-O 1Nc5 d6 1Nd3 Bb7 1Kf1 Rac8 1Rc1 d5 2e5 Nd7 2Rg1 Nxe5 2Nxe5 Qxe5 2Rg5 Qf6 2f4 Rc3 2Qg2 Rfc8',\n",
              " 'e4 g6 f4 Bg7 Nf3 Nf6 e5 Nd5 Bc4 Nb6 d4 Nxc4 O-O O-O b3 Nb6 c4 d6 1Bb2 Na6 1Nbd2 c5 1d5 Nb4 1Ne4 Bf5 1Qe2 Re8 1Neg5 Bd3 1Qd2 Bxf1 1Rxf1 h6 1Nxf7 Kxf7 1e6+ Kg8 2Bxg7 Kxg7 2Qb2+ Kh7 2Nh4 Rg8 2Rf3 Qf8 2f5 g5 2Ng6 Qf6',\n",
              " 'h3 e5 e4 Nf6 Bc4 Nc6 d3 Bb4+ c3 Bc5 Bg5 O-O Nf3 h6 Bh4 Be7 O-O d6 1d4 exd4 1cxd4 Nxe4 1Bxe7 Nxe7 1Re1 Re8 1Rxe4 d5 1Bxd5 Nxd5 1Rxe8+ Qxe8 1Nbd2 Bd7 1Nc4 b5 1Nce5 Be6 2Rc1 f6 2Nc6 Nb4 2Nxb4 a5 2Nd3 Bxa2 2Rxc7 Rc8 2Rb7 Rb8',\n",
              " 'd4 d5 c4 Nf6 Nc3 b6 Nf3 Bb7 e3 e6 cxd5 exd5 Bd3 Bb4 Bd2 O-O O-O Bd6 1h3 c5 1dxc5 bxc5 1Rc1 c4 1Bb1 Ne4 1Nd4 Qg5 1Nxe4 dxe4 1a3 Nd7 1Bb4 Bxb4 1axb4 Ne5 1Rxc4 Rad8 2Rc7 Bc8 2Kh1 Qh4 2Rxc8 Rxc8 2Nf5 Qf6 2Bxe4 g6 2Nh6+ Kg7',\n",
              " 'e4 e5 Nf3 Nc6 Bc4 Nf6 d3 Na5 Bb3 Nxb3 axb3 d6 h3 Be7 Be3 c5 Nc3 a6 1O-O b6 1Nd5 Bb7 1c4 O-O 1Qd2 Nxd5 1cxd5 f5 1Bg5 f4 1Bxe7 Qxe7 1h4 Rf6 1Ng5 Rh6 1g3 Rf8 2Ne6 Rf7 2Qe2 fxg3 2fxg3 Rff6 2Rf3 Rxf3 2Qxf3 Rf6 2Qg4 Qf7',\n",
              " 'e4 g6 d4 c6 Nf3 Nf6 Bc4 Nxe4 O-O d5 Bb3 Bf5 c4 e6 Nc3 Nxc3 bxc3 dxc4 1Bxc4 Be7 1h3 Nd7 1Re1 h5 1Ne5 b5 1Bb3 Nxe5 1Rxe5 Bf6 1Re1 Kf8 1Ba3+ Kg7 1Bd6 Qxd6 1Qe2 a5 2Bc2 Rhe8 2Bxf5 exf5 2Qxe8 Rxe8 2Rxe8 Qd5 2Rae1 Bg5 2R8e5 Qxa2',\n",
              " 'e4 e5 d3 Bc5 Nf3 d6 h3 Be6 b3 Nf6 Bb2 Nc6 a3 O-O b4 Bb6 b5 Nd4 1Bxd4 Bxd4 1Ra2 Bc5 1c4 c6 1a4 a6 1Qb3 axb5 1axb5 Rxa2 1Qxa2 cxb5 1Qa7 bxc4 1Qxb7 cxd3 1Bxd3 Qb8 2Qb5 Bb4+ 2Ke2 Qxb5 2Bxb5 Rb8 2Bd3 Rc8 2Ng5 Bc4 2Rd1 h6',\n",
              " 'e3 e5 c3 d5 a4 Nf6 a5 Be7 h4 h6 h5 Nc6 g3 e4 a6 bxa6 Bxa6 O-O 1Bb5 Bb7 1Bxc6 Bxc6 1d4 Qc8 1Ne2 Bd7 1f4 Ng4 1Ng1 a5 1Qc2 c5 1c4 dxc4 1dxc5 Bxc5 1Qxe4 Bc6 2Qxc4 Bxh1 2b3 Bb4+ 2Bd2 Bxd2+ 2Nxd2 Nxe3 2Qxc8 Rfxc8 2Nh3 Nc2+',\n",
              " 'e4 e6 Nf3 d5 exd5 exd5 d4 Bd6 Nc3 Ne7 Bd3 c6 Qe2 Bg4 h3 Bh5 g4 Bg6 1Ne5 Bxd3 1Qxd3 Nd7 1Bf4 Bxe5 1Bxe5 Nxe5 1dxe5 Qd7 1f4 O-O-O 1O-O-O Kb8 1f5 h6 1Ne4 Nc8 1Nc5 Qc7 2e6 Rde8 2Nd7+ Ka8 2exf7 Rd8 2f8=Q Rhxf8 2Nxf8 Rxf8 2Qa3 Rd8',\n",
              " 'd4 g6 h4 h5 e4 Bg7 e5 e6 Bd3 Ne7 g4 hxg4 Qxg4 Nf5 Ne2 b6 Be4 Nc6 1c3 Bb7 1Bg5 Nfe7 1h5 Na5 1h6 Bxe4 1Qxe4 Bf8 1b4 Nac6 1Nd2 d6 1b5 d5 1Qd3 Na5 1Ng3 Qd7 2h7 O-O-O 2Bf6 Nf5 2Bxh8 Nxg3 2fxg3 Ba3 2Bf6 Bb2 2Rb1 Ba3',\n",
              " 'e4 e5 Nf3 d6 d4 Nd7 Bc4 Be7 O-O Ngf6 Re1 O-O c3 c6 a4 a5 h3 h6 1Be3 Nh7 1Qd2 Nhf6 1Bxh6 gxh6 1Qxh6 Nh7 1h4 Kh8 1Re3 Bf6 1Qh5 Qe7 1Nbd2 c5 1Ng5 Bxg5 1hxg5 Qxg5 2Rh3 Qxh5 2Rxh5 Nf6 2Rh6 Kg7 2Rh4 Be6 2d5 Bd7 2Nf3 Rh8',\n",
              " 'e4 c5 Nf3 Nc6 Bb5 g6 O-O Bg7 c3 Nf6 e5 Nd5 d4 cxd4 cxd4 O-O Nc3 Nxc3 1bxc3 Qa5 1Bxc6 dxc6 1Bd2 Bg4 1h3 Bf5 1Qb3 Bd3 1c4 Bxc4 1Qxc4 Qd8 1Be3 e6 1Rfd1 Re8 1Rab1 Qd7 2Bg5 h6 2Bf4 Kh7 2Qc1 Bf8 2Qe3 Rab8 2Nh2 h5 2Bg5 Qd5',\n",
              " 'e4 e5 Nf3 Qf6 Bc4 Bc5 O-O d6 d3 h6 Be3 g5 Bxc5 dxc5 Nc3 c6 Ne2 g4 1Nd2 h5 1f3 g3 1hxg3 h4 1g4 h3 1gxh3 Rxh3 1Kg2 Qh8 1Rh1 Rh6 1Ng3 Nf6 1Qe2 b5 1Bb3 Be6 2Nf5 Bxf5 2exf5 Qg7 2Qxe5+ Kd7 2Rxh6 Qxh6 2Qe2 Na6 2Bxf7 Nc7',\n",
              " 'e4 d5 Nc3 dxe4 Nxe4 e5 Nc3 Nf6 d3 Nc6 Nf3 Be6 Be2 Bg4 Ng5 h6 Bxg4 hxg5 1Bf5 g6 1h3 gxf5 1Qf3 f4 1Qe2 Nd4 1Qd1 Bb4 1Bd2 Bxc3 1Bxc3 Nb5 1Bd2 Nd6 1c4 Qe7 1Bc3 O-O-O 2Qd2 e4 2O-O-O exd3 2Qxd3 c6 2c5 Nb5 2Qf5+ Qd7 2Rxd7 Rxd7',\n",
              " 'b4 b6 Bb2 Bb7 e3 Nc6 b5 Nb8 Nf3 Nf6 d4 g6 Be2 Bg7 O-O O-O c4 e6 1a4 d5 1c5 c6 1bxc6 Nxc6 1cxb6 axb6 1Nc3 Ba6 1Nb5 Na5 1Bc3 Bxb5 1Bxb5 Ne4 1Bxa5 Rxa5 1Qc2 Qd6 2Nd2 Nxd2 2Qxd2 Rfa8 2Rac1 e5 2Rc6 Qd8 2dxe5 Bxe5 2Rd1 Qh4',\n",
              " 'd4 e6 c4 Nf6 Nc3 Bb4 Nf3 Ne4 Qc2 d5 cxd5 Bxc3+ bxc3 exd5 a4 O-O Ba3 Re8 1e3 Bg4 1Be2 Qd7 1h3 Bxf3 1Bxf3 Qc6 1Rc1 Qg6 1O-O Nc6 1Bxe4 dxe4 1c4 Ne7 1Rce1 Nf5 1Kh1 Nh4 2Rg1 f5 2d5 Rad8 2Rd1 Qh5 2c5 Rd7 2Qc4 Kh8 2Bb2 Rf7',\n",
              " 'd4 g6 Nf3 Bg7 Bg5 h6 Bh4 d6 Bg3 g5 e3 e6 h3 Ne7 Bh2 O-O Bd3 Nbc6 1c3 f5 1O-O Bd7 1Nbd2 Qe8 1e4 f4 1Re1 Rd8 1Nc4 b5 1Ne3 a6 1Nc2 Qf7 1b3 Ng6 1Rc1 e5 2d5 Nce7 2b4 Kh8 2Qe2 Ng8 2Kh1 Nf6 2Bg1 g4 2hxg4 Bxg4',\n",
              " 'e4 c5 Nf3 g6 d4 cxd4 Nxd4 Bg7 Nc3 Nc6 Be3 Nf6 f3 O-O Qd2 d5 Nxc6 bxc6 1O-O-O Bb7 1e5 Nd7 1f4 Qa5 1h4 e6 1g4 c5 1Rh2 d4 1Bxd4 cxd4 1Qxd4 Nxe5 1fxe5 Bxe5 1Qf2 Bxh2 2Qxh2 Bf3 2Rd4 e5 2Ra4 Qc7 2h5 Rfd8 2hxg6 hxg6 2g5 Rab8',\n",
              " 'e4 Nc6 Nf3 e5 d4 Nf6 dxe5 Nxe4 Qe2 Nc5 Nc3 Ne6 Be3 Bb4 Bd2 Ba5 O-O-O O-O 1Nd5 Bb6 1Nxb6 axb6 1a3 Qe7 1Bc3 Qc5 1g3 b5 1Bg2 b4 1Bxb4 Qb6 1Bc3 h6 1Nd2 Re8 1Nc4 Qa7 2f4 Nc5 2Bxc6 dxc6 2Qe3 Nd7 2Qxa7 Rxa7 2Bb4 c5 2Bc3 b6',\n",
              " 'e4 Nc6 Nc3 e5 a3 Bc5 Bc4 Bd4 Nf3 Bxc3 dxc3 d6 O-O Bg4 h3 Bh5 b4 Nce7 1Re1 f5 1Bxg8 Rxg8 1c4 h6 1c5 fxe4 1Rxe4 Nf5 1g4 Nd4 1gxh5 Nxf3+ 1Qxf3 Qf6 1Qxf6 gxf6+ 1Kf1 O-O-O 2Bxh6 Rh8 2Bg7 Rxh5 2Bxf6 Rxh3 2Bxd8 Rh1+ 2Ke2 Rxa1 2Bg5 Rxa3',\n",
              " 'e4 e5 d3 Nf6 Nc3 d6 Nf3 b6 Bg5 Be7 Bxf6 Bxf6 Nd5 Be6 Nc3 Nc6 a4 Nd4 1h3 Nxf3+ 1Qxf3 O-O 1h4 g6 1g3 h5 1Bh3 Bxh3 1Rxh3 c5 1Nd5 Qd7 1Nxf6+ Kg7 1Nxd7 a5 1Nxf8 Rxf8 2g4 hxg4 2Qxg4 f5 2Qg5 f4 2h5 Rh8 2Qxg6+ Kf8 2h6',\n",
              " 'e4 c6 f4 e6 Nc3 d6 d4 Nd7 Nf3 Ngf6 Be3 b6 Qd2 g6 O-O-O Bg7 h3 O-O 1g4 a5 1Bd3 b5 1g5 Nh5 1f5 exf5 1exf5 b4 1Nb1 c5 1fxg6 fxg6 1dxc5 dxc5 1Bc4+ Kh8 1Nh4 Ne5 2Qxd8 Nxc4 2Qxf8+ Bxf8 2Bxc5 Bxc5 2Rhf1 Bb7 2Rde1 Bg2 2Nxg2 Ng3',\n",
              " 'd4 Nf6 Nf3 d6 Bg5 e6 e3 b6 Nbd2 Bb7 Be2 Nbd7 O-O Be7 Bd3 O-O c3 e5 1Qc2 Re8 1dxe5 dxe5 1Ne4 h6 1Bxf6 Bxf6 1Nxf6+ Qxf6 1e4 Rad8 1b4 c5 1Bb5 cxb4 1Rad1 Bc6 1Bxc6 Qxc6 2Rd3 Qxe4 2Rfd1 Qc6 2Nxe5 Rxe5 2Rd6 Qxd6 2f4 Rd5 2Rf1 bxc3',\n",
              " 'b3 d6 Bb2 Nf6 g3 g6 Bg2 Bg7 f3 e5 e3 c6 d3 O-O c3 Be6 Nd2 Nbd7 1Qc2 Qc7 1Ne2 d5 1h3 Rad8 1g4 a6 1h4 Ne8 1h5 c5 1hxg6 fxg6 1O-O-O d4 1exd4 cxd4 1c4 Nc5 2Ne4 Nxe4 2fxe4 Bxg4 2Bh3 Bxe2 2Qxe2 Nf6 2Be6+ Kh8 2Qh2 Nh5',\n",
              " 'e4 c6 e5 e6 d4 d6 Be3 d5 f4 b6 Nf3 c5 c3 c4 b3 b5 Nbd2 a5 1bxc4 bxc4 1Rb1 Ba3 1Qa4+ Bd7 1Qxa3 Ne7 1Be2 O-O 1O-O Ng6 1f5 Nh8 1f6 g6 1Bh6 Re8 1Ng5 Nc6 2Rf3 Rb8 2Rbf1 Rb6 2Rg3 Qb8 2Bf3 Rb2 2Qd6 Rxd2 2Qxd7 Rxa2',\n",
              " 'e4 e6 Nc3 d5 exd5 exd5 Nf3 Nf6 Qe2+ Be7 d4 O-O Bg5 c6 O-O-O Bb4 Kb1 Bf5 1Ne5 Bxc3 1bxc3 Qa5 1Bxf6 gxf6 1Ng4 Qxc3 1Nxf6+ Kh8 1g4 Bg6 1f4 Na6 1f5 Nb4 1Rd3 Nxd3 1Qxd3 Qe1+ 2Kb2 Qb4+ 2Kc1 Qe1+ 2Qd1 Qe3+ 2Qd2 Qa3+ 2Kb1 Qd6 2Qg5 Qb4+',\n",
              " 'e4 d5 Nc3 Nf6 d4 Nc6 Bg5 Nxe4 Nxe4 dxe4 d5 Ne5 c4 h6 Bf4 Ng6 Ne2 e6 1g3 Bb4+ 1Nc3 O-O 1Bg2 Bxc3+ 1bxc3 exd5 1cxd5 Qf6 1O-O Nxf4 1gxf4 Qxf4 1c4 Bg4 1f3 exf3 1Bxf3 Bxf3 2Rxf3 Qxc4 2Rc1 Qxa2 2Rxc7 b6 2d6 Rad8 2d7 f5 2Rc8 Qe6',\n",
              " 'e3 c6 Nc3 d6 Nce2 Nf6 b3 g6 Bb2 Bg7 Nf4 Kf8 Bxf6 exf6 c3 g5 Nh5 h6 1Nxg7 Kxg7 1Qc2 Qd7 1Bd3 f5 1Ne2 Re8 1Ng3 f4 1Nf5+ Kf6 1g4 fxg3 1Nxg3 d5 1Nh5+ Ke7 1f4 Kd8 2O-O-O Na6 2fxg5 hxg5 2Nf6 Qe6 2Nxe8 Kxe8 2Bxa6 bxa6 2h4 Rb8',\n",
              " 'e4 g6 d4 Bg7 e5 d6 Nf3 dxe5 Nxe5 Bxe5 dxe5 Qxd1+ Kxd1 Nc6 Bb5 Bf5 Nc3 O-O-O+ 1Ke2 Nxe5 1Rd1 Nf6 1Ba4 Nfg4 1h3 Nf6 1Be3 a6 1g4 Nexg4 1hxg4 Nxg4 1Rxd8+ Rxd8 1Rd1 Rxd1 1Nxd1 Nxe3 2fxe3 b5 2Bb3 e6 2c3 c5 2Nf2 c4 2Bd1 Bb1 2a3 h5',\n",
              " 'e4 e6 d4 d5 e5 c5 c4 cxd4 Qxd4 Nc6 Qd1 dxc4 Qxd8+ Kxd8 f4 Nd4 Kd1 b5 1Nc3 Bd7 1Nge2 Nxe2 1Bxe2 Bc5 1Ne4 Be7 1a4 Bc6 1Nc3 b4 1Nb5 a6 1Nd4 Bd5 1Be3 Nh6 1Rc1 Rc8 2g4 Bh4 2Rg1 Ke7 2g5 Nf5 2Nxf5+ exf5 2b3 Rhd8 2bxc4 Be4+',\n",
              " 'e3 c5 c3 b6 Qf3 Nc6 d4 e6 Nd2 Bb7 Nh3 Nxd4 Qxb7 Nc2+ Kd1 Nxa1 Qf3 Qc8 1Ng5 Nh6 1Bb5 Be7 1Nge4 O-O 1Bd3 Rb8 1Nc4 d5 1Ned6 Bxd6 1Nxd6 Qc6 1Nb5 a6 1Na3 b5 1e4 b4 2Nc2 bxc3 2bxc3 Qa4 2Bxh6 c4 2Bxg7 Rb1+ 2Kd2 cxd3 2Bxf8 Qxc2+',\n",
              " 'e4 c6 d3 d5 e5 Bf5 Bf4 h5 Nd2 e6 f3 Nd7 Qe2 Qc7 O-O-O Rc8 Kb1 c5 1Rc1 b5 1g4 hxg4 1fxg4 Bg6 1h4 Ne7 1h5 Bh7 1Ngf3 Nc6 1Ng5 Ndxe5 1Nxh7 Rxh7 1Bxe5 Qxe5 1Qf3 Nd4 2Qh3 c4 2Nf3 Nxf3 2Qxf3 Bb4 2dxc4 bxc4 2g5 Bd2 2g6 Bxc1',\n",
              " 'c4 d5 cxd5 Qxd5 Nc3 Qc5 d4 Qd6 g3 Nc6 Bf4 e5 Nb5 Qe7 dxe5 Qb4+ Nc3 Qxb2 1Nd5 Bb4+ 1Bd2 Bxd2+ 1Qxd2 Qxa1+ 1Qd1 Qxd1+ 1Kxd1 Nxe5 1Nxc7+ Kd8 1Nxa8 Be6 1a4 Kc8 1Nf3 Nxf3 1exf3 Bb3+ 2Kd2 Bxa4 2Bh3+ Kd8 2Ra1 b5 2Kc3 Ne7 2Kb4 a6 2Ka5 Nc8',\n",
              " 'd4 d5 Bf4 Nf6 Nf3 e6 e3 Bd6 Ne5 O-O Nd2 Be7 h3 Nbd7 Be2 Nxe5 dxe5 Nd7 1O-O Bg5 1Bh2 c6 1c4 a6 1Qc2 b5 1cxd5 cxd5 1Rac1 Bb7 1Qc7 Rb8 1Nf3 Be7 1Nd4 Nb6 1Bf4 Nc4 2Qxd8 Bxd8 2b3 Nb6 2Bg3 Be7 2Rc7 Rfe8 2f4 Ba3 2f5 exf5',\n",
              " 'e4 d5 e5 d4 Nf3 c5 Ng5 f6 exf6 exf6 Ne4 Qe7 Qe2 Bf5 Nxc5 Qxe2+ Bxe2 Bxc5 1O-O Bxc2 1Re1 Bxb1 1Bd3+ Ne7 1Bxb1 Nc6 1d3 O-O-O 1Bf4 g5 1Bg3 h5 1f3 h4 1Bf2 h3 1g3 Nf5 2Bc2 Nb4 2Bb3 Nxd3 2Re6 Nxf2 2Rxf6 d3 2Rxf5 d2 2Be6+ Kb8',\n",
              " 'e4 c5 d4 cxd4 c3 d3 Bxd3 e6 Qe2 Nc6 Nf3 Nf6 e5 Nd5 Bc2 Qb6 O-O Be7 1a4 a5 1Nbd2 Nf4 1Qe4 Ng6 1Nc4 Qc7 1h4 h5 1Bg5 d5 1exd6 Bxd6 1Qe2 Nf4 1Qd2 Nd5 1Nxd6+ Qxd6 2c4 Ncb4 2cxd5 Nxd5 2Be4 O-O 2Bxd5 exd5 2Nd4 f6 2Be3 Qb6',\n",
              " 'e4 e5 g3 d5 exd5 Qxd5 Nf3 Bg4 Bg2 e4 Qe2 Be7 Nc3 Bxf3 Nxd5 Bxe2 Nxc7+ Kd8 1Nxa8 Nc6 1Kxe2 Nf6 1d3 exd3+ 1cxd3 Kc8 1Bf4 Ne8 1Bxc6 bxc6 1Rhc1 Kb7 1Kf1 c5 1Nc7 Nxc7 1Bxc7 Kxc7 2b4 Kb6 2bxc5+ Bxc5 2Rab1+ Kc6 2a4 Kd6 2Rd1 Re8 2d4 Bb6',\n",
              " 'Nf3 d5 Nc3 Bf5 d4 e6 Bf4 Bd6 Bxd6 Nf6 e3 Qxd6 Qd2 Nc6 Nb5 Qd7 a3 a6 1Nc3 b5 1Bd3 Bxd3 1Qxd3 O-O 1h3 Na5 1g4 Nc4 1O-O-O c5 1Ne5 Nxe5 1dxe5 Ne8 1f4 c4 1Qd4 f6 2exf6 Nxf6 2g5 Nh5 2Ne4 dxe4 2Qxd7 Ng3 2Rhg1 Ne2+ 2Kb1 Nxg1',\n",
              " 'e4 c5 f4 b6 Nf3 Bb7 d3 Nf6 Be3 d5 e5 d4 Bg1 Nd5 Nbd2 Nxf4 g3 Ng6 1Bg2 Nxe5 1Qe2 Nxf3+ 1Bxf3 Nc6 1O-O-O Rb8 1Nc4 Nb4 1a3 Bxf3 1Qxf3 Nd5 1Ne5 Qd6 1Re1 Nf6 1g4 h6 2Bf2 g5 2Bg3 Qd5 2Qf5 e6 2Qxf6 Rg8 2Qxf7+ Kd8 2Qxg8',\n",
              " 'e4 f6 d4 c6 Nc3 b6 Nf3 a5 Be3 a4 Bd3 a3 O-O axb2 Rb1 e5 Rxb2 Ba3 1Rb3 c5 1dxe5 Nc6 1exf6 Nxf6 1Nb5 Bb4 1c3 Ba5 1a4 O-O 1Bc4+ Kh8 1Rb2 d5 1exd5 Nxd5 1Bxd5 Ba6 2c4 Bxb5 2cxb5 Nb4 2Bc4 Qxd1 2Rxd1 Rad8 2Rbd2 Rxd2 2Rxd2 Nc6',\n",
              " 'e4 e5 Nf3 d6 Bc4 Be7 O-O Nf6 d4 exd4 Qxd4 Bg4 Ng5 O-O h3 Nc6 Qe3 Bh5 1c3 Bg6 1f3 Ne5 1Bb3 Nh5 1f4 Nc6 1Nf3 Na5 1Bc2 Nc4 1Qf2 Nf6 1f5 Bh5 1g4 Bxg4 1hxg4 Nxg4 2Qg3 Nce5 2Nxe5 Nxe5 2Nd2 Bh4 2Qh3 Qg5+ 2Kh1 Qf6 2Nf3 Nxf3',\n",
              " 'e4 c5 a4 Nc6 c3 d6 b4 b6 Bb5 Bd7 Bxc6 Bxc6 b5 Bxe4 Qe2 Nf6 f3 Bf5 1g4 Bd7 1g5 Nd5 1Qe4 e6 1c4 Nb4 1Ba3 d5 1cxd5 Nxd5 1Ne2 Qxg5 1f4 Qh4+ 1Ng3 Nxf4 1Qxa8+ Ke7 2Rf1 Nd3+ 2Kd1 Qxa4+ 2Ke2 Bxb5 2Qb7+ Ke8 2Qc8+ Ke7 2Qc7+ Ke8',\n",
              " 'g3 e5 Bg2 d5 e3 e4 Ne2 Bg4 h3 Bf3 Bxf3 exf3 Nd4 Qf6 Nxf3 Ne7 Nc3 c6 1b4 b5 1a4 a6 1a5 Nd7 1Bb2 Qg6 1g4 h5 1g5 h4 1Rg1 Nf5 1Qe2 Bd6 1O-O-O O-O-O 1d3 Rde8 2e4 d4 2exf5 Qxf5 2Ne4 Bf4+ 2Kb1 Bh2 2Rg4 Bf4 2Bxd4 f6',\n",
              " 'd4 d5 e3 Nf6 Bd3 h6 Nf3 Bg4 O-O Nbd7 Nbd2 e5 dxe5 Nxe5 Be2 Bxf3 Bxf3 c6 1Be2 Ng6 1b3 Be7 1Bb2 O-O 1f4 Re8 1Qe1 Bc5 1Bd4 Bxd4 1exd4 Qe7 1Bd3 Qb4 1Qf2 Nf8 1a3 Qd6 2c4 Rad8 2c5 Qc7 2b4 b6 2Nf3 bxc5 2bxc5 Ne4 2Qc2 Qxf4',\n",
              " 'd4 Nf6 e3 g6 c3 Bg7 Nd2 O-O Ngf3 d6 Bd3 Nbd7 Qe2 Re8 h3 e5 dxe5 dxe5 1e4 Nc5 1Bc2 Nh5 1Nb3 Ne6 1g3 a5 1Be3 b6 1Nbd2 Ba6 1c4 Nd4 1Bxd4 exd4 1Qd3 Qd7 1b3 c5 2O-O-O Bb7 2Rde1 a4 2Ng5 axb3 2Bxb3 Qe7 2f4 f6 2Ngf3 Nxg3',\n",
              " 'g3 g6 Bg2 Bg7 d4 Nf6 Nf3 O-O O-O c6 c4 d5 cxd5 cxd5 Ne5 e6 Nc3 Nc6 1Nxc6 bxc6 1Be3 Re8 1f3 Nd7 1Na4 Bb7 1Rc1 Rc8 1Nc5 Nxc5 1Rxc5 Bf8 1Rc1 Qb6 1Qa4 Ba6 1Qc2 Rc7 2a3 Rec8 2b4 Bc4 2Bf2 a5 2bxa5 Qxa5 2a4 Ra8 2Ra1 Rca7',\n",
              " 'e3 d5 a3 g6 h3 Nf6 g4 b6 Bg2 Bb7 g5 Nh5 h4 Bg7 Nc3 Bxc3 bxc3 f5 1Bb2 O-O 1c4 e6 1Nf3 d4 1Bxd4 Qd7 1Rg1 Na6 1Ne5 Qc8 1f3 f4 1e4 Qd8 1c3 c6 1Qb3 c5 2Bf2 Qd6 2Ng4 Rad8 2Rd1 b5 2Qxb5 Qd7 2Qxd7 Rxd7 2Ne5 Re7',\n",
              " 'b3 e5 Bb2 d6 d4 Nc6 dxe5 Nxe5 Bxe5 dxe5 Qxd8+ Kxd8 Nc3 Be6 O-O-O+ Ke8 Nf3 Bd6 1e4 Rd8 1Nb5 Be7 1Nxc7+ Kf8 1Rxd8+ Bxd8 1Nxe6+ fxe6 1Nxe5 Nf6 1Bc4 Nxe4 1Bxe6 Be7 1Nf7 Rg8 1f3 Nc5 2Bc4 b5 2Bd5 a5 2Ne5 Rh8 2Nc6 Bg5+ 2f4 Bxf4+ 2Kb1 Ke8',\n",
              " 'e4 e6 Nf3 d5 exd5 exd5 d4 h6 Bd3 Nf6 h3 c6 Nc3 Bb4 O-O O-O a3 Bxc3 1bxc3 Re8 1Be3 a5 1Qd2 b5 1Bxh6 gxh6 1Qxh6 Ne4 1Ne5 Be6 1Bxe4 dxe4 1f4 f6 1Qg6+ Kf8 1f5 Bd5 2Rf4 Ra7 2Rh4 Rg7 2Rh8+ Bg8 2Qh6 Qe7 2Ng6+ Kf7 2Nxe7 Rxe7',\n",
              " 'd4 d6 Nf3 Nf6 Bf4 g6 e3 Bg7 h3 Bd7 Bd3 c6 Nbd2 Qc7 c4 O-O a3 a6 1Rc1 Re8 1Qc2 Qb6 1O-O Be6 1b3 d5 1Rb1 dxc4 1bxc4 Qd8 1Ne5 Nh5 1Bh2 Bxe5 1Bxe5 f6 1Bh2 b5 2cxb5 axb5 2a4 Rxa4 2Ra1 Rxa1 2Rxa1 Bd5 2Rb1 Nd7 2e4 Bf7',\n",
              " 'e4 e6 d4 d5 Bd3 Nf6 Bg5 Be7 e5 Nfd7 Bxe7 Qxe7 Nf3 c5 c3 Nc6 Bc2 cxd4 1cxd4 Qb4+ 1Nbd2 Nxd4 1Nxd4 Qxd4 1O-O Qxe5 1b4 O-O 1a4 Nf6 1Nf3 Qd6 1b5 Bd7 1Re1 a6 1Ne5 axb5 2Qd3 bxa4 2Nxd7 Qxd7 2Re3 g6 2Rh3 Ne4 2Qe3 f5 2f3 Nd6',\n",
              " 'e4 e5 Bc4 Nc6 Nf3 Nf6 Nc3 Nxe4 Bxf7+ Kxf7 Nxe4 d5 Neg5+ Kg8 d3 h6 Nh3 Bxh3 1gxh3 Qf6 1Rg1 Kh7 1Qe2 Re8 1Be3 d4 1Bd2 Bd6 1O-O-O Rhf8 1Ne1 Qxf2 1Qxf2 Rxf2 1Rg2 Ref8 1Rxf2 Rxf2 2c3 Rxh2 2Nf3 Rxh3 2Rf1 g5 2Bxg5 Rxf3 2Rxf3 hxg5 2c4 Kg6',\n",
              " 'd4 d5 Bg5 f6 Bh4 Bf5 e3 c5 c3 Nc6 Nf3 e6 Bb5 Bd6 Nbd2 Ne7 Qa4 Rc8 1Qxa7 O-O 1Bxc6 bxc6 1Qa4 c4 1Qd1 Bd3 1Bg3 Rb8 1Bxd6 Qxd6 1b3 cxb3 1Nxb3 Bc4 1Nfd2 Bb5 1Nc5 Nf5 2a4 Bc4 2Nxc4 dxc4 2O-O Rfd8 2Qe2 Qd5 2e4 Qd6 2exf5 exf5',\n",
              " 'e4 g6 d4 c6 Nf3 Nf6 Bc4 Nxe4 O-O d5 Bb3 Bf5 c4 e6 cxd5 cxd5 Nc3 Nxc3 1bxc3 Bg7 1Ba3 Bf8 1Bxf8 Kxf8 1Ne5 Nc6 1g3 Nxe5 1dxe5 h5 1f4 h4 1Qd4 hxg3 1hxg3 Bh3 1Qc5+ Kg7 2Rf2 Bf5 2Rh2 b6 2Qf2 Rc8 2Rc1 Qc7 2Rxh8 Rxh8 2Qh2 Rxh2',\n",
              " 'e4 d5 e5 c5 d3 Bf5 f4 h5 Be2 e6 Nf3 f6 O-O Nc6 exf6 Nxf6 Ne5 Bd6 1Nxc6 bxc6 1Nc3 O-O 1Bf3 Bg4 1Qe2 Qd7 1h3 Bxf3 1Qxf3 Rae8 1Bd2 e5 1f5 e4 1dxe4 Nxe4 1Be1 Nxc3 2Bxc3 d4 2Bd2 Re5 2Qxh5 Rexf5 2Rxf5 Rxf5 2Qh4 Be7 2Qe1 Bf6',\n",
              " 'e4 e5 Nf3 d6 d4 exd4 Nxd4 Nf6 Bd3 Be7 c4 Be6 Nc3 O-O O-O Nc6 Be3 Nxd4 1Bxd4 c5 1Be3 Qc7 1Qd2 a6 1Rad1 Rac8 1b3 Rfd8 1Nd5 Bxd5 1exd5 Qd7 1Bb1 Qg4 1h3 Qh5 1Rfe1 Re8 2Bf4 Nd7 2Re2 Bf6 2Rde1 Rxe2 2Rxe2 Be5 2Bxe5 Nxe5 2Re1 Re8',\n",
              " 'd4 b6 e4 e6 Bd3 Bb7 c4 Nf6 Nc3 Bb4 f3 Bxc3+ bxc3 d6 d5 e5 Bg5 O-O 1Ne2 Nbd7 1Qa4 h6 1Bh4 g5 1Bf2 Nh5 1Bg3 Nf4 1Nxf4 exf4 1Bf2 Ne5 1Bc2 c6 1Bd4 c5 1Bxe5 dxe5 2Rb1 Qf6 2O-O h5 2Bd1 h4 2h3 Qh6 2Qd7 Bc8 2Qc7 f5',\n",
              " 'e4 e5 Nf3 Nc6 Bb5 a6 Bxc6 dxc6 h3 Bd6 d4 exd4 Qxd4 f6 Nc3 Ne7 a3 Ng6 1Be3 Qe7 1g4 Ne5 1Nh4 b6 1f4 Bc5 1Qd1 Bxe3 1fxe5 Qxe5 1Qd3 Qg3+ 1Kd1 O-O 1Ne2 Qxh4 1Qxe3 Bxg4 2Kd2 Rad8+ 2Kc3 Bxe2 2Qxe2 Qg3+ 2Kb4 Rd4+ 2c4 a5+ 2Ka4 b5+',\n",
              " 'e4 e5 f4 exf4 Nf3 d6 Bc4 h6 d4 g5 O-O Bg7 c3 Ne7 Qb3 O-O Nbd2 Nbc6 1Qc2 Bg4 1a3 Bh5 1g3 g4 1Nh4 f3 1Ndxf3 gxf3 1Nxf3 d5 1exd5 Nxd5 1Nh4 Nce7 1Nf5 Bg6 1Nxe7+ Nxe7 2Qf2 Nd5 2Bd2 c6 2Rae1 Qd7 2Bf4 Rae8 2Be5 Bxe5 2dxe5 b6',\n",
              " 'e4 e5 Nf3 Nf6 Nxe5 Qe7 d4 Nxe4 Qe2 d5 f3 Ng3 hxg3 c5 c3 cxd4 cxd4 Qb4+ 1Nc3 Nc6 1Nd3+ Be7 1Nxb4 Nxb4 1Qb5+ Nc6 1Nxd5 Bd6 1Bd3 a6 1Qb3 Nb4 1O-O Nxd5 1Re1+ Kd7 1Qxd5 Kc7 2Bf4 Bxf4 2Qc4+ Kd8 2d5 Bd6 2Qe4 Bd7 2Bxa6 b6 2Rac1',\n",
              " 'e4 d5 exd5 Qxd5 Nf3 Qd8 d4 Nf6 Be2 e6 O-O Be7 Nc3 O-O Nd2 a6 Nf3 b5 1Be3 Bb7 1Nb1 Ne4 1Nbd2 Nxd2 1Qxd2 c5 1dxc5 Qxd2 1Nxd2 Nc6 1Nb3 Rad8 1c3 a5 1Rad1 a4 1Nd4 Ne5 2Nf3 Nxf3+ 2Bxf3 Bxf3 2gxf3 Rxd1 2Rxd1 Rd8 2Rxd8+ Bxd8 2c6 Bc7',\n",
              " 'e4 e5 Nf3 d6 h3 Nf6 Nc3 b6 Bc4 Nc6 Ng5 d5 exd5 Nxd5 Bxd5 Qxg5 Bxc6+ Ke7 1Bxa8 Qg6 1O-O c6 1Bxc6 Qxc6 1Re1 Bb7 1f3 f6 1d4 Kf7 1dxe5 Bc5+ 1Kh1 f5 1e6+ Ke8 1a3 h6 2b4 Be7 2Bb2 g5 2Qd7+ Qxd7 2exd7+ Kxd7 2Nd5 Re8 2Nxe7 Rxe7',\n",
              " 'e4 c5 c4 Nc6 Nc3 g6 b3 Bg7 Bb2 e6 g3 Nge7 Bg2 a6 a4 O-O Nge2 Rb8 1Ba3 b6 1a5 Nb4 1axb6 Nd3+ 1Kf1 Qxb6 1Nc1 Nb4 1Bb2 Bb7 1d3 Rfe8 1Bf3 d5 1exd5 exd5 1Na4 Qc7 2Bxg7 Kxg7 2Kg2 d4 2Re1 Nf5 2Bxb7 Qxb7+ 2Kg1 Qc6 2Ne2 Rbc8',\n",
              " 'Nf3 d5 d4 e6 Nc3 Nc6 Bg5 Be7 Bf4 Nf6 e3 Ne4 Nxe4 dxe4 Nd2 f5 Bb5 Bd7 1Bxc6 Bxc6 1Be5 O-O 1Qh5 Bf6 1O-O Bxe5 1dxe5 Qxd2 1Rfd1 Qxc2 1Rac1 Qxb2 1h3 Rad8 1Rxd8 Qxc1+ 1Kh2 Rxd8 2Qg5 Qd1 2Qe7 Qd7 2Qg5 h6 2Qg6 Bd5 2h4 Bxa2 2g4 Qd2',\n",
              " 'e4 e6 Nf3 d5 exd5 exd5 d4 Nf6 Bd3 Be7 O-O c6 Re1 h6 c4 O-O cxd5 Nxd5 1Nc3 Bg4 1Nxd5 cxd5 1Be2 Nc6 1h3 Bxf3 1Bxf3 Bf6 1Be3 Qd6 1Rc1 a6 1a3 g5 1b4 Kh8 1Rc5 Ne7 2Qd3 b6 2Rc2 a5 2bxa5 Rxa5 2Rce2 Rxa3 2Qb5 Nf5 2Bxd5 Ra5',\n",
              " 'd4 g6 Nf3 Bg7 Bg5 h6 Bh4 d6 Bg3 Nc6 c3 f5 e3 Nf6 Bd3 O-O Nfd2 g5 1O-O e5 1dxe5 dxe5 1f4 Qxd3 1fxe5 Ng4 1Na3 Nxe3 1Qe1 Nxf1 1Qxf1 f4 1Bf2 Qxd2 1Rd1 Qxb2 1Nc4 Qxa2 2Nd2 Nxe5 2Ne4 Bf5 2Nc5 Rad8 2Ra1 Qd5 2Rd1 Nd3 2Nxd3 Bxd3',\n",
              " 'd4 d5 e4 dxe4 Nc3 Bf5 Bb5+ c6 Ba4 b5 Bb3 a5 a3 a4 Ba2 h6 Qh5 Bg6 1Qg4 Nf6 1Qe2 e6 1Qe3 Nd5 1Qd2 b4 1axb4 Bxb4 1Nge2 Nd7 1O-O N7b6 1Nf4 Bf5 1Nh5 O-O 1Qe1 Kh7 2Bd2 Bd6 2Ng3 Nf4 2Ngxe4 Bxe4 2Nxe4 Bc7 2Qc1 Ne2+ 2Kh1 Nxc1',\n",
              " 'd4 d5 e3 e6 Bd3 Nf6 Nd2 a6 f4 c5 c3 Nc6 Qf3 Bd7 Ne2 b5 g4 Be7 1g5 Ng8 1h4 b4 1h5 c4 1Bc2 bxc3 1bxc3 Rb8 1e4 h6 1exd5 exd5 1g6 Be6 1f5 Bc8 1gxf7+ Kxf7 2Qg4 Nf6 2Qg6+ Kg8 2Rg1 Qf8 2Nf3 Qf7 2Ne5 Qxg6 2Rxg6 Nxe5',\n",
              " 'e4 g6 d4 Bg7 e5 d6 f4 Nh6 Nf3 O-O Bd3 c5 c3 cxd4 cxd4 dxe5 dxe5 Nc6 1O-O Ng4 1Qe2 Nb4 1Be4 Be6 1h3 Nh6 1a3 Nc6 1Be3 Nf5 1Bf2 Qc7 1Nc3 a6 1Rac1 Qa5 1g4 Nh6 2Ng5 Bb3 2Qf3 Rac8 2f5 Nxe5 2Qf4 Nc6 2Nf3 e5 2fxe6 fxe6',\n",
              " 'd4 e6 e4 d5 exd5 Qxd5 Nf3 Qd8 Nc3 Nf6 Bg5 Be7 Be2 O-O O-O c5 dxc5 Qxd1 1Raxd1 Bxc5 1Bxf6 gxf6 1Ne4 Be7 1Bc4 f5 1Neg5 h6 1Nh3 Nc6 1a4 a6 1b3 b6 1Rfe1 a5 1Ne5 Nxe5 2Rxe5 Bf6 2Ree1 Ba6 2Bxa6 Rxa6 2Rd3 Ra7 2c3 Rc8 2Rc1 Rac7',\n",
              " 'Nf3 Nc6 d4 d5 Ne5 e6 Nxc6 bxc6 Nc3 c5 e3 c4 b3 c5 a4 Ba6 Nb5 cxb3 1cxb3 c4 1bxc4 Rc8 1Bd3 dxc4 1Be4 c3 1O-O Bb4 1Qb3 Qe7 1Ba3 Nf6 1Bxb4 Qd7 1Nd6+ Kd8 1Nxc8 Bxc8 2Bxc3 Nxe4 2Ba5+ Ke7 2Qb4+ Nd6 2Rad1 Re8 2d5 Kf6 2Qh4+ g5',\n",
              " 'e4 d5 exd5 Qxd5 Nc3 Qa5 Bc4 Nf6 Nf3 c6 O-O Bg4 d3 e6 Bd2 Qc7 Ne4 Be7 1Nxf6+ Bxf6 1c3 Nd7 1d4 Nb6 1Be2 O-O 1Qc1 Rad8 1Bf4 Qd7 1Bg5 Bxf3 1Bxf3 Nd5 1Bxf6 gxf6 1Bxd5 Qxd5 2Qh6 Qg5 2Qh3 Kh8 2f4 Qg6 2Rf2 Rg8 2Raf1 f5 2Rf3 Qg4',\n",
              " 'd4 d5 Nf3 Nc6 c3 Nf6 h3 h6 Nbd2 Bf5 e3 Ne4 Nxe4 Bxe4 Nd2 f5 f3 e6 1fxe4 Qh4+ 1Ke2 fxe4 1Qe1 Qh5+ 1g4 Qg6 1Kd1 O-O-O 1Nb3 Bd6 1Bd2 Rhf8 1Kc2 e5 1Bb5 exd4 1cxd4 Nb4+ 2Bxb4 Bxb4 2Qxb4 Rf2+ 2Nd2 c6 2Ba4 b5 2Bb3 Re2 2Qa5 Rd7',\n",
              " 'c4 d5 cxd5 Qxd5 Nc3 Qa5 Nf3 Nf6 e4 Bg4 Be2 Bxf3 Bxf3 Nc6 O-O e5 d3 Nd4 1Bg5 O-O-O 1Bxf6 gxf6 1Bg4+ Kb8 1Nd5 h5 1Bh3 Bh6 1Nxf6 Bf4 1Nxh5 Qb6 1Rb1 Qg6 1Bg4 Rh6 1g3 Rdh8 2Nxf4 exf4 2Bf5 Nxf5 2exf5 Qxf5 2h4 Rg8 2Qf3 Rxh4 2Kg2 Qh3+',\n",
              " 'e4 c5 Nf3 d6 d4 cxd4 Nxd4 Nf6 Nc3 e5 Bb5+ Nbd7 Nf5 Qb6 Bg5 a6 Bxd7+ Bxd7 1Bxf6 Bxf5 1Nd5 Qc5 1Bxg7 Bxg7 1exf5 O-O 1f6 Bh6 1O-O Kh8 1c4 Rg8 1Qh5 Qxc4 1Ne7 Bg5 1Nxg8 Rxg8 2Rac1 Qe6 2Qf3 e4 2Qh5 Bxc1 2Rxc1 Qxf6 2Rc7 Qg7 2Rxb7 Qxg2#',\n",
              " 'e3 d5 Nc3 c5 Nce2 Nf6 b3 g6 Bb2 Bg7 Ng3 O-O h4 Bg4 h5 Bxd1 Kxd1 Nxh5 1Bxg7 Nxg7 1Ke2 e5 1Nf3 d4 1Nxe5 dxe3 1fxe3 Qf6 1d4 cxd4 1exd4 Nc6 1c3 Nxe5 1dxe5 Qxe5+ 1Kf2 Qxc3 2Be2 Rfe8 2Bf3 Nf5 2Nxf5 gxf5 2Rac1 Qd2+ 2Kg3 Re6 2Rhd1 Rg6+',\n",
              " 'e4 e5 Nf3 Nc6 Bc4 Nd4 Nxd4 exd4 O-O Bc5 h3 d6 d3 Qf6 Bd2 Qg6 Kh1 Bd7 1Qf3 O-O-O 1a3 Re8 1b4 Re5 1bxc5 Rxc5 1Qxf7 Qg5 1Bb4 Re5 1Qf3 c6 1Bxg8 Rxg8 1Qf7 Ree8 1Bxd6 Rgf8 2Qb3 Rxf2 2Rxf2 Qc1+ 2Kh2 Bxh3 2Kxh3 Rf8 2Qe6+ Kd8 2Qe7+ Kc8',\n",
              " 'e4 d6 d4 Nf6 Nc3 c6 Be3 Qa5 f3 e5 Ne2 Be7 g4 O-O g5 Nh5 d5 Nd7 1Rg1 f5 1Qd2 f4 1Bf2 c5 1Nc1 Qd8 1g6 h6 1a4 a6 1a5 Bh4 1Bh3 Bxf2+ 1Qxf2 Ndf6 1Bf1 Kh8 2Nb3 Bd7 2Nd2 b5 2axb6 Qxb6 2Nc4 Qb4 2Qd2 Rab8 2b3 Ne8',\n",
              " 'e4 Nc6 Bc4 e5 d3 Qe7 Nf3 Nf6 Bg5 h6 Bh4 d6 Nc3 Be6 Nd5 Bxd5 Bxd5 Nxd5 1Bxe7 Ndxe7 1a3 O-O-O 1Qb1 f6 1Qa2 g5 1Qe6+ Kb8 1O-O-O Bg7 1h4 g4 1Nd2 Nd4 1Qxe7 Rdg8 1c4 Ne2+ 2Kb1 Nf4 2g3 Nxd3 2Rhf1 h5 2Nb3 Nc5 2Nxc5 dxc5 2Qxc5 Bf8',\n",
              " 'e4 e5 Nf3 Nc6 d4 exd4 Nxd4 Nxd4 Qxd4 c5 Qa4 a6 Qb3 f5 exf5 Nf6 Qe3+ Qe7 1Qxe7+ Bxe7 1Bd3 d5 1c4 dxc4 1Bxc4 Bxf5 1O-O b5 1Be2 O-O 1Nc3 b4 1Na4 a5 1Bf4 Ne4 1Nb6 Rad8 2Bc4+ Kh8 2Nd5 Bd6 2Rae1 Nd2 2Bxd6 Nxf1 2Bxf8 Rxf8 2Kxf1 h6',\n",
              " 'e4 c5 Nf3 d6 d4 cxd4 Nxd4 Nf6 Nc3 a6 Bg5 e6 f4 Be7 Qf3 Nbd7 O-O-O Qc7 1g4 b5 1Bxf6 Nxf6 1g5 Nd7 1Nce2 Bb7 1Ng3 Rc8 1Bd3 Nc5 1Kb1 O-O 1h4 d5 1e5 Na4 1h5 Nxb2 2Kxb2 Qc3+ 2Kb1 Ba3 2Bxh7+ Kh8 2Qxc3 Rxc3 2Rd3 Rfc8 2Rxc3 Rxc3',\n",
              " 'e4 c5 Nf3 d6 d4 cxd4 Nxd4 e5 Nb3 Nc6 Nc3 Nf6 Bb5 Bd7 Bg5 a6 Bxc6 bxc6 1O-O h6 1Bxf6 Qxf6 1h3 Be7 1Re1 Qg6 1Qf3 O-O 1Na4 Rab8 1Rad1 Rb4 1Nc3 f5 1exf5 Rxf5 1Qg3 Rg5 2Qh2 Qxc2 2Rd2 Qf5 2g4 Qf7 2Ne4 Rg6 2Re3 Bg5 2Nxd6 Rxd6',\n",
              " 'd4 d5 c4 Nc6 Bf4 e5 dxe5 Nxe5 Bxe5 Bb4+ Nc3 dxc4 Qxd8+ Kxd8 Rd1+ Bd7 e3 f6 1Bg3 b5 1a3 Bxc3+ 1bxc3 c6 1Be2 Ne7 1Bg4 f5 1Bh3 g5 1f3 h5 1Bd6 g4 1Bxe7+ Kxe7 1fxg4 hxg4 2Bxg4 fxg4 2Ne2 Rae8 2Nf4 g3 2Ng6+ Kd8 2Nxh8 Rxh8 2h3 Kc7',\n",
              " 'e3 d5 Be2 e5 d3 f5 f3 Nf6 Bd2 c6 Nc3 Bd6 f4 e4 d4 O-O Bf1 Be6 1g3 Kh8 1Qe2 Nbd7 1Bh3 b5 1a3 a5 1Qf2 b4 1axb4 axb4 1Rxa8 Qxa8 1Nd1 Qa1 1Ne2 c5 1dxc5 Bxc5 2O-O Qa4 2b3 Qb5 2Nd4 Bxd4 2exd4 g6 2Kh1 Kg7 2Ne3 h5',\n",
              " 'e4 c5 g3 e5 Bg2 d6 Ne2 Nc6 c3 Be6 d4 exd4 cxd4 cxd4 Nxd4 Qb6 Nxe6 fxe6 1O-O Nf6 1Nc3 Be7 1Bg5 O-O 1Bxf6 Rxf6 1Na4 Qd4 1b3 Raf8 1Qxd4 Nxd4 1Nc3 Bd8 1Rad1 e5 1Nd5 R6f7 2f4 exf4 2Rxd4 fxg3 2Rxf7 gxh2+ 2Kxh2 Rxf7 2Ne3 Rf2 2Rxd6 Bc7',\n",
              " 'd4 d5 Nc3 e6 Nf3 c5 Bf4 cxd4 Nb5 a6 Nc7+ Qxc7 Bxc7 Nc6 Bf4 Bd7 Ng5 Be7 1Nf3 f6 1g4 e5 1Bg3 Bb4+ 1c3 dxc3 1bxc3 Bxc3+ 1Nd2 Bxa1 1Qxa1 Rc8 1Qb1 Na5 1Nb3 Nc4 1e3 Ba4 2e4 d4 2g5 Ne7 2g6 hxg6 2h4 g5 2Ke2 Rh5 2Bg2 Bb5',\n",
              " 'e4 g6 d4 c6 Bc4 Nf6 e5 Nh5 Nf3 Ng7 c3 d5 Bg5 Bf5 Bd3 h6 Bh4 h5 1Bg5 Qb6 1Bxf5 Nxf5 1b3 e6 1O-O Be7 1Bxe7 Nxe7 1Ng5 Nf5 1Nd2 h4 1h3 Nd7 1Ndf3 Ke7 1c4 dxc4 2bxc4 Rab8 2d5 cxd5 2cxd5 Rbd8 2d6+ Kf8 2Rb1 Qc6 2Nd4 Nxd4',\n",
              " 'd4 e5 d5 c6 c4 Nf6 Nc3 Bb4 a3 Qa5 Bd2 Bxc3 Bxc3 Qc5 Bb4 Qxc4 e3 Qxd5 1Qxd5 Nxd5 1Bd2 e4 1f3 exf3 1Nxf3 O-O 1Bc4 Nb6 1Bb3 d5 1Bc3 Re8 1Kf2 c5 1Bc2 Bg4 1Ne5 Be6 2Rhd1 Nc6 2Nf3 Bg4 2Nd2 Bxd1 2Rxd1 d4 2exd4 Nxd4 2Bxd4 cxd4',\n",
              " 'h4 d5 h5 c5 e3 Nc6 g4 e5 Bg2 e4 c3 Qg5 f4 Qxg4 Qxg4 Bxg4 Bh3 Bxh3 1Rxh3 O-O-O 1Na3 a6 1b3 f5 1Bb2 Be7 1c4 Bf6 1Bxf6 Nxf6 1Rg3 Rd7 1cxd5 Nxd5 1Rg5 Rf8 1Rc1 b6 2Nc4 Kb7 2a4 Ncb4 2a5 Nd3+ 2Kd1 Nxc1 2Kxc1 bxa5 2Nxa5+ Kb6',\n",
              " 'e4 c5 d4 cxd4 c3 dxc3 Nxc3 Nc6 Nf3 e6 Bc4 Nf6 O-O h6 Qe2 a6 Rd1 b5 1Nxb5 axb5 1Bxb5 Be7 1Bxc6 Rb8 1Bf4 Rb6 1Rac1 O-O 1Ba4 Ba6 1Qe3 Rxb2 1Bc7 Qa8 1Bxd7 Qb7 1Be5 Rxa2 2Bxf6 Bxf6 2e5 Be7 2Nd4 Qxd7 2Nc6 Qb7 2Qd4 Bb5 2Nb4 Bxb4',\n",
              " 'e4 d6 Nf3 Nh6 Bb5+ c6 Ba4 b5 Bb3 c5 a3 c4 Ba2 a6 h3 Be6 Nc3 g6 1d3 Bg7 1Bxh6 Bxh6 1e5 d5 1O-O Nd7 1d4 Nb6 1Re1 O-O 1b3 Qd7 1bxc4 bxc4 1Ne2 Rab8 1c3 Na4 2Rb1 Rxb1 2Qxb1 Bf5 2Qb4 Ra8 2Bb1 a5 2Bxf5 gxf5 2Qb1 e6',\n",
              " 'b3 d5 Bb2 Nf6 e3 e5 Nf3 e4 Nd4 c5 Ne2 Be6 Ng3 Bd6 Be2 O-O O-O Nc6 1d3 Qc7 1Nd2 Rad8 1dxe4 dxe4 1Qe1 Nd7 1Ndxe4 Be7 1Bd3 f5 1Nc3 Bf7 1Nb5 Qb8 1Bxf5 Nf6 1Nc3 Nd5 2Nxd5 Bxd5 2e4 Bf7 2Rd1 Nd4 2Bxd4 cxd4 2Qa5 Bd6 2Rfe1 Be8',\n",
              " 'e4 c5 c4 g6 d3 Bg7 Qc2 Nf6 h3 O-O Bd2 a6 Bc3 Nc6 Qd2 d6 g4 b5 1cxb5 axb5 1a3 b4 1Bxb4 cxb4 1a4 Nd4 1Kd1 b3 1Qb4 Nc2 1Ra3 Be6 1Rxb3 Bxb3 1Qxb3 Nd4 1Qc4 Nd7 2Bg2 Rc8 2Qd5 Nb6 2Qa2 e6 2Ne2 Nxe2 2Kxe2 d5 2exd5 exd5',\n",
              " 'd3 f5 e4 Nf6 e5 Nd5 c4 Nb6 Nf3 e6 Bg5 Be7 h4 d6 Nc3 N8d7 exd6 cxd6 1Nb5 a6 1Nbd4 Ne5 1Nxe5 dxe5 1Nf3 Bb4+ 1Ke2 Qd6 1a3 Bc5 1b4 Bd4 1c5 Bxc5 1bxc5 Qxc5 1Rc1 Qxa3 2Nxe5 Nd5 2Qc2 Bd7 2g3 Bc6 2Nxc6 bxc6 2Qxc6+ Kf7 2Qd7+ Ne7',\n",
              " 'd4 d5 Nf3 c6 Bf4 Nd7 e3 Ngf6 Bd3 e6 Nbd2 Be7 h3 b6 c4 Bb7 b3 c5 1cxd5 Nxd5 1Bh2 cxd4 1exd4 Nc3 1Qc2 Nd5 1Be4 Rc8 1Qb2 O-O 1O-O h6 1Rac1 N7f6 1Rxc8 Qxc8 1Bd3 Qd8 2Rc1 Bd6 2Ne5 Be7 2Ndf3 Nb4 2Qe2 Nxd3 2Qxd3 Nd5 2Re1 Bf6',\n",
              " 'e4 h5 d4 b5 Nf3 Bb7 c3 d5 Nbd2 dxe4 Ng1 f5 Ne2 g5 f3 e3 Nb1 f4 1g3 Bh6 1Rg1 fxg3 1Nxg3 h4 1Bg2 Nd7 1Ne2 Ngf6 1f4 Bxg2 1Rxg2 gxf4 1Qd3 f3 1Qg6+ Kf8 1Rg1 Rg8 2Qxg8+ Nxg8 2Rxg8+ Kxg8 2Nf4 f2+ 2Kf1 Bxf4 2Ke2 Qf8 2Na3 Bg5',\n",
              " 'e4 d5 exd5 Qxd5 Nc3 Qd8 Nf3 Nf6 Bc4 Nc6 O-O e6 Re1 Bb4 a3 Bxc3 dxc3 O-O 1Bg5 Qxd1 1Raxd1 Nd7 1Bb5 Ndb8 1Bf4 a6 1Bxc6 Nxc6 1Bxc7 f6 1Bd6 Re8 1Nd4 e5 1Nb3 Bf5 1Rc1 Rad8 2Bc5 Rd5 2Be3 Be6 2c4 Rd7 2Nc5 Rde7 2b3 Nd4 2Bxd4 exd4',\n",
              " 'e4 e6 e5 d6 Nf3 Nc6 d4 dxe5 Be3 exd4 Nxd4 Nxd4 Qxd4 Qe7 Nd2 Bd7 Ne4 b6 1a4 Nf6 1Nxf6+ gxf6 1Ba6 e5 1Qh4 Bg7 1O-O Rg8 1Bh6 Bc6 1c3 e4 1g3 e3 1fxe3 f5 1b4 Bf6 2Qh3 f4 2exf4 Qe3+ 2Rf2 Bxc3 2Rf1 Qe4 2Rg2 Bd4+ 2Kh1 Qe2',\n",
              " 'e4 e5 Nf3 Nc6 Bc4 h6 Nc3 Nf6 d4 exd4 Nxd4 Bc5 Nxc6 bxc6 e5 Nh7 O-O O-O 1Ne4 Bb6 1Qg4 Kh8 1Kh1 d5 1Qg3 dxc4 1f4 Bf5 1Nc3 Bxc2 1f5 Ng5 1f6 Qd3 1Bxg5 Qxg3 1hxg3 hxg5 2g4 Bd3 2Rf3 Kh7 2Rh3+ Kg6 2Rf1 Rh8 2fxg7 Kxg7 2Rf6 Rxh3+',\n",
              " 'e3 c6 Ne2 d5 Ng3 Nf6 Nh5 g6 Nxf6+ exf6 b3 Bg7 Bb2 O-O Bxf6 Qxf6 c3 Nd7 1Qf3 Ne5 1Qxf6 Bxf6 1d4 Nd7 1h4 Nb6 1h5 Kg7 1Bd3 gxh5 1Nd2 Re8 1Nf3 Nd7 1Rxh5 Nf8 1Rh1 Ng6 2Kd2 Bg4 2Rag1 Bxf3 2gxf3 Rg8 2f4 Kf8 2Rxh7 Ke7 2Bxg6 Rh8',\n",
              " 'e4 e5 Nf3 d6 d4 exd4 Qxd4 Nf6 Nc3 Be7 Bf4 O-O Bc4 Nbd7 O-O-O Nb6 Bb3 Bd7 1h4 Qc8 1Ng5 h6 1Nf3 Be6 1Bxe6 Qxe6 1Rhe1 Nh5 1Bh2 Qg4 1Rg1 Bxh4 1Nxh4 Qxh4 1g4 Nf6 1Bf4 Nh7 2f3 Rfe8 2Rh1 Qf6 2Qe3 Nc4 2Bg5 Nxg5 2Qf2 Qxf3 2Qxf3 Nxf3',\n",
              " 'e4 e5 Qh5 d6 Bc4 Qf6 Nc3 c6 Nf3 Be6 Bxe6 Qxe6 d4 Nf6 Qg5 h6 Qe3 exd4 1Nxd4 Qe7 1Bd2 Na6 1O-O-O Nc5 1f3 Qd7 1Nf5 g6 1Nd4 O-O-O 1Qe2 Bg7 1Be3 Ne6 1Nxe6 Qxe6 1Bxa7 Nh5 2Bd4 Nf4 2Qe3 Bxd4 2Qxd4 c5 2Qa4 Kc7 2g3 Nh5 2Nd5+ Kc8',\n",
              " 'e4 e5 d4 exd4 Qxd4 Nc6 Qe3 Nf6 a3 Be7 e5 Nd5 Qe4 Nb6 Bb5 O-O Bxc6 dxc6 1Nc3 Nd5 1Bd2 Bc5 1f4 f5 1Qf3 Be6 1O-O-O Qe7 1Nb1 b5 1h4 b4 1a4 b3 1cxb3 Bb4 1Ne2 Rab8 2Nd4 Bxd2+ 2Rxd2 c5 2Nc6 Qf7 2Nxa7 Nb4 2Nb5 Bxb3 2N1c3 Qc4',\n",
              " 'e4 c6 f4 d5 e5 Bg4 Nf3 e6 Be2 Ne7 d3 d4 c4 c5 Nbd2 Nbc6 a3 Nf5 1Ne4 Be7 1Bd2 O-O 1Qc2 a6 1h3 Bxf3 1gxf3 Bh4+ 1Kd1 Nce7 1Rg1 b6 1Be1 Bxe1 1Kxe1 Ne3 1Qc1 N7f5 2Kd2 Qh4 2Qe1 Qxe1+ 2Raxe1 Rfc8 2h4 Nxh4 2Rg5 Nhf5 2Reg1 g6',\n",
              " 'd4 d5 c4 c6 Nc3 a6 f3 Bf5 a4 e6 e4 dxe4 fxe4 Bg6 Bd3 Nf6 Nge2 Nh5 1O-O c5 1d5 exd5 1exd5 Bxd3 1Qxd3 Nc6 1Qe4+ Ne7 1Bg5 f6 1Bh4 g5 1Bg3 Nxg3 1Nxg3 Qd6 1Rae1 O-O-O 2Qg4+ Kb8 2Re6 Qc7 2Rexf6 Ng6 2Qxg5 Be7 2d6 Rxd6 2Nd5 Bxf6',\n",
              " 'e4 c5 Nf3 Nc6 Bb5 g6 O-O Bg7 c3 Nf6 Re1 O-O d4 cxd4 cxd4 d5 e5 Ne4 1h3 Qb6 1Bf1 Bf5 1Nc3 Nxc3 1bxc3 Rac8 1Ba3 Rfe8 1g4 Be6 1Ng5 Bd7 1e6 fxe6 1Nxe6 Bxe6 1Rxe6 Qa5 2Qb3 Bxd4 2cxd4 Nxd4 2Qe3 Nc2 2Qh6 Qxa3 2Rd1 Kf7 2Re2 Kg8',\n",
              " 'd4 e6 c4 d6 Nc3 Nf6 g3 Be7 Bg2 b6 Nf3 Bb7 Qc2 c5 O-O d5 e3 Qc7 1Bd2 Nc6 1a3 O-O-O 1Rac1 Kb8 1Nb5 Qd7 1b4 cxb4 1axb4 a6 1Ra1 dxc4 1Qxc4 Qd5 1Qxd5 exd5 1Nc3 Ne4 2Nxe4 dxe4 2Ne1 Nxb4 2Bxb4 Bxb4 2Nc2 Be7 2Rfb1 b5 2Nb4 Rd6',\n",
              " 'e4 c5 Nf3 e6 d4 d5 exd5 exd5 Bb5+ Bd7 Bxd7+ Nxd7 O-O Be7 Re1 Ngf6 dxc5 O-O 1c6 Re8 1cxd7 Qxd7 1Ne5 Bd6 1Nxd7 Nxd7 1Rxe8+ Rxe8 1Be3 b6 1Nd2 Ne5 1Nf3 Nxf3+ 1Qxf3 f6 1Qxd5+ Kf8 2Qxd6+ Re7 2Qd8+ Kf7 2Qxe7+ Kxe7 2Rd1 Ke6 2Bxb6 Kf5 2Bxa7 Kg6',\n",
              " 'e4 Nc6 Qe2 e5 b4 a6 Ba3 Nf6 Qc4 d6 Be2 Be6 Qd3 Be7 g4 Nxg4 Bxg4 Bxg4 1Qg3 h5 1f3 Nd4 1Kd1 Bh4 1Qg2 Be6 1h3 O-O 1Nc3 Qg5 1Rh2 Qf4 1Nge2 Nxe2 1Nxe2 Qg5 1Qf2 Bxf2 2Rxf2 Bxh3 2Rb1 f5 2exf5 Rxf5 2c3 Raf8 2d4 Rxf3 2Rxf3 Rxf3',\n",
              " 'e4 e5 Nf3 Nc6 d4 d5 Nc3 Bg4 Bg5 Be7 Bb5 Bxg5 exd5 a6 Bxc6+ bxc6 dxc6 Nf6 1O-O Nd5 1Qd3 Bxf3 1Nxd5 Bxd5 1dxe5 O-O 1Rfe1 Bxg2 1Qxd8 Raxd8 1Kxg2 Bf4 1Re4 Bd2 1Rf1 f5 1Rh4 f4 2e6 f3+ 2Kh3 Rde8 2Re4 Rxe6 2Rxe6 Bg5 2Kg4 Bf6 2Kf5 h5',\n",
              " 'c4 c5 Nc3 Nc6 d3 e6 Nf3 Nge7 e3 g6 d4 cxd4 exd4 d5 cxd5 exd5 Bd3 Bg7 1O-O O-O 1Qe2 Re8 1Re1 Bg4 1Be3 Qd7 1Bb5 a6 1Ba4 b5 1Bb3 Na5 1Bc2 Nc4 1Qd3 Nxb2 1Qf1 Nc4 2Nd2 Nxe3 2fxe3 Be6 2Nf3 Nc6 2Ng5 h6 2Nxe6 Qxe6 2Qf2 b4',\n",
              " 'd4 d5 c4 c6 Nc3 e6 Nf3 f5 e3 Bd6 a3 Nd7 c5 Bc7 Bd3 Ngf6 Nd2 g6 1Qc2 e5 1b4 e4 1Be2 Nf8 1f3 a6 1f4 Bd7 1Bb2 Ne6 1a4 Qe7 1b5 axb5 1axb5 Rxa1+ 1Bxa1 Kf7 2b6 Bb8 2O-O h6 2Bb2 g5 2fxg5 Nxg5 2Qd1 Rg8 2Bh5+ Nxh5',\n",
              " 'd4 c6 c4 e6 e3 d5 Nc3 Ne7 b4 Nd7 a4 Nf5 Ba3 a5 b5 Bxa3 Rxa3 O-O 1Bd3 cxb5 1Nxb5 Nb6 1c5 Nc4 1Bxc4 dxc4 1Nf3 Qd5 1Nc7 Qc6 1Nxa8 Rd8 1Ne5 Qxg2 1Rf1 f6 1Ng4 e5 2d5 Be6 2d6 Bd5 2Nc7 Bc6 2Ne6 Rd7 2Nxf6+ gxf6 2Qh5 Qe4',\n",
              " 'e4 d6 d4 c6 h3 d5 e5 Qa5+ c3 Bf5 Bd3 Bg6 b4 Qd8 Nf3 f6 O-O fxe5 1Nxe5 Qd6 1Qf3 Qe6 1Bd2 Nd7 1Nxd7 Qxd7 1Bxg6+ hxg6 1Re1 e6 1Bg5 Ne7 1Nd2 Nf5 1Nb3 Rh5 1Nc5 Bxc5 2bxc5 Rxg5 2g4 Nh4 2Qg3 O-O-O 2Qxh4 Qe7 2Re3 Rh8 2Qg3 Qf6',\n",
              " 'd3 d5 d4 Nf6 g3 e6 Bg5 Be7 Nf3 h6 Bd2 a6 Ne5 Bd6 Bf4 Nh5 Qd2 Qf6 1c3 Nc6 1Nxc6 Bxf4 1gxf4 bxc6 1e3 Qe7 1Be2 Nf6 1Bf3 Bb7 1b4 g5 1fxg5 hxg5 1Qe2 Rh3 1Bg2 Rh4 2Nd2 O-O-O 2O-O Rdh8 2h3 g4 2hxg4 Nxg4 2f3 Nh2 2Rfd1 Qg5',\n",
              " 'd4 d5 c4 e6 Nf3 Nf6 Nc3 c5 e3 cxd4 exd4 Bb4 a3 Bxc3+ bxc3 dxc4 Bxc4 Ne4 1Qd3 Nd6 1Bb3 O-O 1Bf4 Nf5 1Bc2 g6 1Bg5 Qb6 1Rb1 Qc6 1O-O Nd7 1Nh4 Nxh4 1Bxh4 f6 1Qg3 Kg7 2f4 Qd6 2f5 Qxg3 2Bxg3 exf5 2Rbe1 Nb6 2Re7+ Rf7 2Rxf7+ Kxf7',\n",
              " 'e4 e6 d4 d5 exd5 exd5 Nf3 Bd6 h3 Ne7 c4 c6 c5 Bc7 b4 a6 a4 Bf5 1Bd3 Bxd3 1Qxd3 Nd7 1O-O O-O 1Ng5 Ng6 1h4 Nf6 1Nf3 Ne4 1h5 Nf4 1Bxf4 Bxf4 1g3 Bh6 1Nc3 Re8 2Nxe4 dxe4 2Qc3 exf3 2Qxf3 Qg5 2Rad1 Re7 2d5 cxd5 2Rxd5 Qf6',\n",
              " 'e4 d5 e5 d4 f4 Bf5 d3 Nc6 Nf3 Qd7 b3 O-O-O Bb2 Bg4 Nbd2 Qf5 g3 g6 1Bg2 e6 1h3 Bxf3 1Bxf3 Nge7 1Be4 Qh5 1Qxh5 gxh5 1Nf3 Rg8 1Bxh7 Rxg3 1Kf2 Rg7 1Be4 Nf5 1Bxf5 exf5 2Rag1 Rxg1 2Rxg1 Bb4 2Rg5 f6 2Rxf5 fxe5 2Nxe5 Nxe5 2Rxe5 Rf8',\n",
              " 'b3 d5 Bb2 Nf6 e3 e5 Bxe5 Nbd7 Bb2 c6 Nf3 Bd6 Be2 O-O O-O Re8 d4 c5 1dxc5 Nxc5 1Nbd2 b6 1c4 Bb7 1cxd5 Bxd5 1Nc4 Nfe4 1Qxd5 Bxh2+ 1Nxh2 Qxd5 1Bf3 Qg5 1Rad1 Nf6 1Bxf6 Qxf6 2Ng4 Qg6 2Rd4 Rad8 2Rfd1 Rxd4 2Rxd4 Ne6 2Nge5 Qb1+ 2Rd1 Qxa2',\n",
              " 'd4 d6 c4 c5 d5 e6 e4 Nf6 Nc3 g6 Nf3 Bg7 Bd3 e5 O-O O-O Ne1 a6 1a4 b6 1f4 exf4 1Bxf4 h6 1Qd2 Qe7 1Bxh6 Bxh6 1Qxh6 Ng4 1Qf4 Ne5 1Be2 Nbd7 1Nf3 Kg7 1Nxe5 Nxe5 2h3 Bd7 2Rf2 Rh8 2Raf1 Raf8 2Qf6+ Qxf6 2Rxf6 Rh7 2Rxd6 Bc8',\n",
              " 'Nc3 e5 b3 h6 Bb2 Nf6 d3 d5 e4 d4 Nce2 Nc6 Nf3 Bd6 g3 Be6 Bg2 Qd7 1Qd2 g5 1O-O-O O-O-O 1h4 gxh4 1gxh4 Kb8 1Neg1 Rhg8 1Bh3 Bxh3 1Nxh3 Bb4 1c3 dxc3 1Bxc3 Ba3+ 1Kb1 Qd6 2Bb2 Nd7 2Rc1 f6 2h5 Nb6 2Ne1 Nd4 2Nc2 Bxb2 2Kxb2 Nf3',\n",
              " 'e4 e5 Nf3 Nc6 Bc4 h6 O-O Nf6 d4 Bd6 a3 exd4 Re1 Ne5 Nxe5 Bxe5 f4 d5 1exd5 Kf8 1fxe5 Nxd5 1Qxd4 c6 1Nc3 Qb6 1Be3 Nxe3 1Qxe3 Qxe3+ 1Rxe3 Ke7 1Rf1 Rf8 1b4 a5 1b5 Be6 2Bxe6 Kxe6 2bxc6 bxc6 2Nb5 cxb5 2Rd1 Rad8 2Rb1 Rd5 2Rbe1 Rd2',\n",
              " 'c4 e5 e3 Bc5 Nc3 c6 a3 Nf6 b4 Be7 g3 d6 Bg2 Bd7 a4 Qc8 b5 h6 1Nf3 O-O 1O-O Bh3 1Bb2 Bxg2 1Kxg2 Qg4 1h3 Qh5 1bxc6 bxc6 1Qb3 Na6 1Qb7 Nc5 1Qxc6 e4 1Nh4 Rfc8 2Qb5 Rab8 2Qa5 Nb3 2Qxa7 Nxa1 2Bxa1 Bd8 2Nb5 Qc5 2Qxc5 dxc5',\n",
              " 'd4 e6 e4 d5 Nd2 c5 c3 Nc6 Ngf3 Qb6 exd5 exd5 Nb3 Be6 dxc5 Bxc5 Nxc5 Qxc5 1Be2 O-O-O 1Be3 Qd6 1b4 a6 1O-O h6 1Qc2 g5 1Nd4 f5 1Nxf5 Qe5 1Nd4 Nge7 1Nxe6 Qxe6 1b5 axb5 2Bxb5 Rhf8 2Bxc6 Nxc6 2Qa4 g4 2Bb6 Rde8 2Qa8+ Nb8 2Ba7 Qd6',\n",
              " 'e4 e6 e5 d5 exd6 cxd6 d4 d5 Nf3 Nc6 Bb5 Ne7 Ne5 Ng6 Nxc6 Qa5+ Nc3 bxc6 1Bxc6+ Bd7 1Bxa8 Bb4 1O-O Bxc3 1bxc3 Qxc3 1Bd2 O-O 1Bb7 Qxd4 1c3 Qf6 1Rb1 Nh4 1g3 Qg6 1Bf4 Bb5 2Re1 Bc4 2a4 f6 2Rxe6 d4 2Rc6 Nf3+ 2Qxf3 Qxb1+ 2Kg2 Qf1#',\n",
              " 'e4 g6 d4 c6 Nf3 Nf6 Bc4 Nxe4 O-O d5 Bb3 e6 c4 dxc4 Bxc4 Nd6 Bb3 Bg7 1Nc3 h5 1Bg5 Bf6 1Bxf6 Qxf6 1Ne5 Qg7 1Qf3 Nd7 1Rad1 Nxe5 1dxe5 Nf5 1Rfe1 O-O 1h3 Rb8 1Ne4 b5 2Nd6 Bb7 2Nxb7 Rxb7 2g4 Rbb8 2gxf5 exf5 2Qf4 a5 2e6 fxe6',\n",
              " 'e4 e5 Qh5 Nf6 Qxe5+ Be7 d3 Nc6 Qg3 Nd4 Kd1 Bd6 Qxg7 Rg8 Qh6 Qe7 Qe3 c5 1c3 Ng4 1Qd2 Nb5 1h3 Nf6 1a4 Nc7 1c4 b5 1axb5 a5 1Nc3 a4 1Nxa4 Be5 1Ra2 Nh5 1b3 Bf4 2Qxf4 Nxf4 2Bxf4 Qf6 2Be5 Qxf2 2Bd6 Qxa2 2Bxc7 Qxb3+ 2Ke2 Qxa4',\n",
              " 'e4 e5 Bc4 Nf6 d3 Nc6 c3 d5 exd5 Nxd5 Bxd5 Qxd5 Qf3 Be6 Qxd5 Bxd5 f3 O-O-O 1Ne2 Bc5 1b4 Bd6 1O-O e4 1fxe4 Be6 1Bb2 a5 1a3 b5 1c4 bxc4 1dxc4 Bxc4 1Re1 axb4 1axb4 Nxb4 2Ra8+ Kb7 2Rxd8 Rxd8 2Bxg7 Nc2 2Rc1 Ne3 2Bd4 Ng4 2g3 Re8',\n",
              " 'e4 g6 d4 Bg7 Nf3 d5 e5 e6 Nc3 Nc6 Bb5 Ne7 O-O O-O Bg5 Bd7 Re1 a6 1Bxc6 Bxc6 1b4 b5 1a4 bxa4 1Nxa4 Bxa4 1Rxa4 Qd7 1c3 Qc6 1Bxe7 Rfe8 1Bc5 f5 1exf6 Bxf6 1Ne5 Bxe5 2Rxe5 Rab8 2h3 Kg7 2Ra1 Qb5 2Qf1 Qd7 2Rxa6 Kf6 2Qe2 Kg7',\n",
              " 'd4 Nf6 Nf3 e6 Bf4 d5 e3 c5 h3 Nc6 c3 Be7 b3 Qb6 Nbd2 O-O Bd3 cxd4 1cxd4 Bd7 1Ne5 Nxe5 1dxe5 Ne8 1Nf3 Nc7 1O-O Na6 1Rc1 Nc5 1Bb1 Rac8 1Nd4 g6 1Qg4 f5 1Qg3 Kh8 2Bg5 Bxg5 2Qxg5 Qd8 2Qxd8 Rfxd8 2Rfd1 Na6 2a3 Nc5 2b4 Na6',\n",
              " 'e4 c5 Nf3 d6 Bc4 Nf6 Ng5 e6 d4 h6 Nf3 Nxe4 O-O Be7 d5 O-O Qd3 Nf6 1Nbd2 b5 1Bxb5 Nxd5 1Bc6 Nxc6 1Ne4 Ncb4 1Qd2 Bb7 1c3 Nc6 1h4 Nf6 1Nfg5 Nxe4 1Nxe4 d5 1Ng3 Bxh4 2Nh5 Bg5 2f4 Be7 2Qf2 Qb6 2Qg3 g6 2f5 g5 2f6 Bd8',\n",
              " 'e4 d5 exd5 Qxd5 Nf3 Bg4 Nc3 Qh5 Bc4 Nf6 h3 e6 O-O Bxh3 gxh3 Qxh3 Nh2 Bd6 1f4 h5 1Qf3 Qh4 1Qf2 Ng4 1Qxh4 Be7 1Qg3 Nxh2 1Qxh2 g5 1f5 g4 1fxe6 Bd6 1exf7+ Kf8 1Qe2 Nc6 2d4 Nxd4 2Qe4 Nf3+ 2Rxf3 gxf3 2Qxf3 Rd8 2Bf4 Bc5+ 2Be3 Bd6',\n",
              " 'e4 e6 d4 d5 Nc3 Nf6 e5 Nfd7 f4 c5 Nf3 Nc6 Ne2 Be7 c3 O-O Be3 c4 1Ng3 f5 1Be2 a5 1O-O b5 1a3 a4 1h3 Na5 1Nd2 Nb3 1Nxb3 axb3 1Kh2 Kh8 1Nh1 Nb6 1Qe1 Bd7 2Rd1 Be8 2Bc1 Rg8 2Bf3 Na4 2Qe2 g5 2fxg5 Bxg5 2g4 Bxc1',\n",
              " 'd4 Nf6 e3 g6 c3 Bg7 Nd2 O-O Ngf3 d6 Bd3 Nbd7 Qe2 Re8 h3 e5 e4 exd4 1cxd4 d5 1e5 c5 1dxc5 Nxc5 1Bb5 Nfd7 1b4 Bxe5 1bxc5 Bxa1 1Ne4 Rxe4 1Be3 Bc3+ 1Nd2 Bxd2+ 1Qxd2 d4 2O-O dxe3 2fxe3 Qc7 2Qd3 Nxc5 2Qc2 Be6 2Rc1 Rxe3 2Qf2 Qe5',\n",
              " 'd3 d5 Bd2 e5 c4 c6 a3 Nf6 Nc3 Bf5 e3 Be7 Qb3 Qd7 Nf3 dxc4 dxc4 Bd6 1O-O-O O-O 1Be1 Qe7 1h3 Na6 1Na4 b5 1c5 Bxc5 1Nxc5 Qxc5+ 1Qc3 Rfd8 1Rxd8+ Rxd8 1Nxe5 Qxc3+ 1Bxc3 Ne4 2f3 Nxc3 2bxc3 Rd6 2e4 Be6 2Nd3 Bc4 2Kc2 Kf8 2Nb4 Nxb4+',\n",
              " 'e4 e5 Nf3 Nc6 Bb5 Qf6 Nc3 Bc5 Bxc6 dxc6 d3 Bg4 a3 Bxf3 gxf3 Qh4 Qe2 O-O-O 1b4 Bd4 1Bb2 Rd6 1Na4 Bxb2 1Nxb2 Rg6 1Nc4 Rg2 1Nxe5 Nf6 1h3 Nh5 1Ng4 Nf4 1Qe3 Nxh3 1O-O-O g6 2Qxa7 Kd7 2Ne5+ Ke6 2d4 Qg5+ 2Kb1 Nxf2 2Rhe1 Nxd1 2Rxd1 Rg1',\n",
              " 'c3 e5 d3 Nc6 e3 d5 f4 e4 d4 Nf6 h3 h5 g4 hxg4 Na3 gxh3 Bxh3 Bxh3 1Rxh3 Rxh3 1Nxh3 Ng4 1Kd2 Qh4 1Ng1 Qf2+ 1Ne2 Qxe3+ 1Kc2 Qd3+ 1Qxd3 exd3+ 1Kxd3 Nf2+ 1Ke3 Ng4+ 1Kf3 Nh2+ 2Kg3 Nf1+ 2Kf2 Nh2 2Kg3 Nf1+ 2Kg2 Ne3+ 2Bxe3 O-O-O 2Kf3 Bd6',\n",
              " 'd4 e5 dxe5 Qh4 Nf3 Qe4 Qd3 Qxd3 cxd3 Be7 Nc3 Nc6 Nd5 Rb8 Nxe7 Ngxe7 d4 Nf5 1e4 Nfxd4 1Nxd4 Nxd4 1Bd3 b6 1Be3 Ne6 1O-O O-O 1Rac1 Nd8 1Rxc7 Re8 1Bf4 Ne6 1Bg3 Nxc7 1Rc1 Ne6 2f4 Bb7 2f5 Ng5 2e6 dxe6 2Bxb8 Rxb8 2fxe6 Nxe6 2Bc4 Nd4',\n",
              " 'e4 c5 Bc4 Nc6 d3 g6 Bf4 Bg7 c3 d6 Bb5 e6 Bxc6+ bxc6 h4 h5 Qf3 Nh6 1Bg5 f6 1Be3 O-O 1Bxh6 Bxh6 1Nh3 d5 1Nf4 Kg7 1g3 e5 1Ne2 Bg4 1Qg2 Rb8 1b3 dxe4 1Qxe4 Bf5 2Qxc6 Qxd3 2Qc7+ Kh8 2Qxc5 Rbd8 2O-O Qxe2 2Na3 Qf3 2Qc4 Bh3',\n",
              " 'e4 e5 d4 exd4 c3 dxc3 Bc4 Nc6 Nxc3 d6 f4 g6 a3 Bg7 Nf3 Nf6 Be3 O-O 1Qd3 Be6 1Nd5 Bxd5 1exd5 Ne7 1O-O-O Ng4 1Bg1 Nf5 1h3 Nf6 1g4 Ne7 1Nd4 a6 1f5 b5 1Ba2 Nexd5 2fxg6 fxg6 2Nc6 Qc8 2Bxd5+ Kh8 2Ne7 Nxd5 2Qxd5 Qd7 2Nc6 Rfe8',\n",
              " 'd4 e6 c4 Nf6 Nc3 Bb4 Qb3 a5 a3 Be7 Nf3 O-O e4 c5 e5 Ne8 Be3 cxd4 1Bxd4 Nc6 1Bb6 Nc7 1Nb5 a4 1Qc2 Ra6 1Bxc7 Qe8 1Bd6 Bxd6 1exd6 e5 1Nc7 Qd8 1Nxa6 bxa6 1Be2 Bb7 2O-O Nd4 2Nxd4 exd4 2f3 Qg5 2Rad1 Re8 2Rxd4 Qe3+ 2Kh1 Qxd4',\n",
              " 'd4 d5 e3 c5 c3 c4 f4 Nf6 Nf3 Ne4 Ne5 Be6 Qh5 g6 Qf3 Nc6 Nd2 Nxd2 1Bxd2 Nxe5 1fxe5 Bg7 1Be2 Qd7 1O-O f5 1a4 a5 1Be1 O-O-O 1Bh4 h6 1Bg3 g5 1h4 g4 1Qf4 Rdf8 2h5 b6 2Bd1 Bf7 2Qxf5 e6 2Qxg4 Qe8 2Qxg7 Rfg8 2Qxf7 Qxf7',\n",
              " 'e3 c6 Ne2 d5 Nf4 Nf6 Nh5 g6 Nxf6+ exf6 b3 Bg7 Bb2 O-O Nc3 Bg4 Ne2 Bxe2 1Qxe2 Nd7 1h4 f5 1h5 Bxb2 1c3 Bxa1 1Qf3 Ne5 1Qh3 Qg5 1f4 Nd7 1fxg5 Rfe8 1hxg6 Kf8 1gxf7 Kxf7 2Qxh7+ Ke6 2g6 Nf6 2Qf7+ Ke5 2d4+ Ke4 2Qxf6 Rf8 2Rh4+ f4',\n",
              " 'b3 e5 Bb2 d6 g3 Nc6 Bg2 b6 e3 Bb7 d3 Qd7 c3 Be7 Nd2 Nf6 Qc2 h6 1Ne2 g6 1f3 d5 1e4 dxe4 1fxe4 Ng4 1Bc1 Ne3 1Kf2 Nxc2 1Bb2 Bc5+ 1d4 exd4 1cxd4 N2xd4 1Bxd4 Nxd4 2Rad1 Nxe2+ 2Kxe2 Qd4 2Kf3 Qe3+ 2Kg4 h5+ 2Kh3 g5 2Rhe1 g4+',\n",
              " 'e3 e5 Nf3 d6 d4 exd4 exd4 Be7 Be2 Nf6 O-O O-O c4 Bg4 Nc3 Nc6 h3 Bh5 1Be3 a6 1Rc1 Bg6 1b3 Ne4 1Nxe4 Bxe4 1Nd2 Bg6 1Bf3 Bf6 1Ne4 Be7 1Qd2 Qe8 1Rfe1 Nd8 1Bg5 Bxg5 2Nxg5 Qd7 2Bg4 Qc6 2Bf3 Qb6 2Re7 c6 2Rce1 h6 2Ne4 Bxe4',\n",
              " 'e4 e6 d3 d5 exd5 exd5 Nf3 c5 g3 Nc6 Bg2 Nf6 O-O Bd6 Re1+ Be6 Nc3 O-O 1Nb5 Bb8 1Bg5 a6 1Nc3 Bg4 1h3 Bh5 1g4 Bg6 1Ne5 Qd6 1Nxc6 bxc6 1f4 h6 1Bxf6 Qxf6 1f5 Bxf5 2gxf5 Qxf5 2Qf3 Qd7 2Re2 Qd6 2Rae1 Qh2+ 2Kf2 Qd6 2Re7 Bc7',\n",
              " 'g3 g6 Bg2 Bg7 Nf3 e6 O-O Ne7 e4 O-O d4 d6 c4 Nbc6 Nc3 f5 d5 exd5 1exd5 Ne5 1Nxe5 dxe5 1Bg5 h6 1Bxe7 Qxe7 1Re1 e4 1Qb3 Kh8 1c5 Qxc5 1Rad1 a6 1Qc2 Rb8 1Qb3 b5 2Qc2 b4 2Qe2 bxc3 2bxc3 Qxc3 2d6 cxd6 2Rxd6 Qe5 2Rxg6 Kh7',\n",
              " 'e4 e5 Nf3 Nc6 Bb5 Nge7 d3 a6 Ba4 b5 Bb3 h6 Be3 Ng6 Nbd2 Bb4 c3 Ba5 1Bd5 Nf4 1Bxc6 dxc6 1Nxe5 Nxg2+ 1Ke2 Qf6 1Nef3 Bg4 1h3 Nxe3 1Kxe3 Bb6+ 1d4 Bxf3 1Qxf3 Qg5+ 1Qf4 Qxf4+ 2Kxf4 O-O-O 2Rhg1 g5+ 2Kf3 c5 2d5 c4 2Rad1 f5 2exf5 Rxd5',\n",
              " 'e3 e6 d4 d6 Nf3 c5 c3 Qa5 Bd2 Qb6 Qc2 cxd4 cxd4 e5 Qxc8+ Qd8 Qxb7 exd4 1Qxa8 dxe3 1Bxe3 Be7 1Qxa7 Nf6 1Qa4+ Nbd7 1Bb5 O-O 1Bxd7 Nxd7 1O-O Ne5 1Nxe5 dxe5 1Rd1 Qc7 1Qd7 Qxd7 2Rxd7 Bf6 2Bd2 e4 2Bc3 Bxc3 2Nxc3 Re8 2Nxe4 f5 2Nd6 Re2',\n",
              " 'd4 d5 Nc3 Nf6 Bf4 a6 Nf3 Nc6 e3 Bg4 Be2 e6 h3 Bh5 O-O Bd6 Bg5 h6 1Bh4 g5 1Bg3 Qd7 1Nh2 Bg6 1f4 O-O-O 1Bd3 Qe7 1Nf3 Bh5 1Be2 Rhg8 1Ne5 Bxe2 1Qxe2 Bxe5 1fxe5 Ne4 2Nxe4 dxe4 2c4 Rg6 2Rad1 f5 2exf6 Rxf6 2Rxf6 Qxf6 2d5 exd5',\n",
              " 'e4 e5 Nf3 d6 Bc4 Be7 h3 Nf6 Nc3 Nc6 d4 exd4 Nxd4 Nxd4 Qxd4 c5 Qd1 O-O 1Bf4 a6 1Qe2 b5 1Bd5 Rb8 1O-O Re8 1e5 Nxd5 1Nxd5 dxe5 1Bxe5 Bd6 1f4 Bxe5 1fxe5 Qxd5 1Rae1 Bb7 2b3 Rxe5 2c4 Rxe2 2cxd5 Rxe1 2Rxe1 Bxd5 2Re7 c4 2Rd7 Be6',\n",
              " 'e4 e5 Nf3 d6 Bc4 f5 d4 fxe4 Nxe5 dxe5 Qh5+ g6 Qxe5+ Qe7 Qxh8 Nf6 Bg5 Nbd7 1Nc3 c6 1O-O-O b5 1Bb3 Bb7 1Rhe1 O-O-O 1Bxf6 Nxf6 1Qg8 Bh6+ 1f4 Bxf4+ 1Kb1 Rxg8 1Bxg8 Nxg8 1Rxe4 Qc7 2Rde1 Ba6 2Re8+ Kb7 2Rxg8 b4 2Rge8 bxc3 2R8e7 Bc4 2Rxc7+ Bxc7',\n",
              " 'e4 e5 Nf3 d6 d4 Bg4 Be2 Bxf3 Bxf3 Be7 O-O Bf6 d5 c6 Nc3 a6 b3 Ne7 1Bb2 Ng6 1a4 Nf4 1g3 Nh3+ 1Kh1 Bh4 1Bg4 Nf4 1gxf4 h5 1Bh3 Qf6 1f5 Bg5 1Rg1 Bf4 1Rg2 g5 2fxg6 fxg6 2Qf3 g5 2Ne2 Nd7 2Nxf4 exf4 2Bxf6 Nxf6 2Rxg5 Kd8',\n",
              " 'e4 d5 exd5 Qxd5 Nc3 Qa5 Bc4 Nf6 d3 c6 Nf3 Bg4 O-O e6 Be3 Be7 Ne4 Nbd7 1Nxf6+ Nxf6 1h3 Bh5 1g4 Bg6 1Bd4 O-O 1Bxf6 Bxf6 1c3 b5 1Bb3 Qc7 1d4 h6 1Bc2 Bxc2 1Qxc2 Qf4 2Qd3 Rac8 2Rfe1 a6 2Re4 Qd6 2Ne5 c5 2Rd1 Rfd8 2Nf3 cxd4',\n",
              " 'e4 g6 d4 c6 Bc4 Nf6 e5 Nh5 Nf3 Ng7 Ng5 d5 exd6 e6 O-O Bxd6 c3 Be7 1Nf3 h5 1Nbd2 Nf5 1Ne4 Nd7 1Ng3 Nb6 1Bd3 Nxg3 1fxg3 h4 1Be3 hxg3 1hxg3 Qd5 1Bf4 Qh5 1Kf2 Nd5 2Rh1 Qxh1 2Qxh1 Rxh1 2Rxh1 Nxf4 2gxf4 Kd7 2Rh7 b5 2Rxf7 Bb7',\n",
              " 'e4 e6 d4 Be7 c3 b6 Bd3 Bb7 Ne2 d5 e5 c5 Nf4 Nc6 Bc2 Qc7 O-O O-O-O 1Qg4 g6 1Be3 h5 1Qg3 Nh6 1Qf3 Nf5 1Nd2 Kb8 1Nh3 cxd4 1cxd4 Ncxd4 1Bxd4 Nxd4 1Qxf7 Nxc2 1Qxe6 Nd4 2Qxg6 Ne2+ 2Kh1 Rdg8 2Qd3 d4 2f3 Qxe5 2Rfe1 Ng3+ 2hxg3 Qxg3',\n",
              " 'd4 d5 c4 e6 Nc3 Bb4 a3 Ba5 b4 Bb6 c5 Bxc5 bxc5 c6 e3 Nf6 Nf3 O-O 1Ne5 Nbd7 1Nd3 b6 1cxb6 axb6 1g3 c5 1dxc5 bxc5 1Bg2 Bb7 1O-O Qb8 1a4 d4 1Bxb7 Qxb7 1exd4 cxd4 2Nb5 Qc6 2Nxd4 Qe4 2Be3 Ne5 2Nxe5 Qxe5 2a5 Nd5 2Nf3 Qd6',\n",
              " 'Nf3 d5 d4 c5 c3 Bg4 h3 Bh5 Bf4 Nc6 e3 Nf6 Nbd2 e6 g4 Bg6 Bb5 a6 1Bxc6+ bxc6 1Ne5 Qb6 1h4 Be4 1Nxe4 Nxe4 1f3 Nd6 1Nd3 c4 1Ne5 Rc8 1g5 Qxb2 1O-O Qxc3 1Bg3 Qxe3+ 2Bf2 Qc3 2a4 Be7 2Rc1 Qa5 2Be1 Qd8 2Bb4 Nf5 2Bxe7 Qxe7',\n",
              " 'd4 Nf6 c4 g6 Nc3 d5 Nf3 e6 cxd5 exd5 Bg5 Bg7 e3 O-O Be2 Be6 O-O Nbd7 1Rc1 c6 1Na4 Re8 1Nc5 Nxc5 1Rxc5 h6 1Bh4 g5 1Bg3 Ne4 1Rc1 Nxg3 1hxg3 Qb6 1Qd2 a5 1Ne1 a4 2Nd3 a3 2b3 Bf5 2Nc5 Be4 2Bd3 Bxd3 2Qxd3 Qc7 2Qf5 b6',\n",
              " 'e4 e5 Nf3 d6 d4 exd4 Nxd4 Bd7 Nc3 Nc6 Bf4 Nxd4 Qxd4 Nf6 Bg5 Be7 e5 dxe5 1Qxe5 O-O 1O-O-O Re8 1Qd4 b6 1Bxf6 Bxf6 1Qxd7 Bxc3 1Qxd8 Raxd8 1Rxd8 Bxb2+ 1Kxb2 Rxd8 1Bd3 c5 1Re1 g6 2Bb5 Rd2 2Re2 Rd4 2c3 Rf4 2g3 Rf5 2h4 Rd5 2f4 Rd6',\n",
              " 'e4 g6 d4 Bg7 f4 d6 Nf3 Nf6 Bd3 O-O Qe2 Bg4 O-O c5 c3 Nbd7 h3 Bxf3 1Qxf3 Rb8 1f5 a6 1Bf4 b5 1e5 Ne8 1e6 fxe6 1fxe6 Ndf6 1d5 c4 1Bc2 Nh5 1Qe3 Qb6 1Qxb6 Rxb6 2Be3 Rb8 2Nd2 Nc7 2Be4 Nf6 2Bg5 Nxe4 2Nxe4 Nxd5 2Rad1 Nf6',\n",
              " 'e4 e5 Nf3 d6 d4 Qe7 d5 a6 Nc3 Nd7 Bg5 f6 Bh4 Nc5 Bd3 Bg4 h3 Bxf3 1Qxf3 O-O-O 1b3 Nxd3+ 1Qxd3 Rd7 1O-O g5 1Bg3 Kb8 1Ne2 Qd8 1f3 Qc8 1Bf2 c6 1Qe3 c5 1c4 b5 2Ng3 b4 2Nf5 Ne7 2a3 Nxf5 2exf5 a5 2axb4 axb4 2Ra4 Ra7',\n",
              " 'e4 e5 Bc4 Qh4 Qf3 Nh6 g3 Qg4 d3 Bb4+ c3 Qxf3 Nxf3 Bc5 Nxe5 Rf8 b4 d6 1Nf3 Bb6 1Bxh6 gxh6 1Na3 Bh3 1Bd5 Nc6 1Nb5 Bg2 1O-O-O Bxf3 1c4 Bxd1 1Kxd1 a6 1Bxc6+ bxc6 1Nc3 Bd4 2Ne2 Be5 2Rf1 Rb8 2f4 Bf6 2a3 a5 2bxa5 Rb1+ 2Kc2 Rxf1',\n",
              " 'd4 e6 c4 d5 e3 c5 cxd5 Qxd5 Nc3 Qc6 Nf3 Nd7 Bb5 Qb6 dxc5 Qxc5 O-O a6 1Be2 Ngf6 1a3 Ne5 1Na4 Nxf3+ 1Bxf3 Qc7 1Bd2 Bd6 1g3 O-O 1Rc1 Qd7 1Nb6 Qb5 1Nxa8 Bd7 1a4 Qxb2 2Bc3 Qa3 2Nb6 Rd8 2Bxf6 gxf6 2Nxd7 Rxd7 2Rc8+ Kg7 2Bg2 Qxa4',\n",
              " 'e4 d6 Nc3 Nd7 a3 b6 h3 Bb7 Bc4 e6 d3 Ne7 Bd2 g6 a4 Bg7 Ba2 O-O 1Qf3 c5 1Nge2 Rb8 1g4 e5 1h4 Bc8 1h5 Nc6 1h6 Bh8 1Nd5 Nd4 1Nxd4 exd4 1g5 Ne5 1Qg3 Be6 2Nf6+ Bxf6 2gxf6 Qxf6 2f4 Ng4 2O-O-O Ne3 2Bxe3 dxe3 2Qxe3 Bxa2',\n",
              " 'e4 c5 Nf3 Nc6 d4 cxd4 Nxd4 Qb6 Nxc6 bxc6 Bd3 e6 O-O d5 exd5 cxd5 Qe2 a5 1Bb5+ Bd7 1Bxd7+ Kxd7 1Nc3 Nf6 1Qb5+ Qxb5 1Nxb5 Be7 1a4 Rhc8 1c3 Ne4 1Be3 Bc5 1Bxc5 Nxc5 1b4 Ne4 2Ra3 Rc4 2bxa5 Rxa5 2Rfa1 Nc5 2Rb1 Rcxa4 2Rxa4 Rxa4 2Nd4 Kc7',\n",
              " 'e4 c5 d3 g6 Be2 Bg7 Nf3 Nc6 O-O Nf6 e5 Ng8 d4 cxd4 Nxd4 Bxe5 Nxc6 bxc6 1c3 Qc7 1f4 Bg7 1Be3 d5 1Bd4 Nf6 1Bxf6 Bxf6 1Bg4 O-O 1Bxc8 Qxc8 1Nd2 Rb8 1Nf3 e6 1Ne5 c5 2b3 c4 2b4 Qc7 2Qe2 a5 2bxa5 Qxa5 2Qe3 Rb2 2Nd7 Bxc3',\n",
              " 'd4 d5 c4 dxc4 Nc3 Bd7 e4 b5 Nf3 e6 d5 exd5 exd5 Bb4 Qc2 Qe7+ Be3 Nf6 1Be2 O-O 1Rd1 c6 1O-O cxd5 1Nxd5 Nxd5 1Rxd5 Bc6 1Rd4 Nd7 1Rfd1 Rad8 1a3 Bc5 1R4d2 Bxe3 1fxe3 Qxe3+ 2Kh1 Qe8 2Nd4 Be4 2Qc3 Nc5 2Bg4 Nd3 2Qa5 Rxd4 2Qxa7 Bxg2+',\n",
              " 'e4 g6 d3 Bg7 d4 d5 Nf3 dxe4 Ng5 f5 h4 Nf6 Bc4 Nc6 Bf7+ Kf8 c3 h6 1Ne6+ Bxe6 1Bxe6 Qd6 1Bb3 a5 1Be3 b5 1O-O a4 1Bc2 Rd8 1Nd2 Kg8 1f3 exf3 1Nxf3 Nd5 1Ne5 Nxe3 2Qf3 Nxf1 2Rxf1 Nxe5 2dxe5 Qxe5 2Qc6 Qd5 2Qxc7 Kh7 2Qg3 Qc5+',\n",
              " 'e4 c5 d4 cxd4 Qxd4 Nc6 Qc3 e5 Bb5 Bb4 Qxb4 Nxb4 Na3 Qa5 c3 Nc2+ Nxc2 Qxb5 1Nb4 Nf6 1Nf3 Nxe4 1Be3 O-O 1Ng1 d5 1f3 Nd6 1Rd1 Be6 1Nh3 Nc4 1Bc1 e4 1Ng5 exf3 1gxf3 Rfe8 2O-O Qc5+ 2Kh1 h6 2Nxe6 Rxe6 2Rxd5 Qe7 2Rg1 Ne3 2Rd3 Rd8',\n",
              " 'Nc3 Nf6 Nf3 b6 h3 Nc6 d4 Ba6 e3 b5 Nxb5 h6 Ne5 Rb8 a4 d6 Nf3 g6 1Bd3 Rg8 1O-O Nb4 1Bc4 Nc6 1d5 Ne4 1Qd3 Nf6 1dxc6 Nh5 1Qd4 Bxb5 1axb5 a6 1Rxa6 Rb6 1Ra7 Qb8 2Ra3 Bg7 2Qe4 Nf6 2Qd3 Qa7 2Rxa7 Nd5 2Bxd5 Rxb5 2Qxb5 Be5',\n",
              " 'd4 e5 dxe5 d6 exd6 Bxd6 Nc3 Nc6 Bd2 Bf5 e3 Nb4 Rc1 Be5 a3 Nc6 Bb5 Qd6 1Nf3 Bg4 1h3 Bxf3 1Qxf3 O-O-O 1Rd1 Nf6 1Bxc6 bxc6 1O-O h5 1Bc1 Qe7 1Qxc6 Rd6 1Qa8+ Kd7 1Qxh8 g5 2Rxd6+ cxd6 2Qa8 g4 2Qxa7+ Ke8 2hxg4 Qxa7 2Rd1 Nxg4 2Nd5 Qc5',\n",
              " 'e4 e5 Nf3 d6 h3 h6 d4 Nf6 Nc3 c6 dxe5 dxe5 Qxd8+ Kxd8 Nxe5 Be6 Bd3 Bd6 1Nf3 Nbd7 1Be3 Bb4 1Bd2 Nc5 1a3 Nxd3+ 1cxd3 Bd6 1Ne2 Nd7 1Ned4 Bc5 1Bc3 Bxd4 1Bxd4 f6 1O-O c5 2Bc3 Bf7 2d4 Bh5 2Nd2 cxd4 2Bxd4 b6 2Bc3 Nc5 2f3 Bf7',\n",
              " 'b3 d5 Bb2 d4 e3 b6 Bxd4 c5 Bb2 Bb7 Nf3 e6 Be2 Nf6 O-O Be7 d4 O-O 1c4 cxd4 1exd4 Nc6 1Nc3 Nb4 1a3 Nc6 1d5 Nb8 1dxe6 fxe6 1Nd4 Nc6 1Nxe6 Qe8 1Nxf8 Qxf8 1Bf3 Rd8 2Nd5 Nxd5 2Bxd5+ Kh8 2Qg4 Ne5 2Bxe5 Bxd5 2cxd5 Rxd5 2Bb2 Bf6',\n",
              " 'd4 c5 dxc5 Qa5+ Bd2 Qxc5 Nf3 a6 g3 d6 Bg2 e6 O-O Qc7 e3 Nc6 Qe2 b5 1c4 Bb7 1cxb5 axb5 1Nc3 b4 1Nb5 Qb6 1Rac1 Ba6 1Nxd6+ Bxd6 1Qd1 Bxf1 1Kxf1 Nf6 1Ng5 h6 1Bxc6+ Ke7 2Nxf7 Kxf7 2Bxa8 Rxa8 2Qb3 Nd5 2f4 g6 2g4 Qa6+ 2Kf2 Qxa2',\n",
              " 'd4 e6 Nc3 b6 Nf3 Bb7 Qd3 Bxf3 exf3 Nf6 f4 Bb4 Qf3 Bxc3+ bxc3 c6 g4 d5 1g5 Ne4 1g6 fxg6 1h4 Nd7 1Bd3 Ndf6 1Bxe4 dxe4 1Qe3 Ng4 1Qg3 h5 1f3 exf3 1Qxf3 O-O 1Qxc6 Qe7 2f5 exf5+ 2Kf1 Ne3+ 2Bxe3 Qxe3 2Re1 Qf3+ 2Qxf3 a5 2Re7 b5',\n",
              " 'b3 b6 Bb2 e5 f3 d6 g3 Bb7 Bg2 Nc6 e3 Be7 Qe2 Nf6 d3 h6 c3 O-O 1Nd2 d5 1g4 e4 1fxe4 dxe4 1d4 Na5 1h3 Nd7 1h4 c5 1g5 cxd4 1exd4 Nc6 1gxh6 gxh6 1Qg4+ Kh7 2Qxe4+ f5 2Qd3 Nf6 2O-O-O Ng4 2Rf1 Rg8 2Bd5 Qxd5 2Ngf3 Raf8',\n",
              " 'e4 c5 Nc3 Nc6 Nf3 d6 Bb5 Bd7 O-O Nf6 d3 e6 Bg5 Be7 Bxc6 Bxc6 d4 Nxe4 1Bxe7 Qxe7 1Nxe4 Bxe4 1dxc5 dxc5 1Ne5 O-O 1f3 Bg6 1Nxg6 hxg6 1c4 Rad8 1Qc2 Rd4 1b3 Rfd8 1Rfe1 Qg5 2Qf2 Rd2 2Re2 Rxe2 2Qxe2 Rd2 2Qf1 Qe3+ 2Kh1 Qc3 2Rc1 Qb2',\n",
              " 'd4 e6 e4 Bb4+ c3 Ba5 Nd2 d5 e5 Ne7 Nb3 Bb6 Be3 O-O h3 Nf5 Bf4 Nd7 1Bd3 c5 1Qh5 g6 1Qe2 cxd4 1cxd4 Nxd4 1Nxd4 Bxd4 1Nf3 Bb6 1Ng5 Ba5+ 1Kf1 Nc5 1Bc2 Ne4 1Nxe4 dxe4 2Bxe4 Rb8 2h4 a6 2h5 Bd7 2Bh6 Bb5 2Bxf8 Bxe2+ 2Kxe2 Qxf8',\n",
              " 'e4 e5 Nf3 d6 d4 exd4 Nxd4 c5 Nf5 Bxf5 exf5 Qe7+ Be3 Nf6 Nc3 Nc6 Bb5 Nd5 1Nxd5 Qd7 1Qe2 Be7 1O-O-O a6 1Nxe7 axb5 1Nxc6 bxc6 1Bxc5+ Kf8 1Bxd6+ Kg8 1Rhe1 h6 1Qe4 f6 1Be7 Qe8 2Qe6+ Kh7 2h4 h5 2f3 Ra7 2g4 Rxe7 2Qxe7 Qxe7 2Rxe7 hxg4',\n",
              " 'd4 d5 c4 dxc4 e3 Nf6 Bxc4 e6 Nf3 h6 O-O Nc6 Qa4 a6 Ne5 Bd7 Nxc6 Bxc6 1Qc2 b5 1Bd3 Bd6 1Nc3 O-O 1Ne4 Nxe4 1Bxe4 Bxe4 1Qxe4 Qg5 1Qf3 f5 1e4 fxe4 1Qxe4 Qh5 1Qxe6+ Kh8 2g3 Rae8 2Qb3 Re2 2Be3 Re8 2Qd1 a5 2h4 Qg4 2Kg2 Be7',\n",
              " 'e3 e5 d4 d6 dxe5 Nc6 exd6 Bxd6 Nc3 Be6 Nf3 Qe7 Bb5 O-O-O Bxc6 bxc6 O-O Bxh2+ 1Kxh2 Rxd1 1Rxd1 Bf5 1Bd2 Nf6 1Ne2 Ng4+ 1Kg1 Nh6 1Ng3 Qc5 1Nxf5 Nxf5 1Bc3 Nd6 1Rd2 Rg8 1Rad1 Qb6 2Nd4 Kb7 2Nb3 h5 2Bd4 c5 2Be5 Qc6 2Bxd6 cxd6 2Rxd6 Qe8',\n",
              " 'd3 e6 c4 d5 cxd5 exd5 g3 Nf6 Bg2 Bd6 Nf3 O-O O-O c6 b3 Bg4 Bb2 Nbd7 1Nbd2 Qc7 1Qc2 Rfe8 1Rac1 Rxe2 1Nd4 Ree8 1h3 Bh5 1Nf5 Bg6 1Nxd6 Qxd6 1Kh2 Re2 1Bf3 Ree8 1a3 Nc5 2Qxc5 Qxc5 2Rxc5 Bxd3 2Rfc1 Be2 2Bxf6 gxf6 2b4 Bxf3 2Nxf3 Re2',\n",
              " 'e4 c5 Nc3 d6 Nf3 Nf6 Bb5+ Bd7 Bxd7+ Qxd7 Qe2 Nc6 d3 e5 Bg5 Be7 Bxf6 Bxf6 1Nd5 Ne7 1Nxf6+ gxf6 1O-O-O O-O-O 1g3 Qb5 1Nd2 Nc6 1Rhe1 Nb4 1a3 Nc6 1Nb3 Na5 1Nxa5 Qxa5 1Qd2 Qxd2+ 2Rxd2 h5 2c4 h4 2Rde2 hxg3 2hxg3 Rh2 2f4 Rdh8 2f5 Rxe2',\n",
              " 'd4 c5 dxc5 e5 e4 Bxc5 Nf3 d6 Nc3 Nf6 Bb5+ Nc6 a3 Bd7 b4 Bb6 a4 a6 1a5 Bc7 1Bxc6 Bxc6 1O-O d5 1Nxd5 Nxd5 1exd5 Qxd5 1Qxd5 Bxd5 1Bb2 f6 1Rad1 O-O-O 1c3 Be6 1Rxd8+ Rxd8 2g3 g5 2h4 g4 2Nh2 h5 2f3 f5 2fxg4 fxg4 2Rf6 Re8',\n",
              " 'e4 e5 f4 d6 Nf3 f6 Bc4 a6 a3 b5 Ba2 Bb7 Nc3 h6 d3 Nc6 f5 Na5 1Be3 Be7 1h3 Qb8 1g4 c5 1g5 Bd8 1gxf6 Bxf6 1Qe2 Ne7 1O-O-O b4 1Nd5 Nxd5 1exd5 bxa3 1b3 Bxd5 2Qd2 O-O 2Qxa5 Qb7 2Nd2 Rfb8 2Bxh6 gxh6 2Rhg1+ Kh7 2Nc4 Bxc4',\n",
              " 'd4 e6 c4 d5 Nc3 dxc4 Nf3 b5 Nxb5 Ba6 Nc3 c6 e3 Bb4 Bd2 Nf6 a3 Bxc3 1Bxc3 Ne4 1Qc2 O-O 1b3 cxb3 1Qxb3 Bxf1 1Rxf1 Nd7 1Nd2 Nxd2 1Bxd2 Rb8 1Qc2 Nb6 1Rb1 Nd5 1Rb2 Rxb2 2Qxb2 Qd7 2Ke2 Rc8 2Rb1 Qc7 2Qb7 Nb6 2Qxc7 Rxc7 2Ba5 Rb7',\n",
              " 'e4 e5 Qf3 d6 Bc4 Be6 Bb5+ Nd7 c3 c6 Bd3 Be7 b4 Ngf6 h3 O-O a4 d5 1Bc2 dxe4 1Bxe4 Nxe4 1Qxe4 Bd5 1Qg4 Nf6 1Qg3 Ne4 1Qg4 f5 1Qe2 Bd6 1Nf3 Ng5 1d3 Nxf3+ 1gxf3 e4 2fxe4 fxe4 2d4 e3 2Rf1 exf2+ 2Rxf2 Re8 2Be3 Bf4 2Rxf4 Qh4+',\n",
              " 'd4 d5 c4 c6 cxd5 cxd5 Nc3 e6 a3 Nf6 Bg5 Nbd7 Nf3 b6 e3 Be7 Bxf6 a5 1Bxe7 Qxe7 1Bd3 O-O 1Qc2 h6 1h3 Ba6 1O-O Nf6 1Ne5 Bb7 1f4 Rac8 1f5 Rc7 1Qe2 exf5 1Rxf5 Bc8 2Rf3 Be6 2Raf1 Nh7 2Bxh7+ Kxh7 2Qd3+ Kg8 2Nb5 Rb7 2Rg3',\n",
              " 'd4 d5 Bg5 c5 e3 f6 Bh4 Bf5 Nf3 Nc6 c3 e6 Bb5 Bd6 Bg3 Ne7 Nbd2 O-O 1Nh4 Bxg3 1hxg3 Qb6 1Nxf5 Nxf5 1Bd3 Nd6 1Bxh7+ Kf7 1Qh5+ Ke7 1Qg6 Rf7 1Qc2 Rh8 1Nb3 c4 1Nc5 f5 2O-O-O Ne4 2Nxe4 fxe4 2Bg6 Rxh1 2Rxh1 Rf6 2Bh5 a5 2Qe2 a4',\n",
              " 'e3 c6 Nc3 d5 Nce2 Nf6 b3 h6 Bb2 g5 Ng3 Bg7 Nh5 O-O Nxg7 Kxg7 h4 Rh8 1Bd3 Be6 1f4 gxf4 1h5 Nd7 1Nf3 Qc7 1Qe2 Ne5 1Nxe5 Kf8 1exf4 Ne4 1Bxe4 dxe4 1Ng6+ Ke8 1Nxh8 Rd8 2O-O-O Qxf4 2Rhf1 Qd6 2Qf2 Kd7 2Nxf7 Rf8 2Nxd6 Rxf2 2Rxf2 exd6',\n",
              " 'e4 c5 Nf3 Nc6 d4 cxd4 Nxd4 e6 f4 Be7 Nc3 a6 a3 b5 Be3 Bb7 Qd2 Nf6 1Bd3 d5 1e5 Ng4 1Bg1 Nxd4 1Bxd4 Bh4+ 1g3 Be7 1h3 Nh6 1Ne2 Rc8 1b4 Qc7 1c3 O-O 1g4 Bh4+ 2Kf1 f5 2g5 Nf7 2Qe3 Qe7 2Rg1 Rfd8 2Qf3 Rc6 2Qh5 Bxg5',\n",
              " 'e4 e6 d4 d5 e5 Bd7 Nf3 c5 c3 Nc6 a3 Qb6 b4 cxd4 cxd4 Nge7 Nc3 Nf5 1Na4 Qd8 1Bb2 a6 1Bd3 Nh4 1O-O b5 1Nc5 Bxc5 1bxc5 Na5 1Nxh4 Qxh4 1f4 Nc4 1Bxc4 bxc4 1Bc3 Rb8 2Rb1 O-O 2Rb6 Ra8 2Qf3 Qd8 2Rfb1 Bb5 2Qd1 Qc7 2a4 Bd7',\n",
              " 'e4 c5 d4 cxd4 c3 d3 Bxd3 Nf6 Bf4 Nc6 Nf3 d6 h3 e5 Bg5 Be7 O-O O-O 1Nbd2 Be6 1Re1 h6 1Bh4 g5 1Nxg5 hxg5 1Bxg5 Nh7 1Bh6 Kh8 1Qh5 Rg8 1Nf3 Qd7 1Nh4 Rg6 1Nxg6+ fxg6 2Qe2 Rg8 2Bc4 g5 2h4 gxh4 2Qd3 h3 2g3 a6 2Bb3 Na5',\n",
              " 'd4 Nf6 Nf3 e6 Bg5 c5 c3 Qb6 Qc1 Ne4 Be3 Nc6 b4 cxb4 d5 Bc5 dxc6 bxc3 1cxd7+ Bxd7 1g3 Rc8 1Bg2 c2 1Nbd2 Nxf2 1Bxc5 Qxc5 1Rf1 Ng4 1Nb3 Qb4+ 1Nfd2 Ne3 1Rf2 O-O 1Be4 f5 2Bd3 e5 2Bc4+ Rxc4 2a3 Qc3 2Ra2 Ba4 2Rb2 Re4 2Rf3',\n",
              " 'd4 Nf6 e3 e6 c4 c6 h3 d5 Nd2 Nbd7 Ngf3 Nb6 Ne5 Nbd7 c5 Nxe5 dxe5 Ng8 1Nf3 Bxc5 1Qc2 Qb6 1Bd2 Bb4 1a3 Bxd2+ 1Nxd2 Qc7 1Nf3 Ne7 1Bd3 g6 1Ng5 h6 1Nf3 Nf5 1g4 Ne7 2h4 a6 2h5 g5 2Ke2 Qb6 2b4 Qc7 2Rag1 Bd7 2Rc1 Rc8',\n",
              " 'd3 d5 g3 e5 Bg2 c6 c3 Nf6 Bg5 Be7 Nh3 Nfd7 Bxe7 Qxe7 O-O Nf6 f4 exf4 1Rxf4 O-O 1Nd2 Be6 1e4 Qd7 1e5 Bxh3 1Bxh3 Qxh3 1exf6 g6 1Qg4 Qxg4 1Rxg4 Nd7 1Nf3 Nxf6 1Rh4 Rfe8 2d4 Kg7 2Rf1 h6 2Ne5 g5 2Rh3 h5 2b4 g4 2Rh4 Rh8',\n",
              " 'e4 e5 Nf3 Nf6 Nc3 Nc6 Bc4 Bc5 Ng5 O-O O-O h6 Nf3 d6 d3 a6 Be3 Bxe3 1fxe3 Bg4 1h3 Bd7 1Qe1 Na5 1Bb3 Bc6 1Nh4 Nxb3 1axb3 Bd7 1Rf3 Be6 1Qf2 c6 1Rf1 Nh7 1d4 Qc7 2d5 cxd5 2exd5 Bc8 2Ne4 b5 2Ng6 f5 2Rxf5 Bxf5 2Nxf8 Bxe4',\n",
              " 'e4 Nf6 e5 Nd5 c4 Nb6 d4 d6 exd6 cxd6 Nf3 N8d7 Bd3 Nf6 O-O e6 b3 Be7 1Qc2 O-O 1Bb2 h6 1Nbd2 Bd7 1Rae1 Rc8 1Qd1 Re8 1Bb1 Bf8 1Ne4 Nh7 1Qd3 f5 1Ng3 Nf6 1Nh4 Qe7 2Ng6 Qf7 2Nxf8 Kxf8 2Ne2 Kg8 2Nf4 Bc6 2Re3 Be4 2Qe2 Bxb1',\n",
              " 'e4 c5 Nf3 d6 Nc3 Nf6 d4 cxd4 Nxd4 Nc6 Bb5 Bd7 Nb3 g6 O-O Bg7 Bg5 O-O 1Qd2 a6 1Bxc6 bxc6 1f3 a5 1a4 Be6 1Rad1 Bxb3 1cxb3 Qb6+ 1Kh1 Qxb3 1Bh6 Rab8 1Bxg7 Kxg7 1Ne2 Qxb2 2Nd4 Qxd2 2Rxd2 c5 2Nb5 Nd7 2Rc2 Nb6 2Ra1 Nxa4 2Nxd6 exd6',\n",
              " 'd4 d5 Nc3 e6 Bf4 Bd6 Be5 f6 Bxd6 Qxd6 e4 e5 dxe5 fxe5 Qxd5 Nf6 Qxd6 cxd6 1f3 O-O 1Bc4+ d5 1Bxd5+ Nxd5 1Nxd5 Nd7 1O-O-O Nc5 1Nh3 Bxh3 1gxh3 a5 1Rhf1 a4 1a3 Ne6 1Nb6 Ra6 2Nd7 Rd8 2Nxe5 Rxd1+ 2Rxd1 Nf4 2h4 Ne2+ 2Kb1 Rb6 2Rd8#',\n",
              " 'e4 d6 d4 g6 g3 b6 Bg2 Bb7 Ne2 Bg7 O-O e6 c3 Ne7 Bg5 Nd7 Bxe7 Qxe7 1Na3 O-O 1Nc4 Ba6 1Ne3 c5 1e5 cxd4 1cxd4 dxe5 1Bxa8 Rxa8 1dxe5 Nxe5 1Re1 Nf3+ 1Kf1 Bxb2 1Rb1 Nxe1 2Qxe1 Bf6 2Kg1 Qa3 2Ng4 Bg7 2Qd2 Qf3 2h3 Bxe2 2Rb3 Qe4',\n",
              " 'e4 h5 Nf3 Nc6 d4 d6 Nc3 Bg4 Be2 Nf6 Be3 d5 exd5 Nxd5 Nxd5 Qxd5 Qd2 O-O-O 1O-O-O e6 1c4 Qd7 1Kb1 Bb4 1Qc2 Qe7 1h3 Bf5 1Bd3 Bxd3 1Qxd3 f5 1a3 Bd6 1Qb3 f4 1Bd2 Nxd4 2Nxd4 Be5 2Nf3 Bd6 2Bc3 Rhg8 2Rhe1 g5 2Ne5 Qh7+ 2Ka1 Bxe5',\n",
              " 'd4 d5 c4 dxc4 Nc3 Nf6 e4 e6 Bxc4 Bb4 Bg5 a6 Nf3 b5 Bb3 Nc6 a4 h6 1Bxf6 Qxf6 1axb5 Ne7 1O-O O-O 1Qd3 Qg6 1Ne5 Qg5 1f4 Qh4 1g3 Qh3 1bxa6 Ng6 1Nxg6 fxg6 1a7 h5 2Qc4 h4 2Rf3 g5 2Qxb4 g4 2Rd3 g5 2Qb5 gxf4 2Qg5+ Kh8',\n",
              " 'e4 e6 Bc4 d5 exd5 exd5 Bb3 c6 d4 Be7 Be3 Nf6 h3 O-O Nd2 a5 c3 a4 1Bc2 b5 1Ndf3 Qc7 1Ne2 c5 1dxc5 Bxc5 1Bxc5 Qxc5 1O-O Kh8 1Ng3 Rg8 1Nd4 g5 1Re1 g4 1hxg4 Bxg4 2f3 Bd7 2Ne2 Nh5 2Qd3 Rg7 2Kf2 Nc6 2Rh1 Nf6 2Rh2 Re8',\n",
              " 'e4 e5 Nf3 d6 d4 exd4 Nxd4 a6 Nc3 h6 a4 Be7 Bc4 Nf6 O-O O-O Re1 Re8 1h3 c6 1Bb3 Nbd7 1Nf5 Ne5 1Nxe7+ Rxe7 1a5 Be6 1Be3 Bxb3 1cxb3 Qc7 1Bb6 Qd7 1f4 Ng6 1Qf3 Rae8 2Rad1 c5 2e5 Qf5 2Rxd6 Nh7 2Bxc5 Qxf4 2Rxg6 Qxf3 2gxf3 Rxe5',\n",
              " ...]"
            ]
          },
          "metadata": {},
          "execution_count": 27
        }
      ]
    },
    {
      "cell_type": "markdown",
      "metadata": {
        "id": "bT_UNlzva4aa"
      },
      "source": [
        "consider removing the X's and the +'s\n",
        "because they multiplay our vocabilary "
      ]
    },
    {
      "cell_type": "code",
      "metadata": {
        "id": "ik56W0YSa7c7"
      },
      "source": [
        "longGamesNoDraw[\"PGN\"]=PGNs"
      ],
      "execution_count": 28,
      "outputs": []
    },
    {
      "cell_type": "code",
      "metadata": {
        "colab": {
          "base_uri": "https://localhost:8080/",
          "height": 408
        },
        "id": "JBsAT8xYbnVD",
        "outputId": "c9ff6e54-72ac-455e-fa0f-729ba8774c6b"
      },
      "source": [
        "longGamesNoDraw"
      ],
      "execution_count": 29,
      "outputs": [
        {
          "output_type": "execute_result",
          "data": {
            "text/html": [
              "<div>\n",
              "<style scoped>\n",
              "    .dataframe tbody tr th:only-of-type {\n",
              "        vertical-align: middle;\n",
              "    }\n",
              "\n",
              "    .dataframe tbody tr th {\n",
              "        vertical-align: top;\n",
              "    }\n",
              "\n",
              "    .dataframe thead th {\n",
              "        text-align: right;\n",
              "    }\n",
              "</style>\n",
              "<table border=\"1\" class=\"dataframe\">\n",
              "  <thead>\n",
              "    <tr style=\"text-align: right;\">\n",
              "      <th></th>\n",
              "      <th>Unnamed: 0</th>\n",
              "      <th>PGN</th>\n",
              "      <th>Mode</th>\n",
              "      <th>Result</th>\n",
              "      <th>Average Rating</th>\n",
              "      <th>Rating Difference</th>\n",
              "      <th>Termination Type</th>\n",
              "      <th>white_score</th>\n",
              "      <th>black_score</th>\n",
              "      <th>length</th>\n",
              "    </tr>\n",
              "  </thead>\n",
              "  <tbody>\n",
              "    <tr>\n",
              "      <th>0</th>\n",
              "      <td>0</td>\n",
              "      <td>e4 g6 d4 Bg7 c3 d6 Qf3 Nf6 h3 O-O Bg5 Nbd7 Bc4...</td>\n",
              "      <td>Classical</td>\n",
              "      <td>0</td>\n",
              "      <td>1538</td>\n",
              "      <td>-262</td>\n",
              "      <td>Time forfeit</td>\n",
              "      <td>1407.0</td>\n",
              "      <td>1669.0</td>\n",
              "      <td>41</td>\n",
              "    </tr>\n",
              "    <tr>\n",
              "      <th>1</th>\n",
              "      <td>1</td>\n",
              "      <td>d4 Nf6 c4 g6 a3 Bg7 Nf3 O-O Nc3 a5 Bf4 d6 e3 N...</td>\n",
              "      <td>Blitz</td>\n",
              "      <td>0</td>\n",
              "      <td>1492</td>\n",
              "      <td>-220</td>\n",
              "      <td>Time forfeit</td>\n",
              "      <td>1382.0</td>\n",
              "      <td>1602.0</td>\n",
              "      <td>36</td>\n",
              "    </tr>\n",
              "    <tr>\n",
              "      <th>6</th>\n",
              "      <td>6</td>\n",
              "      <td>d4 c6 Nf3 d5 g3 Nf6 Bg2 e6 O-O Be7 Bd2 c5 dxc5...</td>\n",
              "      <td>Bullet</td>\n",
              "      <td>1</td>\n",
              "      <td>1662</td>\n",
              "      <td>196</td>\n",
              "      <td>Time forfeit</td>\n",
              "      <td>1760.0</td>\n",
              "      <td>1564.0</td>\n",
              "      <td>51</td>\n",
              "    </tr>\n",
              "    <tr>\n",
              "      <th>7</th>\n",
              "      <td>7</td>\n",
              "      <td>e4 e6 d4 d5 Nc3 c5 exd5 exd5 dxc5 Bxc5 Qxd5 Qx...</td>\n",
              "      <td>Bullet</td>\n",
              "      <td>0</td>\n",
              "      <td>1788</td>\n",
              "      <td>81</td>\n",
              "      <td>Time forfeit</td>\n",
              "      <td>1828.5</td>\n",
              "      <td>1747.5</td>\n",
              "      <td>52</td>\n",
              "    </tr>\n",
              "    <tr>\n",
              "      <th>8</th>\n",
              "      <td>8</td>\n",
              "      <td>f4 d5 Nf3 c5 e3 Bg4 Bb5+ Nd7 Bxd7+ Qxd7 Ne5 Bx...</td>\n",
              "      <td>Bullet</td>\n",
              "      <td>0</td>\n",
              "      <td>1922</td>\n",
              "      <td>54</td>\n",
              "      <td>Normal</td>\n",
              "      <td>1949.0</td>\n",
              "      <td>1895.0</td>\n",
              "      <td>38</td>\n",
              "    </tr>\n",
              "    <tr>\n",
              "      <th>...</th>\n",
              "      <td>...</td>\n",
              "      <td>...</td>\n",
              "      <td>...</td>\n",
              "      <td>...</td>\n",
              "      <td>...</td>\n",
              "      <td>...</td>\n",
              "      <td>...</td>\n",
              "      <td>...</td>\n",
              "      <td>...</td>\n",
              "      <td>...</td>\n",
              "    </tr>\n",
              "    <tr>\n",
              "      <th>843225</th>\n",
              "      <td>843225</td>\n",
              "      <td>d4 a6 Nf3 b5 Bf4 Bb7 Nc3 d6 e4 b4 Ne2 Bxe4 c3 ...</td>\n",
              "      <td>Blitz</td>\n",
              "      <td>0</td>\n",
              "      <td>1673</td>\n",
              "      <td>-130</td>\n",
              "      <td>Time forfeit</td>\n",
              "      <td>1608.0</td>\n",
              "      <td>1738.0</td>\n",
              "      <td>62</td>\n",
              "    </tr>\n",
              "    <tr>\n",
              "      <th>843226</th>\n",
              "      <td>843226</td>\n",
              "      <td>d3 d5 Nf3 f6 e3 e5 Nxe5 g6 Nf3 Bg7 Bd2 Ne7 Bc3...</td>\n",
              "      <td>Blitz</td>\n",
              "      <td>0</td>\n",
              "      <td>1673</td>\n",
              "      <td>143</td>\n",
              "      <td>Time forfeit</td>\n",
              "      <td>1744.5</td>\n",
              "      <td>1601.5</td>\n",
              "      <td>43</td>\n",
              "    </tr>\n",
              "    <tr>\n",
              "      <th>843227</th>\n",
              "      <td>843227</td>\n",
              "      <td>e4 e5 Nf3 Nc6 Bc4 Nf6 Ng5 d5 exd5 Nxd5 Qf3 Qxg...</td>\n",
              "      <td>Blitz</td>\n",
              "      <td>1</td>\n",
              "      <td>1424</td>\n",
              "      <td>-69</td>\n",
              "      <td>Normal</td>\n",
              "      <td>1389.5</td>\n",
              "      <td>1458.5</td>\n",
              "      <td>55</td>\n",
              "    </tr>\n",
              "    <tr>\n",
              "      <th>843228</th>\n",
              "      <td>843228</td>\n",
              "      <td>e4 c5 f4 e6 Nf3 Ne7 c3 d5 Bb5+ Bd7 Bxd7+ Qxd7 ...</td>\n",
              "      <td>Blitz</td>\n",
              "      <td>0</td>\n",
              "      <td>1768</td>\n",
              "      <td>-34</td>\n",
              "      <td>Normal</td>\n",
              "      <td>1751.0</td>\n",
              "      <td>1785.0</td>\n",
              "      <td>41</td>\n",
              "    </tr>\n",
              "    <tr>\n",
              "      <th>843229</th>\n",
              "      <td>843229</td>\n",
              "      <td>e4 d6 Nf3 e6 Bc4 Qe7 d4 Nd7 Nc3 e5 dxe5 dxe5 N...</td>\n",
              "      <td>Blitz</td>\n",
              "      <td>0</td>\n",
              "      <td>1437</td>\n",
              "      <td>77</td>\n",
              "      <td>Normal</td>\n",
              "      <td>1475.5</td>\n",
              "      <td>1398.5</td>\n",
              "      <td>48</td>\n",
              "    </tr>\n",
              "  </tbody>\n",
              "</table>\n",
              "<p>574866 rows × 10 columns</p>\n",
              "</div>"
            ],
            "text/plain": [
              "        Unnamed: 0  ... length\n",
              "0                0  ...     41\n",
              "1                1  ...     36\n",
              "6                6  ...     51\n",
              "7                7  ...     52\n",
              "8                8  ...     38\n",
              "...            ...  ...    ...\n",
              "843225      843225  ...     62\n",
              "843226      843226  ...     43\n",
              "843227      843227  ...     55\n",
              "843228      843228  ...     41\n",
              "843229      843229  ...     48\n",
              "\n",
              "[574866 rows x 10 columns]"
            ]
          },
          "metadata": {},
          "execution_count": 29
        }
      ]
    },
    {
      "cell_type": "code",
      "metadata": {
        "id": "tcXq4tfxfNx1"
      },
      "source": [
        "temp = [a.split() for a in PGNs ]\n",
        "#tokenize"
      ],
      "execution_count": 30,
      "outputs": []
    },
    {
      "cell_type": "code",
      "metadata": {
        "colab": {
          "base_uri": "https://localhost:8080/"
        },
        "id": "2WLzVrTEfjnw",
        "outputId": "f172a3e8-0759-4675-fd4b-752b19be075e"
      },
      "source": [
        "temp[0]"
      ],
      "execution_count": 31,
      "outputs": [
        {
          "output_type": "execute_result",
          "data": {
            "text/plain": [
              "['e4',\n",
              " 'g6',\n",
              " 'd4',\n",
              " 'Bg7',\n",
              " 'c3',\n",
              " 'd6',\n",
              " 'Qf3',\n",
              " 'Nf6',\n",
              " 'h3',\n",
              " 'O-O',\n",
              " 'Bg5',\n",
              " 'Nbd7',\n",
              " 'Bc4',\n",
              " 'a6',\n",
              " 'h4',\n",
              " 'b5',\n",
              " 'Bd5',\n",
              " 'Nxd5',\n",
              " '1exd5',\n",
              " 'Bb7',\n",
              " '1h5',\n",
              " 'Nf6',\n",
              " '1h6',\n",
              " 'Bh8',\n",
              " '1Bxf6',\n",
              " 'Bxf6',\n",
              " '1Nd2',\n",
              " 'Qd7',\n",
              " '1Qh3',\n",
              " 'Qxh3',\n",
              " '1Rxh3',\n",
              " 'Bxd5',\n",
              " '1g4',\n",
              " 'Be6',\n",
              " '1Rg3',\n",
              " 'Bh4',\n",
              " '1Rg2',\n",
              " 'f5',\n",
              " '2Ngf3',\n",
              " 'Bf6',\n",
              " '2g5',\n",
              " 'Bh8',\n",
              " '2Nh4',\n",
              " 'c5',\n",
              " '2Rh2',\n",
              " 'cxd4',\n",
              " '2cxd4',\n",
              " 'Bxd4',\n",
              " '2Nxg6',\n",
              " 'hxg6']"
            ]
          },
          "metadata": {},
          "execution_count": 31
        }
      ]
    },
    {
      "cell_type": "code",
      "metadata": {
        "id": "RgUfm-c7d7FJ"
      },
      "source": [
        "longGamesNoDraw[\"PGN\"]=temp"
      ],
      "execution_count": 32,
      "outputs": []
    },
    {
      "cell_type": "code",
      "metadata": {
        "colab": {
          "base_uri": "https://localhost:8080/"
        },
        "id": "TAEfx-Mqclrp",
        "outputId": "714600f3-c950-4a9b-ee57-dcbe2c1e0013"
      },
      "source": [
        "longGamesNoDraw['PGN']"
      ],
      "execution_count": 33,
      "outputs": [
        {
          "output_type": "execute_result",
          "data": {
            "text/plain": [
              "0         [e4, g6, d4, Bg7, c3, d6, Qf3, Nf6, h3, O-O, B...\n",
              "1         [d4, Nf6, c4, g6, a3, Bg7, Nf3, O-O, Nc3, a5, ...\n",
              "6         [d4, c6, Nf3, d5, g3, Nf6, Bg2, e6, O-O, Be7, ...\n",
              "7         [e4, e6, d4, d5, Nc3, c5, exd5, exd5, dxc5, Bx...\n",
              "8         [f4, d5, Nf3, c5, e3, Bg4, Bb5+, Nd7, Bxd7+, Q...\n",
              "                                ...                        \n",
              "843225    [d4, a6, Nf3, b5, Bf4, Bb7, Nc3, d6, e4, b4, N...\n",
              "843226    [d3, d5, Nf3, f6, e3, e5, Nxe5, g6, Nf3, Bg7, ...\n",
              "843227    [e4, e5, Nf3, Nc6, Bc4, Nf6, Ng5, d5, exd5, Nx...\n",
              "843228    [e4, c5, f4, e6, Nf3, Ne7, c3, d5, Bb5+, Bd7, ...\n",
              "843229    [e4, d6, Nf3, e6, Bc4, Qe7, d4, Nd7, Nc3, e5, ...\n",
              "Name: PGN, Length: 574866, dtype: object"
            ]
          },
          "metadata": {},
          "execution_count": 33
        }
      ]
    },
    {
      "cell_type": "code",
      "metadata": {
        "id": "i2Owpxh4gElR"
      },
      "source": [
        "X=longGamesNoDraw.PGN\n",
        "y=longGamesNoDraw.Result"
      ],
      "execution_count": 34,
      "outputs": []
    },
    {
      "cell_type": "code",
      "metadata": {
        "colab": {
          "base_uri": "https://localhost:8080/"
        },
        "id": "UtikQf7VjRVQ",
        "outputId": "c52dcdb1-2cf4-4a91-df64-3e4a88066f9a"
      },
      "source": [
        "type(y)"
      ],
      "execution_count": 35,
      "outputs": [
        {
          "output_type": "execute_result",
          "data": {
            "text/plain": [
              "pandas.core.series.Series"
            ]
          },
          "metadata": {},
          "execution_count": 35
        }
      ]
    },
    {
      "cell_type": "code",
      "metadata": {
        "id": "_lNzbNFygKW5"
      },
      "source": [
        "max_len = 50\n",
        "dropOut = 0.5\n",
        "epochs = 6\n",
        "batch_size = 80\n",
        "num_words=8*8*6*2*3+10\n"
      ],
      "execution_count": 36,
      "outputs": []
    },
    {
      "cell_type": "code",
      "metadata": {
        "id": "aX5Bhot3ujCC"
      },
      "source": [
        "tok = Tokenizer(num_words)\n",
        "tok.fit_on_texts(X)\n",
        "sequences = tok.texts_to_sequences(X)\n",
        "sequences_matrix = sequence.pad_sequences(sequences,maxlen=max_len)"
      ],
      "execution_count": 37,
      "outputs": []
    },
    {
      "cell_type": "code",
      "metadata": {
        "colab": {
          "base_uri": "https://localhost:8080/"
        },
        "id": "MnAUJ-w-hmDx",
        "outputId": "cd651477-3558-423d-f218-c0280fecb619"
      },
      "source": [
        "sequences_matrix.shape"
      ],
      "execution_count": 38,
      "outputs": [
        {
          "output_type": "execute_result",
          "data": {
            "text/plain": [
              "(574866, 50)"
            ]
          },
          "metadata": {},
          "execution_count": 38
        }
      ]
    },
    {
      "cell_type": "code",
      "metadata": {
        "id": "8PohAxeEh_Qi"
      },
      "source": [
        "X_train, X_test, Y_train, Y_test = train_test_split(sequences_matrix, y, test_size=0.3, random_state=2)"
      ],
      "execution_count": 39,
      "outputs": []
    },
    {
      "cell_type": "code",
      "metadata": {
        "id": "Jt7ZeXXLiCYi"
      },
      "source": [
        "def LSTM_model(): #Defined tensorflow_based_model function for training tenforflow based model\n",
        "    inputs = Input(name='inputs',shape=[max_len])#step1\n",
        "    layer = Embedding(num_words,50,input_length=max_len)(inputs) #step2\n",
        "    layer = LSTM(64)(layer) #step3\n",
        "    layer = Dense(256,name='FC1')(layer) #step4\n",
        "    layer = Activation('relu')(layer) # step5\n",
        "    layer = Dropout(dropOut)(layer) # step6\n",
        "    layer = Dense(1,name='out_layer')(layer) #step4 again but this time its giving only one output as because we need to classify the tweet as positive or negative\n",
        "    layer = Activation('sigmoid')(layer) #step5 but this time activation function is sigmoid for only one output.\n",
        "    model = Model(inputs=inputs,outputs=layer) #here we are getting the final output value in the model for classification\n",
        "    return model #function returning the value when we call it\n",
        "\n",
        "def GRU_model(): #Defined tensorflow_based_model function for training tenforflow based model\n",
        "    inputs = Input(name='inputs',shape=[max_len])#step1\n",
        "    layer = Embedding(num_words,50,input_length=max_len)(inputs) #step2\n",
        "    layer = GRU(64)(layer) #step3\n",
        "    layer = Dense(256,name='FC1')(layer) #step4\n",
        "    layer = Activation('relu')(layer) # step5\n",
        "    layer = Dropout(dropOut)(layer) # step6\n",
        "    layer = Dense(1,name='out_layer')(layer) #step4 again but this time its giving only one output as because we need to classify the tweet as positive or negative\n",
        "    layer = Activation('sigmoid')(layer) #step5 but this time activation function is sigmoid for only one output.\n",
        "    model = Model(inputs=inputs,outputs=layer) #here we are getting the final output value in the model for classification\n",
        "    return model #function returning the value when we call it\n",
        "\n",
        "def RNN_model(): #Defined tensorflow_based_model function for training tenforflow based model\n",
        "    inputs = Input(name='inputs',shape=[max_len])#step1\n",
        "    layer = Embedding(num_words,50,input_length=max_len)(inputs) #step2\n",
        "    layer = SimpleRNN(64)(layer) #step3\n",
        "    layer = Dense(256,name='FC1')(layer) #step4\n",
        "    layer = Activation('relu')(layer) # step5\n",
        "    layer = Dropout(dropOut)(layer) # step6\n",
        "    layer = Dense(1,name='out_layer')(layer) #step4 again but this time its giving only one output as because we need to classify the tweet as positive or negative\n",
        "    layer = Activation('sigmoid')(layer) #step5 but this time activation function is sigmoid for only one output.\n",
        "    model = Model(inputs=inputs,outputs=layer) #here we are getting the final output value in the model for classification\n",
        "    return model #function returning the value when we call it\n"
      ],
      "execution_count": 40,
      "outputs": []
    },
    {
      "cell_type": "code",
      "metadata": {
        "id": "D4gnxSELiXqR"
      },
      "source": [
        "model = GRU_model() # here we are calling the function of created model\n",
        "model.compile(loss='binary_crossentropy',optimizer=Adam(learning_rate=0.0001),metrics=['accuracy'])  "
      ],
      "execution_count": 41,
      "outputs": []
    },
    {
      "cell_type": "code",
      "metadata": {
        "colab": {
          "base_uri": "https://localhost:8080/"
        },
        "id": "9zTvySoVnO0G",
        "outputId": "b5b95f89-c6b0-4e78-c84d-e445ef95d20d"
      },
      "source": [
        "type(X_train)"
      ],
      "execution_count": 42,
      "outputs": [
        {
          "output_type": "execute_result",
          "data": {
            "text/plain": [
              "numpy.ndarray"
            ]
          },
          "metadata": {},
          "execution_count": 42
        }
      ]
    },
    {
      "cell_type": "code",
      "metadata": {
        "id": "mgqEUhFBnS4z",
        "colab": {
          "base_uri": "https://localhost:8080/"
        },
        "outputId": "e7396a35-7006-4ccf-91cf-23e851f01004"
      },
      "source": [
        "type(Y_train)"
      ],
      "execution_count": 43,
      "outputs": [
        {
          "output_type": "execute_result",
          "data": {
            "text/plain": [
              "pandas.core.series.Series"
            ]
          },
          "metadata": {},
          "execution_count": 43
        }
      ]
    },
    {
      "cell_type": "code",
      "metadata": {
        "id": "a-jWU7FJkK9Z"
      },
      "source": [
        "X_train = X_train.astype(np.float32)\n",
        "Y_train = Y_train.astype(np.float32)"
      ],
      "execution_count": 44,
      "outputs": []
    },
    {
      "cell_type": "code",
      "metadata": {
        "colab": {
          "base_uri": "https://localhost:8080/"
        },
        "id": "invCEvq6iaD_",
        "outputId": "c6155d0f-a9ec-438e-8c20-c35784141a31"
      },
      "source": [
        "history =model.fit(X_train,Y_train,batch_size=batch_size,epochs=epochs, validation_split=0.1)# here we are starting the training of model by feeding the training data\n",
        "print('Training finished !!')"
      ],
      "execution_count": 45,
      "outputs": [
        {
          "output_type": "stream",
          "name": "stdout",
          "text": [
            "Epoch 1/6\n",
            "4528/4528 [==============================] - 74s 15ms/step - loss: 0.6485 - accuracy: 0.6127 - val_loss: 0.6379 - val_accuracy: 0.6306\n",
            "Epoch 2/6\n",
            "4528/4528 [==============================] - 67s 15ms/step - loss: 0.6300 - accuracy: 0.6398 - val_loss: 0.6336 - val_accuracy: 0.6365\n",
            "Epoch 3/6\n",
            "4528/4528 [==============================] - 68s 15ms/step - loss: 0.6276 - accuracy: 0.6423 - val_loss: 0.6328 - val_accuracy: 0.6365\n",
            "Epoch 4/6\n",
            "4528/4528 [==============================] - 67s 15ms/step - loss: 0.6256 - accuracy: 0.6443 - val_loss: 0.6319 - val_accuracy: 0.6359\n",
            "Epoch 5/6\n",
            "4528/4528 [==============================] - 69s 15ms/step - loss: 0.6239 - accuracy: 0.6470 - val_loss: 0.6309 - val_accuracy: 0.6369\n",
            "Epoch 6/6\n",
            "4528/4528 [==============================] - 68s 15ms/step - loss: 0.6222 - accuracy: 0.6484 - val_loss: 0.6301 - val_accuracy: 0.6376\n",
            "Training finished !!\n"
          ]
        }
      ]
    },
    {
      "cell_type": "code",
      "metadata": {
        "id": "29ErJ7QDrk0X"
      },
      "source": [
        "X_test=np.asarray(X_test).astype(np.float32)\n",
        "Y_test=np.asarray(Y_test).astype(np.float32)"
      ],
      "execution_count": 46,
      "outputs": []
    },
    {
      "cell_type": "code",
      "metadata": {
        "colab": {
          "base_uri": "https://localhost:8080/"
        },
        "id": "u_9y7IIfqywS",
        "outputId": "62d06ee2-f754-4d3d-eab7-357894a684bc"
      },
      "source": [
        "accr1 = model.evaluate(X_test,Y_test)"
      ],
      "execution_count": 47,
      "outputs": [
        {
          "output_type": "stream",
          "name": "stdout",
          "text": [
            "5390/5390 [==============================] - 31s 6ms/step - loss: 0.6281 - accuracy: 0.6407\n"
          ]
        }
      ]
    },
    {
      "cell_type": "code",
      "metadata": {
        "id": "lgvpwsWag7k-",
        "outputId": "5f430b52-bf0e-46f7-ea92-837ec6c49820",
        "colab": {
          "base_uri": "https://localhost:8080/"
        }
      },
      "source": [
        "print('Test set\\n  Accuracy: {:0.2f}'.format(accr1[1])) #the accuracy of the model on test data "
      ],
      "execution_count": 51,
      "outputs": [
        {
          "output_type": "stream",
          "name": "stdout",
          "text": [
            "Test set\n",
            "  Accuracy: 0.64\n"
          ]
        }
      ]
    },
    {
      "cell_type": "code",
      "metadata": {
        "id": "CIRkTBHMr0WP"
      },
      "source": [
        "y_pred = model.predict(X_test) #getting predictions on the trained model\n",
        "y_pred = (y_pred > 0.5) "
      ],
      "execution_count": null,
      "outputs": []
    },
    {
      "cell_type": "code",
      "metadata": {
        "colab": {
          "base_uri": "https://localhost:8080/",
          "height": 720
        },
        "id": "p64L8Enpr3-v",
        "outputId": "f9529970-51b7-4396-ae2f-8b0b71ce085c"
      },
      "source": [
        "print('\\n')\n",
        "print(\"confusion matrix\")\n",
        "print('\\n')\n",
        "CR=confusion_matrix(Y_test, y_pred)\n",
        "print(CR)\n",
        "print('\\n')\n",
        "\n",
        "fig, ax = plot_confusion_matrix(conf_mat=CR,figsize=(10, 10),\n",
        "                                show_absolute=True,\n",
        "                                show_normed=True,\n",
        "                                colorbar=True)\n",
        "plt.show()"
      ],
      "execution_count": 54,
      "outputs": [
        {
          "output_type": "stream",
          "name": "stdout",
          "text": [
            "\n",
            "\n",
            "confusion matrix\n",
            "\n",
            "\n",
            "[[53152 30337]\n",
            " [31631 57340]]\n",
            "\n",
            "\n"
          ]
        },
        {
          "output_type": "display_data",
          "data": {
            "image/png": "[encoded data removed]",
            "text/plain": [
              "<Figure size 720x720 with 2 Axes>"
            ]
          },
          "metadata": {
            "needs_background": "light"
          }
        }
      ]
    }
  ]
}